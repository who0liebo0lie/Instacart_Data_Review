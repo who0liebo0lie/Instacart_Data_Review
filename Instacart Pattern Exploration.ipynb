{
 "cells": [
  {
   "cell_type": "markdown",
   "id": "5ccd2c79",
   "metadata": {},
   "source": [
    "# Sprint 2 EDA Project \n",
    "This project aims to demonstrate competency in uploading files into a dataframe and cleaning the dataframe (finding and removing duplicate values, find and remove missing values)\n",
    "Once the dataframes are cleaned the program will attempt to answer some questions regarding the uploaded data using graphics. \n",
    "Data is from grocery deliver company, Instacart.  There are five seperate files.\n",
    "\n",
    "\n",
    "In \"orders\" file each row is one order from the app and columsn for 'order_id'(ID number that uniquely identifies each order), \n",
    "'user_id'(ID number that uniquely identifies each customer account)'order_number'(the number of times this customer has placed\n",
    "an order), 'order_dow' (day of the week that the order placed), 'order_hour_of_day' (hour of the day that the order was \n",
    "placed), 'days_since_prior_order'(number of days since this customer placed their previous order). \n",
    "\n",
    "In 'products' file each row corresponds to a unique product that customers can buy.  The columns are 'product_id' (ID number\n",
    "that uniquely identifies each product), 'product_name' (name of the product), 'aisle_id' (ID number that uniquely \n",
    "identifies each grocery aisle category), 'department_id' (ID number that uniquely identifies each grocery department \n",
    "category).  \n",
    "\n",
    " In order_products file each row corresponds to one item placed in an order.  The columns are 'order_id'(ID number that \n",
    "uniquely identifies each order), 'product_id'(ID number that uniquely identifies each product), 'add_to_cart_order' (the \n",
    "sequential order in which each item was placed in the cart), 'reordered' (0 if the customer has never ordered this product\n",
    "before, 1 if they have). \n",
    "\n",
    " In aisles file is information regardin gthe aisle in the store.  The columns discuss 'aisle_id' (ID number that uniquely\n",
    "identifies each grocery aisle category) and 'aisle' (name of the aisle). \n",
    "\n",
    " In departments file contains information regarding the departments in each grocery store.  The columns are 'department_id'\n",
    "(ID number that uniquely identifies each grocery department category) and 'department' (name of the department). \n"
   ]
  },
  {
   "cell_type": "code",
   "execution_count": 1,
   "id": "fbf1adab",
   "metadata": {},
   "outputs": [],
   "source": [
    "import pandas as pd"
   ]
  },
  {
   "cell_type": "markdown",
   "id": "2ab40dca",
   "metadata": {},
   "source": [
    "#import all csv files.  all have seperators as :. made dataframe name same as file name.  inserted column names. no decimals needed. "
   ]
  },
  {
   "cell_type": "code",
   "execution_count": 2,
   "id": "ad6a1efa",
   "metadata": {},
   "outputs": [],
   "source": [
    "order_products = pd.read_csv('/datasets/order_products.csv',sep =';', low_memory=False)"
   ]
  },
  {
   "cell_type": "code",
   "execution_count": 3,
   "id": "85d602cf",
   "metadata": {
    "scrolled": true
   },
   "outputs": [
    {
     "name": "stdout",
     "output_type": "stream",
     "text": [
      "<class 'pandas.core.frame.DataFrame'>\n",
      "RangeIndex: 4545007 entries, 0 to 4545006\n",
      "Data columns (total 4 columns):\n",
      " #   Column             Dtype  \n",
      "---  ------             -----  \n",
      " 0   order_id           int64  \n",
      " 1   product_id         int64  \n",
      " 2   add_to_cart_order  float64\n",
      " 3   reordered          int64  \n",
      "dtypes: float64(1), int64(3)\n",
      "memory usage: 138.7 MB\n"
     ]
    }
   ],
   "source": [
    "order_products.info()"
   ]
  },
  {
   "cell_type": "code",
   "execution_count": 4,
   "id": "5130e05e",
   "metadata": {},
   "outputs": [],
   "source": [
    "aisles = pd.read_csv('/datasets/aisles.csv',sep=';')"
   ]
  },
  {
   "cell_type": "code",
   "execution_count": 5,
   "id": "5d1e80d4",
   "metadata": {},
   "outputs": [
    {
     "name": "stdout",
     "output_type": "stream",
     "text": [
      "<class 'pandas.core.frame.DataFrame'>\n",
      "RangeIndex: 134 entries, 0 to 133\n",
      "Data columns (total 2 columns):\n",
      " #   Column    Non-Null Count  Dtype \n",
      "---  ------    --------------  ----- \n",
      " 0   aisle_id  134 non-null    int64 \n",
      " 1   aisle     134 non-null    object\n",
      "dtypes: int64(1), object(1)\n",
      "memory usage: 2.2+ KB\n"
     ]
    }
   ],
   "source": [
    "aisles.info()"
   ]
  },
  {
   "cell_type": "code",
   "execution_count": 6,
   "id": "d8370c05",
   "metadata": {},
   "outputs": [],
   "source": [
    "departments = pd.read_csv('/datasets/departments.csv',sep=';')"
   ]
  },
  {
   "cell_type": "code",
   "execution_count": 7,
   "id": "fe6c0e21",
   "metadata": {},
   "outputs": [
    {
     "name": "stdout",
     "output_type": "stream",
     "text": [
      "<class 'pandas.core.frame.DataFrame'>\n",
      "RangeIndex: 21 entries, 0 to 20\n",
      "Data columns (total 2 columns):\n",
      " #   Column         Non-Null Count  Dtype \n",
      "---  ------         --------------  ----- \n",
      " 0   department_id  21 non-null     int64 \n",
      " 1   department     21 non-null     object\n",
      "dtypes: int64(1), object(1)\n",
      "memory usage: 464.0+ bytes\n"
     ]
    }
   ],
   "source": [
    "departments.info()"
   ]
  },
  {
   "cell_type": "code",
   "execution_count": 8,
   "id": "59e2090f",
   "metadata": {},
   "outputs": [],
   "source": [
    "products = pd.read_csv('/datasets/products.csv',sep=';')"
   ]
  },
  {
   "cell_type": "code",
   "execution_count": 9,
   "id": "8fcc8748",
   "metadata": {},
   "outputs": [
    {
     "name": "stdout",
     "output_type": "stream",
     "text": [
      "<class 'pandas.core.frame.DataFrame'>\n",
      "RangeIndex: 49694 entries, 0 to 49693\n",
      "Data columns (total 4 columns):\n",
      " #   Column         Non-Null Count  Dtype \n",
      "---  ------         --------------  ----- \n",
      " 0   product_id     49694 non-null  int64 \n",
      " 1   product_name   48436 non-null  object\n",
      " 2   aisle_id       49694 non-null  int64 \n",
      " 3   department_id  49694 non-null  int64 \n",
      "dtypes: int64(3), object(1)\n",
      "memory usage: 1.5+ MB\n"
     ]
    }
   ],
   "source": [
    "products.info()"
   ]
  },
  {
   "cell_type": "code",
   "execution_count": 10,
   "id": "6fc81694",
   "metadata": {},
   "outputs": [],
   "source": [
    "orders = pd.read_csv('/datasets/instacart_orders.csv',sep=';', low_memory=False)"
   ]
  },
  {
   "cell_type": "code",
   "execution_count": 11,
   "id": "68e5f827",
   "metadata": {},
   "outputs": [
    {
     "name": "stdout",
     "output_type": "stream",
     "text": [
      "        order_id  user_id  order_number  order_dow  order_hour_of_day  \\\n",
      "0        1515936   183418            11          6                 13   \n",
      "1        1690866   163593             5          5                 12   \n",
      "2        1454967    39980             4          5                 19   \n",
      "3        1768857    82516            56          0                 20   \n",
      "4        3007858   196724             2          4                 12   \n",
      "...          ...      ...           ...        ...                ...   \n",
      "478962   3210681     5617             5          1                 14   \n",
      "478963   3270802   112087             2          3                 13   \n",
      "478964    885349    82944            16          2                 11   \n",
      "478965    216274     4391             3          3                  8   \n",
      "478966   2071924     1730            18          1                 14   \n",
      "\n",
      "        days_since_prior_order  \n",
      "0                         30.0  \n",
      "1                          9.0  \n",
      "2                          2.0  \n",
      "3                         10.0  \n",
      "4                         17.0  \n",
      "...                        ...  \n",
      "478962                     7.0  \n",
      "478963                     6.0  \n",
      "478964                     6.0  \n",
      "478965                     8.0  \n",
      "478966                    15.0  \n",
      "\n",
      "[478967 rows x 6 columns]\n"
     ]
    }
   ],
   "source": [
    "print(orders)"
   ]
  },
  {
   "cell_type": "markdown",
   "id": "07357848-dc64-4156-9cc3-01ff4365226d",
   "metadata": {},
   "source": [
    "## Find and remove duplicate values (and describe why you make your choices)"
   ]
  },
  {
   "cell_type": "markdown",
   "id": "f179f0a9",
   "metadata": {},
   "source": [
    "### `orders` data frame"
   ]
  },
  {
   "cell_type": "code",
   "execution_count": 12,
   "id": "b99297a5-405a-463d-8535-9adc3da4ad74",
   "metadata": {},
   "outputs": [
    {
     "name": "stdout",
     "output_type": "stream",
     "text": [
      "15\n",
      "<class 'pandas.core.frame.DataFrame'>\n",
      "RangeIndex: 478967 entries, 0 to 478966\n",
      "Data columns (total 6 columns):\n",
      " #   Column                  Non-Null Count   Dtype  \n",
      "---  ------                  --------------   -----  \n",
      " 0   order_id                478967 non-null  int64  \n",
      " 1   user_id                 478967 non-null  int64  \n",
      " 2   order_number            478967 non-null  int64  \n",
      " 3   order_dow               478967 non-null  int64  \n",
      " 4   order_hour_of_day       478967 non-null  int64  \n",
      " 5   days_since_prior_order  450148 non-null  float64\n",
      "dtypes: float64(1), int64(5)\n",
      "memory usage: 21.9 MB\n"
     ]
    }
   ],
   "source": [
    "# Checked for duplicated orders\n",
    "#chose sum because if the returned result is zero indication that no duplicates exist \n",
    "print(orders.duplicated().sum())\n",
    "orders.info()"
   ]
  },
  {
   "cell_type": "code",
   "execution_count": 13,
   "id": "0d44de5d",
   "metadata": {},
   "outputs": [
    {
     "name": "stdout",
     "output_type": "stream",
     "text": [
      "        order_id  user_id  order_number  order_dow  order_hour_of_day  \\\n",
      "1295     1474941   115569             5          2                  2   \n",
      "2391     1640269   173965            15          2                  2   \n",
      "2550     1223696    55276            11          2                  2   \n",
      "5965      579194    85018            14          2                  2   \n",
      "17680    2004230   203121             4          2                  2   \n",
      "...          ...      ...           ...        ...                ...   \n",
      "457660   1562381    19378             5          2                  2   \n",
      "460316   1986084   117453            81          2                  2   \n",
      "462676   1362113    19654            20          2                  2   \n",
      "472800   1746383    88484            19          2                  2   \n",
      "472923   1519815   149345             1          2                  2   \n",
      "\n",
      "        days_since_prior_order  \n",
      "1295                      28.0  \n",
      "2391                       2.0  \n",
      "2550                      30.0  \n",
      "5965                      11.0  \n",
      "17680                      8.0  \n",
      "...                        ...  \n",
      "457660                     6.0  \n",
      "460316                     8.0  \n",
      "462676                    21.0  \n",
      "472800                     5.0  \n",
      "472923                     NaN  \n",
      "\n",
      "[136 rows x 6 columns]\n"
     ]
    }
   ],
   "source": [
    "# Checked for all orders placed Wednesday at 2:00 AM\n",
    "#create variable to search dataFrame if 2 am time and Wed. date selected. \n",
    "wed_2am_orders = orders[\n",
    "    (orders['order_dow'] == 2) & \n",
    "    (orders['order_hour_of_day'] == 2)\n",
    "]\n",
    "\n",
    "print(wed_2am_orders)"
   ]
  },
  {
   "cell_type": "code",
   "execution_count": 14,
   "id": "480563c7",
   "metadata": {},
   "outputs": [
    {
     "name": "stdout",
     "output_type": "stream",
     "text": [
      "        order_id  user_id  order_number  order_dow  order_hour_of_day  \\\n",
      "0        1515936   183418            11          6                 13   \n",
      "1        1690866   163593             5          5                 12   \n",
      "2        1454967    39980             4          5                 19   \n",
      "3        1768857    82516            56          0                 20   \n",
      "4        3007858   196724             2          4                 12   \n",
      "...          ...      ...           ...        ...                ...   \n",
      "478947   3210681     5617             5          1                 14   \n",
      "478948   3270802   112087             2          3                 13   \n",
      "478949    885349    82944            16          2                 11   \n",
      "478950    216274     4391             3          3                  8   \n",
      "478951   2071924     1730            18          1                 14   \n",
      "\n",
      "        days_since_prior_order  \n",
      "0                         30.0  \n",
      "1                          9.0  \n",
      "2                          2.0  \n",
      "3                         10.0  \n",
      "4                         17.0  \n",
      "...                        ...  \n",
      "478947                     7.0  \n",
      "478948                     6.0  \n",
      "478949                     6.0  \n",
      "478950                     8.0  \n",
      "478951                    15.0  \n",
      "\n",
      "[478952 rows x 6 columns]\n"
     ]
    }
   ],
   "source": [
    "# Removed duplicate orders\n",
    "#drop_duplicates used to identify the column to target for replicates of order.  \n",
    "#if order_id is the same it is the same order number being repeated.  Reset the index so that if rows are removed there is no gaps. \n",
    "order_no_duplicates=orders.drop_duplicates(subset='order_id').reset_index(drop=True)\n",
    "print(order_no_duplicates)"
   ]
  },
  {
   "cell_type": "code",
   "execution_count": 15,
   "id": "0b2396a2",
   "metadata": {},
   "outputs": [
    {
     "name": "stdout",
     "output_type": "stream",
     "text": [
      "0\n",
      "<class 'pandas.core.frame.DataFrame'>\n",
      "RangeIndex: 478952 entries, 0 to 478951\n",
      "Data columns (total 6 columns):\n",
      " #   Column                  Non-Null Count   Dtype  \n",
      "---  ------                  --------------   -----  \n",
      " 0   order_id                478952 non-null  int64  \n",
      " 1   user_id                 478952 non-null  int64  \n",
      " 2   order_number            478952 non-null  int64  \n",
      " 3   order_dow               478952 non-null  int64  \n",
      " 4   order_hour_of_day       478952 non-null  int64  \n",
      " 5   days_since_prior_order  450135 non-null  float64\n",
      "dtypes: float64(1), int64(5)\n",
      "memory usage: 21.9 MB\n"
     ]
    }
   ],
   "source": [
    "# Double check for duplicate rows\n",
    "#check for duplicates in newly created variable where they are dropped. checked with .info() to compare from original sount. \n",
    "print(order_no_duplicates.duplicated().sum())\n",
    "order_no_duplicates.info()"
   ]
  },
  {
   "cell_type": "markdown",
   "id": "caf469d6",
   "metadata": {},
   "source": [
    "Appears that almost half of the orders were duplicates"
   ]
  },
  {
   "cell_type": "code",
   "execution_count": 16,
   "id": "f6113ef1",
   "metadata": {},
   "outputs": [
    {
     "name": "stdout",
     "output_type": "stream",
     "text": [
      "0\n",
      "<class 'pandas.core.frame.DataFrame'>\n",
      "RangeIndex: 478952 entries, 0 to 478951\n",
      "Data columns (total 6 columns):\n",
      " #   Column                  Non-Null Count   Dtype  \n",
      "---  ------                  --------------   -----  \n",
      " 0   order_id                478952 non-null  int64  \n",
      " 1   user_id                 478952 non-null  int64  \n",
      " 2   order_number            478952 non-null  int64  \n",
      " 3   order_dow               478952 non-null  int64  \n",
      " 4   order_hour_of_day       478952 non-null  int64  \n",
      " 5   days_since_prior_order  450135 non-null  float64\n",
      "dtypes: float64(1), int64(5)\n",
      "memory usage: 21.9 MB\n"
     ]
    }
   ],
   "source": [
    "# Double check for duplicate order IDs only\n",
    "#focus on column \"order_id\" to search for duplicates. double check with .info()\n",
    "print(order_no_duplicates.duplicated('order_id').sum())\n",
    "order_no_duplicates.info()"
   ]
  },
  {
   "cell_type": "markdown",
   "id": "45e6bc46",
   "metadata": {},
   "source": [
    "### `products` data frame"
   ]
  },
  {
   "cell_type": "code",
   "execution_count": 17,
   "id": "5f526b5b-8175-46fa-a0fd-441767d50e64",
   "metadata": {},
   "outputs": [
    {
     "name": "stdout",
     "output_type": "stream",
     "text": [
      "0\n",
      "<class 'pandas.core.frame.DataFrame'>\n",
      "RangeIndex: 49694 entries, 0 to 49693\n",
      "Data columns (total 4 columns):\n",
      " #   Column         Non-Null Count  Dtype \n",
      "---  ------         --------------  ----- \n",
      " 0   product_id     49694 non-null  int64 \n",
      " 1   product_name   48436 non-null  object\n",
      " 2   aisle_id       49694 non-null  int64 \n",
      " 3   department_id  49694 non-null  int64 \n",
      "dtypes: int64(3), object(1)\n",
      "memory usage: 1.5+ MB\n"
     ]
    }
   ],
   "source": [
    "# Check for fully duplicate rows\n",
    "#use duplicated to check and sum to give the count of anything duplicated\n",
    "print(products.duplicated().sum())\n",
    "products.info()"
   ]
  },
  {
   "cell_type": "code",
   "execution_count": 18,
   "id": "88daa4f4",
   "metadata": {},
   "outputs": [
    {
     "name": "stdout",
     "output_type": "stream",
     "text": [
      "0\n",
      "<class 'pandas.core.frame.DataFrame'>\n",
      "RangeIndex: 49694 entries, 0 to 49693\n",
      "Data columns (total 4 columns):\n",
      " #   Column         Non-Null Count  Dtype \n",
      "---  ------         --------------  ----- \n",
      " 0   product_id     49694 non-null  int64 \n",
      " 1   product_name   48436 non-null  object\n",
      " 2   aisle_id       49694 non-null  int64 \n",
      " 3   department_id  49694 non-null  int64 \n",
      "dtypes: int64(3), object(1)\n",
      "memory usage: 1.5+ MB\n"
     ]
    }
   ],
   "source": [
    "# Check for just duplicate product IDs\n",
    "print(products['product_id'].duplicated().sum())\n",
    "products.info()"
   ]
  },
  {
   "cell_type": "code",
   "execution_count": 19,
   "id": "c773f0bf",
   "metadata": {},
   "outputs": [
    {
     "name": "stdout",
     "output_type": "stream",
     "text": [
      "0                               Chocolate Sandwich Cookies\n",
      "1                                         All-Seasons Salt\n",
      "2                     Robust Golden Unsweetened Oolong Tea\n",
      "3        Smart Ones Classic Favorites Mini Rigatoni Wit...\n",
      "4                                Green Chile Anytime Sauce\n",
      "                               ...                        \n",
      "49689                        HIGH PERFORMANCE ENERGY DRINK\n",
      "49690                        ORIGINAL PANCAKE & WAFFLE MIX\n",
      "49691      ORGANIC INSTANT OATMEAL LIGHT MAPLE BROWN SUGAR\n",
      "49692                               SPRING WATER BODY WASH\n",
      "49693                              BURRITO- STEAK & CHEESE\n",
      "Name: product_name, Length: 49694, dtype: object\n"
     ]
    }
   ],
   "source": [
    "# Check for just duplicate product names (convert names to lowercase to compare better)\n",
    "#first confirm what df looks like before beginning. \n",
    "print(products['product_name'])\n"
   ]
  },
  {
   "cell_type": "code",
   "execution_count": 20,
   "id": "d9f34ffb",
   "metadata": {},
   "outputs": [],
   "source": [
    "#reassing lowered case to same name \n",
    "products['product_name']=products['product_name'].str.lower()\n"
   ]
  },
  {
   "cell_type": "code",
   "execution_count": 21,
   "id": "5239edd0",
   "metadata": {},
   "outputs": [
    {
     "data": {
      "text/html": [
       "<div>\n",
       "<style scoped>\n",
       "    .dataframe tbody tr th:only-of-type {\n",
       "        vertical-align: middle;\n",
       "    }\n",
       "\n",
       "    .dataframe tbody tr th {\n",
       "        vertical-align: top;\n",
       "    }\n",
       "\n",
       "    .dataframe thead th {\n",
       "        text-align: right;\n",
       "    }\n",
       "</style>\n",
       "<table border=\"1\" class=\"dataframe\">\n",
       "  <thead>\n",
       "    <tr style=\"text-align: right;\">\n",
       "      <th></th>\n",
       "      <th>product_id</th>\n",
       "      <th>product_name</th>\n",
       "      <th>aisle_id</th>\n",
       "      <th>department_id</th>\n",
       "    </tr>\n",
       "  </thead>\n",
       "  <tbody>\n",
       "    <tr>\n",
       "      <th>0</th>\n",
       "      <td>1</td>\n",
       "      <td>chocolate sandwich cookies</td>\n",
       "      <td>61</td>\n",
       "      <td>19</td>\n",
       "    </tr>\n",
       "    <tr>\n",
       "      <th>1</th>\n",
       "      <td>2</td>\n",
       "      <td>all-seasons salt</td>\n",
       "      <td>104</td>\n",
       "      <td>13</td>\n",
       "    </tr>\n",
       "    <tr>\n",
       "      <th>2</th>\n",
       "      <td>3</td>\n",
       "      <td>robust golden unsweetened oolong tea</td>\n",
       "      <td>94</td>\n",
       "      <td>7</td>\n",
       "    </tr>\n",
       "    <tr>\n",
       "      <th>3</th>\n",
       "      <td>4</td>\n",
       "      <td>smart ones classic favorites mini rigatoni wit...</td>\n",
       "      <td>38</td>\n",
       "      <td>1</td>\n",
       "    </tr>\n",
       "    <tr>\n",
       "      <th>4</th>\n",
       "      <td>5</td>\n",
       "      <td>green chile anytime sauce</td>\n",
       "      <td>5</td>\n",
       "      <td>13</td>\n",
       "    </tr>\n",
       "    <tr>\n",
       "      <th>...</th>\n",
       "      <td>...</td>\n",
       "      <td>...</td>\n",
       "      <td>...</td>\n",
       "      <td>...</td>\n",
       "    </tr>\n",
       "    <tr>\n",
       "      <th>49689</th>\n",
       "      <td>49690</td>\n",
       "      <td>high performance energy drink</td>\n",
       "      <td>64</td>\n",
       "      <td>7</td>\n",
       "    </tr>\n",
       "    <tr>\n",
       "      <th>49690</th>\n",
       "      <td>49691</td>\n",
       "      <td>original pancake &amp; waffle mix</td>\n",
       "      <td>130</td>\n",
       "      <td>14</td>\n",
       "    </tr>\n",
       "    <tr>\n",
       "      <th>49691</th>\n",
       "      <td>49692</td>\n",
       "      <td>organic instant oatmeal light maple brown sugar</td>\n",
       "      <td>130</td>\n",
       "      <td>14</td>\n",
       "    </tr>\n",
       "    <tr>\n",
       "      <th>49692</th>\n",
       "      <td>49693</td>\n",
       "      <td>spring water body wash</td>\n",
       "      <td>127</td>\n",
       "      <td>11</td>\n",
       "    </tr>\n",
       "    <tr>\n",
       "      <th>49693</th>\n",
       "      <td>49694</td>\n",
       "      <td>burrito- steak &amp; cheese</td>\n",
       "      <td>38</td>\n",
       "      <td>1</td>\n",
       "    </tr>\n",
       "  </tbody>\n",
       "</table>\n",
       "<p>49694 rows × 4 columns</p>\n",
       "</div>"
      ],
      "text/plain": [
       "       product_id                                       product_name  \\\n",
       "0               1                         chocolate sandwich cookies   \n",
       "1               2                                   all-seasons salt   \n",
       "2               3               robust golden unsweetened oolong tea   \n",
       "3               4  smart ones classic favorites mini rigatoni wit...   \n",
       "4               5                          green chile anytime sauce   \n",
       "...           ...                                                ...   \n",
       "49689       49690                      high performance energy drink   \n",
       "49690       49691                      original pancake & waffle mix   \n",
       "49691       49692    organic instant oatmeal light maple brown sugar   \n",
       "49692       49693                             spring water body wash   \n",
       "49693       49694                            burrito- steak & cheese   \n",
       "\n",
       "       aisle_id  department_id  \n",
       "0            61             19  \n",
       "1           104             13  \n",
       "2            94              7  \n",
       "3            38              1  \n",
       "4             5             13  \n",
       "...         ...            ...  \n",
       "49689        64              7  \n",
       "49690       130             14  \n",
       "49691       130             14  \n",
       "49692       127             11  \n",
       "49693        38              1  \n",
       "\n",
       "[49694 rows x 4 columns]"
      ]
     },
     "execution_count": 21,
     "metadata": {},
     "output_type": "execute_result"
    }
   ],
   "source": [
    "#confirm command changed case\n",
    "products"
   ]
  },
  {
   "cell_type": "code",
   "execution_count": 22,
   "id": "e75c3704",
   "metadata": {},
   "outputs": [],
   "source": [
    "#remove all rows without data in original dataframe\n",
    "products = products.dropna(subset=['product_name'])"
   ]
  },
  {
   "cell_type": "code",
   "execution_count": 23,
   "id": "9019aed8",
   "metadata": {},
   "outputs": [
    {
     "data": {
      "text/plain": [
       "104"
      ]
     },
     "execution_count": 23,
     "metadata": {},
     "output_type": "execute_result"
    }
   ],
   "source": [
    "#sum values that are duplicated. \n",
    "products['product_name'].duplicated().sum()"
   ]
  },
  {
   "cell_type": "code",
   "execution_count": 24,
   "id": "cec2e770",
   "metadata": {},
   "outputs": [
    {
     "name": "stdout",
     "output_type": "stream",
     "text": [
      "<class 'pandas.core.frame.DataFrame'>\n",
      "Int64Index: 48436 entries, 0 to 49693\n",
      "Data columns (total 4 columns):\n",
      " #   Column         Non-Null Count  Dtype \n",
      "---  ------         --------------  ----- \n",
      " 0   product_id     48436 non-null  int64 \n",
      " 1   product_name   48436 non-null  object\n",
      " 2   aisle_id       48436 non-null  int64 \n",
      " 3   department_id  48436 non-null  int64 \n",
      "dtypes: int64(3), object(1)\n",
      "memory usage: 1.8+ MB\n"
     ]
    }
   ],
   "source": [
    "products.info()"
   ]
  },
  {
   "cell_type": "code",
   "execution_count": 25,
   "id": "01efd02e",
   "metadata": {
    "scrolled": true
   },
   "outputs": [
    {
     "data": {
      "text/html": [
       "<div>\n",
       "<style scoped>\n",
       "    .dataframe tbody tr th:only-of-type {\n",
       "        vertical-align: middle;\n",
       "    }\n",
       "\n",
       "    .dataframe tbody tr th {\n",
       "        vertical-align: top;\n",
       "    }\n",
       "\n",
       "    .dataframe thead th {\n",
       "        text-align: right;\n",
       "    }\n",
       "</style>\n",
       "<table border=\"1\" class=\"dataframe\">\n",
       "  <thead>\n",
       "    <tr style=\"text-align: right;\">\n",
       "      <th></th>\n",
       "      <th>product_id</th>\n",
       "      <th>product_name</th>\n",
       "      <th>aisle_id</th>\n",
       "      <th>department_id</th>\n",
       "    </tr>\n",
       "  </thead>\n",
       "  <tbody>\n",
       "    <tr>\n",
       "      <th>0</th>\n",
       "      <td>1</td>\n",
       "      <td>chocolate sandwich cookies</td>\n",
       "      <td>61</td>\n",
       "      <td>19</td>\n",
       "    </tr>\n",
       "    <tr>\n",
       "      <th>1</th>\n",
       "      <td>2</td>\n",
       "      <td>all-seasons salt</td>\n",
       "      <td>104</td>\n",
       "      <td>13</td>\n",
       "    </tr>\n",
       "    <tr>\n",
       "      <th>2</th>\n",
       "      <td>3</td>\n",
       "      <td>robust golden unsweetened oolong tea</td>\n",
       "      <td>94</td>\n",
       "      <td>7</td>\n",
       "    </tr>\n",
       "    <tr>\n",
       "      <th>3</th>\n",
       "      <td>4</td>\n",
       "      <td>smart ones classic favorites mini rigatoni wit...</td>\n",
       "      <td>38</td>\n",
       "      <td>1</td>\n",
       "    </tr>\n",
       "    <tr>\n",
       "      <th>4</th>\n",
       "      <td>5</td>\n",
       "      <td>green chile anytime sauce</td>\n",
       "      <td>5</td>\n",
       "      <td>13</td>\n",
       "    </tr>\n",
       "    <tr>\n",
       "      <th>...</th>\n",
       "      <td>...</td>\n",
       "      <td>...</td>\n",
       "      <td>...</td>\n",
       "      <td>...</td>\n",
       "    </tr>\n",
       "    <tr>\n",
       "      <th>49689</th>\n",
       "      <td>49690</td>\n",
       "      <td>high performance energy drink</td>\n",
       "      <td>64</td>\n",
       "      <td>7</td>\n",
       "    </tr>\n",
       "    <tr>\n",
       "      <th>49690</th>\n",
       "      <td>49691</td>\n",
       "      <td>original pancake &amp; waffle mix</td>\n",
       "      <td>130</td>\n",
       "      <td>14</td>\n",
       "    </tr>\n",
       "    <tr>\n",
       "      <th>49691</th>\n",
       "      <td>49692</td>\n",
       "      <td>organic instant oatmeal light maple brown sugar</td>\n",
       "      <td>130</td>\n",
       "      <td>14</td>\n",
       "    </tr>\n",
       "    <tr>\n",
       "      <th>49692</th>\n",
       "      <td>49693</td>\n",
       "      <td>spring water body wash</td>\n",
       "      <td>127</td>\n",
       "      <td>11</td>\n",
       "    </tr>\n",
       "    <tr>\n",
       "      <th>49693</th>\n",
       "      <td>49694</td>\n",
       "      <td>burrito- steak &amp; cheese</td>\n",
       "      <td>38</td>\n",
       "      <td>1</td>\n",
       "    </tr>\n",
       "  </tbody>\n",
       "</table>\n",
       "<p>48436 rows × 4 columns</p>\n",
       "</div>"
      ],
      "text/plain": [
       "       product_id                                       product_name  \\\n",
       "0               1                         chocolate sandwich cookies   \n",
       "1               2                                   all-seasons salt   \n",
       "2               3               robust golden unsweetened oolong tea   \n",
       "3               4  smart ones classic favorites mini rigatoni wit...   \n",
       "4               5                          green chile anytime sauce   \n",
       "...           ...                                                ...   \n",
       "49689       49690                      high performance energy drink   \n",
       "49690       49691                      original pancake & waffle mix   \n",
       "49691       49692    organic instant oatmeal light maple brown sugar   \n",
       "49692       49693                             spring water body wash   \n",
       "49693       49694                            burrito- steak & cheese   \n",
       "\n",
       "       aisle_id  department_id  \n",
       "0            61             19  \n",
       "1           104             13  \n",
       "2            94              7  \n",
       "3            38              1  \n",
       "4             5             13  \n",
       "...         ...            ...  \n",
       "49689        64              7  \n",
       "49690       130             14  \n",
       "49691       130             14  \n",
       "49692       127             11  \n",
       "49693        38              1  \n",
       "\n",
       "[48436 rows x 4 columns]"
      ]
     },
     "metadata": {},
     "output_type": "display_data"
    },
    {
     "data": {
      "text/plain": [
       "0"
      ]
     },
     "execution_count": 25,
     "metadata": {},
     "output_type": "execute_result"
    }
   ],
   "source": [
    "# Check for duplicate product names that aren't missing\n",
    "display(products[~products['product_name'].isna()])\n",
    "products[~products['product_name'].isna()].duplicated().sum()"
   ]
  },
  {
   "cell_type": "markdown",
   "id": "60f30db1",
   "metadata": {},
   "source": [
    "### `departments` data frame"
   ]
  },
  {
   "cell_type": "code",
   "execution_count": 26,
   "id": "fb410ad4-0fbf-4b80-bb09-23fdea79afe3",
   "metadata": {},
   "outputs": [
    {
     "data": {
      "text/plain": [
       "0"
      ]
     },
     "execution_count": 26,
     "metadata": {},
     "output_type": "execute_result"
    }
   ],
   "source": [
    "#decide to check for duplicates in entire row \n",
    "departments.duplicated().sum()\n",
    "#check for duplicates in each column \n",
    "departments['department_id'].duplicated().sum()\n",
    "departments ['department'].duplicated().sum()"
   ]
  },
  {
   "cell_type": "code",
   "execution_count": 27,
   "id": "332b12bb",
   "metadata": {},
   "outputs": [
    {
     "data": {
      "text/html": [
       "<div>\n",
       "<style scoped>\n",
       "    .dataframe tbody tr th:only-of-type {\n",
       "        vertical-align: middle;\n",
       "    }\n",
       "\n",
       "    .dataframe tbody tr th {\n",
       "        vertical-align: top;\n",
       "    }\n",
       "\n",
       "    .dataframe thead th {\n",
       "        text-align: right;\n",
       "    }\n",
       "</style>\n",
       "<table border=\"1\" class=\"dataframe\">\n",
       "  <thead>\n",
       "    <tr style=\"text-align: right;\">\n",
       "      <th></th>\n",
       "      <th>department_id</th>\n",
       "      <th>department</th>\n",
       "    </tr>\n",
       "  </thead>\n",
       "  <tbody>\n",
       "    <tr>\n",
       "      <th>0</th>\n",
       "      <td>1</td>\n",
       "      <td>frozen</td>\n",
       "    </tr>\n",
       "    <tr>\n",
       "      <th>1</th>\n",
       "      <td>2</td>\n",
       "      <td>other</td>\n",
       "    </tr>\n",
       "    <tr>\n",
       "      <th>2</th>\n",
       "      <td>3</td>\n",
       "      <td>bakery</td>\n",
       "    </tr>\n",
       "    <tr>\n",
       "      <th>3</th>\n",
       "      <td>4</td>\n",
       "      <td>produce</td>\n",
       "    </tr>\n",
       "    <tr>\n",
       "      <th>4</th>\n",
       "      <td>5</td>\n",
       "      <td>alcohol</td>\n",
       "    </tr>\n",
       "    <tr>\n",
       "      <th>5</th>\n",
       "      <td>6</td>\n",
       "      <td>international</td>\n",
       "    </tr>\n",
       "    <tr>\n",
       "      <th>6</th>\n",
       "      <td>7</td>\n",
       "      <td>beverages</td>\n",
       "    </tr>\n",
       "    <tr>\n",
       "      <th>7</th>\n",
       "      <td>8</td>\n",
       "      <td>pets</td>\n",
       "    </tr>\n",
       "    <tr>\n",
       "      <th>8</th>\n",
       "      <td>9</td>\n",
       "      <td>dry goods pasta</td>\n",
       "    </tr>\n",
       "    <tr>\n",
       "      <th>9</th>\n",
       "      <td>10</td>\n",
       "      <td>bulk</td>\n",
       "    </tr>\n",
       "    <tr>\n",
       "      <th>10</th>\n",
       "      <td>11</td>\n",
       "      <td>personal care</td>\n",
       "    </tr>\n",
       "    <tr>\n",
       "      <th>11</th>\n",
       "      <td>12</td>\n",
       "      <td>meat seafood</td>\n",
       "    </tr>\n",
       "    <tr>\n",
       "      <th>12</th>\n",
       "      <td>13</td>\n",
       "      <td>pantry</td>\n",
       "    </tr>\n",
       "    <tr>\n",
       "      <th>13</th>\n",
       "      <td>14</td>\n",
       "      <td>breakfast</td>\n",
       "    </tr>\n",
       "    <tr>\n",
       "      <th>14</th>\n",
       "      <td>15</td>\n",
       "      <td>canned goods</td>\n",
       "    </tr>\n",
       "    <tr>\n",
       "      <th>15</th>\n",
       "      <td>16</td>\n",
       "      <td>dairy eggs</td>\n",
       "    </tr>\n",
       "    <tr>\n",
       "      <th>16</th>\n",
       "      <td>17</td>\n",
       "      <td>household</td>\n",
       "    </tr>\n",
       "    <tr>\n",
       "      <th>17</th>\n",
       "      <td>18</td>\n",
       "      <td>babies</td>\n",
       "    </tr>\n",
       "    <tr>\n",
       "      <th>18</th>\n",
       "      <td>19</td>\n",
       "      <td>snacks</td>\n",
       "    </tr>\n",
       "    <tr>\n",
       "      <th>19</th>\n",
       "      <td>20</td>\n",
       "      <td>deli</td>\n",
       "    </tr>\n",
       "    <tr>\n",
       "      <th>20</th>\n",
       "      <td>21</td>\n",
       "      <td>missing</td>\n",
       "    </tr>\n",
       "  </tbody>\n",
       "</table>\n",
       "</div>"
      ],
      "text/plain": [
       "    department_id       department\n",
       "0               1           frozen\n",
       "1               2            other\n",
       "2               3           bakery\n",
       "3               4          produce\n",
       "4               5          alcohol\n",
       "5               6    international\n",
       "6               7        beverages\n",
       "7               8             pets\n",
       "8               9  dry goods pasta\n",
       "9              10             bulk\n",
       "10             11    personal care\n",
       "11             12     meat seafood\n",
       "12             13           pantry\n",
       "13             14        breakfast\n",
       "14             15     canned goods\n",
       "15             16       dairy eggs\n",
       "16             17        household\n",
       "17             18           babies\n",
       "18             19           snacks\n",
       "19             20             deli\n",
       "20             21          missing"
      ]
     },
     "metadata": {},
     "output_type": "display_data"
    },
    {
     "data": {
      "text/html": [
       "<div>\n",
       "<style scoped>\n",
       "    .dataframe tbody tr th:only-of-type {\n",
       "        vertical-align: middle;\n",
       "    }\n",
       "\n",
       "    .dataframe tbody tr th {\n",
       "        vertical-align: top;\n",
       "    }\n",
       "\n",
       "    .dataframe thead th {\n",
       "        text-align: right;\n",
       "    }\n",
       "</style>\n",
       "<table border=\"1\" class=\"dataframe\">\n",
       "  <thead>\n",
       "    <tr style=\"text-align: right;\">\n",
       "      <th></th>\n",
       "      <th>department_id</th>\n",
       "      <th>department</th>\n",
       "    </tr>\n",
       "  </thead>\n",
       "  <tbody>\n",
       "    <tr>\n",
       "      <th>0</th>\n",
       "      <td>1</td>\n",
       "      <td>frozen</td>\n",
       "    </tr>\n",
       "    <tr>\n",
       "      <th>1</th>\n",
       "      <td>2</td>\n",
       "      <td>other</td>\n",
       "    </tr>\n",
       "    <tr>\n",
       "      <th>2</th>\n",
       "      <td>3</td>\n",
       "      <td>bakery</td>\n",
       "    </tr>\n",
       "    <tr>\n",
       "      <th>3</th>\n",
       "      <td>4</td>\n",
       "      <td>produce</td>\n",
       "    </tr>\n",
       "    <tr>\n",
       "      <th>4</th>\n",
       "      <td>5</td>\n",
       "      <td>alcohol</td>\n",
       "    </tr>\n",
       "    <tr>\n",
       "      <th>5</th>\n",
       "      <td>6</td>\n",
       "      <td>international</td>\n",
       "    </tr>\n",
       "    <tr>\n",
       "      <th>6</th>\n",
       "      <td>7</td>\n",
       "      <td>beverages</td>\n",
       "    </tr>\n",
       "    <tr>\n",
       "      <th>7</th>\n",
       "      <td>8</td>\n",
       "      <td>pets</td>\n",
       "    </tr>\n",
       "    <tr>\n",
       "      <th>8</th>\n",
       "      <td>9</td>\n",
       "      <td>dry goods pasta</td>\n",
       "    </tr>\n",
       "    <tr>\n",
       "      <th>9</th>\n",
       "      <td>10</td>\n",
       "      <td>bulk</td>\n",
       "    </tr>\n",
       "    <tr>\n",
       "      <th>10</th>\n",
       "      <td>11</td>\n",
       "      <td>personal care</td>\n",
       "    </tr>\n",
       "    <tr>\n",
       "      <th>11</th>\n",
       "      <td>12</td>\n",
       "      <td>meat seafood</td>\n",
       "    </tr>\n",
       "    <tr>\n",
       "      <th>12</th>\n",
       "      <td>13</td>\n",
       "      <td>pantry</td>\n",
       "    </tr>\n",
       "    <tr>\n",
       "      <th>13</th>\n",
       "      <td>14</td>\n",
       "      <td>breakfast</td>\n",
       "    </tr>\n",
       "    <tr>\n",
       "      <th>14</th>\n",
       "      <td>15</td>\n",
       "      <td>canned goods</td>\n",
       "    </tr>\n",
       "    <tr>\n",
       "      <th>15</th>\n",
       "      <td>16</td>\n",
       "      <td>dairy eggs</td>\n",
       "    </tr>\n",
       "    <tr>\n",
       "      <th>16</th>\n",
       "      <td>17</td>\n",
       "      <td>household</td>\n",
       "    </tr>\n",
       "    <tr>\n",
       "      <th>17</th>\n",
       "      <td>18</td>\n",
       "      <td>babies</td>\n",
       "    </tr>\n",
       "    <tr>\n",
       "      <th>18</th>\n",
       "      <td>19</td>\n",
       "      <td>snacks</td>\n",
       "    </tr>\n",
       "    <tr>\n",
       "      <th>19</th>\n",
       "      <td>20</td>\n",
       "      <td>deli</td>\n",
       "    </tr>\n",
       "    <tr>\n",
       "      <th>20</th>\n",
       "      <td>21</td>\n",
       "      <td>missing</td>\n",
       "    </tr>\n",
       "  </tbody>\n",
       "</table>\n",
       "</div>"
      ],
      "text/plain": [
       "    department_id       department\n",
       "0               1           frozen\n",
       "1               2            other\n",
       "2               3           bakery\n",
       "3               4          produce\n",
       "4               5          alcohol\n",
       "5               6    international\n",
       "6               7        beverages\n",
       "7               8             pets\n",
       "8               9  dry goods pasta\n",
       "9              10             bulk\n",
       "10             11    personal care\n",
       "11             12     meat seafood\n",
       "12             13           pantry\n",
       "13             14        breakfast\n",
       "14             15     canned goods\n",
       "15             16       dairy eggs\n",
       "16             17        household\n",
       "17             18           babies\n",
       "18             19           snacks\n",
       "19             20             deli\n",
       "20             21          missing"
      ]
     },
     "metadata": {},
     "output_type": "display_data"
    }
   ],
   "source": [
    "#decide to check for any empty cells\n",
    "display(departments[~departments['department_id'].isna()])\n",
    "display(departments[~departments['department'].isna()])"
   ]
  },
  {
   "cell_type": "markdown",
   "id": "889349c1",
   "metadata": {},
   "source": [
    "### `aisles` data frame"
   ]
  },
  {
   "cell_type": "code",
   "execution_count": 28,
   "id": "9da89fb9-4679-40f5-ad0d-c34df753a3f8",
   "metadata": {},
   "outputs": [
    {
     "data": {
      "text/plain": [
       "0"
      ]
     },
     "execution_count": 28,
     "metadata": {},
     "output_type": "execute_result"
    }
   ],
   "source": [
    "#decide to check for duplicates in entire row \n",
    "aisles.duplicated().sum()\n",
    "#check for duplicates in each column \n",
    "aisles['aisle_id'].duplicated().sum()\n",
    "aisles['aisle'].duplicated().sum()"
   ]
  },
  {
   "cell_type": "code",
   "execution_count": 29,
   "id": "da7c2822",
   "metadata": {},
   "outputs": [
    {
     "data": {
      "text/html": [
       "<div>\n",
       "<style scoped>\n",
       "    .dataframe tbody tr th:only-of-type {\n",
       "        vertical-align: middle;\n",
       "    }\n",
       "\n",
       "    .dataframe tbody tr th {\n",
       "        vertical-align: top;\n",
       "    }\n",
       "\n",
       "    .dataframe thead th {\n",
       "        text-align: right;\n",
       "    }\n",
       "</style>\n",
       "<table border=\"1\" class=\"dataframe\">\n",
       "  <thead>\n",
       "    <tr style=\"text-align: right;\">\n",
       "      <th></th>\n",
       "      <th>aisle_id</th>\n",
       "      <th>aisle</th>\n",
       "    </tr>\n",
       "  </thead>\n",
       "  <tbody>\n",
       "    <tr>\n",
       "      <th>0</th>\n",
       "      <td>1</td>\n",
       "      <td>prepared soups salads</td>\n",
       "    </tr>\n",
       "    <tr>\n",
       "      <th>1</th>\n",
       "      <td>2</td>\n",
       "      <td>specialty cheeses</td>\n",
       "    </tr>\n",
       "    <tr>\n",
       "      <th>2</th>\n",
       "      <td>3</td>\n",
       "      <td>energy granola bars</td>\n",
       "    </tr>\n",
       "    <tr>\n",
       "      <th>3</th>\n",
       "      <td>4</td>\n",
       "      <td>instant foods</td>\n",
       "    </tr>\n",
       "    <tr>\n",
       "      <th>4</th>\n",
       "      <td>5</td>\n",
       "      <td>marinades meat preparation</td>\n",
       "    </tr>\n",
       "    <tr>\n",
       "      <th>...</th>\n",
       "      <td>...</td>\n",
       "      <td>...</td>\n",
       "    </tr>\n",
       "    <tr>\n",
       "      <th>129</th>\n",
       "      <td>130</td>\n",
       "      <td>hot cereal pancake mixes</td>\n",
       "    </tr>\n",
       "    <tr>\n",
       "      <th>130</th>\n",
       "      <td>131</td>\n",
       "      <td>dry pasta</td>\n",
       "    </tr>\n",
       "    <tr>\n",
       "      <th>131</th>\n",
       "      <td>132</td>\n",
       "      <td>beauty</td>\n",
       "    </tr>\n",
       "    <tr>\n",
       "      <th>132</th>\n",
       "      <td>133</td>\n",
       "      <td>muscles joints pain relief</td>\n",
       "    </tr>\n",
       "    <tr>\n",
       "      <th>133</th>\n",
       "      <td>134</td>\n",
       "      <td>specialty wines champagnes</td>\n",
       "    </tr>\n",
       "  </tbody>\n",
       "</table>\n",
       "<p>134 rows × 2 columns</p>\n",
       "</div>"
      ],
      "text/plain": [
       "     aisle_id                       aisle\n",
       "0           1       prepared soups salads\n",
       "1           2           specialty cheeses\n",
       "2           3         energy granola bars\n",
       "3           4               instant foods\n",
       "4           5  marinades meat preparation\n",
       "..        ...                         ...\n",
       "129       130    hot cereal pancake mixes\n",
       "130       131                   dry pasta\n",
       "131       132                      beauty\n",
       "132       133  muscles joints pain relief\n",
       "133       134  specialty wines champagnes\n",
       "\n",
       "[134 rows x 2 columns]"
      ]
     },
     "metadata": {},
     "output_type": "display_data"
    },
    {
     "data": {
      "text/html": [
       "<div>\n",
       "<style scoped>\n",
       "    .dataframe tbody tr th:only-of-type {\n",
       "        vertical-align: middle;\n",
       "    }\n",
       "\n",
       "    .dataframe tbody tr th {\n",
       "        vertical-align: top;\n",
       "    }\n",
       "\n",
       "    .dataframe thead th {\n",
       "        text-align: right;\n",
       "    }\n",
       "</style>\n",
       "<table border=\"1\" class=\"dataframe\">\n",
       "  <thead>\n",
       "    <tr style=\"text-align: right;\">\n",
       "      <th></th>\n",
       "      <th>aisle_id</th>\n",
       "      <th>aisle</th>\n",
       "    </tr>\n",
       "  </thead>\n",
       "  <tbody>\n",
       "    <tr>\n",
       "      <th>0</th>\n",
       "      <td>1</td>\n",
       "      <td>prepared soups salads</td>\n",
       "    </tr>\n",
       "    <tr>\n",
       "      <th>1</th>\n",
       "      <td>2</td>\n",
       "      <td>specialty cheeses</td>\n",
       "    </tr>\n",
       "    <tr>\n",
       "      <th>2</th>\n",
       "      <td>3</td>\n",
       "      <td>energy granola bars</td>\n",
       "    </tr>\n",
       "    <tr>\n",
       "      <th>3</th>\n",
       "      <td>4</td>\n",
       "      <td>instant foods</td>\n",
       "    </tr>\n",
       "    <tr>\n",
       "      <th>4</th>\n",
       "      <td>5</td>\n",
       "      <td>marinades meat preparation</td>\n",
       "    </tr>\n",
       "    <tr>\n",
       "      <th>...</th>\n",
       "      <td>...</td>\n",
       "      <td>...</td>\n",
       "    </tr>\n",
       "    <tr>\n",
       "      <th>129</th>\n",
       "      <td>130</td>\n",
       "      <td>hot cereal pancake mixes</td>\n",
       "    </tr>\n",
       "    <tr>\n",
       "      <th>130</th>\n",
       "      <td>131</td>\n",
       "      <td>dry pasta</td>\n",
       "    </tr>\n",
       "    <tr>\n",
       "      <th>131</th>\n",
       "      <td>132</td>\n",
       "      <td>beauty</td>\n",
       "    </tr>\n",
       "    <tr>\n",
       "      <th>132</th>\n",
       "      <td>133</td>\n",
       "      <td>muscles joints pain relief</td>\n",
       "    </tr>\n",
       "    <tr>\n",
       "      <th>133</th>\n",
       "      <td>134</td>\n",
       "      <td>specialty wines champagnes</td>\n",
       "    </tr>\n",
       "  </tbody>\n",
       "</table>\n",
       "<p>134 rows × 2 columns</p>\n",
       "</div>"
      ],
      "text/plain": [
       "     aisle_id                       aisle\n",
       "0           1       prepared soups salads\n",
       "1           2           specialty cheeses\n",
       "2           3         energy granola bars\n",
       "3           4               instant foods\n",
       "4           5  marinades meat preparation\n",
       "..        ...                         ...\n",
       "129       130    hot cereal pancake mixes\n",
       "130       131                   dry pasta\n",
       "131       132                      beauty\n",
       "132       133  muscles joints pain relief\n",
       "133       134  specialty wines champagnes\n",
       "\n",
       "[134 rows x 2 columns]"
      ]
     },
     "metadata": {},
     "output_type": "display_data"
    }
   ],
   "source": [
    "#decide to check for any empty cells\n",
    "display(aisles[~aisles['aisle_id'].isna()])\n",
    "display(aisles[~aisles['aisle'].isna()])"
   ]
  },
  {
   "cell_type": "markdown",
   "id": "274cd06a",
   "metadata": {},
   "source": [
    "### `order_products` data frame"
   ]
  },
  {
   "cell_type": "code",
   "execution_count": 30,
   "id": "52326689-84a8-4b8f-a881-7c68780f62c9",
   "metadata": {},
   "outputs": [
    {
     "data": {
      "text/plain": [
       "0"
      ]
     },
     "execution_count": 30,
     "metadata": {},
     "output_type": "execute_result"
    }
   ],
   "source": [
    "# Check for fullly duplicate rows\n",
    "order_products.duplicated().sum()\n"
   ]
  },
  {
   "cell_type": "code",
   "execution_count": 31,
   "id": "7b861391",
   "metadata": {},
   "outputs": [
    {
     "data": {
      "text/plain": [
       "0"
      ]
     },
     "execution_count": 31,
     "metadata": {},
     "output_type": "execute_result"
    }
   ],
   "source": [
    "# Double check for any other tricky duplicates\n",
    "#decided to look for partial duplicates\n",
    "order_products[['order_id','product_id']].duplicated().sum()\n",
    "\n",
    "#order_products['order_id','product_id', 'add_to_cart_order', 'reordered'].duplicated().sum()\n",
    "#thought about look for duplicates with case differences but all four of the columns are numbers so not needed  \n",
    "# check if any empty frields\n",
    "#display(order_products[~order_products['product_id'].isna()])\n",
    "#order_products[~order_products['product_id'].isna().all]\n",
    "#print(order_products[~order_products['order_id'].isa()].all)\n",
    "#print(order_products[~order_products['add_to_cart_order'].isa().all])\n",
    "#print(order_products[~order_products['reordered'].isa().all])\n",
    "#print(order_products[~order_products[''].isa().all])"
   ]
  },
  {
   "cell_type": "markdown",
   "id": "1e46de76",
   "metadata": {},
   "source": [
    "## Find and remove missing values\n"
   ]
  },
  {
   "cell_type": "markdown",
   "id": "c0aebd78",
   "metadata": {},
   "source": [
    "### `products` data frame"
   ]
  },
  {
   "cell_type": "code",
   "execution_count": 32,
   "id": "fe4a8b0f",
   "metadata": {},
   "outputs": [
    {
     "name": "stdout",
     "output_type": "stream",
     "text": [
      "<class 'pandas.core.frame.DataFrame'>\n",
      "Int64Index: 48436 entries, 0 to 49693\n",
      "Data columns (total 4 columns):\n",
      " #   Column         Non-Null Count  Dtype \n",
      "---  ------         --------------  ----- \n",
      " 0   product_id     48436 non-null  int64 \n",
      " 1   product_name   48436 non-null  object\n",
      " 2   aisle_id       48436 non-null  int64 \n",
      " 3   department_id  48436 non-null  int64 \n",
      "dtypes: int64(3), object(1)\n",
      "memory usage: 1.8+ MB\n"
     ]
    },
    {
     "data": {
      "text/plain": [
       "product_id       0\n",
       "product_name     0\n",
       "aisle_id         0\n",
       "department_id    0\n",
       "dtype: int64"
      ]
     },
     "execution_count": 32,
     "metadata": {},
     "output_type": "execute_result"
    }
   ],
   "source": [
    "#find missing values\n",
    "products.info()\n",
    "products.isna().sum()"
   ]
  },
  {
   "cell_type": "code",
   "execution_count": 33,
   "id": "e96167bc",
   "metadata": {},
   "outputs": [
    {
     "name": "stdout",
     "output_type": "stream",
     "text": [
      "True\n"
     ]
    }
   ],
   "source": [
    "# Are all of the missing product names associated with aisle ID 100?\n",
    "#filter on multiple conditions\n",
    "print(len(products[(products['product_name'].isnull()) & (products['aisle_id'] == 100)])==products['product_name'].isna().sum())\n"
   ]
  },
  {
   "cell_type": "code",
   "execution_count": 34,
   "id": "8fd0a541",
   "metadata": {},
   "outputs": [
    {
     "name": "stdout",
     "output_type": "stream",
     "text": [
      "True\n"
     ]
    }
   ],
   "source": [
    "# Are all of the missing product names associated with department ID 21?\n",
    "print(len(products[(products['product_name'].isnull()) & (products['department_id'] == 21)])==products['product_name'].isna().sum())\n"
   ]
  },
  {
   "cell_type": "code",
   "execution_count": 35,
   "id": "325c3464",
   "metadata": {},
   "outputs": [
    {
     "name": "stdout",
     "output_type": "stream",
     "text": [
      "Empty DataFrame\n",
      "Columns: [product_id, product_name, aisle_id, department_id]\n",
      "Index: []\n"
     ]
    }
   ],
   "source": [
    "# What is this ailse and department?\n",
    "print(products[(products['department_id'] == 21) & (products['aisle_id'] == 100)])\n"
   ]
  },
  {
   "cell_type": "code",
   "execution_count": 36,
   "id": "6b295120",
   "metadata": {},
   "outputs": [
    {
     "name": "stdout",
     "output_type": "stream",
     "text": [
      "product_id       0\n",
      "product_name     0\n",
      "aisle_id         0\n",
      "department_id    0\n",
      "dtype: int64\n"
     ]
    },
    {
     "name": "stderr",
     "output_type": "stream",
     "text": [
      "/opt/conda/envs/python3/lib/python3.9/site-packages/pandas/core/series.py:4463: SettingWithCopyWarning: \n",
      "A value is trying to be set on a copy of a slice from a DataFrame\n",
      "\n",
      "See the caveats in the documentation: https://pandas.pydata.org/pandas-docs/stable/user_guide/indexing.html#returning-a-view-versus-a-copy\n",
      "  return super().fillna(\n"
     ]
    }
   ],
   "source": [
    "# Fill missing product names with 'Unknown'\n",
    "products['product_name'].fillna('Unknown', inplace=True)\n",
    "print(products.isna().sum())"
   ]
  },
  {
   "cell_type": "markdown",
   "id": "7eb45c86",
   "metadata": {},
   "source": [
    "### `orders` data frame"
   ]
  },
  {
   "cell_type": "code",
   "execution_count": 37,
   "id": "93e41d96",
   "metadata": {},
   "outputs": [
    {
     "data": {
      "text/plain": [
       "order_id                      0\n",
       "user_id                       0\n",
       "order_number                  0\n",
       "order_dow                     0\n",
       "order_hour_of_day             0\n",
       "days_since_prior_order    28819\n",
       "dtype: int64"
      ]
     },
     "execution_count": 37,
     "metadata": {},
     "output_type": "execute_result"
    }
   ],
   "source": [
    "#check for missing values \n",
    "orders.isna().sum()"
   ]
  },
  {
   "cell_type": "code",
   "execution_count": 38,
   "id": "166e5a86",
   "metadata": {},
   "outputs": [
    {
     "name": "stdout",
     "output_type": "stream",
     "text": [
      "False\n"
     ]
    }
   ],
   "source": [
    "# Are there any missing values where it's not a customer's first order?\n",
    "# only column with missing values is in \"days_since_prior_order\" so check that column for null when order_number solidified \n",
    "print(len(orders[(orders['days_since_prior_order'].isnull()) & (orders['order_number'] == 100)])==orders['days_since_prior_order'].isna().sum())"
   ]
  },
  {
   "cell_type": "markdown",
   "id": "69dc9ca4",
   "metadata": {},
   "source": [
    "### `order_products` data frame"
   ]
  },
  {
   "cell_type": "code",
   "execution_count": 39,
   "id": "b8240253",
   "metadata": {},
   "outputs": [
    {
     "data": {
      "text/plain": [
       "order_id               0\n",
       "product_id             0\n",
       "add_to_cart_order    836\n",
       "reordered              0\n",
       "dtype: int64"
      ]
     },
     "execution_count": 39,
     "metadata": {},
     "output_type": "execute_result"
    }
   ],
   "source": [
    "order_products.isna().sum()\n"
   ]
  },
  {
   "cell_type": "code",
   "execution_count": 40,
   "id": "ee624cb1",
   "metadata": {},
   "outputs": [
    {
     "data": {
      "text/plain": [
       "order_id               0\n",
       "product_id             0\n",
       "add_to_cart_order    836\n",
       "reordered              0\n",
       "dtype: int64"
      ]
     },
     "execution_count": 40,
     "metadata": {},
     "output_type": "execute_result"
    }
   ],
   "source": [
    "order_products.isnull().sum()"
   ]
  },
  {
   "cell_type": "code",
   "execution_count": 41,
   "id": "9a78e5ee",
   "metadata": {},
   "outputs": [
    {
     "name": "stdout",
     "output_type": "stream",
     "text": [
      "                   order_id  product_id  reordered\n",
      "add_to_cart_order                                 \n",
      "1.0                 3421079       49693          1\n",
      "2.0                 3421077       49694          1\n",
      "3.0                 3421077       49694          1\n",
      "4.0                 3421077       49694          1\n",
      "5.0                 3421071       49694          1\n",
      "...                     ...         ...        ...\n",
      "60.0                3383594       49680          1\n",
      "61.0                3383594       49176          1\n",
      "62.0                3383594       49416          1\n",
      "63.0                3383594       49215          1\n",
      "64.0                3383594       49566          1\n",
      "\n",
      "[64 rows x 3 columns]\n",
      "                   order_id  product_id  reordered\n",
      "add_to_cart_order                                 \n",
      "1.0                       4           1          0\n",
      "2.0                       4           1          0\n",
      "3.0                       4           1          0\n",
      "4.0                       4           1          0\n",
      "5.0                       4           1          0\n",
      "...                     ...         ...        ...\n",
      "60.0                   9310          45          0\n",
      "61.0                   9310         723          0\n",
      "62.0                   9310         790          0\n",
      "63.0                   9310         261          0\n",
      "64.0                   9310          34          0\n",
      "\n",
      "[64 rows x 3 columns]\n"
     ]
    }
   ],
   "source": [
    "# What are the min and max values in this column?\n",
    "print(order_products.groupby('add_to_cart_order').max())\n",
    "print(order_products.groupby('add_to_cart_order').min())\n"
   ]
  },
  {
   "cell_type": "code",
   "execution_count": 42,
   "id": "ab9d0c2b",
   "metadata": {},
   "outputs": [
    {
     "name": "stdout",
     "output_type": "stream",
     "text": [
      "[2449164, 1968313, 2926893, 1717990, 1959075, 844733, 61355, 936852, 264710, 1717990, 1564093, 129627, 264710, 293169, 2849370, 1386261, 3308010, 903110, 2136777, 3347453, 1888628, 165801, 2449164, 2094761, 3347453, 1038146, 2136777, 2997021, 844733, 844733, 2136777, 813364, 165801, 2256933, 171934, 264710, 2449164, 2409109, 3347453, 813364, 2926893, 936852, 1730767, 1169835, 733526, 844733, 293169, 61355, 903110, 1968313, 733526, 2136777, 2926893, 404157, 1386261, 171934, 3125735, 747668, 3308010, 1169835, 1800005, 1961723, 936852, 2849370, 3308010, 61355, 871281, 1717990, 813364, 388234, 61355, 3125735, 1959075, 61355, 3125735, 1648217, 171934, 3125735, 61355, 1477139, 1959075, 1717990, 1717990, 61355, 1717990, 171934, 1038146, 3308010, 3347453, 102236, 936852, 171934, 1730767, 2926893, 1021563, 1832957, 1959075, 2256933, 1968313, 2721963, 293169, 102236, 3125735, 1959075, 264710, 678116, 1220886, 1386261, 171934, 1959075, 61355, 3308010, 61355, 102236, 388234, 171934, 3308010, 1961723, 2721963, 3308010, 1564093, 264710, 404157, 1673227, 813364, 2094761, 844733, 1386261, 1959075, 3125735, 61355, 102236, 3308010, 1386261, 936852, 2999801, 1038146, 1888628, 813364, 1800005, 1968313, 3308010, 2449164, 388234, 3125735, 102236, 903110, 1832957, 102236, 3308010, 2926893, 388234, 1800005, 2094761, 2721963, 844733, 2136777, 2926893, 813364, 2136777, 1673227, 1633337, 1021563, 102236, 1800005, 1477139, 2470674, 1220886, 2470674, 1648217, 264710, 1832957, 2721963, 2849370, 2625444, 871281, 1717990, 1220886, 1677118, 1730767, 1730767, 678116, 102236, 2136777, 61355, 2136777, 903110, 844733, 2849370, 1832957, 1730767, 2479011, 3383594, 61355, 1832957, 1021563, 1021563, 1959075, 1832957, 813364, 61355, 61355, 2926893, 1959075, 1648217, 2136777, 264710, 1800005, 2094761, 2926893, 1959075, 264710, 61355, 3308010, 2256933, 936852, 3308010, 1038146, 1183255, 2256933, 1832957, 1386261, 1713430, 1730767, 2136777, 3308010, 1717990, 171934, 1968313, 1717990, 2136777, 1648217, 1968313, 2652650, 733526, 1673227, 2849370, 61355, 3308010, 1169835, 3308010, 171934, 2999801, 1717990, 1386261, 936852, 1968313, 1713430, 1800005, 2136777, 264710, 264710, 2926893, 165801, 1598369, 2997021, 1730767, 61355, 1916118, 1730767, 3308010, 2479011, 2449164, 61355, 3125735, 2094761, 1888628, 3125735, 264710, 171934, 1800005, 1038146, 1959075, 102236, 3308010, 1386261, 1800005, 2470674, 2926893, 2470674, 102236, 3308010, 1717990, 903110, 2997021, 129627, 3383594, 3308010, 1386261, 854647, 102236, 1038146, 3308010, 936852, 264710, 264710, 1800005, 61355, 1220886, 2136777, 293169, 1800005, 1888628, 813364, 2136777, 61355, 1730767, 1021563, 2721963, 1730767, 1564093, 3308010, 2849370, 3308010, 1302315, 1888628, 61355, 1959075, 61355, 2136777, 733526, 3308010, 1730767, 1183255, 264710, 1730767, 678116, 2721963, 2136777, 3308010, 2721963, 2409109, 871281, 171934, 678116, 2849370, 813364, 3125735, 1730767, 61355, 2999801, 1648217, 936852, 3125735, 61355, 2849370, 1220886, 1959075, 2256933, 171934, 2926893, 2926893, 404157, 2136777, 3308010, 1021563, 404157, 171934, 61355, 2094761, 1832957, 293169, 813364, 293169, 3125735, 1021563, 1800005, 3308010, 936852, 264710, 171934, 888470, 1673227, 871281, 1800005, 3308010, 1730767, 180546, 2621907, 1730767, 936852, 1959075, 1169835, 1730767, 2926893, 854647, 2449164, 3308010, 2470674, 1183255, 61355, 1386261, 903110, 2094761, 903110, 264710, 1648217, 293169, 2479011, 1730767, 1730767, 2926893, 61355, 3125735, 1959075, 2409109, 2926893, 1021563, 1386261, 3308010, 2926893, 1800005, 61355, 2449164, 102236, 3308010, 1308785, 1800005, 2926893, 61355, 2136777, 1717990, 3308010, 1730767, 871281, 1673227, 102236, 2136777, 1717990, 813364, 1800005, 1959075, 813364, 165801, 2136777, 2729254, 1673227, 1961723, 61355, 1183255, 2136777, 1302315, 1386261, 2849370, 171934, 2136777, 3308010, 733526, 1959075, 9310, 813364, 2170451, 1800005, 404157, 871281, 3125735, 2721963, 404157, 129627, 678116, 2926893, 264710, 2256933, 102236, 102236, 1021563, 264710, 2926893, 936852, 102236, 1968313, 936852, 293169, 2136777, 2136777, 61355, 1183255, 1730767, 1800005, 2479011, 1386261, 1800005, 1673227, 3308010, 2926893, 2926893, 61355, 1832957, 1717990, 813364, 2999801, 264710, 3308010, 3347453, 3308010, 936852, 813364, 404157, 171934, 903110, 871281, 102236, 61355, 813364, 102236, 3308010, 1800005, 1832957, 2479011, 171934, 171934, 844733, 3308010, 171934, 1800005, 404157, 1673227, 3383594, 3308010, 2136777, 102236, 1717990, 2094761, 102236, 1959075, 171934, 2136777, 1386261, 2136777, 2449164, 171934, 3308010, 1220886, 2136777, 1959075, 2136777, 171934, 936852, 3308010, 2470674, 871281, 2721963, 102236, 61355, 3125735, 3308010, 1386261, 1717990, 293169, 61355, 1386261, 2721963, 2136777, 1888628, 264710, 1564093, 2136777, 1730767, 2849370, 2721963, 293169, 264710, 2721963, 3125735, 1959075, 404157, 171934, 61355, 1959075, 871281, 61355, 1183255, 1673227, 2849370, 1477139, 1730767, 903110, 844733, 3308010, 1673227, 61355, 171934, 2926893, 2926893, 1959075, 2479011, 3347453, 2721963, 2625444, 171934, 813364, 102236, 61355, 844733, 2721963, 1302315, 813364, 61355, 2926893, 1968313, 1968313, 264710, 1717990, 1730767, 2136777, 2721963, 2136777, 2721963, 171934, 171934, 2979697, 1730767, 1888628, 1625713, 2136777, 1800005, 2094761, 1961723, 1564093, 1959075, 1916118, 61355, 2997021, 293169, 3308010, 1529171, 61355, 2256933, 1959075, 2449164, 1673227, 2479011, 1888628, 1800005, 2470674, 1386261, 3125735, 2721963, 2926893, 1800005, 1386261, 2136777, 61355, 171934, 3308010, 61355, 936852, 61355, 936852, 293169, 1386261, 171934, 1800005, 871281, 3125735, 61355, 1959075, 1968313, 1717990, 3308010, 844733, 129627, 844733, 264710, 165801, 1386261, 2136777, 2721963, 1730767, 3125735, 2136777, 1183255, 171934, 936852, 854647, 1386261, 2926893, 1961723, 61355, 1730767, 1633337, 61355, 1959075, 102236, 404157, 1968313, 1386261, 2136777, 2999801, 1529171, 2721963, 61355, 3383594, 1730767, 936852, 2926893, 102236, 1959075, 102236, 1713430, 3383594, 102236, 1959075, 678116, 2449164, 844733, 61355, 3308010, 61355, 2136777, 264710, 171934, 813364, 3308010, 1730767, 61355, 102236, 61355, 1717990, 3308010, 1968313, 129627, 936852, 61355, 61355, 165801, 2409109, 2926893, 61355, 1961723, 1832957, 1961723, 1183255, 61355, 2999801, 1220886, 3125735, 171934, 388234, 102236, 102236, 61355, 2721963, 1800005, 1968313, 2136777, 61355, 1220886, 61355, 936852, 1673227, 936852, 1673227, 1625713, 171934, 2136777, 1800005, 1730767, 264710, 102236, 61355, 903110, 2136777, 1959075, 3125735, 171934, 1169835, 3308010, 61355, 1959075, 2721963, 813364, 1477139, 1888628, 1730767, 1959075, 2479011, 3308010, 2721963, 1717990, 2409109, 171934, 171934, 1183255, 1800005, 171934, 2136777, 388234, 264710, 61355, 1730767, 1717990, 1916118, 264710, 3125735, 1959075, 813364, 3347453, 293169, 171934, 1386261, 1183255, 1717990, 1308785, 2625444, 171934, 102236, 1386261, 1968313, 1386261, 404157, 1959075, 1832957, 1961723, 936852, 1386261, 2449164, 171934, 1959075, 2449164, 180546, 1183255, 1386261, 1968313, 2136777, 3308010, 2479011, 2979697, 1888628, 1832957, 1961723, 1800005, 1633337, 404157, 1673227, 1832957]\n"
     ]
    }
   ],
   "source": [
    "# Save all order IDs with at least one missing value in 'add_to_cart_order'\n",
    "#create assigned variable to store the order_id number when value missing in column\"add_to_cart_order\"\n",
    "add_to_cart_order=order_products.loc[order_products['add_to_cart_order'].isna(),'order_id'].tolist()\n",
    "print(add_to_cart_order)"
   ]
  },
  {
   "cell_type": "code",
   "execution_count": 43,
   "id": "54c31695",
   "metadata": {},
   "outputs": [
    {
     "data": {
      "text/plain": [
       "<bound method Series.sort_values of 0      1\n",
       "1     63\n",
       "2     31\n",
       "3      5\n",
       "4      6\n",
       "      ..\n",
       "65     6\n",
       "66    22\n",
       "67    51\n",
       "68     7\n",
       "69     5\n",
       "Name: product_id, Length: 70, dtype: int64>"
      ]
     },
     "execution_count": 43,
     "metadata": {},
     "output_type": "execute_result"
    }
   ],
   "source": [
    "# Do all orders with missing values have more than 64 products?\n",
    "order_products[order_products['add_to_cart_order'].isna()].groupby('order_id')['product_id'].count().reset_index()['product_id'].sort_values\n"
   ]
  },
  {
   "cell_type": "code",
   "execution_count": 44,
   "id": "1fc2ff2c",
   "metadata": {},
   "outputs": [
    {
     "data": {
      "text/plain": [
       "<bound method NDFrame._add_numeric_operations.<locals>.sum of 0          False\n",
       "1          False\n",
       "2          False\n",
       "3          False\n",
       "4          False\n",
       "           ...  \n",
       "4545002    False\n",
       "4545003    False\n",
       "4545004    False\n",
       "4545005    False\n",
       "4545006    False\n",
       "Name: add_to_cart_order, Length: 4545007, dtype: bool>"
      ]
     },
     "execution_count": 44,
     "metadata": {},
     "output_type": "execute_result"
    }
   ],
   "source": [
    "order_products['add_to_cart_order'].isna().sum"
   ]
  },
  {
   "cell_type": "code",
   "execution_count": 45,
   "id": "7a987d08",
   "metadata": {},
   "outputs": [
    {
     "name": "stdout",
     "output_type": "stream",
     "text": [
      "0    999\n",
      "1    999\n",
      "2    999\n",
      "3    999\n",
      "4    999\n",
      "Name: add_to_cart_order, dtype: int64\n"
     ]
    }
   ],
   "source": [
    "# Replace missing values with 999 and convert column to integer type\n",
    "order_products['add_to_cart_order']=order_products['add_to_cart_order'].where(order_products['add_to_cart_order'] == 'add_to_cart_order', '999')\n",
    "order_products['add_to_cart_order']=order_products['add_to_cart_order'].astype(int)\n",
    "print(order_products['add_to_cart_order'].head())\n"
   ]
  },
  {
   "cell_type": "code",
   "execution_count": 46,
   "id": "e1e31d67",
   "metadata": {},
   "outputs": [
    {
     "data": {
      "text/plain": [
       "45573"
      ]
     },
     "execution_count": 46,
     "metadata": {},
     "output_type": "execute_result"
    }
   ],
   "source": [
    "len(order_products['product_id'].unique())\n"
   ]
  },
  {
   "cell_type": "markdown",
   "id": "short-capability",
   "metadata": {},
   "source": [
    "###  Verify that the `'order_hour_of_day'` and `'order_dow'` values in the `orders` tables are sensible (i.e. `'order_hour_of_day'` ranges from 0 to 23 and `'order_dow'` ranges from 0 to 6)"
   ]
  },
  {
   "cell_type": "code",
   "execution_count": 47,
   "id": "f75720e1",
   "metadata": {},
   "outputs": [],
   "source": [
    "#import plotting library to enable visualizations\n",
    "from matplotlib import pyplot as plt"
   ]
  },
  {
   "cell_type": "code",
   "execution_count": 48,
   "id": "growing-fruit",
   "metadata": {},
   "outputs": [
    {
     "name": "stdout",
     "output_type": "stream",
     "text": [
      "        order_id  user_id  order_number  order_dow  order_hour_of_day  \\\n",
      "0        1515936   183418            11          6                 13   \n",
      "1        1690866   163593             5          5                 12   \n",
      "2        1454967    39980             4          5                 19   \n",
      "3        1768857    82516            56          0                 20   \n",
      "4        3007858   196724             2          4                 12   \n",
      "...          ...      ...           ...        ...                ...   \n",
      "478962   3210681     5617             5          1                 14   \n",
      "478963   3270802   112087             2          3                 13   \n",
      "478964    885349    82944            16          2                 11   \n",
      "478965    216274     4391             3          3                  8   \n",
      "478966   2071924     1730            18          1                 14   \n",
      "\n",
      "        days_since_prior_order  \n",
      "0                         30.0  \n",
      "1                          9.0  \n",
      "2                          2.0  \n",
      "3                         10.0  \n",
      "4                         17.0  \n",
      "...                        ...  \n",
      "478962                     7.0  \n",
      "478963                     6.0  \n",
      "478964                     6.0  \n",
      "478965                     8.0  \n",
      "478966                    15.0  \n",
      "\n",
      "[478967 rows x 6 columns]\n"
     ]
    }
   ],
   "source": [
    "#filter for multiple factors to ensure column of ordering day has values between o and 23\n",
    "orders_sensible=(orders[(orders['order_hour_of_day']>=0) & (orders['order_hour_of_day']<=23)])\n",
    "print(orders_sensible)"
   ]
  },
  {
   "cell_type": "code",
   "execution_count": 49,
   "id": "01dd966e",
   "metadata": {},
   "outputs": [
    {
     "name": "stdout",
     "output_type": "stream",
     "text": [
      "order_hour_of_day\n",
      "0      3180\n",
      "1      1763\n",
      "2      1004\n",
      "3       770\n",
      "4       765\n",
      "5      1371\n",
      "6      4215\n",
      "7     13043\n",
      "8     25024\n",
      "9     35896\n",
      "10    40578\n",
      "11    40032\n",
      "12    38034\n",
      "13    39007\n",
      "14    39631\n",
      "15    39789\n",
      "16    38112\n",
      "17    31930\n",
      "18    25510\n",
      "19    19547\n",
      "20    14624\n",
      "21    11019\n",
      "22     8512\n",
      "23     5611\n",
      "dtype: int64\n"
     ]
    }
   ],
   "source": [
    "ordering_hour_graph=orders.groupby('order_hour_of_day').size()\n",
    "print(ordering_hour_graph)"
   ]
  },
  {
   "cell_type": "code",
   "execution_count": 50,
   "id": "83ca6388",
   "metadata": {},
   "outputs": [
    {
     "data": {
      "text/plain": [
       "<AxesSubplot:title={'center':'Verify Ordering Hour is Sensible'}, xlabel='Ordering Hour', ylabel='frequency of Occurance'>"
      ]
     },
     "execution_count": 50,
     "metadata": {},
     "output_type": "execute_result"
    },
    {
     "data": {
      "image/png": "[encoded data removed]",
      "text/plain": [
       "<Figure size 640x480 with 1 Axes>"
      ]
     },
     "metadata": {},
     "output_type": "display_data"
    }
   ],
   "source": [
    "ordering_hour_graph.plot(kind='bar', title='Verify Ordering Hour is Sensible', xlabel='Ordering Hour', ylabel= \"frequency of Occurance\")"
   ]
  },
  {
   "cell_type": "code",
   "execution_count": 51,
   "id": "2f5ab343",
   "metadata": {},
   "outputs": [
    {
     "data": {
      "image/png": "[encoded data removed]",
      "text/plain": [
       "<Figure size 640x480 with 1 Axes>"
      ]
     },
     "metadata": {},
     "output_type": "display_data"
    }
   ],
   "source": [
    "#create table to visualize data\n",
    "#orders['order_hour_of_day'].plot(title='Verify Ordering Hour is Sensible',xlabel='Order Hour of Day', ylabel='Order Frequency', style='0',xlim=[0,25])\n",
    "\n",
    "plt.bar(ordering_hour_graph.index, ordering_hour_graph.values, color='purple')\n",
    "\n",
    "# Add labels and title\n",
    "plt.xlabel('Order Hour of Day')\n",
    "plt.ylabel('Order Frequency')\n",
    "plt.title('Verify Ordering Hour is Sensible')\n",
    "\n",
    "# Show the plot\n",
    "plt.show()"
   ]
  },
  {
   "cell_type": "code",
   "execution_count": 52,
   "id": "accessory-malaysia",
   "metadata": {},
   "outputs": [
    {
     "name": "stdout",
     "output_type": "stream",
     "text": [
      "        order_id  user_id  order_number  order_dow  order_hour_of_day  \\\n",
      "0        1515936   183418            11          6                 13   \n",
      "1        1690866   163593             5          5                 12   \n",
      "2        1454967    39980             4          5                 19   \n",
      "3        1768857    82516            56          0                 20   \n",
      "4        3007858   196724             2          4                 12   \n",
      "...          ...      ...           ...        ...                ...   \n",
      "478962   3210681     5617             5          1                 14   \n",
      "478963   3270802   112087             2          3                 13   \n",
      "478964    885349    82944            16          2                 11   \n",
      "478965    216274     4391             3          3                  8   \n",
      "478966   2071924     1730            18          1                 14   \n",
      "\n",
      "        days_since_prior_order  \n",
      "0                         30.0  \n",
      "1                          9.0  \n",
      "2                          2.0  \n",
      "3                         10.0  \n",
      "4                         17.0  \n",
      "...                        ...  \n",
      "478962                     7.0  \n",
      "478963                     6.0  \n",
      "478964                     6.0  \n",
      "478965                     8.0  \n",
      "478966                    15.0  \n",
      "\n",
      "[478967 rows x 6 columns]\n"
     ]
    }
   ],
   "source": [
    "#filter for multiple factors to ensure column of ordering day has values between o and 6\n",
    "hour_sensible=(orders[(orders['order_dow']>=0) & (orders['order_dow']<=6)])\n",
    "print(hour_sensible)"
   ]
  },
  {
   "cell_type": "code",
   "execution_count": 53,
   "id": "7ede2584",
   "metadata": {},
   "outputs": [
    {
     "name": "stdout",
     "output_type": "stream",
     "text": [
      "order_dow\n",
      "0    84090\n",
      "1    82185\n",
      "2    65833\n",
      "3    60912\n",
      "4    59810\n",
      "5    63488\n",
      "6    62649\n",
      "dtype: int64\n"
     ]
    },
    {
     "data": {
      "text/plain": [
       "<AxesSubplot:title={'center':'Verify Ordering Day is Sensible'}, xlabel='Ordering Day', ylabel='Frequency of Occurance'>"
      ]
     },
     "execution_count": 53,
     "metadata": {},
     "output_type": "execute_result"
    },
    {
     "data": {
      "image/png": "[encoded data removed]",
      "text/plain": [
       "<Figure size 640x480 with 1 Axes>"
      ]
     },
     "metadata": {},
     "output_type": "display_data"
    }
   ],
   "source": [
    "#verify via graph \n",
    "#create variable of grouped information from column \n",
    "hour_sensible_grouped=orders.groupby('order_dow').size()\n",
    "print(hour_sensible_grouped)\n",
    "hour_sensible_grouped.plot(kind='bar', title='Verify Ordering Day is Sensible', xlabel='Ordering Day', ylabel= \"Frequency of Occurance\")"
   ]
  },
  {
   "cell_type": "markdown",
   "id": "a6743a70",
   "metadata": {},
   "source": [
    "### What time of day do people shop for groceries?"
   ]
  },
  {
   "cell_type": "code",
   "execution_count": 54,
   "id": "a36cca27",
   "metadata": {},
   "outputs": [
    {
     "name": "stdout",
     "output_type": "stream",
     "text": [
      "10    40578\n",
      "11    40032\n",
      "15    39789\n",
      "14    39631\n",
      "13    39007\n",
      "16    38112\n",
      "12    38034\n",
      "9     35896\n",
      "17    31930\n",
      "18    25510\n",
      "8     25024\n",
      "19    19547\n",
      "20    14624\n",
      "7     13043\n",
      "21    11019\n",
      "22     8512\n",
      "23     5611\n",
      "6      4215\n",
      "0      3180\n",
      "1      1763\n",
      "5      1371\n",
      "2      1004\n",
      "3       770\n",
      "4       765\n",
      "Name: order_hour_of_day, dtype: int64\n"
     ]
    }
   ],
   "source": [
    "grocery_order_hour=orders['order_hour_of_day'].value_counts()\n",
    "print(grocery_order_hour)\n",
    "#perform a value count for the hour of day when orders occur.  Most frequent appears to be at 10 am since numbers on a 24 hour cycle. "
   ]
  },
  {
   "cell_type": "code",
   "execution_count": 55,
   "id": "40336cbb",
   "metadata": {},
   "outputs": [
    {
     "data": {
      "image/png": "[encoded data removed]",
      "text/plain": [
       "<Figure size 640x480 with 1 Axes>"
      ]
     },
     "metadata": {},
     "output_type": "display_data"
    }
   ],
   "source": [
    "plt.bar(grocery_order_hour.index, grocery_order_hour.values, color='pink')\n",
    "\n",
    "# Add labels and title\n",
    "plt.xlabel('Order Hour of Day')\n",
    "plt.ylabel('Order Frequency')\n",
    "plt.title('Verify Time of Day to Order')\n",
    "\n",
    "# Show the plot\n",
    "plt.show()"
   ]
  },
  {
   "cell_type": "markdown",
   "id": "40b8d4ec",
   "metadata": {},
   "source": [
    "It seems the most common time to order is between 10 am and 4 pm.  Most specific hour surge is at 10 am.  "
   ]
  },
  {
   "cell_type": "markdown",
   "id": "documented-command",
   "metadata": {},
   "source": [
    "### What day of the week do people shop for groceries?"
   ]
  },
  {
   "cell_type": "code",
   "execution_count": 56,
   "id": "chief-digit",
   "metadata": {},
   "outputs": [
    {
     "name": "stdout",
     "output_type": "stream",
     "text": [
      "0    84090\n",
      "1    82185\n",
      "2    65833\n",
      "5    63488\n",
      "6    62649\n",
      "3    60912\n",
      "4    59810\n",
      "Name: order_dow, dtype: int64\n"
     ]
    }
   ],
   "source": [
    "#use value_counts to sort column for day people shop into number of people on each day.  People shop everyday but the most orders are created on Monday. \n",
    "weekday_shopping=orders['order_dow'].value_counts()\n",
    "print(weekday_shopping)"
   ]
  },
  {
   "cell_type": "code",
   "execution_count": 57,
   "id": "9fe74d88",
   "metadata": {},
   "outputs": [
    {
     "data": {
      "image/png": "[encoded data removed]",
      "text/plain": [
       "<Figure size 640x480 with 1 Axes>"
      ]
     },
     "metadata": {},
     "output_type": "display_data"
    }
   ],
   "source": [
    "plt.bar(weekday_shopping.index, weekday_shopping.values, color='red')\n",
    "\n",
    "# Add labels and title\n",
    "plt.xlabel('Day of Week')\n",
    "plt.ylabel('Order Frequency')\n",
    "plt.title('Frequent Weekday Shopping')\n",
    "\n",
    "# Show the plot\n",
    "plt.show()"
   ]
  },
  {
   "cell_type": "markdown",
   "id": "070361bd",
   "metadata": {},
   "source": [
    "It appears the most common days for ordering is the beginning of the week.  This would be on Sunday and Monday. "
   ]
  },
  {
   "cell_type": "markdown",
   "id": "cutting-concert",
   "metadata": {},
   "source": [
    "### How long do people wait until placing another order?"
   ]
  },
  {
   "cell_type": "code",
   "execution_count": 58,
   "id": "c231f523",
   "metadata": {},
   "outputs": [],
   "source": [
    "length_wait=orders['days_since_prior_order'].value_counts()"
   ]
  },
  {
   "cell_type": "code",
   "execution_count": 59,
   "id": "a1612d3c",
   "metadata": {},
   "outputs": [
    {
     "data": {
      "text/plain": [
       "Text(0.5, 1.0, 'Time Users Wait Before Reorder')"
      ]
     },
     "execution_count": 59,
     "metadata": {},
     "output_type": "execute_result"
    },
    {
     "data": {
      "image/png": "[encoded data removed]",
      "text/plain": [
       "<Figure size 640x480 with 1 Axes>"
      ]
     },
     "metadata": {},
     "output_type": "display_data"
    }
   ],
   "source": [
    "#Show via plot \n",
    "plt.bar(length_wait.index, length_wait.values, color='green')\n",
    "\n",
    "# Add labels and title\n",
    "plt.xlabel('Days Wait to Reorder')\n",
    "plt.ylabel('Quantity of Users')\n",
    "plt.title('Time Users Wait Before Reorder')\n"
   ]
  },
  {
   "cell_type": "markdown",
   "id": "97cc5e37",
   "metadata": {},
   "source": [
    "People seem to vary in their reorder time but most common is 30 days after their prior order "
   ]
  },
  {
   "cell_type": "markdown",
   "id": "packed-classic",
   "metadata": {},
   "source": [
    "### Is there a difference in `'order_hour_of_day'` distributions on Wednesdays and Saturdays?"
   ]
  },
  {
   "cell_type": "code",
   "execution_count": 60,
   "id": "d89b8403",
   "metadata": {},
   "outputs": [],
   "source": [
    "from matplotlib import pyplot as plt"
   ]
  },
  {
   "cell_type": "code",
   "execution_count": 61,
   "id": "94e54e8a",
   "metadata": {
    "scrolled": true
   },
   "outputs": [
    {
     "data": {
      "text/plain": [
       "<function matplotlib.pyplot.show(close=None, block=None)>"
      ]
     },
     "execution_count": 61,
     "metadata": {},
     "output_type": "execute_result"
    },
    {
     "data": {
      "image/png": "[encoded data removed]",
      "text/plain": [
       "<Figure size 640x480 with 1 Axes>"
      ]
     },
     "metadata": {},
     "output_type": "display_data"
    }
   ],
   "source": [
    "orders[orders['order_dow']==2]['order_hour_of_day'].plot(kind='hist',bins=20)\n",
    "orders[orders['order_dow']==6]['order_hour_of_day'].plot(kind='hist',bins=20, alpha=0.5, title=\"Ordering Hour Distribution\", xlabel=\"Hour of Ordering\")\n",
    "plt.legend(['Wed.','Saturday'])\n",
    "plt.show"
   ]
  },
  {
   "cell_type": "markdown",
   "id": "7749e1c4",
   "metadata": {},
   "source": [
    "It seems the distrubtion between Wed. and Saturday is similiar.  However it appears more orders are made on Wed. overall. "
   ]
  },
  {
   "cell_type": "markdown",
   "id": "e3891143",
   "metadata": {},
   "source": [
    "###  What's the distribution for the number of orders per customer?"
   ]
  },
  {
   "cell_type": "code",
   "execution_count": 62,
   "id": "d8c26c23",
   "metadata": {},
   "outputs": [],
   "source": [
    "orders_per_customer = orders.groupby('user_id')['order_id'].count()\n",
    "#create a new grouping of each unique user id compared to unique order numbers "
   ]
  },
  {
   "cell_type": "code",
   "execution_count": 63,
   "id": "00e69a66",
   "metadata": {},
   "outputs": [
    {
     "data": {
      "image/png": "[encoded data removed]",
      "text/plain": [
       "<Figure size 1000x600 with 1 Axes>"
      ]
     },
     "metadata": {},
     "output_type": "display_data"
    }
   ],
   "source": [
    "plt.figure(figsize=(10, 6))\n",
    "plt.hist(orders_per_customer, bins=range(1, orders_per_customer.max() + 1), edgecolor='k', alpha=0.7)\n",
    "plt.title('Distribution of Number of Orders per Customer')\n",
    "plt.xlabel('Number of Orders')\n",
    "plt.ylabel('Frequency')\n",
    "plt.xticks(range(1, orders_per_customer.max() + 1))\n",
    "plt.show()"
   ]
  },
  {
   "cell_type": "markdown",
   "id": "54a0319c",
   "metadata": {},
   "source": [
    "### What are the top 20 popular products (display their id and name)?"
   ]
  },
  {
   "cell_type": "code",
   "execution_count": 64,
   "id": "universal-facial",
   "metadata": {},
   "outputs": [],
   "source": [
    "top_products = order_products['product_id'].value_counts().reset_index().head(20)\n",
    "top_products.columns = ['product_id', 'count']"
   ]
  },
  {
   "cell_type": "code",
   "execution_count": 65,
   "id": "bbcdd20b",
   "metadata": {},
   "outputs": [
    {
     "data": {
      "text/html": [
       "<div>\n",
       "<style scoped>\n",
       "    .dataframe tbody tr th:only-of-type {\n",
       "        vertical-align: middle;\n",
       "    }\n",
       "\n",
       "    .dataframe tbody tr th {\n",
       "        vertical-align: top;\n",
       "    }\n",
       "\n",
       "    .dataframe thead th {\n",
       "        text-align: right;\n",
       "    }\n",
       "</style>\n",
       "<table border=\"1\" class=\"dataframe\">\n",
       "  <thead>\n",
       "    <tr style=\"text-align: right;\">\n",
       "      <th></th>\n",
       "      <th>product_id</th>\n",
       "      <th>count</th>\n",
       "      <th>product_name</th>\n",
       "    </tr>\n",
       "  </thead>\n",
       "  <tbody>\n",
       "    <tr>\n",
       "      <th>0</th>\n",
       "      <td>24852</td>\n",
       "      <td>66050</td>\n",
       "      <td>banana</td>\n",
       "    </tr>\n",
       "    <tr>\n",
       "      <th>1</th>\n",
       "      <td>13176</td>\n",
       "      <td>53297</td>\n",
       "      <td>bag of organic bananas</td>\n",
       "    </tr>\n",
       "    <tr>\n",
       "      <th>2</th>\n",
       "      <td>21137</td>\n",
       "      <td>37039</td>\n",
       "      <td>organic strawberries</td>\n",
       "    </tr>\n",
       "    <tr>\n",
       "      <th>3</th>\n",
       "      <td>21903</td>\n",
       "      <td>33971</td>\n",
       "      <td>organic baby spinach</td>\n",
       "    </tr>\n",
       "    <tr>\n",
       "      <th>4</th>\n",
       "      <td>47209</td>\n",
       "      <td>29773</td>\n",
       "      <td>organic hass avocado</td>\n",
       "    </tr>\n",
       "    <tr>\n",
       "      <th>5</th>\n",
       "      <td>47766</td>\n",
       "      <td>24689</td>\n",
       "      <td>organic avocado</td>\n",
       "    </tr>\n",
       "    <tr>\n",
       "      <th>6</th>\n",
       "      <td>47626</td>\n",
       "      <td>21495</td>\n",
       "      <td>large lemon</td>\n",
       "    </tr>\n",
       "    <tr>\n",
       "      <th>7</th>\n",
       "      <td>16797</td>\n",
       "      <td>20018</td>\n",
       "      <td>strawberries</td>\n",
       "    </tr>\n",
       "    <tr>\n",
       "      <th>8</th>\n",
       "      <td>26209</td>\n",
       "      <td>19690</td>\n",
       "      <td>limes</td>\n",
       "    </tr>\n",
       "    <tr>\n",
       "      <th>9</th>\n",
       "      <td>27845</td>\n",
       "      <td>19600</td>\n",
       "      <td>organic whole milk</td>\n",
       "    </tr>\n",
       "    <tr>\n",
       "      <th>10</th>\n",
       "      <td>27966</td>\n",
       "      <td>19197</td>\n",
       "      <td>organic raspberries</td>\n",
       "    </tr>\n",
       "    <tr>\n",
       "      <th>11</th>\n",
       "      <td>22935</td>\n",
       "      <td>15898</td>\n",
       "      <td>organic yellow onion</td>\n",
       "    </tr>\n",
       "    <tr>\n",
       "      <th>12</th>\n",
       "      <td>24964</td>\n",
       "      <td>15292</td>\n",
       "      <td>organic garlic</td>\n",
       "    </tr>\n",
       "    <tr>\n",
       "      <th>13</th>\n",
       "      <td>45007</td>\n",
       "      <td>14584</td>\n",
       "      <td>organic zucchini</td>\n",
       "    </tr>\n",
       "    <tr>\n",
       "      <th>14</th>\n",
       "      <td>39275</td>\n",
       "      <td>13879</td>\n",
       "      <td>organic blueberries</td>\n",
       "    </tr>\n",
       "    <tr>\n",
       "      <th>15</th>\n",
       "      <td>49683</td>\n",
       "      <td>13675</td>\n",
       "      <td>cucumber kirby</td>\n",
       "    </tr>\n",
       "    <tr>\n",
       "      <th>16</th>\n",
       "      <td>28204</td>\n",
       "      <td>12544</td>\n",
       "      <td>organic fuji apple</td>\n",
       "    </tr>\n",
       "    <tr>\n",
       "      <th>17</th>\n",
       "      <td>5876</td>\n",
       "      <td>12232</td>\n",
       "      <td>organic lemon</td>\n",
       "    </tr>\n",
       "    <tr>\n",
       "      <th>18</th>\n",
       "      <td>8277</td>\n",
       "      <td>11993</td>\n",
       "      <td>apple honeycrisp organic</td>\n",
       "    </tr>\n",
       "    <tr>\n",
       "      <th>19</th>\n",
       "      <td>40706</td>\n",
       "      <td>11781</td>\n",
       "      <td>organic grape tomatoes</td>\n",
       "    </tr>\n",
       "  </tbody>\n",
       "</table>\n",
       "</div>"
      ],
      "text/plain": [
       "    product_id  count              product_name\n",
       "0        24852  66050                    banana\n",
       "1        13176  53297    bag of organic bananas\n",
       "2        21137  37039      organic strawberries\n",
       "3        21903  33971      organic baby spinach\n",
       "4        47209  29773      organic hass avocado\n",
       "5        47766  24689           organic avocado\n",
       "6        47626  21495               large lemon\n",
       "7        16797  20018              strawberries\n",
       "8        26209  19690                     limes\n",
       "9        27845  19600        organic whole milk\n",
       "10       27966  19197       organic raspberries\n",
       "11       22935  15898      organic yellow onion\n",
       "12       24964  15292            organic garlic\n",
       "13       45007  14584          organic zucchini\n",
       "14       39275  13879       organic blueberries\n",
       "15       49683  13675            cucumber kirby\n",
       "16       28204  12544        organic fuji apple\n",
       "17        5876  12232             organic lemon\n",
       "18        8277  11993  apple honeycrisp organic\n",
       "19       40706  11781    organic grape tomatoes"
      ]
     },
     "metadata": {},
     "output_type": "display_data"
    }
   ],
   "source": [
    "top_products_named = top_products.merge(products, on='product_id')[['product_id', 'count', 'product_name']]\n",
    "display(top_products_named)"
   ]
  },
  {
   "cell_type": "markdown",
   "id": "9d312b14",
   "metadata": {},
   "source": [
    "### For each product, what proportion of its orders are reorders?"
   ]
  },
  {
   "cell_type": "code",
   "execution_count": 66,
   "id": "8ae9f4b1",
   "metadata": {},
   "outputs": [],
   "source": [
    "reordered_products = order_products.groupby('product_id').agg({'reordered': ['sum', 'count', 'mean']}).reset_index()\n",
    "#create a new table where the product id column is filtered through for their sum, count, and mean, if the item was reordered. \n"
   ]
  },
  {
   "cell_type": "code",
   "execution_count": 67,
   "id": "103e7fe1",
   "metadata": {},
   "outputs": [],
   "source": [
    "reordered_products.columns = ['product_id', 'total_reorders', 'total_orders', 'reorder_proportion']\n",
    "#identify column names to new table. \n"
   ]
  },
  {
   "cell_type": "code",
   "execution_count": 68,
   "id": "social-individual",
   "metadata": {},
   "outputs": [
    {
     "data": {
      "text/html": [
       "<div>\n",
       "<style scoped>\n",
       "    .dataframe tbody tr th:only-of-type {\n",
       "        vertical-align: middle;\n",
       "    }\n",
       "\n",
       "    .dataframe tbody tr th {\n",
       "        vertical-align: top;\n",
       "    }\n",
       "\n",
       "    .dataframe thead th {\n",
       "        text-align: right;\n",
       "    }\n",
       "</style>\n",
       "<table border=\"1\" class=\"dataframe\">\n",
       "  <thead>\n",
       "    <tr style=\"text-align: right;\">\n",
       "      <th></th>\n",
       "      <th>product_id</th>\n",
       "      <th>total_reorders</th>\n",
       "      <th>total_orders</th>\n",
       "      <th>reorder_proportion</th>\n",
       "    </tr>\n",
       "  </thead>\n",
       "  <tbody>\n",
       "    <tr>\n",
       "      <th>0</th>\n",
       "      <td>1</td>\n",
       "      <td>158</td>\n",
       "      <td>280</td>\n",
       "      <td>0.564286</td>\n",
       "    </tr>\n",
       "    <tr>\n",
       "      <th>1</th>\n",
       "      <td>2</td>\n",
       "      <td>0</td>\n",
       "      <td>11</td>\n",
       "      <td>0.000000</td>\n",
       "    </tr>\n",
       "    <tr>\n",
       "      <th>2</th>\n",
       "      <td>3</td>\n",
       "      <td>31</td>\n",
       "      <td>42</td>\n",
       "      <td>0.738095</td>\n",
       "    </tr>\n",
       "    <tr>\n",
       "      <th>3</th>\n",
       "      <td>4</td>\n",
       "      <td>25</td>\n",
       "      <td>49</td>\n",
       "      <td>0.510204</td>\n",
       "    </tr>\n",
       "    <tr>\n",
       "      <th>4</th>\n",
       "      <td>7</td>\n",
       "      <td>1</td>\n",
       "      <td>2</td>\n",
       "      <td>0.500000</td>\n",
       "    </tr>\n",
       "    <tr>\n",
       "      <th>...</th>\n",
       "      <td>...</td>\n",
       "      <td>...</td>\n",
       "      <td>...</td>\n",
       "      <td>...</td>\n",
       "    </tr>\n",
       "    <tr>\n",
       "      <th>45568</th>\n",
       "      <td>49690</td>\n",
       "      <td>4</td>\n",
       "      <td>5</td>\n",
       "      <td>0.800000</td>\n",
       "    </tr>\n",
       "    <tr>\n",
       "      <th>45569</th>\n",
       "      <td>49691</td>\n",
       "      <td>31</td>\n",
       "      <td>72</td>\n",
       "      <td>0.430556</td>\n",
       "    </tr>\n",
       "    <tr>\n",
       "      <th>45570</th>\n",
       "      <td>49692</td>\n",
       "      <td>5</td>\n",
       "      <td>12</td>\n",
       "      <td>0.416667</td>\n",
       "    </tr>\n",
       "    <tr>\n",
       "      <th>45571</th>\n",
       "      <td>49693</td>\n",
       "      <td>11</td>\n",
       "      <td>25</td>\n",
       "      <td>0.440000</td>\n",
       "    </tr>\n",
       "    <tr>\n",
       "      <th>45572</th>\n",
       "      <td>49694</td>\n",
       "      <td>3</td>\n",
       "      <td>9</td>\n",
       "      <td>0.333333</td>\n",
       "    </tr>\n",
       "  </tbody>\n",
       "</table>\n",
       "<p>45573 rows × 4 columns</p>\n",
       "</div>"
      ],
      "text/plain": [
       "       product_id  total_reorders  total_orders  reorder_proportion\n",
       "0               1             158           280            0.564286\n",
       "1               2               0            11            0.000000\n",
       "2               3              31            42            0.738095\n",
       "3               4              25            49            0.510204\n",
       "4               7               1             2            0.500000\n",
       "...           ...             ...           ...                 ...\n",
       "45568       49690               4             5            0.800000\n",
       "45569       49691              31            72            0.430556\n",
       "45570       49692               5            12            0.416667\n",
       "45571       49693              11            25            0.440000\n",
       "45572       49694               3             9            0.333333\n",
       "\n",
       "[45573 rows x 4 columns]"
      ]
     },
     "metadata": {},
     "output_type": "display_data"
    }
   ],
   "source": [
    "display(reordered_products)\n",
    "#display table "
   ]
  },
  {
   "cell_type": "markdown",
   "id": "subject-boxing",
   "metadata": {},
   "source": [
    "###  For each customer, what proportion of their products ordered are reorders?"
   ]
  },
  {
   "cell_type": "code",
   "execution_count": 69,
   "id": "medical-couple",
   "metadata": {
    "scrolled": true
   },
   "outputs": [],
   "source": [
    "#create new variable and name the columns if grouped by the unique user id and items reordered\n",
    "order_id_df = pd.merge(order_products, orders, on='order_id')\n",
    "#create a merged dataframe from order_products and orders around the column 'order_id'"
   ]
  },
  {
   "cell_type": "code",
   "execution_count": 70,
   "id": "8892e4b4",
   "metadata": {},
   "outputs": [
    {
     "name": "stdout",
     "output_type": "stream",
     "text": [
      "        user_id  reorder_proportion\n",
      "0             2            0.038462\n",
      "1             4            0.000000\n",
      "2             5            0.666667\n",
      "3             6            0.000000\n",
      "4             7            0.928571\n",
      "...         ...                 ...\n",
      "149621   206203            0.222222\n",
      "149622   206206            0.714286\n",
      "149623   206207            0.891304\n",
      "149624   206208            0.696000\n",
      "149625   206209            0.320000\n",
      "\n",
      "[149626 rows x 2 columns]\n"
     ]
    }
   ],
   "source": [
    "reorder_proportions = order_id_df.groupby('user_id')['reordered'].mean().reset_index()\n",
    "reorder_proportions.rename(columns={'reordered': 'reorder_proportion'}, inplace=True)\n",
    "print(reorder_proportions)\n",
    "#group the data by user_id, then calculate the mean of the reordered column for each group. The reordered column contains binary data so taking the mean gives you the proportion of reordered items for each user."
   ]
  },
  {
   "cell_type": "code",
   "execution_count": 71,
   "id": "d11cb3dc",
   "metadata": {},
   "outputs": [
    {
     "name": "stdout",
     "output_type": "stream",
     "text": [
      "0.49485272499279415\n"
     ]
    }
   ],
   "source": [
    "print(reorder_proportions['reorder_proportion'].mean())\n",
    "#seems that almost half of each users order is repeated "
   ]
  },
  {
   "cell_type": "code",
   "execution_count": 72,
   "id": "991df6ef",
   "metadata": {},
   "outputs": [
    {
     "data": {
      "image/png": "[encoded data removed]",
      "text/plain": [
       "<Figure size 640x480 with 1 Axes>"
      ]
     },
     "metadata": {},
     "output_type": "display_data"
    }
   ],
   "source": [
    "#plt.figure(figsize=(10,6))\n",
    "plt.bar(reorder_proportions['user_id'], reorder_proportions['reorder_proportion'], color='skyblue')\n",
    "plt.xlabel('User ID')\n",
    "plt.ylabel('Reorder Proportion')\n",
    "plt.title('Unique Customer Reorder Proprtions')\n",
    "plt.show()  "
   ]
  },
  {
   "cell_type": "markdown",
   "id": "b5a576f1",
   "metadata": {},
   "source": [
    "Instant Data Review Conclusions\n",
    "Most common order time was between 10 am and 4 pm.  Most common day to order is Sunday or Monday. Routinely people wait 30 days between reorders. Hypothesize that people who only order groceries once a month are in a higher tax bracket and routine Instacart users. Majority of customers only utilized the service for less than 4 orders. Indication that users took advantage of a special or that the service was not helpful in their lifestyle. Out of the top 20 items ordered, 15 of them are fruit. \n"
   ]
  }
 ],
 "metadata": {
  "ExecuteTimeLog": [
   {
    "duration": 5,
    "start_time": "2024-08-25T01:31:06.121Z"
   },
   {
    "duration": 312,
    "start_time": "2024-08-25T01:31:40.482Z"
   },
   {
    "duration": 25,
    "start_time": "2024-08-25T01:32:06.781Z"
   },
   {
    "duration": 21,
    "start_time": "2024-08-25T01:33:11.535Z"
   },
   {
    "duration": 497,
    "start_time": "2024-08-25T01:40:13.984Z"
   },
   {
    "duration": 5,
    "start_time": "2024-08-25T01:40:14.503Z"
   },
   {
    "duration": 0,
    "start_time": "2024-08-25T01:40:14.513Z"
   },
   {
    "duration": 0,
    "start_time": "2024-08-25T01:40:14.514Z"
   },
   {
    "duration": 0,
    "start_time": "2024-08-25T01:40:14.516Z"
   },
   {
    "duration": 0,
    "start_time": "2024-08-25T01:40:14.519Z"
   },
   {
    "duration": 0,
    "start_time": "2024-08-25T01:40:14.521Z"
   },
   {
    "duration": 0,
    "start_time": "2024-08-25T01:40:14.524Z"
   },
   {
    "duration": 0,
    "start_time": "2024-08-25T01:40:14.526Z"
   },
   {
    "duration": 0,
    "start_time": "2024-08-25T01:40:14.528Z"
   },
   {
    "duration": 0,
    "start_time": "2024-08-25T01:40:14.529Z"
   },
   {
    "duration": 0,
    "start_time": "2024-08-25T01:40:14.531Z"
   },
   {
    "duration": 0,
    "start_time": "2024-08-25T01:40:14.533Z"
   },
   {
    "duration": 0,
    "start_time": "2024-08-25T01:40:14.535Z"
   },
   {
    "duration": 0,
    "start_time": "2024-08-25T01:40:14.536Z"
   },
   {
    "duration": 0,
    "start_time": "2024-08-25T01:40:14.538Z"
   },
   {
    "duration": 0,
    "start_time": "2024-08-25T01:40:14.540Z"
   },
   {
    "duration": 0,
    "start_time": "2024-08-25T01:40:14.543Z"
   },
   {
    "duration": 0,
    "start_time": "2024-08-25T01:40:14.601Z"
   },
   {
    "duration": 0,
    "start_time": "2024-08-25T01:40:14.604Z"
   },
   {
    "duration": 0,
    "start_time": "2024-08-25T01:40:14.606Z"
   },
   {
    "duration": 0,
    "start_time": "2024-08-25T01:40:14.608Z"
   },
   {
    "duration": 0,
    "start_time": "2024-08-25T01:40:14.610Z"
   },
   {
    "duration": 0,
    "start_time": "2024-08-25T01:40:14.613Z"
   },
   {
    "duration": 0,
    "start_time": "2024-08-25T01:40:14.615Z"
   },
   {
    "duration": 0,
    "start_time": "2024-08-25T01:40:14.617Z"
   },
   {
    "duration": 0,
    "start_time": "2024-08-25T01:40:14.619Z"
   },
   {
    "duration": 461,
    "start_time": "2024-08-25T01:41:24.910Z"
   },
   {
    "duration": 350,
    "start_time": "2024-08-25T01:41:25.375Z"
   },
   {
    "duration": 0,
    "start_time": "2024-08-25T01:41:25.730Z"
   },
   {
    "duration": 0,
    "start_time": "2024-08-25T01:41:25.732Z"
   },
   {
    "duration": 0,
    "start_time": "2024-08-25T01:41:25.735Z"
   },
   {
    "duration": 0,
    "start_time": "2024-08-25T01:41:25.737Z"
   },
   {
    "duration": 0,
    "start_time": "2024-08-25T01:41:25.739Z"
   },
   {
    "duration": 0,
    "start_time": "2024-08-25T01:41:25.741Z"
   },
   {
    "duration": 0,
    "start_time": "2024-08-25T01:41:25.743Z"
   },
   {
    "duration": 0,
    "start_time": "2024-08-25T01:41:25.744Z"
   },
   {
    "duration": 0,
    "start_time": "2024-08-25T01:41:25.747Z"
   },
   {
    "duration": 0,
    "start_time": "2024-08-25T01:41:25.749Z"
   },
   {
    "duration": 0,
    "start_time": "2024-08-25T01:41:25.753Z"
   },
   {
    "duration": 0,
    "start_time": "2024-08-25T01:41:25.756Z"
   },
   {
    "duration": 0,
    "start_time": "2024-08-25T01:41:25.802Z"
   },
   {
    "duration": 0,
    "start_time": "2024-08-25T01:41:25.804Z"
   },
   {
    "duration": 0,
    "start_time": "2024-08-25T01:41:25.806Z"
   },
   {
    "duration": 0,
    "start_time": "2024-08-25T01:41:25.809Z"
   },
   {
    "duration": 0,
    "start_time": "2024-08-25T01:41:25.811Z"
   },
   {
    "duration": 0,
    "start_time": "2024-08-25T01:41:25.814Z"
   },
   {
    "duration": 0,
    "start_time": "2024-08-25T01:41:25.816Z"
   },
   {
    "duration": 0,
    "start_time": "2024-08-25T01:41:25.819Z"
   },
   {
    "duration": 0,
    "start_time": "2024-08-25T01:41:25.822Z"
   },
   {
    "duration": 0,
    "start_time": "2024-08-25T01:41:25.823Z"
   },
   {
    "duration": 0,
    "start_time": "2024-08-25T01:41:25.825Z"
   },
   {
    "duration": 0,
    "start_time": "2024-08-25T01:41:25.826Z"
   },
   {
    "duration": 0,
    "start_time": "2024-08-25T01:41:25.828Z"
   },
   {
    "duration": 486,
    "start_time": "2024-08-25T01:42:50.681Z"
   },
   {
    "duration": 2183,
    "start_time": "2024-08-25T01:42:51.171Z"
   },
   {
    "duration": 11,
    "start_time": "2024-08-25T01:42:53.357Z"
   },
   {
    "duration": 10,
    "start_time": "2024-08-25T01:42:53.373Z"
   },
   {
    "duration": 115,
    "start_time": "2024-08-25T01:42:53.387Z"
   },
   {
    "duration": 481,
    "start_time": "2024-08-25T01:42:53.505Z"
   },
   {
    "duration": 21,
    "start_time": "2024-08-25T01:42:53.989Z"
   },
   {
    "duration": 4,
    "start_time": "2024-08-25T01:42:54.014Z"
   },
   {
    "duration": 4,
    "start_time": "2024-08-25T01:42:54.021Z"
   },
   {
    "duration": 3,
    "start_time": "2024-08-25T01:42:54.033Z"
   },
   {
    "duration": 4,
    "start_time": "2024-08-25T01:42:54.040Z"
   },
   {
    "duration": 4,
    "start_time": "2024-08-25T01:42:54.048Z"
   },
   {
    "duration": 4,
    "start_time": "2024-08-25T01:42:54.103Z"
   },
   {
    "duration": 3,
    "start_time": "2024-08-25T01:42:54.113Z"
   },
   {
    "duration": 4,
    "start_time": "2024-08-25T01:42:54.120Z"
   },
   {
    "duration": 4,
    "start_time": "2024-08-25T01:42:54.127Z"
   },
   {
    "duration": 4,
    "start_time": "2024-08-25T01:42:54.134Z"
   },
   {
    "duration": 3,
    "start_time": "2024-08-25T01:42:54.141Z"
   },
   {
    "duration": 4,
    "start_time": "2024-08-25T01:42:54.147Z"
   },
   {
    "duration": 3,
    "start_time": "2024-08-25T01:42:54.203Z"
   },
   {
    "duration": 3,
    "start_time": "2024-08-25T01:42:54.209Z"
   },
   {
    "duration": 5,
    "start_time": "2024-08-25T01:42:54.215Z"
   },
   {
    "duration": 4,
    "start_time": "2024-08-25T01:42:54.222Z"
   },
   {
    "duration": 3,
    "start_time": "2024-08-25T01:42:54.230Z"
   },
   {
    "duration": 4,
    "start_time": "2024-08-25T01:42:54.236Z"
   },
   {
    "duration": 3,
    "start_time": "2024-08-25T01:42:54.301Z"
   },
   {
    "duration": 4,
    "start_time": "2024-08-25T01:42:54.307Z"
   },
   {
    "duration": 443,
    "start_time": "2024-08-25T01:48:13.174Z"
   },
   {
    "duration": 2079,
    "start_time": "2024-08-25T01:48:13.620Z"
   },
   {
    "duration": 9,
    "start_time": "2024-08-25T01:48:15.703Z"
   },
   {
    "duration": 7,
    "start_time": "2024-08-25T01:48:15.716Z"
   },
   {
    "duration": 95,
    "start_time": "2024-08-25T01:48:15.726Z"
   },
   {
    "duration": 417,
    "start_time": "2024-08-25T01:48:15.823Z"
   },
   {
    "duration": 13,
    "start_time": "2024-08-25T01:48:16.242Z"
   },
   {
    "duration": 3,
    "start_time": "2024-08-25T01:48:16.259Z"
   },
   {
    "duration": 3,
    "start_time": "2024-08-25T01:48:16.266Z"
   },
   {
    "duration": 3,
    "start_time": "2024-08-25T01:48:16.306Z"
   },
   {
    "duration": 5,
    "start_time": "2024-08-25T01:48:16.312Z"
   },
   {
    "duration": 3,
    "start_time": "2024-08-25T01:48:16.320Z"
   },
   {
    "duration": 4,
    "start_time": "2024-08-25T01:48:16.326Z"
   },
   {
    "duration": 3,
    "start_time": "2024-08-25T01:48:16.333Z"
   },
   {
    "duration": 3,
    "start_time": "2024-08-25T01:48:16.339Z"
   },
   {
    "duration": 4,
    "start_time": "2024-08-25T01:48:16.345Z"
   },
   {
    "duration": 5,
    "start_time": "2024-08-25T01:48:16.403Z"
   },
   {
    "duration": 4,
    "start_time": "2024-08-25T01:48:16.412Z"
   },
   {
    "duration": 3,
    "start_time": "2024-08-25T01:48:16.420Z"
   },
   {
    "duration": 4,
    "start_time": "2024-08-25T01:48:16.425Z"
   },
   {
    "duration": 3,
    "start_time": "2024-08-25T01:48:16.433Z"
   },
   {
    "duration": 4,
    "start_time": "2024-08-25T01:48:16.439Z"
   },
   {
    "duration": 56,
    "start_time": "2024-08-25T01:48:16.446Z"
   },
   {
    "duration": 4,
    "start_time": "2024-08-25T01:48:16.507Z"
   },
   {
    "duration": 4,
    "start_time": "2024-08-25T01:48:16.515Z"
   },
   {
    "duration": 4,
    "start_time": "2024-08-25T01:48:16.522Z"
   },
   {
    "duration": 4,
    "start_time": "2024-08-25T01:48:16.529Z"
   },
   {
    "duration": 430,
    "start_time": "2024-08-25T02:27:46.960Z"
   },
   {
    "duration": 12,
    "start_time": "2024-08-25T02:27:47.394Z"
   },
   {
    "duration": 0,
    "start_time": "2024-08-25T02:27:47.410Z"
   },
   {
    "duration": 0,
    "start_time": "2024-08-25T02:27:47.413Z"
   },
   {
    "duration": 0,
    "start_time": "2024-08-25T02:27:47.415Z"
   },
   {
    "duration": 0,
    "start_time": "2024-08-25T02:27:47.417Z"
   },
   {
    "duration": 0,
    "start_time": "2024-08-25T02:27:47.420Z"
   },
   {
    "duration": 0,
    "start_time": "2024-08-25T02:27:47.423Z"
   },
   {
    "duration": 0,
    "start_time": "2024-08-25T02:27:47.426Z"
   },
   {
    "duration": 0,
    "start_time": "2024-08-25T02:27:47.428Z"
   },
   {
    "duration": 1,
    "start_time": "2024-08-25T02:27:47.430Z"
   },
   {
    "duration": 0,
    "start_time": "2024-08-25T02:27:47.433Z"
   },
   {
    "duration": 0,
    "start_time": "2024-08-25T02:27:47.435Z"
   },
   {
    "duration": 0,
    "start_time": "2024-08-25T02:27:47.438Z"
   },
   {
    "duration": 0,
    "start_time": "2024-08-25T02:27:47.441Z"
   },
   {
    "duration": 0,
    "start_time": "2024-08-25T02:27:47.443Z"
   },
   {
    "duration": 0,
    "start_time": "2024-08-25T02:27:47.445Z"
   },
   {
    "duration": 0,
    "start_time": "2024-08-25T02:27:47.504Z"
   },
   {
    "duration": 0,
    "start_time": "2024-08-25T02:27:47.507Z"
   },
   {
    "duration": 0,
    "start_time": "2024-08-25T02:27:47.509Z"
   },
   {
    "duration": 0,
    "start_time": "2024-08-25T02:27:47.512Z"
   },
   {
    "duration": 0,
    "start_time": "2024-08-25T02:27:47.514Z"
   },
   {
    "duration": 0,
    "start_time": "2024-08-25T02:27:47.516Z"
   },
   {
    "duration": 0,
    "start_time": "2024-08-25T02:27:47.518Z"
   },
   {
    "duration": 0,
    "start_time": "2024-08-25T02:27:47.520Z"
   },
   {
    "duration": 0,
    "start_time": "2024-08-25T02:27:47.521Z"
   },
   {
    "duration": 0,
    "start_time": "2024-08-25T02:27:47.523Z"
   },
   {
    "duration": 3,
    "start_time": "2024-08-25T02:28:37.100Z"
   },
   {
    "duration": 6,
    "start_time": "2024-08-25T02:28:39.028Z"
   },
   {
    "duration": 9,
    "start_time": "2024-08-25T02:28:39.796Z"
   },
   {
    "duration": 8,
    "start_time": "2024-08-25T02:28:40.434Z"
   },
   {
    "duration": 73,
    "start_time": "2024-08-25T02:28:40.902Z"
   },
   {
    "duration": 6,
    "start_time": "2024-08-25T02:28:42.250Z"
   },
   {
    "duration": 419,
    "start_time": "2024-08-25T02:28:48.459Z"
   },
   {
    "duration": 6,
    "start_time": "2024-08-25T02:28:48.881Z"
   },
   {
    "duration": 0,
    "start_time": "2024-08-25T02:28:48.903Z"
   },
   {
    "duration": 0,
    "start_time": "2024-08-25T02:28:48.905Z"
   },
   {
    "duration": 0,
    "start_time": "2024-08-25T02:28:48.907Z"
   },
   {
    "duration": 0,
    "start_time": "2024-08-25T02:28:48.909Z"
   },
   {
    "duration": 0,
    "start_time": "2024-08-25T02:28:48.912Z"
   },
   {
    "duration": 0,
    "start_time": "2024-08-25T02:28:48.914Z"
   },
   {
    "duration": 0,
    "start_time": "2024-08-25T02:28:48.917Z"
   },
   {
    "duration": 0,
    "start_time": "2024-08-25T02:28:48.919Z"
   },
   {
    "duration": 0,
    "start_time": "2024-08-25T02:28:48.921Z"
   },
   {
    "duration": 0,
    "start_time": "2024-08-25T02:28:48.923Z"
   },
   {
    "duration": 0,
    "start_time": "2024-08-25T02:28:48.926Z"
   },
   {
    "duration": 0,
    "start_time": "2024-08-25T02:28:48.928Z"
   },
   {
    "duration": 0,
    "start_time": "2024-08-25T02:28:48.930Z"
   },
   {
    "duration": 0,
    "start_time": "2024-08-25T02:28:48.933Z"
   },
   {
    "duration": 0,
    "start_time": "2024-08-25T02:28:48.935Z"
   },
   {
    "duration": 0,
    "start_time": "2024-08-25T02:28:48.937Z"
   },
   {
    "duration": 0,
    "start_time": "2024-08-25T02:28:48.940Z"
   },
   {
    "duration": 0,
    "start_time": "2024-08-25T02:28:48.942Z"
   },
   {
    "duration": 0,
    "start_time": "2024-08-25T02:28:49.003Z"
   },
   {
    "duration": 0,
    "start_time": "2024-08-25T02:28:49.006Z"
   },
   {
    "duration": 0,
    "start_time": "2024-08-25T02:28:49.008Z"
   },
   {
    "duration": 0,
    "start_time": "2024-08-25T02:28:49.010Z"
   },
   {
    "duration": 0,
    "start_time": "2024-08-25T02:28:49.013Z"
   },
   {
    "duration": 0,
    "start_time": "2024-08-25T02:28:49.014Z"
   },
   {
    "duration": 0,
    "start_time": "2024-08-25T02:28:49.016Z"
   },
   {
    "duration": 339,
    "start_time": "2024-08-25T02:32:13.729Z"
   },
   {
    "duration": 451,
    "start_time": "2024-08-25T02:32:29.325Z"
   },
   {
    "duration": 6,
    "start_time": "2024-08-25T02:32:29.780Z"
   },
   {
    "duration": 0,
    "start_time": "2024-08-25T02:32:29.806Z"
   },
   {
    "duration": 0,
    "start_time": "2024-08-25T02:32:29.807Z"
   },
   {
    "duration": 0,
    "start_time": "2024-08-25T02:32:29.809Z"
   },
   {
    "duration": 0,
    "start_time": "2024-08-25T02:32:29.812Z"
   },
   {
    "duration": 0,
    "start_time": "2024-08-25T02:32:29.814Z"
   },
   {
    "duration": 0,
    "start_time": "2024-08-25T02:32:29.817Z"
   },
   {
    "duration": 0,
    "start_time": "2024-08-25T02:32:29.819Z"
   },
   {
    "duration": 0,
    "start_time": "2024-08-25T02:32:29.822Z"
   },
   {
    "duration": 0,
    "start_time": "2024-08-25T02:32:29.824Z"
   },
   {
    "duration": 0,
    "start_time": "2024-08-25T02:32:29.826Z"
   },
   {
    "duration": 0,
    "start_time": "2024-08-25T02:32:29.828Z"
   },
   {
    "duration": 0,
    "start_time": "2024-08-25T02:32:29.830Z"
   },
   {
    "duration": 0,
    "start_time": "2024-08-25T02:32:29.832Z"
   },
   {
    "duration": 0,
    "start_time": "2024-08-25T02:32:29.834Z"
   },
   {
    "duration": 0,
    "start_time": "2024-08-25T02:32:29.835Z"
   },
   {
    "duration": 0,
    "start_time": "2024-08-25T02:32:29.837Z"
   },
   {
    "duration": 0,
    "start_time": "2024-08-25T02:32:29.838Z"
   },
   {
    "duration": 0,
    "start_time": "2024-08-25T02:32:29.841Z"
   },
   {
    "duration": 0,
    "start_time": "2024-08-25T02:32:29.843Z"
   },
   {
    "duration": 0,
    "start_time": "2024-08-25T02:32:29.845Z"
   },
   {
    "duration": 0,
    "start_time": "2024-08-25T02:32:29.902Z"
   },
   {
    "duration": 0,
    "start_time": "2024-08-25T02:32:29.904Z"
   },
   {
    "duration": 0,
    "start_time": "2024-08-25T02:32:29.906Z"
   },
   {
    "duration": 0,
    "start_time": "2024-08-25T02:32:29.909Z"
   },
   {
    "duration": 0,
    "start_time": "2024-08-25T02:32:29.911Z"
   },
   {
    "duration": 475,
    "start_time": "2024-08-25T02:33:43.703Z"
   },
   {
    "duration": 356,
    "start_time": "2024-08-25T02:33:44.183Z"
   },
   {
    "duration": 0,
    "start_time": "2024-08-25T02:33:44.544Z"
   },
   {
    "duration": 1,
    "start_time": "2024-08-25T02:33:44.546Z"
   },
   {
    "duration": 0,
    "start_time": "2024-08-25T02:33:44.549Z"
   },
   {
    "duration": 0,
    "start_time": "2024-08-25T02:33:44.551Z"
   },
   {
    "duration": 0,
    "start_time": "2024-08-25T02:33:44.554Z"
   },
   {
    "duration": 0,
    "start_time": "2024-08-25T02:33:44.556Z"
   },
   {
    "duration": 0,
    "start_time": "2024-08-25T02:33:44.559Z"
   },
   {
    "duration": 0,
    "start_time": "2024-08-25T02:33:44.562Z"
   },
   {
    "duration": 0,
    "start_time": "2024-08-25T02:33:44.563Z"
   },
   {
    "duration": 0,
    "start_time": "2024-08-25T02:33:44.565Z"
   },
   {
    "duration": 0,
    "start_time": "2024-08-25T02:33:44.566Z"
   },
   {
    "duration": 0,
    "start_time": "2024-08-25T02:33:44.567Z"
   },
   {
    "duration": 0,
    "start_time": "2024-08-25T02:33:44.601Z"
   },
   {
    "duration": 0,
    "start_time": "2024-08-25T02:33:44.603Z"
   },
   {
    "duration": 0,
    "start_time": "2024-08-25T02:33:44.604Z"
   },
   {
    "duration": 0,
    "start_time": "2024-08-25T02:33:44.607Z"
   },
   {
    "duration": 0,
    "start_time": "2024-08-25T02:33:44.608Z"
   },
   {
    "duration": 0,
    "start_time": "2024-08-25T02:33:44.611Z"
   },
   {
    "duration": 0,
    "start_time": "2024-08-25T02:33:44.613Z"
   },
   {
    "duration": 0,
    "start_time": "2024-08-25T02:33:44.615Z"
   },
   {
    "duration": 0,
    "start_time": "2024-08-25T02:33:44.616Z"
   },
   {
    "duration": 0,
    "start_time": "2024-08-25T02:33:44.618Z"
   },
   {
    "duration": 0,
    "start_time": "2024-08-25T02:33:44.620Z"
   },
   {
    "duration": 0,
    "start_time": "2024-08-25T02:33:44.622Z"
   },
   {
    "duration": 0,
    "start_time": "2024-08-25T02:33:44.624Z"
   },
   {
    "duration": 446,
    "start_time": "2024-08-25T02:34:06.829Z"
   },
   {
    "duration": 859,
    "start_time": "2024-08-25T02:34:07.278Z"
   },
   {
    "duration": 0,
    "start_time": "2024-08-25T02:34:08.142Z"
   },
   {
    "duration": 0,
    "start_time": "2024-08-25T02:34:08.144Z"
   },
   {
    "duration": 0,
    "start_time": "2024-08-25T02:34:08.146Z"
   },
   {
    "duration": 0,
    "start_time": "2024-08-25T02:34:08.149Z"
   },
   {
    "duration": 0,
    "start_time": "2024-08-25T02:34:08.151Z"
   },
   {
    "duration": 0,
    "start_time": "2024-08-25T02:34:08.153Z"
   },
   {
    "duration": 0,
    "start_time": "2024-08-25T02:34:08.156Z"
   },
   {
    "duration": 0,
    "start_time": "2024-08-25T02:34:08.157Z"
   },
   {
    "duration": 0,
    "start_time": "2024-08-25T02:34:08.159Z"
   },
   {
    "duration": 1,
    "start_time": "2024-08-25T02:34:08.161Z"
   },
   {
    "duration": 0,
    "start_time": "2024-08-25T02:34:08.163Z"
   },
   {
    "duration": 0,
    "start_time": "2024-08-25T02:34:08.165Z"
   },
   {
    "duration": 0,
    "start_time": "2024-08-25T02:34:08.166Z"
   },
   {
    "duration": 0,
    "start_time": "2024-08-25T02:34:08.207Z"
   },
   {
    "duration": 0,
    "start_time": "2024-08-25T02:34:08.208Z"
   },
   {
    "duration": 0,
    "start_time": "2024-08-25T02:34:08.210Z"
   },
   {
    "duration": 0,
    "start_time": "2024-08-25T02:34:08.211Z"
   },
   {
    "duration": 0,
    "start_time": "2024-08-25T02:34:08.214Z"
   },
   {
    "duration": 0,
    "start_time": "2024-08-25T02:34:08.216Z"
   },
   {
    "duration": 0,
    "start_time": "2024-08-25T02:34:08.218Z"
   },
   {
    "duration": 0,
    "start_time": "2024-08-25T02:34:08.222Z"
   },
   {
    "duration": 0,
    "start_time": "2024-08-25T02:34:08.224Z"
   },
   {
    "duration": 0,
    "start_time": "2024-08-25T02:34:08.227Z"
   },
   {
    "duration": 0,
    "start_time": "2024-08-25T02:34:08.230Z"
   },
   {
    "duration": 0,
    "start_time": "2024-08-25T02:34:08.231Z"
   },
   {
    "duration": 463,
    "start_time": "2024-08-25T02:39:00.580Z"
   },
   {
    "duration": 346,
    "start_time": "2024-08-25T02:39:01.046Z"
   },
   {
    "duration": 0,
    "start_time": "2024-08-25T02:39:01.402Z"
   },
   {
    "duration": 0,
    "start_time": "2024-08-25T02:39:01.404Z"
   },
   {
    "duration": 0,
    "start_time": "2024-08-25T02:39:01.406Z"
   },
   {
    "duration": 0,
    "start_time": "2024-08-25T02:39:01.409Z"
   },
   {
    "duration": 0,
    "start_time": "2024-08-25T02:39:01.411Z"
   },
   {
    "duration": 0,
    "start_time": "2024-08-25T02:39:01.414Z"
   },
   {
    "duration": 0,
    "start_time": "2024-08-25T02:39:01.416Z"
   },
   {
    "duration": 0,
    "start_time": "2024-08-25T02:39:01.418Z"
   },
   {
    "duration": 0,
    "start_time": "2024-08-25T02:39:01.420Z"
   },
   {
    "duration": 0,
    "start_time": "2024-08-25T02:39:01.422Z"
   },
   {
    "duration": 0,
    "start_time": "2024-08-25T02:39:01.425Z"
   },
   {
    "duration": 0,
    "start_time": "2024-08-25T02:39:01.428Z"
   },
   {
    "duration": 0,
    "start_time": "2024-08-25T02:39:01.430Z"
   },
   {
    "duration": 0,
    "start_time": "2024-08-25T02:39:01.432Z"
   },
   {
    "duration": 0,
    "start_time": "2024-08-25T02:39:01.434Z"
   },
   {
    "duration": 0,
    "start_time": "2024-08-25T02:39:01.437Z"
   },
   {
    "duration": 0,
    "start_time": "2024-08-25T02:39:01.439Z"
   },
   {
    "duration": 0,
    "start_time": "2024-08-25T02:39:01.442Z"
   },
   {
    "duration": 1,
    "start_time": "2024-08-25T02:39:01.501Z"
   },
   {
    "duration": 0,
    "start_time": "2024-08-25T02:39:01.503Z"
   },
   {
    "duration": 0,
    "start_time": "2024-08-25T02:39:01.506Z"
   },
   {
    "duration": 0,
    "start_time": "2024-08-25T02:39:01.507Z"
   },
   {
    "duration": 0,
    "start_time": "2024-08-25T02:39:01.510Z"
   },
   {
    "duration": 0,
    "start_time": "2024-08-25T02:39:01.513Z"
   },
   {
    "duration": 0,
    "start_time": "2024-08-25T02:39:01.515Z"
   },
   {
    "duration": 453,
    "start_time": "2024-08-25T02:40:58.977Z"
   },
   {
    "duration": 2046,
    "start_time": "2024-08-25T02:40:59.437Z"
   },
   {
    "duration": 18,
    "start_time": "2024-08-25T02:41:01.486Z"
   },
   {
    "duration": 8,
    "start_time": "2024-08-25T02:41:01.507Z"
   },
   {
    "duration": 88,
    "start_time": "2024-08-25T02:41:01.520Z"
   },
   {
    "duration": 6,
    "start_time": "2024-08-25T02:41:01.610Z"
   },
   {
    "duration": 0,
    "start_time": "2024-08-25T02:41:01.620Z"
   },
   {
    "duration": 0,
    "start_time": "2024-08-25T02:41:01.622Z"
   },
   {
    "duration": 0,
    "start_time": "2024-08-25T02:41:01.624Z"
   },
   {
    "duration": 0,
    "start_time": "2024-08-25T02:41:01.626Z"
   },
   {
    "duration": 0,
    "start_time": "2024-08-25T02:41:01.628Z"
   },
   {
    "duration": 0,
    "start_time": "2024-08-25T02:41:01.629Z"
   },
   {
    "duration": 0,
    "start_time": "2024-08-25T02:41:01.631Z"
   },
   {
    "duration": 0,
    "start_time": "2024-08-25T02:41:01.633Z"
   },
   {
    "duration": 0,
    "start_time": "2024-08-25T02:41:01.637Z"
   },
   {
    "duration": 0,
    "start_time": "2024-08-25T02:41:01.638Z"
   },
   {
    "duration": 0,
    "start_time": "2024-08-25T02:41:01.640Z"
   },
   {
    "duration": 0,
    "start_time": "2024-08-25T02:41:01.643Z"
   },
   {
    "duration": 0,
    "start_time": "2024-08-25T02:41:01.644Z"
   },
   {
    "duration": 0,
    "start_time": "2024-08-25T02:41:01.646Z"
   },
   {
    "duration": 0,
    "start_time": "2024-08-25T02:41:01.648Z"
   },
   {
    "duration": 0,
    "start_time": "2024-08-25T02:41:01.650Z"
   },
   {
    "duration": 0,
    "start_time": "2024-08-25T02:41:01.651Z"
   },
   {
    "duration": 0,
    "start_time": "2024-08-25T02:41:01.652Z"
   },
   {
    "duration": 0,
    "start_time": "2024-08-25T02:41:01.701Z"
   },
   {
    "duration": 0,
    "start_time": "2024-08-25T02:41:01.709Z"
   },
   {
    "duration": 0,
    "start_time": "2024-08-25T02:41:01.712Z"
   },
   {
    "duration": 423,
    "start_time": "2024-08-25T02:42:20.767Z"
   },
   {
    "duration": 4764,
    "start_time": "2024-08-25T02:42:21.193Z"
   },
   {
    "duration": 18,
    "start_time": "2024-08-25T02:42:25.960Z"
   },
   {
    "duration": 18,
    "start_time": "2024-08-25T02:42:25.985Z"
   },
   {
    "duration": 73,
    "start_time": "2024-08-25T02:42:26.012Z"
   },
   {
    "duration": 19,
    "start_time": "2024-08-25T02:42:26.088Z"
   },
   {
    "duration": 0,
    "start_time": "2024-08-25T02:42:26.111Z"
   },
   {
    "duration": 0,
    "start_time": "2024-08-25T02:42:26.114Z"
   },
   {
    "duration": 0,
    "start_time": "2024-08-25T02:42:26.116Z"
   },
   {
    "duration": 0,
    "start_time": "2024-08-25T02:42:26.119Z"
   },
   {
    "duration": 0,
    "start_time": "2024-08-25T02:42:26.121Z"
   },
   {
    "duration": 1,
    "start_time": "2024-08-25T02:42:26.123Z"
   },
   {
    "duration": 0,
    "start_time": "2024-08-25T02:42:26.126Z"
   },
   {
    "duration": 0,
    "start_time": "2024-08-25T02:42:26.129Z"
   },
   {
    "duration": 0,
    "start_time": "2024-08-25T02:42:26.131Z"
   },
   {
    "duration": 0,
    "start_time": "2024-08-25T02:42:26.134Z"
   },
   {
    "duration": 0,
    "start_time": "2024-08-25T02:42:26.136Z"
   },
   {
    "duration": 0,
    "start_time": "2024-08-25T02:42:26.140Z"
   },
   {
    "duration": 0,
    "start_time": "2024-08-25T02:42:26.143Z"
   },
   {
    "duration": 1,
    "start_time": "2024-08-25T02:42:26.145Z"
   },
   {
    "duration": 0,
    "start_time": "2024-08-25T02:42:26.202Z"
   },
   {
    "duration": 0,
    "start_time": "2024-08-25T02:42:26.203Z"
   },
   {
    "duration": 0,
    "start_time": "2024-08-25T02:42:26.213Z"
   },
   {
    "duration": 0,
    "start_time": "2024-08-25T02:42:26.215Z"
   },
   {
    "duration": 0,
    "start_time": "2024-08-25T02:42:26.220Z"
   },
   {
    "duration": 0,
    "start_time": "2024-08-25T02:42:26.222Z"
   },
   {
    "duration": 0,
    "start_time": "2024-08-25T02:42:26.224Z"
   },
   {
    "duration": 443,
    "start_time": "2024-08-25T02:42:50.334Z"
   },
   {
    "duration": 4685,
    "start_time": "2024-08-25T02:42:50.780Z"
   },
   {
    "duration": 8,
    "start_time": "2024-08-25T02:42:55.468Z"
   },
   {
    "duration": 24,
    "start_time": "2024-08-25T02:42:55.481Z"
   },
   {
    "duration": 71,
    "start_time": "2024-08-25T02:42:55.507Z"
   },
   {
    "duration": 360,
    "start_time": "2024-08-25T02:42:55.581Z"
   },
   {
    "duration": 0,
    "start_time": "2024-08-25T02:42:55.947Z"
   },
   {
    "duration": 0,
    "start_time": "2024-08-25T02:42:55.949Z"
   },
   {
    "duration": 0,
    "start_time": "2024-08-25T02:42:55.950Z"
   },
   {
    "duration": 0,
    "start_time": "2024-08-25T02:42:55.954Z"
   },
   {
    "duration": 0,
    "start_time": "2024-08-25T02:42:55.957Z"
   },
   {
    "duration": 0,
    "start_time": "2024-08-25T02:42:55.959Z"
   },
   {
    "duration": 0,
    "start_time": "2024-08-25T02:42:55.961Z"
   },
   {
    "duration": 0,
    "start_time": "2024-08-25T02:42:55.966Z"
   },
   {
    "duration": 0,
    "start_time": "2024-08-25T02:42:55.968Z"
   },
   {
    "duration": 0,
    "start_time": "2024-08-25T02:42:55.970Z"
   },
   {
    "duration": 0,
    "start_time": "2024-08-25T02:42:55.972Z"
   },
   {
    "duration": 0,
    "start_time": "2024-08-25T02:42:55.974Z"
   },
   {
    "duration": 0,
    "start_time": "2024-08-25T02:42:56.003Z"
   },
   {
    "duration": 0,
    "start_time": "2024-08-25T02:42:56.005Z"
   },
   {
    "duration": 0,
    "start_time": "2024-08-25T02:42:56.007Z"
   },
   {
    "duration": 0,
    "start_time": "2024-08-25T02:42:56.009Z"
   },
   {
    "duration": 0,
    "start_time": "2024-08-25T02:42:56.012Z"
   },
   {
    "duration": 0,
    "start_time": "2024-08-25T02:42:56.014Z"
   },
   {
    "duration": 0,
    "start_time": "2024-08-25T02:42:56.016Z"
   },
   {
    "duration": 0,
    "start_time": "2024-08-25T02:42:56.019Z"
   },
   {
    "duration": 0,
    "start_time": "2024-08-25T02:42:56.021Z"
   },
   {
    "duration": 467,
    "start_time": "2024-08-25T02:43:19.613Z"
   },
   {
    "duration": 4522,
    "start_time": "2024-08-25T02:43:20.084Z"
   },
   {
    "duration": 7,
    "start_time": "2024-08-25T02:43:24.609Z"
   },
   {
    "duration": 8,
    "start_time": "2024-08-25T02:43:24.619Z"
   },
   {
    "duration": 96,
    "start_time": "2024-08-25T02:43:24.631Z"
   },
   {
    "duration": 809,
    "start_time": "2024-08-25T02:43:24.729Z"
   },
   {
    "duration": 14,
    "start_time": "2024-08-25T02:43:25.542Z"
   },
   {
    "duration": 688,
    "start_time": "2024-08-25T02:43:25.559Z"
   },
   {
    "duration": 4,
    "start_time": "2024-08-25T02:43:26.252Z"
   },
   {
    "duration": 4,
    "start_time": "2024-08-25T02:43:26.261Z"
   },
   {
    "duration": 3,
    "start_time": "2024-08-25T02:43:26.269Z"
   },
   {
    "duration": 6,
    "start_time": "2024-08-25T02:43:26.313Z"
   },
   {
    "duration": 4,
    "start_time": "2024-08-25T02:43:26.323Z"
   },
   {
    "duration": 4,
    "start_time": "2024-08-25T02:43:26.336Z"
   },
   {
    "duration": 4,
    "start_time": "2024-08-25T02:43:26.344Z"
   },
   {
    "duration": 4,
    "start_time": "2024-08-25T02:43:26.352Z"
   },
   {
    "duration": 44,
    "start_time": "2024-08-25T02:43:26.360Z"
   },
   {
    "duration": 8,
    "start_time": "2024-08-25T02:43:26.410Z"
   },
   {
    "duration": 3,
    "start_time": "2024-08-25T02:43:26.422Z"
   },
   {
    "duration": 4,
    "start_time": "2024-08-25T02:43:26.428Z"
   },
   {
    "duration": 5,
    "start_time": "2024-08-25T02:43:26.435Z"
   },
   {
    "duration": 4,
    "start_time": "2024-08-25T02:43:26.444Z"
   },
   {
    "duration": 3,
    "start_time": "2024-08-25T02:43:26.451Z"
   },
   {
    "duration": 45,
    "start_time": "2024-08-25T02:43:26.457Z"
   },
   {
    "duration": 4,
    "start_time": "2024-08-25T02:43:26.505Z"
   },
   {
    "duration": 3,
    "start_time": "2024-08-25T02:43:26.513Z"
   },
   {
    "duration": 4,
    "start_time": "2024-08-25T02:43:26.519Z"
   },
   {
    "duration": 422,
    "start_time": "2024-08-25T02:44:07.339Z"
   },
   {
    "duration": 1383,
    "start_time": "2024-08-25T02:44:07.765Z"
   },
   {
    "duration": 7,
    "start_time": "2024-08-25T02:44:09.151Z"
   },
   {
    "duration": 7,
    "start_time": "2024-08-25T02:44:09.161Z"
   },
   {
    "duration": 91,
    "start_time": "2024-08-25T02:44:09.172Z"
   },
   {
    "duration": 700,
    "start_time": "2024-08-25T02:44:09.266Z"
   },
   {
    "duration": 14,
    "start_time": "2024-08-25T02:44:09.969Z"
   },
   {
    "duration": 526,
    "start_time": "2024-08-25T02:44:09.986Z"
   },
   {
    "duration": 3,
    "start_time": "2024-08-25T02:44:10.515Z"
   },
   {
    "duration": 4,
    "start_time": "2024-08-25T02:44:10.521Z"
   },
   {
    "duration": 5,
    "start_time": "2024-08-25T02:44:10.527Z"
   },
   {
    "duration": 4,
    "start_time": "2024-08-25T02:44:10.535Z"
   },
   {
    "duration": 3,
    "start_time": "2024-08-25T02:44:10.543Z"
   },
   {
    "duration": 3,
    "start_time": "2024-08-25T02:44:10.552Z"
   },
   {
    "duration": 11,
    "start_time": "2024-08-25T02:44:10.603Z"
   },
   {
    "duration": 5,
    "start_time": "2024-08-25T02:44:10.620Z"
   },
   {
    "duration": 4,
    "start_time": "2024-08-25T02:44:10.629Z"
   },
   {
    "duration": 4,
    "start_time": "2024-08-25T02:44:10.635Z"
   },
   {
    "duration": 5,
    "start_time": "2024-08-25T02:44:10.643Z"
   },
   {
    "duration": 5,
    "start_time": "2024-08-25T02:44:10.651Z"
   },
   {
    "duration": 43,
    "start_time": "2024-08-25T02:44:10.659Z"
   },
   {
    "duration": 4,
    "start_time": "2024-08-25T02:44:10.706Z"
   },
   {
    "duration": 4,
    "start_time": "2024-08-25T02:44:10.713Z"
   },
   {
    "duration": 4,
    "start_time": "2024-08-25T02:44:10.719Z"
   },
   {
    "duration": 4,
    "start_time": "2024-08-25T02:44:10.727Z"
   },
   {
    "duration": 3,
    "start_time": "2024-08-25T02:44:10.734Z"
   },
   {
    "duration": 4,
    "start_time": "2024-08-25T02:44:10.739Z"
   },
   {
    "duration": 8,
    "start_time": "2024-08-25T02:45:29.646Z"
   },
   {
    "duration": 9,
    "start_time": "2024-08-25T02:45:41.172Z"
   },
   {
    "duration": 7,
    "start_time": "2024-08-25T02:45:45.189Z"
   },
   {
    "duration": 6,
    "start_time": "2024-08-25T02:46:09.625Z"
   },
   {
    "duration": 462,
    "start_time": "2024-08-25T02:46:26.281Z"
   },
   {
    "duration": 1414,
    "start_time": "2024-08-25T02:46:26.747Z"
   },
   {
    "duration": 8,
    "start_time": "2024-08-25T02:46:28.164Z"
   },
   {
    "duration": 26,
    "start_time": "2024-08-25T02:46:28.177Z"
   },
   {
    "duration": 57,
    "start_time": "2024-08-25T02:46:28.207Z"
   },
   {
    "duration": 709,
    "start_time": "2024-08-25T02:46:28.267Z"
   },
   {
    "duration": 24,
    "start_time": "2024-08-25T02:46:28.979Z"
   },
   {
    "duration": 522,
    "start_time": "2024-08-25T02:46:29.005Z"
   },
   {
    "duration": 4,
    "start_time": "2024-08-25T02:46:29.530Z"
   },
   {
    "duration": 3,
    "start_time": "2024-08-25T02:46:29.541Z"
   },
   {
    "duration": 3,
    "start_time": "2024-08-25T02:46:29.548Z"
   },
   {
    "duration": 4,
    "start_time": "2024-08-25T02:46:29.554Z"
   },
   {
    "duration": 42,
    "start_time": "2024-08-25T02:46:29.561Z"
   },
   {
    "duration": 4,
    "start_time": "2024-08-25T02:46:29.607Z"
   },
   {
    "duration": 6,
    "start_time": "2024-08-25T02:46:29.615Z"
   },
   {
    "duration": 3,
    "start_time": "2024-08-25T02:46:29.624Z"
   },
   {
    "duration": 4,
    "start_time": "2024-08-25T02:46:29.631Z"
   },
   {
    "duration": 3,
    "start_time": "2024-08-25T02:46:29.639Z"
   },
   {
    "duration": 6,
    "start_time": "2024-08-25T02:46:29.645Z"
   },
   {
    "duration": 4,
    "start_time": "2024-08-25T02:46:29.702Z"
   },
   {
    "duration": 3,
    "start_time": "2024-08-25T02:46:29.710Z"
   },
   {
    "duration": 4,
    "start_time": "2024-08-25T02:46:29.716Z"
   },
   {
    "duration": 4,
    "start_time": "2024-08-25T02:46:29.723Z"
   },
   {
    "duration": 4,
    "start_time": "2024-08-25T02:46:29.730Z"
   },
   {
    "duration": 3,
    "start_time": "2024-08-25T02:46:29.737Z"
   },
   {
    "duration": 58,
    "start_time": "2024-08-25T02:46:29.744Z"
   },
   {
    "duration": 3,
    "start_time": "2024-08-25T02:46:29.806Z"
   },
   {
    "duration": 9,
    "start_time": "2024-08-25T02:46:39.541Z"
   },
   {
    "duration": 11,
    "start_time": "2024-08-25T02:47:03.771Z"
   },
   {
    "duration": 340,
    "start_time": "2024-08-25T02:52:43.203Z"
   },
   {
    "duration": 469,
    "start_time": "2024-08-25T02:53:43.503Z"
   },
   {
    "duration": 1421,
    "start_time": "2024-08-25T02:53:43.977Z"
   },
   {
    "duration": 8,
    "start_time": "2024-08-25T02:53:45.402Z"
   },
   {
    "duration": 7,
    "start_time": "2024-08-25T02:53:45.413Z"
   },
   {
    "duration": 52,
    "start_time": "2024-08-25T02:53:45.424Z"
   },
   {
    "duration": 227,
    "start_time": "2024-08-25T02:53:45.503Z"
   },
   {
    "duration": 364,
    "start_time": "2024-08-25T02:53:45.733Z"
   },
   {
    "duration": 0,
    "start_time": "2024-08-25T02:53:46.106Z"
   },
   {
    "duration": 0,
    "start_time": "2024-08-25T02:53:46.110Z"
   },
   {
    "duration": 0,
    "start_time": "2024-08-25T02:53:46.113Z"
   },
   {
    "duration": 0,
    "start_time": "2024-08-25T02:53:46.115Z"
   },
   {
    "duration": 1,
    "start_time": "2024-08-25T02:53:46.118Z"
   },
   {
    "duration": 0,
    "start_time": "2024-08-25T02:53:46.121Z"
   },
   {
    "duration": 0,
    "start_time": "2024-08-25T02:53:46.123Z"
   },
   {
    "duration": 0,
    "start_time": "2024-08-25T02:53:46.125Z"
   },
   {
    "duration": 0,
    "start_time": "2024-08-25T02:53:46.126Z"
   },
   {
    "duration": 0,
    "start_time": "2024-08-25T02:53:46.128Z"
   },
   {
    "duration": 0,
    "start_time": "2024-08-25T02:53:46.133Z"
   },
   {
    "duration": 0,
    "start_time": "2024-08-25T02:53:46.135Z"
   },
   {
    "duration": 0,
    "start_time": "2024-08-25T02:53:46.137Z"
   },
   {
    "duration": 0,
    "start_time": "2024-08-25T02:53:46.138Z"
   },
   {
    "duration": 0,
    "start_time": "2024-08-25T02:53:46.141Z"
   },
   {
    "duration": 0,
    "start_time": "2024-08-25T02:53:46.143Z"
   },
   {
    "duration": 0,
    "start_time": "2024-08-25T02:53:46.146Z"
   },
   {
    "duration": 0,
    "start_time": "2024-08-25T02:53:46.202Z"
   },
   {
    "duration": 0,
    "start_time": "2024-08-25T02:53:46.209Z"
   },
   {
    "duration": 0,
    "start_time": "2024-08-25T02:53:46.212Z"
   },
   {
    "duration": 425,
    "start_time": "2024-08-25T02:54:03.650Z"
   },
   {
    "duration": 1409,
    "start_time": "2024-08-25T02:54:04.079Z"
   },
   {
    "duration": 16,
    "start_time": "2024-08-25T02:54:05.491Z"
   },
   {
    "duration": 7,
    "start_time": "2024-08-25T02:54:05.512Z"
   },
   {
    "duration": 51,
    "start_time": "2024-08-25T02:54:05.522Z"
   },
   {
    "duration": 247,
    "start_time": "2024-08-25T02:54:05.576Z"
   },
   {
    "duration": 13,
    "start_time": "2024-08-25T02:54:05.825Z"
   },
   {
    "duration": 217,
    "start_time": "2024-08-25T02:54:05.841Z"
   },
   {
    "duration": 347,
    "start_time": "2024-08-25T02:54:06.061Z"
   },
   {
    "duration": 0,
    "start_time": "2024-08-25T02:54:06.413Z"
   },
   {
    "duration": 0,
    "start_time": "2024-08-25T02:54:06.418Z"
   },
   {
    "duration": 0,
    "start_time": "2024-08-25T02:54:06.421Z"
   },
   {
    "duration": 0,
    "start_time": "2024-08-25T02:54:06.423Z"
   },
   {
    "duration": 0,
    "start_time": "2024-08-25T02:54:06.425Z"
   },
   {
    "duration": 0,
    "start_time": "2024-08-25T02:54:06.428Z"
   },
   {
    "duration": 0,
    "start_time": "2024-08-25T02:54:06.430Z"
   },
   {
    "duration": 0,
    "start_time": "2024-08-25T02:54:06.432Z"
   },
   {
    "duration": 0,
    "start_time": "2024-08-25T02:54:06.434Z"
   },
   {
    "duration": 0,
    "start_time": "2024-08-25T02:54:06.435Z"
   },
   {
    "duration": 0,
    "start_time": "2024-08-25T02:54:06.437Z"
   },
   {
    "duration": 0,
    "start_time": "2024-08-25T02:54:06.438Z"
   },
   {
    "duration": 0,
    "start_time": "2024-08-25T02:54:06.440Z"
   },
   {
    "duration": 0,
    "start_time": "2024-08-25T02:54:06.441Z"
   },
   {
    "duration": 0,
    "start_time": "2024-08-25T02:54:06.442Z"
   },
   {
    "duration": 0,
    "start_time": "2024-08-25T02:54:06.444Z"
   },
   {
    "duration": 0,
    "start_time": "2024-08-25T02:54:06.445Z"
   },
   {
    "duration": 0,
    "start_time": "2024-08-25T02:54:06.446Z"
   },
   {
    "duration": 18,
    "start_time": "2024-08-25T02:54:38.485Z"
   },
   {
    "duration": 24,
    "start_time": "2024-08-25T02:56:50.900Z"
   },
   {
    "duration": 18,
    "start_time": "2024-08-25T03:00:01.753Z"
   },
   {
    "duration": 462,
    "start_time": "2024-08-25T14:00:21.604Z"
   },
   {
    "duration": 1449,
    "start_time": "2024-08-25T14:00:22.070Z"
   },
   {
    "duration": 10,
    "start_time": "2024-08-25T14:00:23.523Z"
   },
   {
    "duration": 9,
    "start_time": "2024-08-25T14:00:23.535Z"
   },
   {
    "duration": 71,
    "start_time": "2024-08-25T14:00:23.548Z"
   },
   {
    "duration": 252,
    "start_time": "2024-08-25T14:00:23.622Z"
   },
   {
    "duration": 12,
    "start_time": "2024-08-25T14:00:23.877Z"
   },
   {
    "duration": 187,
    "start_time": "2024-08-25T14:00:23.893Z"
   },
   {
    "duration": 15,
    "start_time": "2024-08-25T14:00:24.082Z"
   },
   {
    "duration": 156,
    "start_time": "2024-08-25T14:00:24.099Z"
   },
   {
    "duration": 0,
    "start_time": "2024-08-25T14:00:24.260Z"
   },
   {
    "duration": 0,
    "start_time": "2024-08-25T14:00:24.262Z"
   },
   {
    "duration": 0,
    "start_time": "2024-08-25T14:00:24.265Z"
   },
   {
    "duration": 0,
    "start_time": "2024-08-25T14:00:24.267Z"
   },
   {
    "duration": 0,
    "start_time": "2024-08-25T14:00:24.269Z"
   },
   {
    "duration": 0,
    "start_time": "2024-08-25T14:00:24.272Z"
   },
   {
    "duration": 0,
    "start_time": "2024-08-25T14:00:24.275Z"
   },
   {
    "duration": 0,
    "start_time": "2024-08-25T14:00:24.276Z"
   },
   {
    "duration": 0,
    "start_time": "2024-08-25T14:00:24.279Z"
   },
   {
    "duration": 0,
    "start_time": "2024-08-25T14:00:24.281Z"
   },
   {
    "duration": 0,
    "start_time": "2024-08-25T14:00:24.284Z"
   },
   {
    "duration": 1,
    "start_time": "2024-08-25T14:00:24.324Z"
   },
   {
    "duration": 0,
    "start_time": "2024-08-25T14:00:24.327Z"
   },
   {
    "duration": 0,
    "start_time": "2024-08-25T14:00:24.328Z"
   },
   {
    "duration": 0,
    "start_time": "2024-08-25T14:00:24.330Z"
   },
   {
    "duration": 0,
    "start_time": "2024-08-25T14:00:24.333Z"
   },
   {
    "duration": 0,
    "start_time": "2024-08-25T14:00:24.336Z"
   },
   {
    "duration": 446,
    "start_time": "2024-08-25T14:01:29.194Z"
   },
   {
    "duration": 1426,
    "start_time": "2024-08-25T14:01:29.644Z"
   },
   {
    "duration": 8,
    "start_time": "2024-08-25T14:01:31.073Z"
   },
   {
    "duration": 7,
    "start_time": "2024-08-25T14:01:31.086Z"
   },
   {
    "duration": 83,
    "start_time": "2024-08-25T14:01:31.096Z"
   },
   {
    "duration": 222,
    "start_time": "2024-08-25T14:01:31.183Z"
   },
   {
    "duration": 15,
    "start_time": "2024-08-25T14:01:31.408Z"
   },
   {
    "duration": 197,
    "start_time": "2024-08-25T14:01:31.426Z"
   },
   {
    "duration": 13,
    "start_time": "2024-08-25T14:01:31.626Z"
   },
   {
    "duration": 141,
    "start_time": "2024-08-25T14:01:31.645Z"
   },
   {
    "duration": 4,
    "start_time": "2024-08-25T14:01:31.789Z"
   },
   {
    "duration": 5,
    "start_time": "2024-08-25T14:01:31.795Z"
   },
   {
    "duration": 21,
    "start_time": "2024-08-25T14:01:31.802Z"
   },
   {
    "duration": 4,
    "start_time": "2024-08-25T14:01:31.826Z"
   },
   {
    "duration": 4,
    "start_time": "2024-08-25T14:01:31.832Z"
   },
   {
    "duration": 5,
    "start_time": "2024-08-25T14:01:31.839Z"
   },
   {
    "duration": 3,
    "start_time": "2024-08-25T14:01:31.848Z"
   },
   {
    "duration": 4,
    "start_time": "2024-08-25T14:01:31.854Z"
   },
   {
    "duration": 4,
    "start_time": "2024-08-25T14:01:31.861Z"
   },
   {
    "duration": 3,
    "start_time": "2024-08-25T14:01:31.923Z"
   },
   {
    "duration": 4,
    "start_time": "2024-08-25T14:01:31.929Z"
   },
   {
    "duration": 4,
    "start_time": "2024-08-25T14:01:31.936Z"
   },
   {
    "duration": 5,
    "start_time": "2024-08-25T14:01:31.943Z"
   },
   {
    "duration": 4,
    "start_time": "2024-08-25T14:01:31.951Z"
   },
   {
    "duration": 4,
    "start_time": "2024-08-25T14:01:31.958Z"
   },
   {
    "duration": 4,
    "start_time": "2024-08-25T14:01:31.965Z"
   },
   {
    "duration": 54,
    "start_time": "2024-08-25T14:01:31.971Z"
   },
   {
    "duration": 430,
    "start_time": "2024-08-25T14:04:06.893Z"
   },
   {
    "duration": 1369,
    "start_time": "2024-08-25T14:04:07.327Z"
   },
   {
    "duration": 8,
    "start_time": "2024-08-25T14:04:08.700Z"
   },
   {
    "duration": 7,
    "start_time": "2024-08-25T14:04:08.722Z"
   },
   {
    "duration": 51,
    "start_time": "2024-08-25T14:04:08.732Z"
   },
   {
    "duration": 233,
    "start_time": "2024-08-25T14:04:08.786Z"
   },
   {
    "duration": 12,
    "start_time": "2024-08-25T14:04:09.024Z"
   },
   {
    "duration": 205,
    "start_time": "2024-08-25T14:04:09.039Z"
   },
   {
    "duration": 15,
    "start_time": "2024-08-25T14:04:09.246Z"
   },
   {
    "duration": 147,
    "start_time": "2024-08-25T14:04:09.269Z"
   },
   {
    "duration": 197,
    "start_time": "2024-08-25T14:04:09.418Z"
   },
   {
    "duration": 122,
    "start_time": "2024-08-25T14:04:09.618Z"
   },
   {
    "duration": 5,
    "start_time": "2024-08-25T14:04:09.744Z"
   },
   {
    "duration": 4,
    "start_time": "2024-08-25T14:04:09.752Z"
   },
   {
    "duration": 3,
    "start_time": "2024-08-25T14:04:09.760Z"
   },
   {
    "duration": 4,
    "start_time": "2024-08-25T14:04:09.766Z"
   },
   {
    "duration": 49,
    "start_time": "2024-08-25T14:04:09.773Z"
   },
   {
    "duration": 6,
    "start_time": "2024-08-25T14:04:09.826Z"
   },
   {
    "duration": 5,
    "start_time": "2024-08-25T14:04:09.837Z"
   },
   {
    "duration": 3,
    "start_time": "2024-08-25T14:04:09.845Z"
   },
   {
    "duration": 3,
    "start_time": "2024-08-25T14:04:09.853Z"
   },
   {
    "duration": 4,
    "start_time": "2024-08-25T14:04:09.859Z"
   },
   {
    "duration": 3,
    "start_time": "2024-08-25T14:04:09.866Z"
   },
   {
    "duration": 5,
    "start_time": "2024-08-25T14:04:09.925Z"
   },
   {
    "duration": 4,
    "start_time": "2024-08-25T14:04:09.935Z"
   },
   {
    "duration": 4,
    "start_time": "2024-08-25T14:04:09.942Z"
   },
   {
    "duration": 3,
    "start_time": "2024-08-25T14:04:09.950Z"
   },
   {
    "duration": 32,
    "start_time": "2024-08-25T14:20:25.559Z"
   },
   {
    "duration": 730,
    "start_time": "2024-08-25T14:20:31.851Z"
   },
   {
    "duration": 23,
    "start_time": "2024-08-25T14:21:07.984Z"
   },
   {
    "duration": 446,
    "start_time": "2024-08-25T14:21:23.436Z"
   },
   {
    "duration": 302,
    "start_time": "2024-08-25T15:37:19.661Z"
   },
   {
    "duration": 465,
    "start_time": "2024-08-25T15:37:32.317Z"
   },
   {
    "duration": 1480,
    "start_time": "2024-08-25T15:37:35.393Z"
   },
   {
    "duration": 436,
    "start_time": "2024-08-25T15:37:42.304Z"
   },
   {
    "duration": 1408,
    "start_time": "2024-08-25T15:37:42.743Z"
   },
   {
    "duration": 13,
    "start_time": "2024-08-25T15:37:44.157Z"
   },
   {
    "duration": 9,
    "start_time": "2024-08-25T15:37:44.178Z"
   },
   {
    "duration": 50,
    "start_time": "2024-08-25T15:37:44.190Z"
   },
   {
    "duration": 9,
    "start_time": "2024-08-25T15:37:44.244Z"
   },
   {
    "duration": 14,
    "start_time": "2024-08-25T15:37:44.256Z"
   },
   {
    "duration": 87,
    "start_time": "2024-08-25T15:37:44.273Z"
   },
   {
    "duration": 16,
    "start_time": "2024-08-25T15:37:44.362Z"
   },
   {
    "duration": 256,
    "start_time": "2024-08-25T15:37:44.381Z"
   },
   {
    "duration": 11,
    "start_time": "2024-08-25T15:37:44.640Z"
   },
   {
    "duration": 205,
    "start_time": "2024-08-25T15:37:44.657Z"
   },
   {
    "duration": 16,
    "start_time": "2024-08-25T15:37:44.865Z"
   },
   {
    "duration": 143,
    "start_time": "2024-08-25T15:37:44.884Z"
   },
   {
    "duration": 197,
    "start_time": "2024-08-25T15:37:45.033Z"
   },
   {
    "duration": 112,
    "start_time": "2024-08-25T15:37:45.233Z"
   },
   {
    "duration": 33,
    "start_time": "2024-08-25T15:37:45.348Z"
   },
   {
    "duration": 1153,
    "start_time": "2024-08-25T15:37:45.384Z"
   },
   {
    "duration": 0,
    "start_time": "2024-08-25T15:37:46.540Z"
   },
   {
    "duration": 0,
    "start_time": "2024-08-25T15:37:46.542Z"
   },
   {
    "duration": 0,
    "start_time": "2024-08-25T15:37:46.545Z"
   },
   {
    "duration": 0,
    "start_time": "2024-08-25T15:37:46.546Z"
   },
   {
    "duration": 1,
    "start_time": "2024-08-25T15:37:46.548Z"
   },
   {
    "duration": 0,
    "start_time": "2024-08-25T15:37:46.551Z"
   },
   {
    "duration": 0,
    "start_time": "2024-08-25T15:37:46.553Z"
   },
   {
    "duration": 0,
    "start_time": "2024-08-25T15:37:46.555Z"
   },
   {
    "duration": 0,
    "start_time": "2024-08-25T15:37:46.557Z"
   },
   {
    "duration": 0,
    "start_time": "2024-08-25T15:37:46.559Z"
   },
   {
    "duration": 0,
    "start_time": "2024-08-25T15:37:46.561Z"
   },
   {
    "duration": 1,
    "start_time": "2024-08-25T15:37:46.563Z"
   },
   {
    "duration": 0,
    "start_time": "2024-08-25T15:37:46.566Z"
   },
   {
    "duration": 29,
    "start_time": "2024-08-25T15:42:59.052Z"
   },
   {
    "duration": 15,
    "start_time": "2024-08-25T15:43:34.311Z"
   },
   {
    "duration": 82,
    "start_time": "2024-08-25T15:43:42.350Z"
   },
   {
    "duration": 7,
    "start_time": "2024-08-25T15:44:12.177Z"
   },
   {
    "duration": 5,
    "start_time": "2024-08-25T15:44:53.630Z"
   },
   {
    "duration": 6,
    "start_time": "2024-08-25T15:45:23.302Z"
   },
   {
    "duration": 5,
    "start_time": "2024-08-25T15:46:11.700Z"
   },
   {
    "duration": 5,
    "start_time": "2024-08-25T15:47:51.122Z"
   },
   {
    "duration": 23,
    "start_time": "2024-08-25T15:47:58.168Z"
   },
   {
    "duration": 5,
    "start_time": "2024-08-25T15:48:20.077Z"
   },
   {
    "duration": 21,
    "start_time": "2024-08-25T15:48:28.747Z"
   },
   {
    "duration": 25,
    "start_time": "2024-08-25T15:48:37.826Z"
   },
   {
    "duration": 20,
    "start_time": "2024-08-25T15:49:11.013Z"
   },
   {
    "duration": 21,
    "start_time": "2024-08-25T15:49:23.320Z"
   },
   {
    "duration": 22,
    "start_time": "2024-08-25T15:50:00.622Z"
   },
   {
    "duration": 161,
    "start_time": "2024-08-27T09:40:25.999Z"
   },
   {
    "duration": 11,
    "start_time": "2024-08-27T09:41:28.291Z"
   },
   {
    "duration": 11,
    "start_time": "2024-08-27T09:41:46.881Z"
   },
   {
    "duration": 12,
    "start_time": "2024-08-27T09:44:17.193Z"
   },
   {
    "duration": 326,
    "start_time": "2024-08-27T09:44:25.063Z"
   },
   {
    "duration": 861,
    "start_time": "2024-08-27T09:44:25.392Z"
   },
   {
    "duration": 8,
    "start_time": "2024-08-27T09:44:26.255Z"
   },
   {
    "duration": 7,
    "start_time": "2024-08-27T09:44:26.265Z"
   },
   {
    "duration": 7,
    "start_time": "2024-08-27T09:44:26.274Z"
   },
   {
    "duration": 8,
    "start_time": "2024-08-27T09:44:26.282Z"
   },
   {
    "duration": 8,
    "start_time": "2024-08-27T09:44:26.292Z"
   },
   {
    "duration": 66,
    "start_time": "2024-08-27T09:44:26.302Z"
   },
   {
    "duration": 10,
    "start_time": "2024-08-27T09:44:26.369Z"
   },
   {
    "duration": 178,
    "start_time": "2024-08-27T09:44:26.382Z"
   },
   {
    "duration": 7,
    "start_time": "2024-08-27T09:44:26.561Z"
   },
   {
    "duration": 100,
    "start_time": "2024-08-27T09:44:26.570Z"
   },
   {
    "duration": 8,
    "start_time": "2024-08-27T09:44:26.672Z"
   },
   {
    "duration": 73,
    "start_time": "2024-08-27T09:44:26.682Z"
   },
   {
    "duration": 107,
    "start_time": "2024-08-27T09:44:26.757Z"
   },
   {
    "duration": 54,
    "start_time": "2024-08-27T09:44:26.866Z"
   },
   {
    "duration": 31,
    "start_time": "2024-08-27T09:44:26.922Z"
   },
   {
    "duration": 10,
    "start_time": "2024-08-27T09:44:26.956Z"
   },
   {
    "duration": 4,
    "start_time": "2024-08-27T09:44:26.967Z"
   },
   {
    "duration": 13,
    "start_time": "2024-08-27T09:44:26.972Z"
   },
   {
    "duration": 201,
    "start_time": "2024-08-27T09:44:26.986Z"
   },
   {
    "duration": 0,
    "start_time": "2024-08-27T09:44:27.189Z"
   },
   {
    "duration": 0,
    "start_time": "2024-08-27T09:44:27.191Z"
   },
   {
    "duration": 0,
    "start_time": "2024-08-27T09:44:27.192Z"
   },
   {
    "duration": 0,
    "start_time": "2024-08-27T09:44:27.193Z"
   },
   {
    "duration": 0,
    "start_time": "2024-08-27T09:44:27.193Z"
   },
   {
    "duration": 0,
    "start_time": "2024-08-27T09:44:27.194Z"
   },
   {
    "duration": 0,
    "start_time": "2024-08-27T09:44:27.195Z"
   },
   {
    "duration": 0,
    "start_time": "2024-08-27T09:44:27.196Z"
   },
   {
    "duration": 0,
    "start_time": "2024-08-27T09:44:27.198Z"
   },
   {
    "duration": 0,
    "start_time": "2024-08-27T09:44:27.199Z"
   },
   {
    "duration": 0,
    "start_time": "2024-08-27T09:44:27.201Z"
   },
   {
    "duration": 0,
    "start_time": "2024-08-27T09:44:27.202Z"
   },
   {
    "duration": 0,
    "start_time": "2024-08-27T09:44:27.204Z"
   },
   {
    "duration": 0,
    "start_time": "2024-08-27T09:44:27.205Z"
   },
   {
    "duration": 323,
    "start_time": "2024-08-27T09:45:23.372Z"
   },
   {
    "duration": 791,
    "start_time": "2024-08-27T09:45:23.697Z"
   },
   {
    "duration": 7,
    "start_time": "2024-08-27T09:45:24.490Z"
   },
   {
    "duration": 5,
    "start_time": "2024-08-27T09:45:24.499Z"
   },
   {
    "duration": 7,
    "start_time": "2024-08-27T09:45:24.507Z"
   },
   {
    "duration": 6,
    "start_time": "2024-08-27T09:45:24.516Z"
   },
   {
    "duration": 31,
    "start_time": "2024-08-27T09:45:24.523Z"
   },
   {
    "duration": 33,
    "start_time": "2024-08-27T09:45:24.556Z"
   },
   {
    "duration": 10,
    "start_time": "2024-08-27T09:45:24.590Z"
   },
   {
    "duration": 150,
    "start_time": "2024-08-27T09:45:24.601Z"
   },
   {
    "duration": 7,
    "start_time": "2024-08-27T09:45:24.753Z"
   },
   {
    "duration": 108,
    "start_time": "2024-08-27T09:45:24.761Z"
   },
   {
    "duration": 7,
    "start_time": "2024-08-27T09:45:24.871Z"
   },
   {
    "duration": 73,
    "start_time": "2024-08-27T09:45:24.882Z"
   },
   {
    "duration": 99,
    "start_time": "2024-08-27T09:45:24.957Z"
   },
   {
    "duration": 55,
    "start_time": "2024-08-27T09:45:25.058Z"
   },
   {
    "duration": 33,
    "start_time": "2024-08-27T09:45:25.115Z"
   },
   {
    "duration": 8,
    "start_time": "2024-08-27T09:45:25.150Z"
   },
   {
    "duration": 3,
    "start_time": "2024-08-27T09:45:25.160Z"
   },
   {
    "duration": 12,
    "start_time": "2024-08-27T09:45:25.165Z"
   },
   {
    "duration": 4,
    "start_time": "2024-08-27T09:45:25.178Z"
   },
   {
    "duration": 405,
    "start_time": "2024-08-27T09:45:25.184Z"
   },
   {
    "duration": 0,
    "start_time": "2024-08-27T09:45:25.591Z"
   },
   {
    "duration": 0,
    "start_time": "2024-08-27T09:45:25.592Z"
   },
   {
    "duration": 0,
    "start_time": "2024-08-27T09:45:25.594Z"
   },
   {
    "duration": 0,
    "start_time": "2024-08-27T09:45:25.595Z"
   },
   {
    "duration": 0,
    "start_time": "2024-08-27T09:45:25.597Z"
   },
   {
    "duration": 0,
    "start_time": "2024-08-27T09:45:25.598Z"
   },
   {
    "duration": 0,
    "start_time": "2024-08-27T09:45:25.600Z"
   },
   {
    "duration": 0,
    "start_time": "2024-08-27T09:45:25.601Z"
   },
   {
    "duration": 0,
    "start_time": "2024-08-27T09:45:25.602Z"
   },
   {
    "duration": 0,
    "start_time": "2024-08-27T09:45:25.604Z"
   },
   {
    "duration": 0,
    "start_time": "2024-08-27T09:45:25.605Z"
   },
   {
    "duration": 0,
    "start_time": "2024-08-27T09:45:25.607Z"
   },
   {
    "duration": 0,
    "start_time": "2024-08-27T09:45:25.608Z"
   },
   {
    "duration": 282,
    "start_time": "2024-08-27T09:48:27.115Z"
   },
   {
    "duration": 798,
    "start_time": "2024-08-27T09:48:27.400Z"
   },
   {
    "duration": 8,
    "start_time": "2024-08-27T09:48:28.200Z"
   },
   {
    "duration": 5,
    "start_time": "2024-08-27T09:48:28.210Z"
   },
   {
    "duration": 8,
    "start_time": "2024-08-27T09:48:28.217Z"
   },
   {
    "duration": 23,
    "start_time": "2024-08-27T09:48:28.227Z"
   },
   {
    "duration": 7,
    "start_time": "2024-08-27T09:48:28.252Z"
   },
   {
    "duration": 32,
    "start_time": "2024-08-27T09:48:28.261Z"
   },
   {
    "duration": 9,
    "start_time": "2024-08-27T09:48:28.294Z"
   },
   {
    "duration": 157,
    "start_time": "2024-08-27T09:48:28.304Z"
   },
   {
    "duration": 7,
    "start_time": "2024-08-27T09:48:28.463Z"
   },
   {
    "duration": 106,
    "start_time": "2024-08-27T09:48:28.472Z"
   },
   {
    "duration": 8,
    "start_time": "2024-08-27T09:48:28.580Z"
   },
   {
    "duration": 77,
    "start_time": "2024-08-27T09:48:28.591Z"
   },
   {
    "duration": 109,
    "start_time": "2024-08-27T09:48:28.670Z"
   },
   {
    "duration": 55,
    "start_time": "2024-08-27T09:48:28.781Z"
   },
   {
    "duration": 17,
    "start_time": "2024-08-27T09:48:28.848Z"
   },
   {
    "duration": 9,
    "start_time": "2024-08-27T09:48:28.866Z"
   },
   {
    "duration": 3,
    "start_time": "2024-08-27T09:48:28.877Z"
   },
   {
    "duration": 13,
    "start_time": "2024-08-27T09:48:28.881Z"
   },
   {
    "duration": 3,
    "start_time": "2024-08-27T09:48:28.896Z"
   },
   {
    "duration": 335,
    "start_time": "2024-08-27T09:48:28.901Z"
   },
   {
    "duration": 0,
    "start_time": "2024-08-27T09:48:29.238Z"
   },
   {
    "duration": 0,
    "start_time": "2024-08-27T09:48:29.239Z"
   },
   {
    "duration": 0,
    "start_time": "2024-08-27T09:48:29.248Z"
   },
   {
    "duration": 0,
    "start_time": "2024-08-27T09:48:29.250Z"
   },
   {
    "duration": 0,
    "start_time": "2024-08-27T09:48:29.252Z"
   },
   {
    "duration": 0,
    "start_time": "2024-08-27T09:48:29.253Z"
   },
   {
    "duration": 0,
    "start_time": "2024-08-27T09:48:29.254Z"
   },
   {
    "duration": 0,
    "start_time": "2024-08-27T09:48:29.256Z"
   },
   {
    "duration": 0,
    "start_time": "2024-08-27T09:48:29.257Z"
   },
   {
    "duration": 0,
    "start_time": "2024-08-27T09:48:29.258Z"
   },
   {
    "duration": 0,
    "start_time": "2024-08-27T09:48:29.260Z"
   },
   {
    "duration": 0,
    "start_time": "2024-08-27T09:48:29.261Z"
   },
   {
    "duration": 0,
    "start_time": "2024-08-27T09:48:29.262Z"
   },
   {
    "duration": 57,
    "start_time": "2024-08-27T09:49:51.528Z"
   },
   {
    "duration": 283,
    "start_time": "2024-08-27T10:03:48.905Z"
   },
   {
    "duration": 797,
    "start_time": "2024-08-27T10:03:49.190Z"
   },
   {
    "duration": 7,
    "start_time": "2024-08-27T10:03:49.989Z"
   },
   {
    "duration": 4,
    "start_time": "2024-08-27T10:03:49.999Z"
   },
   {
    "duration": 7,
    "start_time": "2024-08-27T10:03:50.005Z"
   },
   {
    "duration": 4,
    "start_time": "2024-08-27T10:03:50.014Z"
   },
   {
    "duration": 32,
    "start_time": "2024-08-27T10:03:50.020Z"
   },
   {
    "duration": 33,
    "start_time": "2024-08-27T10:03:50.053Z"
   },
   {
    "duration": 9,
    "start_time": "2024-08-27T10:03:50.087Z"
   },
   {
    "duration": 149,
    "start_time": "2024-08-27T10:03:50.100Z"
   },
   {
    "duration": 7,
    "start_time": "2024-08-27T10:03:50.250Z"
   },
   {
    "duration": 107,
    "start_time": "2024-08-27T10:03:50.258Z"
   },
   {
    "duration": 9,
    "start_time": "2024-08-27T10:03:50.366Z"
   },
   {
    "duration": 79,
    "start_time": "2024-08-27T10:03:50.376Z"
   },
   {
    "duration": 101,
    "start_time": "2024-08-27T10:03:50.457Z"
   },
   {
    "duration": 62,
    "start_time": "2024-08-27T10:03:50.560Z"
   },
   {
    "duration": 30,
    "start_time": "2024-08-27T10:03:50.623Z"
   },
   {
    "duration": 10,
    "start_time": "2024-08-27T10:03:50.654Z"
   },
   {
    "duration": 6,
    "start_time": "2024-08-27T10:03:50.665Z"
   },
   {
    "duration": 12,
    "start_time": "2024-08-27T10:03:50.673Z"
   },
   {
    "duration": 3,
    "start_time": "2024-08-27T10:03:50.687Z"
   },
   {
    "duration": 320,
    "start_time": "2024-08-27T10:03:50.692Z"
   },
   {
    "duration": 0,
    "start_time": "2024-08-27T10:03:51.014Z"
   },
   {
    "duration": 0,
    "start_time": "2024-08-27T10:03:51.016Z"
   },
   {
    "duration": 0,
    "start_time": "2024-08-27T10:03:51.017Z"
   },
   {
    "duration": 0,
    "start_time": "2024-08-27T10:03:51.018Z"
   },
   {
    "duration": 0,
    "start_time": "2024-08-27T10:03:51.019Z"
   },
   {
    "duration": 0,
    "start_time": "2024-08-27T10:03:51.019Z"
   },
   {
    "duration": 0,
    "start_time": "2024-08-27T10:03:51.020Z"
   },
   {
    "duration": 0,
    "start_time": "2024-08-27T10:03:51.021Z"
   },
   {
    "duration": 0,
    "start_time": "2024-08-27T10:03:51.022Z"
   },
   {
    "duration": 0,
    "start_time": "2024-08-27T10:03:51.023Z"
   },
   {
    "duration": 0,
    "start_time": "2024-08-27T10:03:51.024Z"
   },
   {
    "duration": 0,
    "start_time": "2024-08-27T10:03:51.048Z"
   },
   {
    "duration": 0,
    "start_time": "2024-08-27T10:03:51.050Z"
   },
   {
    "duration": 7,
    "start_time": "2024-08-27T10:04:34.811Z"
   },
   {
    "duration": 11,
    "start_time": "2024-08-27T10:04:47.390Z"
   },
   {
    "duration": 13,
    "start_time": "2024-08-27T10:04:59.261Z"
   },
   {
    "duration": 154,
    "start_time": "2024-08-27T10:13:06.352Z"
   },
   {
    "duration": 26,
    "start_time": "2024-08-27T10:13:51.873Z"
   },
   {
    "duration": 31,
    "start_time": "2024-08-27T10:14:27.141Z"
   },
   {
    "duration": 25,
    "start_time": "2024-08-27T10:23:26.269Z"
   },
   {
    "duration": 25,
    "start_time": "2024-08-27T10:23:32.912Z"
   },
   {
    "duration": 13,
    "start_time": "2024-08-27T10:23:47.655Z"
   },
   {
    "duration": 271,
    "start_time": "2024-08-27T10:25:48.836Z"
   },
   {
    "duration": 788,
    "start_time": "2024-08-27T10:25:49.109Z"
   },
   {
    "duration": 8,
    "start_time": "2024-08-27T10:25:49.898Z"
   },
   {
    "duration": 7,
    "start_time": "2024-08-27T10:25:49.908Z"
   },
   {
    "duration": 7,
    "start_time": "2024-08-27T10:25:49.918Z"
   },
   {
    "duration": 22,
    "start_time": "2024-08-27T10:25:49.927Z"
   },
   {
    "duration": 7,
    "start_time": "2024-08-27T10:25:49.951Z"
   },
   {
    "duration": 34,
    "start_time": "2024-08-27T10:25:49.959Z"
   },
   {
    "duration": 9,
    "start_time": "2024-08-27T10:25:49.995Z"
   },
   {
    "duration": 152,
    "start_time": "2024-08-27T10:25:50.005Z"
   },
   {
    "duration": 7,
    "start_time": "2024-08-27T10:25:50.159Z"
   },
   {
    "duration": 107,
    "start_time": "2024-08-27T10:25:50.167Z"
   },
   {
    "duration": 8,
    "start_time": "2024-08-27T10:25:50.276Z"
   },
   {
    "duration": 73,
    "start_time": "2024-08-27T10:25:50.287Z"
   },
   {
    "duration": 105,
    "start_time": "2024-08-27T10:25:50.362Z"
   },
   {
    "duration": 55,
    "start_time": "2024-08-27T10:25:50.469Z"
   },
   {
    "duration": 30,
    "start_time": "2024-08-27T10:25:50.526Z"
   },
   {
    "duration": 10,
    "start_time": "2024-08-27T10:25:50.557Z"
   },
   {
    "duration": 4,
    "start_time": "2024-08-27T10:25:50.568Z"
   },
   {
    "duration": 13,
    "start_time": "2024-08-27T10:25:50.573Z"
   },
   {
    "duration": 3,
    "start_time": "2024-08-27T10:25:50.588Z"
   },
   {
    "duration": 202,
    "start_time": "2024-08-27T10:25:50.592Z"
   },
   {
    "duration": 0,
    "start_time": "2024-08-27T10:25:50.795Z"
   },
   {
    "duration": 0,
    "start_time": "2024-08-27T10:25:50.797Z"
   },
   {
    "duration": 0,
    "start_time": "2024-08-27T10:25:50.799Z"
   },
   {
    "duration": 0,
    "start_time": "2024-08-27T10:25:50.800Z"
   },
   {
    "duration": 0,
    "start_time": "2024-08-27T10:25:50.802Z"
   },
   {
    "duration": 0,
    "start_time": "2024-08-27T10:25:50.803Z"
   },
   {
    "duration": 0,
    "start_time": "2024-08-27T10:25:50.805Z"
   },
   {
    "duration": 0,
    "start_time": "2024-08-27T10:25:50.806Z"
   },
   {
    "duration": 0,
    "start_time": "2024-08-27T10:25:50.807Z"
   },
   {
    "duration": 0,
    "start_time": "2024-08-27T10:25:50.809Z"
   },
   {
    "duration": 0,
    "start_time": "2024-08-27T10:25:50.810Z"
   },
   {
    "duration": 0,
    "start_time": "2024-08-27T10:25:50.811Z"
   },
   {
    "duration": 0,
    "start_time": "2024-08-27T10:25:50.813Z"
   },
   {
    "duration": 0,
    "start_time": "2024-08-27T10:25:50.815Z"
   },
   {
    "duration": 306,
    "start_time": "2024-08-27T10:27:07.786Z"
   },
   {
    "duration": 792,
    "start_time": "2024-08-27T10:27:08.094Z"
   },
   {
    "duration": 8,
    "start_time": "2024-08-27T10:27:08.888Z"
   },
   {
    "duration": 5,
    "start_time": "2024-08-27T10:27:08.898Z"
   },
   {
    "duration": 7,
    "start_time": "2024-08-27T10:27:08.904Z"
   },
   {
    "duration": 4,
    "start_time": "2024-08-27T10:27:08.913Z"
   },
   {
    "duration": 31,
    "start_time": "2024-08-27T10:27:08.919Z"
   },
   {
    "duration": 33,
    "start_time": "2024-08-27T10:27:08.952Z"
   },
   {
    "duration": 9,
    "start_time": "2024-08-27T10:27:08.986Z"
   },
   {
    "duration": 148,
    "start_time": "2024-08-27T10:27:08.998Z"
   },
   {
    "duration": 7,
    "start_time": "2024-08-27T10:27:09.149Z"
   },
   {
    "duration": 105,
    "start_time": "2024-08-27T10:27:09.158Z"
   },
   {
    "duration": 8,
    "start_time": "2024-08-27T10:27:09.265Z"
   },
   {
    "duration": 73,
    "start_time": "2024-08-27T10:27:09.275Z"
   },
   {
    "duration": 104,
    "start_time": "2024-08-27T10:27:09.350Z"
   },
   {
    "duration": 54,
    "start_time": "2024-08-27T10:27:09.456Z"
   },
   {
    "duration": 16,
    "start_time": "2024-08-27T10:27:09.512Z"
   },
   {
    "duration": 26,
    "start_time": "2024-08-27T10:27:09.530Z"
   },
   {
    "duration": 5,
    "start_time": "2024-08-27T10:27:09.558Z"
   },
   {
    "duration": 13,
    "start_time": "2024-08-27T10:27:09.564Z"
   },
   {
    "duration": 4,
    "start_time": "2024-08-27T10:27:09.578Z"
   },
   {
    "duration": 196,
    "start_time": "2024-08-27T10:27:09.583Z"
   },
   {
    "duration": 0,
    "start_time": "2024-08-27T10:27:09.781Z"
   },
   {
    "duration": 0,
    "start_time": "2024-08-27T10:27:09.782Z"
   },
   {
    "duration": 0,
    "start_time": "2024-08-27T10:27:09.784Z"
   },
   {
    "duration": 0,
    "start_time": "2024-08-27T10:27:09.785Z"
   },
   {
    "duration": 0,
    "start_time": "2024-08-27T10:27:09.787Z"
   },
   {
    "duration": 0,
    "start_time": "2024-08-27T10:27:09.788Z"
   },
   {
    "duration": 0,
    "start_time": "2024-08-27T10:27:09.789Z"
   },
   {
    "duration": 0,
    "start_time": "2024-08-27T10:27:09.791Z"
   },
   {
    "duration": 0,
    "start_time": "2024-08-27T10:27:09.792Z"
   },
   {
    "duration": 0,
    "start_time": "2024-08-27T10:27:09.793Z"
   },
   {
    "duration": 0,
    "start_time": "2024-08-27T10:27:09.795Z"
   },
   {
    "duration": 0,
    "start_time": "2024-08-27T10:27:09.796Z"
   },
   {
    "duration": 0,
    "start_time": "2024-08-27T10:27:09.798Z"
   },
   {
    "duration": 0,
    "start_time": "2024-08-27T10:27:09.799Z"
   },
   {
    "duration": 15,
    "start_time": "2024-08-27T10:27:42.868Z"
   },
   {
    "duration": 12,
    "start_time": "2024-08-27T10:29:19.403Z"
   },
   {
    "duration": 298,
    "start_time": "2024-08-27T10:39:36.389Z"
   },
   {
    "duration": 813,
    "start_time": "2024-08-27T10:39:36.689Z"
   },
   {
    "duration": 8,
    "start_time": "2024-08-27T10:39:37.504Z"
   },
   {
    "duration": 5,
    "start_time": "2024-08-27T10:39:37.515Z"
   },
   {
    "duration": 7,
    "start_time": "2024-08-27T10:39:37.522Z"
   },
   {
    "duration": 19,
    "start_time": "2024-08-27T10:39:37.531Z"
   },
   {
    "duration": 8,
    "start_time": "2024-08-27T10:39:37.552Z"
   },
   {
    "duration": 34,
    "start_time": "2024-08-27T10:39:37.562Z"
   },
   {
    "duration": 8,
    "start_time": "2024-08-27T10:39:37.598Z"
   },
   {
    "duration": 150,
    "start_time": "2024-08-27T10:39:37.609Z"
   },
   {
    "duration": 8,
    "start_time": "2024-08-27T10:39:37.761Z"
   },
   {
    "duration": 110,
    "start_time": "2024-08-27T10:39:37.770Z"
   },
   {
    "duration": 8,
    "start_time": "2024-08-27T10:39:37.882Z"
   },
   {
    "duration": 77,
    "start_time": "2024-08-27T10:39:37.892Z"
   },
   {
    "duration": 100,
    "start_time": "2024-08-27T10:39:37.972Z"
   },
   {
    "duration": 56,
    "start_time": "2024-08-27T10:39:38.074Z"
   },
   {
    "duration": 32,
    "start_time": "2024-08-27T10:39:38.132Z"
   },
   {
    "duration": 9,
    "start_time": "2024-08-27T10:39:38.167Z"
   },
   {
    "duration": 3,
    "start_time": "2024-08-27T10:39:38.178Z"
   },
   {
    "duration": 12,
    "start_time": "2024-08-27T10:39:38.183Z"
   },
   {
    "duration": 4,
    "start_time": "2024-08-27T10:39:38.196Z"
   },
   {
    "duration": 198,
    "start_time": "2024-08-27T10:39:38.201Z"
   },
   {
    "duration": 0,
    "start_time": "2024-08-27T10:39:38.402Z"
   },
   {
    "duration": 0,
    "start_time": "2024-08-27T10:39:38.403Z"
   },
   {
    "duration": 0,
    "start_time": "2024-08-27T10:39:38.404Z"
   },
   {
    "duration": 0,
    "start_time": "2024-08-27T10:39:38.405Z"
   },
   {
    "duration": 0,
    "start_time": "2024-08-27T10:39:38.406Z"
   },
   {
    "duration": 0,
    "start_time": "2024-08-27T10:39:38.408Z"
   },
   {
    "duration": 0,
    "start_time": "2024-08-27T10:39:38.408Z"
   },
   {
    "duration": 0,
    "start_time": "2024-08-27T10:39:38.409Z"
   },
   {
    "duration": 0,
    "start_time": "2024-08-27T10:39:38.410Z"
   },
   {
    "duration": 0,
    "start_time": "2024-08-27T10:39:38.412Z"
   },
   {
    "duration": 0,
    "start_time": "2024-08-27T10:39:38.413Z"
   },
   {
    "duration": 0,
    "start_time": "2024-08-27T10:39:38.414Z"
   },
   {
    "duration": 0,
    "start_time": "2024-08-27T10:39:38.416Z"
   },
   {
    "duration": 0,
    "start_time": "2024-08-27T10:39:38.418Z"
   },
   {
    "duration": 0,
    "start_time": "2024-08-27T10:39:38.419Z"
   },
   {
    "duration": 0,
    "start_time": "2024-08-27T10:39:38.448Z"
   },
   {
    "duration": 0,
    "start_time": "2024-08-27T10:39:38.450Z"
   },
   {
    "duration": 14,
    "start_time": "2024-08-27T10:39:57.720Z"
   },
   {
    "duration": 276,
    "start_time": "2024-08-27T10:40:11.208Z"
   },
   {
    "duration": 789,
    "start_time": "2024-08-27T10:40:11.486Z"
   },
   {
    "duration": 7,
    "start_time": "2024-08-27T10:40:12.277Z"
   },
   {
    "duration": 5,
    "start_time": "2024-08-27T10:40:12.286Z"
   },
   {
    "duration": 8,
    "start_time": "2024-08-27T10:40:12.293Z"
   },
   {
    "duration": 5,
    "start_time": "2024-08-27T10:40:12.303Z"
   },
   {
    "duration": 7,
    "start_time": "2024-08-27T10:40:12.309Z"
   },
   {
    "duration": 61,
    "start_time": "2024-08-27T10:40:12.317Z"
   },
   {
    "duration": 9,
    "start_time": "2024-08-27T10:40:12.379Z"
   },
   {
    "duration": 144,
    "start_time": "2024-08-27T10:40:12.390Z"
   },
   {
    "duration": 7,
    "start_time": "2024-08-27T10:40:12.535Z"
   },
   {
    "duration": 120,
    "start_time": "2024-08-27T10:40:12.543Z"
   },
   {
    "duration": 9,
    "start_time": "2024-08-27T10:40:12.664Z"
   },
   {
    "duration": 71,
    "start_time": "2024-08-27T10:40:12.677Z"
   },
   {
    "duration": 103,
    "start_time": "2024-08-27T10:40:12.750Z"
   },
   {
    "duration": 55,
    "start_time": "2024-08-27T10:40:12.855Z"
   },
   {
    "duration": 18,
    "start_time": "2024-08-27T10:40:12.912Z"
   },
   {
    "duration": 24,
    "start_time": "2024-08-27T10:40:12.932Z"
   },
   {
    "duration": 4,
    "start_time": "2024-08-27T10:40:12.957Z"
   },
   {
    "duration": 13,
    "start_time": "2024-08-27T10:40:12.963Z"
   },
   {
    "duration": 3,
    "start_time": "2024-08-27T10:40:12.978Z"
   },
   {
    "duration": 109,
    "start_time": "2024-08-27T10:40:12.983Z"
   },
   {
    "duration": 0,
    "start_time": "2024-08-27T10:40:13.093Z"
   },
   {
    "duration": 0,
    "start_time": "2024-08-27T10:40:13.095Z"
   },
   {
    "duration": 0,
    "start_time": "2024-08-27T10:40:13.095Z"
   },
   {
    "duration": 0,
    "start_time": "2024-08-27T10:40:13.096Z"
   },
   {
    "duration": 0,
    "start_time": "2024-08-27T10:40:13.097Z"
   },
   {
    "duration": 0,
    "start_time": "2024-08-27T10:40:13.099Z"
   },
   {
    "duration": 0,
    "start_time": "2024-08-27T10:40:13.100Z"
   },
   {
    "duration": 0,
    "start_time": "2024-08-27T10:40:13.100Z"
   },
   {
    "duration": 0,
    "start_time": "2024-08-27T10:40:13.101Z"
   },
   {
    "duration": 0,
    "start_time": "2024-08-27T10:40:13.103Z"
   },
   {
    "duration": 0,
    "start_time": "2024-08-27T10:40:13.104Z"
   },
   {
    "duration": 0,
    "start_time": "2024-08-27T10:40:13.105Z"
   },
   {
    "duration": 0,
    "start_time": "2024-08-27T10:40:13.106Z"
   },
   {
    "duration": 0,
    "start_time": "2024-08-27T10:40:13.107Z"
   },
   {
    "duration": 0,
    "start_time": "2024-08-27T10:40:13.108Z"
   },
   {
    "duration": 0,
    "start_time": "2024-08-27T10:40:13.109Z"
   },
   {
    "duration": 0,
    "start_time": "2024-08-27T10:40:13.110Z"
   },
   {
    "duration": 329,
    "start_time": "2024-08-27T12:17:50.404Z"
   },
   {
    "duration": 984,
    "start_time": "2024-08-27T12:17:50.735Z"
   },
   {
    "duration": 8,
    "start_time": "2024-08-27T12:17:51.720Z"
   },
   {
    "duration": 10,
    "start_time": "2024-08-27T12:17:51.730Z"
   },
   {
    "duration": 8,
    "start_time": "2024-08-27T12:17:51.741Z"
   },
   {
    "duration": 8,
    "start_time": "2024-08-27T12:17:51.752Z"
   },
   {
    "duration": 8,
    "start_time": "2024-08-27T12:17:51.761Z"
   },
   {
    "duration": 83,
    "start_time": "2024-08-27T12:17:51.772Z"
   },
   {
    "duration": 11,
    "start_time": "2024-08-27T12:17:51.857Z"
   },
   {
    "duration": 170,
    "start_time": "2024-08-27T12:17:51.871Z"
   },
   {
    "duration": 8,
    "start_time": "2024-08-27T12:17:52.043Z"
   },
   {
    "duration": 120,
    "start_time": "2024-08-27T12:17:52.054Z"
   },
   {
    "duration": 10,
    "start_time": "2024-08-27T12:17:52.177Z"
   },
   {
    "duration": 65,
    "start_time": "2024-08-27T12:17:52.198Z"
   },
   {
    "duration": 144,
    "start_time": "2024-08-27T12:17:52.266Z"
   },
   {
    "duration": 89,
    "start_time": "2024-08-27T12:17:52.412Z"
   },
   {
    "duration": 27,
    "start_time": "2024-08-27T12:17:52.505Z"
   },
   {
    "duration": 10,
    "start_time": "2024-08-27T12:17:52.533Z"
   },
   {
    "duration": 5,
    "start_time": "2024-08-27T12:17:52.545Z"
   },
   {
    "duration": 18,
    "start_time": "2024-08-27T12:17:52.552Z"
   },
   {
    "duration": 26,
    "start_time": "2024-08-27T12:17:52.572Z"
   },
   {
    "duration": 111,
    "start_time": "2024-08-27T12:17:52.601Z"
   },
   {
    "duration": 0,
    "start_time": "2024-08-27T12:17:52.714Z"
   },
   {
    "duration": 0,
    "start_time": "2024-08-27T12:17:52.716Z"
   },
   {
    "duration": 0,
    "start_time": "2024-08-27T12:17:52.717Z"
   },
   {
    "duration": 0,
    "start_time": "2024-08-27T12:17:52.719Z"
   },
   {
    "duration": 0,
    "start_time": "2024-08-27T12:17:52.721Z"
   },
   {
    "duration": 0,
    "start_time": "2024-08-27T12:17:52.722Z"
   },
   {
    "duration": 0,
    "start_time": "2024-08-27T12:17:52.723Z"
   },
   {
    "duration": 0,
    "start_time": "2024-08-27T12:17:52.724Z"
   },
   {
    "duration": 0,
    "start_time": "2024-08-27T12:17:52.725Z"
   },
   {
    "duration": 0,
    "start_time": "2024-08-27T12:17:52.726Z"
   },
   {
    "duration": 0,
    "start_time": "2024-08-27T12:17:52.727Z"
   },
   {
    "duration": 0,
    "start_time": "2024-08-27T12:17:52.728Z"
   },
   {
    "duration": 0,
    "start_time": "2024-08-27T12:17:52.729Z"
   },
   {
    "duration": 0,
    "start_time": "2024-08-27T12:17:52.730Z"
   },
   {
    "duration": 0,
    "start_time": "2024-08-27T12:17:52.731Z"
   },
   {
    "duration": 0,
    "start_time": "2024-08-27T12:17:52.732Z"
   },
   {
    "duration": 0,
    "start_time": "2024-08-27T12:17:52.733Z"
   },
   {
    "duration": 3,
    "start_time": "2024-08-27T12:18:50.246Z"
   },
   {
    "duration": 824,
    "start_time": "2024-08-27T12:18:50.253Z"
   },
   {
    "duration": 7,
    "start_time": "2024-08-27T12:18:51.079Z"
   },
   {
    "duration": 6,
    "start_time": "2024-08-27T12:18:51.096Z"
   },
   {
    "duration": 8,
    "start_time": "2024-08-27T12:18:51.103Z"
   },
   {
    "duration": 5,
    "start_time": "2024-08-27T12:18:51.114Z"
   },
   {
    "duration": 8,
    "start_time": "2024-08-27T12:18:51.120Z"
   },
   {
    "duration": 35,
    "start_time": "2024-08-27T12:18:51.129Z"
   },
   {
    "duration": 31,
    "start_time": "2024-08-27T12:18:51.166Z"
   },
   {
    "duration": 142,
    "start_time": "2024-08-27T12:18:51.199Z"
   },
   {
    "duration": 6,
    "start_time": "2024-08-27T12:18:51.343Z"
   },
   {
    "duration": 90,
    "start_time": "2024-08-27T12:18:51.350Z"
   },
   {
    "duration": 7,
    "start_time": "2024-08-27T12:18:51.442Z"
   },
   {
    "duration": 64,
    "start_time": "2024-08-27T12:18:51.451Z"
   },
   {
    "duration": 91,
    "start_time": "2024-08-27T12:18:51.518Z"
   },
   {
    "duration": 46,
    "start_time": "2024-08-27T12:18:51.611Z"
   },
   {
    "duration": 18,
    "start_time": "2024-08-27T12:18:51.658Z"
   },
   {
    "duration": 11,
    "start_time": "2024-08-27T12:18:51.696Z"
   },
   {
    "duration": 5,
    "start_time": "2024-08-27T12:18:51.708Z"
   },
   {
    "duration": 14,
    "start_time": "2024-08-27T12:18:51.715Z"
   },
   {
    "duration": 2,
    "start_time": "2024-08-27T12:20:30.920Z"
   },
   {
    "duration": 842,
    "start_time": "2024-08-27T12:20:30.924Z"
   },
   {
    "duration": 8,
    "start_time": "2024-08-27T12:20:31.768Z"
   },
   {
    "duration": 6,
    "start_time": "2024-08-27T12:20:31.778Z"
   },
   {
    "duration": 7,
    "start_time": "2024-08-27T12:20:31.796Z"
   },
   {
    "duration": 5,
    "start_time": "2024-08-27T12:20:31.806Z"
   },
   {
    "duration": 7,
    "start_time": "2024-08-27T12:20:31.812Z"
   },
   {
    "duration": 32,
    "start_time": "2024-08-27T12:20:31.821Z"
   },
   {
    "duration": 9,
    "start_time": "2024-08-27T12:20:31.855Z"
   },
   {
    "duration": 172,
    "start_time": "2024-08-27T12:20:31.866Z"
   },
   {
    "duration": 6,
    "start_time": "2024-08-27T12:20:32.040Z"
   },
   {
    "duration": 95,
    "start_time": "2024-08-27T12:20:32.047Z"
   },
   {
    "duration": 8,
    "start_time": "2024-08-27T12:20:32.144Z"
   },
   {
    "duration": 58,
    "start_time": "2024-08-27T12:20:32.155Z"
   },
   {
    "duration": 88,
    "start_time": "2024-08-27T12:20:32.215Z"
   },
   {
    "duration": 44,
    "start_time": "2024-08-27T12:20:32.306Z"
   },
   {
    "duration": 18,
    "start_time": "2024-08-27T12:20:32.352Z"
   },
   {
    "duration": 26,
    "start_time": "2024-08-27T12:20:32.371Z"
   },
   {
    "duration": 3,
    "start_time": "2024-08-27T12:20:32.399Z"
   },
   {
    "duration": 16,
    "start_time": "2024-08-27T12:20:32.404Z"
   },
   {
    "duration": 5,
    "start_time": "2024-08-27T12:20:32.422Z"
   },
   {
    "duration": 3,
    "start_time": "2024-08-27T12:20:32.429Z"
   },
   {
    "duration": 13,
    "start_time": "2024-08-27T12:21:07.341Z"
   },
   {
    "duration": 15,
    "start_time": "2024-08-27T12:21:23.470Z"
   },
   {
    "duration": 113,
    "start_time": "2024-08-27T12:21:27.163Z"
   },
   {
    "duration": 6,
    "start_time": "2024-08-27T12:21:43.510Z"
   },
   {
    "duration": 10,
    "start_time": "2024-08-27T12:21:51.225Z"
   },
   {
    "duration": 13,
    "start_time": "2024-08-27T12:22:00.373Z"
   },
   {
    "duration": 13,
    "start_time": "2024-08-27T12:22:10.638Z"
   },
   {
    "duration": 6,
    "start_time": "2024-08-27T12:22:13.877Z"
   },
   {
    "duration": 13,
    "start_time": "2024-08-27T12:22:18.612Z"
   },
   {
    "duration": 12,
    "start_time": "2024-08-27T12:24:04.966Z"
   },
   {
    "duration": 6,
    "start_time": "2024-08-27T12:24:19.190Z"
   },
   {
    "duration": 12,
    "start_time": "2024-08-27T12:25:52.193Z"
   },
   {
    "duration": 14,
    "start_time": "2024-08-27T12:26:53.817Z"
   },
   {
    "duration": 21,
    "start_time": "2024-08-27T12:29:57.320Z"
   },
   {
    "duration": 4,
    "start_time": "2024-08-27T12:41:48.191Z"
   },
   {
    "duration": 4,
    "start_time": "2024-08-27T12:41:53.873Z"
   },
   {
    "duration": 3,
    "start_time": "2024-08-27T12:45:15.476Z"
   },
   {
    "duration": 5,
    "start_time": "2024-08-27T12:45:23.667Z"
   },
   {
    "duration": 6,
    "start_time": "2024-08-27T12:46:36.291Z"
   },
   {
    "duration": 15,
    "start_time": "2024-08-27T12:46:43.651Z"
   },
   {
    "duration": 12,
    "start_time": "2024-08-27T12:47:07.786Z"
   },
   {
    "duration": 376,
    "start_time": "2024-08-27T12:47:16.586Z"
   },
   {
    "duration": 12,
    "start_time": "2024-08-27T12:47:29.959Z"
   },
   {
    "duration": 6,
    "start_time": "2024-08-27T12:49:23.618Z"
   },
   {
    "duration": 13,
    "start_time": "2024-08-27T12:49:25.726Z"
   },
   {
    "duration": 701,
    "start_time": "2024-08-27T12:50:13.693Z"
   },
   {
    "duration": 767,
    "start_time": "2024-08-27T12:50:28.732Z"
   },
   {
    "duration": 731,
    "start_time": "2024-08-27T12:50:46.028Z"
   },
   {
    "duration": 159,
    "start_time": "2024-08-28T13:20:19.439Z"
   },
   {
    "duration": 13,
    "start_time": "2024-08-28T13:20:37.034Z"
   },
   {
    "duration": 327,
    "start_time": "2024-08-28T13:20:51.705Z"
   },
   {
    "duration": 889,
    "start_time": "2024-08-28T13:20:52.034Z"
   },
   {
    "duration": 7,
    "start_time": "2024-08-28T13:20:52.924Z"
   },
   {
    "duration": 8,
    "start_time": "2024-08-28T13:20:52.934Z"
   },
   {
    "duration": 7,
    "start_time": "2024-08-28T13:20:52.943Z"
   },
   {
    "duration": 6,
    "start_time": "2024-08-28T13:20:52.952Z"
   },
   {
    "duration": 8,
    "start_time": "2024-08-28T13:20:52.959Z"
   },
   {
    "duration": 75,
    "start_time": "2024-08-28T13:20:52.968Z"
   },
   {
    "duration": 10,
    "start_time": "2024-08-28T13:20:53.044Z"
   },
   {
    "duration": 196,
    "start_time": "2024-08-28T13:20:53.058Z"
   },
   {
    "duration": 8,
    "start_time": "2024-08-28T13:20:53.256Z"
   },
   {
    "duration": 111,
    "start_time": "2024-08-28T13:20:53.265Z"
   },
   {
    "duration": 15,
    "start_time": "2024-08-28T13:20:53.378Z"
   },
   {
    "duration": 64,
    "start_time": "2024-08-28T13:20:53.394Z"
   },
   {
    "duration": 115,
    "start_time": "2024-08-28T13:20:53.460Z"
   },
   {
    "duration": 59,
    "start_time": "2024-08-28T13:20:53.577Z"
   },
   {
    "duration": 17,
    "start_time": "2024-08-28T13:20:53.638Z"
   },
   {
    "duration": 34,
    "start_time": "2024-08-28T13:20:53.657Z"
   },
   {
    "duration": 4,
    "start_time": "2024-08-28T13:20:53.693Z"
   },
   {
    "duration": 13,
    "start_time": "2024-08-28T13:20:53.700Z"
   },
   {
    "duration": 11,
    "start_time": "2024-08-28T13:20:53.715Z"
   },
   {
    "duration": 14,
    "start_time": "2024-08-28T13:20:53.727Z"
   },
   {
    "duration": 5,
    "start_time": "2024-08-28T13:20:53.743Z"
   },
   {
    "duration": 42,
    "start_time": "2024-08-28T13:20:53.749Z"
   },
   {
    "duration": 21,
    "start_time": "2024-08-28T13:20:53.792Z"
   },
   {
    "duration": 4,
    "start_time": "2024-08-28T13:20:53.815Z"
   },
   {
    "duration": 10,
    "start_time": "2024-08-28T13:20:53.821Z"
   },
   {
    "duration": 4,
    "start_time": "2024-08-28T13:20:53.834Z"
   },
   {
    "duration": 13,
    "start_time": "2024-08-28T13:20:53.840Z"
   },
   {
    "duration": 754,
    "start_time": "2024-08-28T13:20:53.887Z"
   },
   {
    "duration": 395,
    "start_time": "2024-08-28T13:21:58.514Z"
   },
   {
    "duration": 6,
    "start_time": "2024-08-28T13:22:30.555Z"
   },
   {
    "duration": 297,
    "start_time": "2024-08-28T14:07:36.770Z"
   },
   {
    "duration": 968,
    "start_time": "2024-08-28T14:07:37.070Z"
   },
   {
    "duration": 9,
    "start_time": "2024-08-28T14:07:38.039Z"
   },
   {
    "duration": 6,
    "start_time": "2024-08-28T14:07:38.050Z"
   },
   {
    "duration": 9,
    "start_time": "2024-08-28T14:07:38.059Z"
   },
   {
    "duration": 7,
    "start_time": "2024-08-28T14:07:38.070Z"
   },
   {
    "duration": 34,
    "start_time": "2024-08-28T14:07:38.079Z"
   },
   {
    "duration": 74,
    "start_time": "2024-08-28T14:07:38.115Z"
   },
   {
    "duration": 10,
    "start_time": "2024-08-28T14:07:38.191Z"
   },
   {
    "duration": 171,
    "start_time": "2024-08-28T14:07:38.202Z"
   },
   {
    "duration": 7,
    "start_time": "2024-08-28T14:07:38.374Z"
   },
   {
    "duration": 103,
    "start_time": "2024-08-28T14:07:38.383Z"
   },
   {
    "duration": 8,
    "start_time": "2024-08-28T14:07:38.488Z"
   },
   {
    "duration": 64,
    "start_time": "2024-08-28T14:07:38.508Z"
   },
   {
    "duration": 125,
    "start_time": "2024-08-28T14:07:38.573Z"
   },
   {
    "duration": 60,
    "start_time": "2024-08-28T14:07:38.700Z"
   },
   {
    "duration": 18,
    "start_time": "2024-08-28T14:07:38.762Z"
   },
   {
    "duration": 28,
    "start_time": "2024-08-28T14:07:38.781Z"
   },
   {
    "duration": 4,
    "start_time": "2024-08-28T14:07:38.811Z"
   },
   {
    "duration": 14,
    "start_time": "2024-08-28T14:07:38.817Z"
   },
   {
    "duration": 11,
    "start_time": "2024-08-28T14:07:38.832Z"
   },
   {
    "duration": 15,
    "start_time": "2024-08-28T14:07:38.845Z"
   },
   {
    "duration": 8,
    "start_time": "2024-08-28T14:07:38.861Z"
   },
   {
    "duration": 39,
    "start_time": "2024-08-28T14:07:38.870Z"
   },
   {
    "duration": 20,
    "start_time": "2024-08-28T14:07:38.910Z"
   },
   {
    "duration": 5,
    "start_time": "2024-08-28T14:07:38.932Z"
   },
   {
    "duration": 11,
    "start_time": "2024-08-28T14:07:38.939Z"
   },
   {
    "duration": 6,
    "start_time": "2024-08-28T14:07:38.951Z"
   },
   {
    "duration": 51,
    "start_time": "2024-08-28T14:07:38.958Z"
   },
   {
    "duration": 805,
    "start_time": "2024-08-28T14:07:39.011Z"
   },
   {
    "duration": 1451,
    "start_time": "2024-08-28T14:08:32.741Z"
   },
   {
    "duration": 246,
    "start_time": "2024-08-28T14:17:58.644Z"
   },
   {
    "duration": 219,
    "start_time": "2024-08-28T14:18:20.354Z"
   },
   {
    "duration": 274,
    "start_time": "2024-08-28T14:20:21.535Z"
   },
   {
    "duration": 245,
    "start_time": "2024-08-28T14:24:04.276Z"
   },
   {
    "duration": 158,
    "start_time": "2024-08-28T14:26:20.147Z"
   },
   {
    "duration": 182,
    "start_time": "2024-08-28T14:26:43.789Z"
   },
   {
    "duration": 193,
    "start_time": "2024-08-28T14:26:55.530Z"
   },
   {
    "duration": 261,
    "start_time": "2024-08-28T14:27:46.761Z"
   },
   {
    "duration": 151,
    "start_time": "2024-08-28T14:29:48.071Z"
   },
   {
    "duration": 76,
    "start_time": "2024-08-28T14:45:15.831Z"
   },
   {
    "duration": 38,
    "start_time": "2024-08-28T14:45:24.127Z"
   },
   {
    "duration": 41,
    "start_time": "2024-08-28T14:45:33.740Z"
   },
   {
    "duration": 36,
    "start_time": "2024-08-28T14:45:44.781Z"
   },
   {
    "duration": 38,
    "start_time": "2024-08-28T14:46:22.868Z"
   },
   {
    "duration": 40,
    "start_time": "2024-08-28T14:46:39.777Z"
   },
   {
    "duration": 149,
    "start_time": "2024-08-28T14:47:00.944Z"
   },
   {
    "duration": 178,
    "start_time": "2024-08-28T14:47:28.765Z"
   },
   {
    "duration": 244,
    "start_time": "2024-08-28T14:48:32.383Z"
   },
   {
    "duration": 2,
    "start_time": "2024-08-28T15:29:30.299Z"
   },
   {
    "duration": 868,
    "start_time": "2024-08-28T15:29:30.305Z"
   },
   {
    "duration": 7,
    "start_time": "2024-08-28T15:29:31.175Z"
   },
   {
    "duration": 6,
    "start_time": "2024-08-28T15:29:31.184Z"
   },
   {
    "duration": 23,
    "start_time": "2024-08-28T15:29:31.191Z"
   },
   {
    "duration": 5,
    "start_time": "2024-08-28T15:29:31.216Z"
   },
   {
    "duration": 7,
    "start_time": "2024-08-28T15:29:31.222Z"
   },
   {
    "duration": 33,
    "start_time": "2024-08-28T15:29:31.231Z"
   },
   {
    "duration": 10,
    "start_time": "2024-08-28T15:29:31.265Z"
   },
   {
    "duration": 169,
    "start_time": "2024-08-28T15:29:31.276Z"
   },
   {
    "duration": 5,
    "start_time": "2024-08-28T15:29:31.447Z"
   },
   {
    "duration": 89,
    "start_time": "2024-08-28T15:29:31.454Z"
   },
   {
    "duration": 7,
    "start_time": "2024-08-28T15:29:31.545Z"
   },
   {
    "duration": 61,
    "start_time": "2024-08-28T15:29:31.553Z"
   },
   {
    "duration": 91,
    "start_time": "2024-08-28T15:29:31.618Z"
   },
   {
    "duration": 44,
    "start_time": "2024-08-28T15:29:31.710Z"
   },
   {
    "duration": 18,
    "start_time": "2024-08-28T15:29:31.755Z"
   },
   {
    "duration": 10,
    "start_time": "2024-08-28T15:29:31.774Z"
   },
   {
    "duration": 25,
    "start_time": "2024-08-28T15:29:31.785Z"
   },
   {
    "duration": 14,
    "start_time": "2024-08-28T15:29:31.812Z"
   },
   {
    "duration": 9,
    "start_time": "2024-08-28T15:29:31.828Z"
   },
   {
    "duration": 14,
    "start_time": "2024-08-28T15:29:31.838Z"
   },
   {
    "duration": 5,
    "start_time": "2024-08-28T15:29:31.853Z"
   },
   {
    "duration": 9,
    "start_time": "2024-08-28T15:29:31.860Z"
   },
   {
    "duration": 52,
    "start_time": "2024-08-28T15:29:31.870Z"
   },
   {
    "duration": 5,
    "start_time": "2024-08-28T15:29:31.924Z"
   },
   {
    "duration": 12,
    "start_time": "2024-08-28T15:29:31.931Z"
   },
   {
    "duration": 6,
    "start_time": "2024-08-28T15:29:31.946Z"
   },
   {
    "duration": 15,
    "start_time": "2024-08-28T15:29:31.953Z"
   },
   {
    "duration": 795,
    "start_time": "2024-08-28T15:29:31.970Z"
   },
   {
    "duration": 121,
    "start_time": "2024-08-28T15:29:32.767Z"
   },
   {
    "duration": 45,
    "start_time": "2024-08-28T15:29:32.890Z"
   },
   {
    "duration": 39,
    "start_time": "2024-08-28T15:29:32.937Z"
   },
   {
    "duration": 167,
    "start_time": "2024-08-28T17:11:17.038Z"
   },
   {
    "duration": 303,
    "start_time": "2024-08-28T17:11:28.262Z"
   },
   {
    "duration": 902,
    "start_time": "2024-08-28T17:11:28.567Z"
   },
   {
    "duration": 8,
    "start_time": "2024-08-28T17:11:29.471Z"
   },
   {
    "duration": 6,
    "start_time": "2024-08-28T17:11:29.480Z"
   },
   {
    "duration": 23,
    "start_time": "2024-08-28T17:11:29.488Z"
   },
   {
    "duration": 5,
    "start_time": "2024-08-28T17:11:29.513Z"
   },
   {
    "duration": 8,
    "start_time": "2024-08-28T17:11:29.520Z"
   },
   {
    "duration": 67,
    "start_time": "2024-08-28T17:11:29.529Z"
   },
   {
    "duration": 10,
    "start_time": "2024-08-28T17:11:29.598Z"
   },
   {
    "duration": 178,
    "start_time": "2024-08-28T17:11:29.609Z"
   },
   {
    "duration": 8,
    "start_time": "2024-08-28T17:11:29.790Z"
   },
   {
    "duration": 128,
    "start_time": "2024-08-28T17:11:29.800Z"
   },
   {
    "duration": 8,
    "start_time": "2024-08-28T17:11:29.930Z"
   },
   {
    "duration": 83,
    "start_time": "2024-08-28T17:11:29.941Z"
   },
   {
    "duration": 131,
    "start_time": "2024-08-28T17:11:30.026Z"
   },
   {
    "duration": 70,
    "start_time": "2024-08-28T17:11:30.159Z"
   },
   {
    "duration": 20,
    "start_time": "2024-08-28T17:11:30.231Z"
   },
   {
    "duration": 10,
    "start_time": "2024-08-28T17:11:30.253Z"
   },
   {
    "duration": 4,
    "start_time": "2024-08-28T17:11:30.264Z"
   },
   {
    "duration": 45,
    "start_time": "2024-08-28T17:11:30.270Z"
   },
   {
    "duration": 12,
    "start_time": "2024-08-28T17:11:30.317Z"
   },
   {
    "duration": 14,
    "start_time": "2024-08-28T17:11:30.331Z"
   },
   {
    "duration": 5,
    "start_time": "2024-08-28T17:11:30.347Z"
   },
   {
    "duration": 9,
    "start_time": "2024-08-28T17:11:30.354Z"
   },
   {
    "duration": 55,
    "start_time": "2024-08-28T17:11:30.365Z"
   },
   {
    "duration": 6,
    "start_time": "2024-08-28T17:11:30.422Z"
   },
   {
    "duration": 11,
    "start_time": "2024-08-28T17:11:30.430Z"
   },
   {
    "duration": 5,
    "start_time": "2024-08-28T17:11:30.443Z"
   },
   {
    "duration": 13,
    "start_time": "2024-08-28T17:11:30.450Z"
   },
   {
    "duration": 826,
    "start_time": "2024-08-28T17:11:30.464Z"
   },
   {
    "duration": 144,
    "start_time": "2024-08-28T17:11:31.292Z"
   },
   {
    "duration": 269,
    "start_time": "2024-08-28T17:12:45.970Z"
   },
   {
    "duration": 286,
    "start_time": "2024-08-28T17:13:01.054Z"
   },
   {
    "duration": 84,
    "start_time": "2024-08-28T17:13:33.549Z"
   },
   {
    "duration": 296,
    "start_time": "2024-08-28T17:24:02.179Z"
   },
   {
    "duration": 823,
    "start_time": "2024-08-28T17:24:02.478Z"
   },
   {
    "duration": 8,
    "start_time": "2024-08-28T17:24:03.308Z"
   },
   {
    "duration": 5,
    "start_time": "2024-08-28T17:24:03.320Z"
   },
   {
    "duration": 8,
    "start_time": "2024-08-28T17:24:03.327Z"
   },
   {
    "duration": 4,
    "start_time": "2024-08-28T17:24:03.337Z"
   },
   {
    "duration": 8,
    "start_time": "2024-08-28T17:24:03.343Z"
   },
   {
    "duration": 68,
    "start_time": "2024-08-28T17:24:03.352Z"
   },
   {
    "duration": 10,
    "start_time": "2024-08-28T17:24:03.421Z"
   },
   {
    "duration": 146,
    "start_time": "2024-08-28T17:24:03.433Z"
   },
   {
    "duration": 7,
    "start_time": "2024-08-28T17:24:03.581Z"
   },
   {
    "duration": 121,
    "start_time": "2024-08-28T17:24:03.590Z"
   },
   {
    "duration": 10,
    "start_time": "2024-08-28T17:24:03.716Z"
   },
   {
    "duration": 83,
    "start_time": "2024-08-28T17:24:03.728Z"
   },
   {
    "duration": 122,
    "start_time": "2024-08-28T17:24:03.814Z"
   },
   {
    "duration": 71,
    "start_time": "2024-08-28T17:24:03.938Z"
   },
   {
    "duration": 21,
    "start_time": "2024-08-28T17:24:04.011Z"
   },
   {
    "duration": 10,
    "start_time": "2024-08-28T17:24:04.034Z"
   },
   {
    "duration": 4,
    "start_time": "2024-08-28T17:24:04.046Z"
   },
   {
    "duration": 15,
    "start_time": "2024-08-28T17:24:04.052Z"
   },
   {
    "duration": 44,
    "start_time": "2024-08-28T17:24:04.068Z"
   },
   {
    "duration": 15,
    "start_time": "2024-08-28T17:24:04.115Z"
   },
   {
    "duration": 6,
    "start_time": "2024-08-28T17:24:04.132Z"
   },
   {
    "duration": 9,
    "start_time": "2024-08-28T17:24:04.139Z"
   },
   {
    "duration": 20,
    "start_time": "2024-08-28T17:24:04.150Z"
   },
   {
    "duration": 37,
    "start_time": "2024-08-28T17:24:04.172Z"
   },
   {
    "duration": 13,
    "start_time": "2024-08-28T17:24:04.211Z"
   },
   {
    "duration": 6,
    "start_time": "2024-08-28T17:24:04.227Z"
   },
   {
    "duration": 16,
    "start_time": "2024-08-28T17:24:04.235Z"
   },
   {
    "duration": 865,
    "start_time": "2024-08-28T17:24:04.253Z"
   },
   {
    "duration": 92,
    "start_time": "2024-08-28T17:24:05.119Z"
   },
   {
    "duration": 297,
    "start_time": "2024-08-28T17:24:05.213Z"
   },
   {
    "duration": 121,
    "start_time": "2024-08-28T17:24:05.512Z"
   },
   {
    "duration": 39,
    "start_time": "2024-08-28T17:24:05.635Z"
   },
   {
    "duration": 50,
    "start_time": "2024-08-28T17:24:05.675Z"
   },
   {
    "duration": 26,
    "start_time": "2024-08-28T17:24:05.727Z"
   },
   {
    "duration": 2,
    "start_time": "2024-08-28T17:24:05.755Z"
   },
   {
    "duration": 2,
    "start_time": "2024-08-28T17:24:05.759Z"
   },
   {
    "duration": 4,
    "start_time": "2024-08-28T17:24:05.763Z"
   },
   {
    "duration": 2,
    "start_time": "2024-08-28T17:24:05.771Z"
   },
   {
    "duration": 3,
    "start_time": "2024-08-28T17:24:05.774Z"
   },
   {
    "duration": 2,
    "start_time": "2024-08-28T17:24:05.809Z"
   },
   {
    "duration": 2,
    "start_time": "2024-08-28T17:24:05.813Z"
   },
   {
    "duration": 2,
    "start_time": "2024-08-28T17:24:05.817Z"
   },
   {
    "duration": 2,
    "start_time": "2024-08-28T17:24:05.821Z"
   },
   {
    "duration": 3,
    "start_time": "2024-08-28T17:28:27.154Z"
   },
   {
    "duration": 912,
    "start_time": "2024-08-28T17:28:27.159Z"
   },
   {
    "duration": 6,
    "start_time": "2024-08-28T17:28:28.073Z"
   },
   {
    "duration": 6,
    "start_time": "2024-08-28T17:28:28.081Z"
   },
   {
    "duration": 25,
    "start_time": "2024-08-28T17:28:28.090Z"
   },
   {
    "duration": 9,
    "start_time": "2024-08-28T17:28:28.117Z"
   },
   {
    "duration": 12,
    "start_time": "2024-08-28T17:28:28.128Z"
   },
   {
    "duration": 46,
    "start_time": "2024-08-28T17:28:28.143Z"
   },
   {
    "duration": 23,
    "start_time": "2024-08-28T17:28:28.191Z"
   },
   {
    "duration": 161,
    "start_time": "2024-08-28T17:28:28.216Z"
   },
   {
    "duration": 7,
    "start_time": "2024-08-28T17:28:28.379Z"
   },
   {
    "duration": 94,
    "start_time": "2024-08-28T17:28:28.389Z"
   },
   {
    "duration": 8,
    "start_time": "2024-08-28T17:28:28.485Z"
   },
   {
    "duration": 44,
    "start_time": "2024-08-28T17:28:28.510Z"
   },
   {
    "duration": 91,
    "start_time": "2024-08-28T17:28:28.556Z"
   },
   {
    "duration": 45,
    "start_time": "2024-08-28T17:28:28.648Z"
   },
   {
    "duration": 29,
    "start_time": "2024-08-28T17:28:28.695Z"
   },
   {
    "duration": 9,
    "start_time": "2024-08-28T17:28:28.726Z"
   },
   {
    "duration": 4,
    "start_time": "2024-08-28T17:28:28.737Z"
   },
   {
    "duration": 17,
    "start_time": "2024-08-28T17:28:28.742Z"
   },
   {
    "duration": 11,
    "start_time": "2024-08-28T17:28:28.760Z"
   },
   {
    "duration": 49,
    "start_time": "2024-08-28T17:28:28.773Z"
   },
   {
    "duration": 4,
    "start_time": "2024-08-28T17:28:28.824Z"
   },
   {
    "duration": 9,
    "start_time": "2024-08-28T17:28:28.830Z"
   },
   {
    "duration": 19,
    "start_time": "2024-08-28T17:28:28.841Z"
   },
   {
    "duration": 5,
    "start_time": "2024-08-28T17:28:28.861Z"
   },
   {
    "duration": 47,
    "start_time": "2024-08-28T17:28:28.867Z"
   },
   {
    "duration": 4,
    "start_time": "2024-08-28T17:28:28.916Z"
   },
   {
    "duration": 12,
    "start_time": "2024-08-28T17:28:28.922Z"
   },
   {
    "duration": 802,
    "start_time": "2024-08-28T17:28:28.936Z"
   },
   {
    "duration": 113,
    "start_time": "2024-08-28T17:28:29.741Z"
   },
   {
    "duration": 258,
    "start_time": "2024-08-28T17:28:29.856Z"
   },
   {
    "duration": 77,
    "start_time": "2024-08-28T17:28:30.116Z"
   },
   {
    "duration": 56,
    "start_time": "2024-08-28T17:28:30.195Z"
   },
   {
    "duration": 127,
    "start_time": "2024-08-28T17:28:30.252Z"
   },
   {
    "duration": 39,
    "start_time": "2024-08-28T17:28:50.300Z"
   },
   {
    "duration": 301,
    "start_time": "2024-08-28T17:29:23.208Z"
   },
   {
    "duration": 242,
    "start_time": "2024-08-28T17:29:33.663Z"
   },
   {
    "duration": 31,
    "start_time": "2024-08-28T17:29:35.156Z"
   },
   {
    "duration": 10,
    "start_time": "2024-08-28T17:43:38.859Z"
   },
   {
    "duration": 591,
    "start_time": "2024-08-28T17:53:04.682Z"
   },
   {
    "duration": 171,
    "start_time": "2024-08-29T02:08:08.907Z"
   },
   {
    "duration": 330,
    "start_time": "2024-08-29T02:08:24.295Z"
   },
   {
    "duration": 961,
    "start_time": "2024-08-29T02:08:24.628Z"
   },
   {
    "duration": 8,
    "start_time": "2024-08-29T02:08:25.591Z"
   },
   {
    "duration": 5,
    "start_time": "2024-08-29T02:08:25.611Z"
   },
   {
    "duration": 8,
    "start_time": "2024-08-29T02:08:25.617Z"
   },
   {
    "duration": 6,
    "start_time": "2024-08-29T02:08:25.627Z"
   },
   {
    "duration": 9,
    "start_time": "2024-08-29T02:08:25.634Z"
   },
   {
    "duration": 65,
    "start_time": "2024-08-29T02:08:25.645Z"
   },
   {
    "duration": 9,
    "start_time": "2024-08-29T02:08:25.713Z"
   },
   {
    "duration": 213,
    "start_time": "2024-08-29T02:08:25.725Z"
   },
   {
    "duration": 9,
    "start_time": "2024-08-29T02:08:25.940Z"
   },
   {
    "duration": 162,
    "start_time": "2024-08-29T02:08:25.951Z"
   },
   {
    "duration": 9,
    "start_time": "2024-08-29T02:08:26.115Z"
   },
   {
    "duration": 96,
    "start_time": "2024-08-29T02:08:26.126Z"
   },
   {
    "duration": 120,
    "start_time": "2024-08-29T02:08:26.224Z"
   },
   {
    "duration": 87,
    "start_time": "2024-08-29T02:08:26.347Z"
   },
   {
    "duration": 26,
    "start_time": "2024-08-29T02:08:26.436Z"
   },
   {
    "duration": 13,
    "start_time": "2024-08-29T02:08:26.464Z"
   },
   {
    "duration": 5,
    "start_time": "2024-08-29T02:08:26.478Z"
   },
   {
    "duration": 37,
    "start_time": "2024-08-29T02:08:26.485Z"
   },
   {
    "duration": 13,
    "start_time": "2024-08-29T02:08:26.524Z"
   },
   {
    "duration": 14,
    "start_time": "2024-08-29T02:08:26.541Z"
   },
   {
    "duration": 5,
    "start_time": "2024-08-29T02:08:26.557Z"
   },
   {
    "duration": 10,
    "start_time": "2024-08-29T02:08:26.564Z"
   },
   {
    "duration": 53,
    "start_time": "2024-08-29T02:08:26.575Z"
   },
   {
    "duration": 5,
    "start_time": "2024-08-29T02:08:26.630Z"
   },
   {
    "duration": 12,
    "start_time": "2024-08-29T02:08:26.638Z"
   },
   {
    "duration": 6,
    "start_time": "2024-08-29T02:08:26.655Z"
   },
   {
    "duration": 49,
    "start_time": "2024-08-29T02:08:26.663Z"
   },
   {
    "duration": 952,
    "start_time": "2024-08-29T02:08:26.713Z"
   },
   {
    "duration": 727,
    "start_time": "2024-08-29T02:08:27.667Z"
   },
   {
    "duration": 259,
    "start_time": "2024-08-29T02:08:28.396Z"
   },
   {
    "duration": 104,
    "start_time": "2024-08-29T02:08:28.656Z"
   },
   {
    "duration": 49,
    "start_time": "2024-08-29T02:08:28.761Z"
   },
   {
    "duration": 305,
    "start_time": "2024-08-29T02:08:28.812Z"
   },
   {
    "duration": 37,
    "start_time": "2024-08-29T02:08:29.119Z"
   },
   {
    "duration": 56,
    "start_time": "2024-08-29T02:08:29.158Z"
   },
   {
    "duration": 26,
    "start_time": "2024-08-29T02:08:29.215Z"
   },
   {
    "duration": 12,
    "start_time": "2024-08-29T02:08:29.243Z"
   },
   {
    "duration": 690,
    "start_time": "2024-08-29T02:08:29.257Z"
   },
   {
    "duration": 0,
    "start_time": "2024-08-29T02:08:29.949Z"
   },
   {
    "duration": 0,
    "start_time": "2024-08-29T02:08:29.951Z"
   },
   {
    "duration": 0,
    "start_time": "2024-08-29T02:08:29.952Z"
   },
   {
    "duration": 0,
    "start_time": "2024-08-29T02:08:29.953Z"
   },
   {
    "duration": 0,
    "start_time": "2024-08-29T02:08:29.954Z"
   },
   {
    "duration": 0,
    "start_time": "2024-08-29T02:08:29.956Z"
   },
   {
    "duration": 0,
    "start_time": "2024-08-29T02:08:29.957Z"
   },
   {
    "duration": 0,
    "start_time": "2024-08-29T02:08:29.958Z"
   },
   {
    "duration": 49,
    "start_time": "2024-08-29T02:10:03.798Z"
   },
   {
    "duration": 47,
    "start_time": "2024-08-29T02:11:03.067Z"
   },
   {
    "duration": 12,
    "start_time": "2024-08-29T02:29:30.081Z"
   },
   {
    "duration": 4,
    "start_time": "2024-08-29T02:29:40.380Z"
   },
   {
    "duration": 15,
    "start_time": "2024-08-29T02:32:13.090Z"
   },
   {
    "duration": 6,
    "start_time": "2024-08-29T02:32:25.342Z"
   },
   {
    "duration": 3,
    "start_time": "2024-08-29T02:41:06.974Z"
   },
   {
    "duration": 4,
    "start_time": "2024-08-29T02:41:21.724Z"
   },
   {
    "duration": 431,
    "start_time": "2024-08-29T02:41:56.147Z"
   },
   {
    "duration": 7,
    "start_time": "2024-08-29T02:55:14.905Z"
   },
   {
    "duration": 166,
    "start_time": "2024-08-29T21:56:52.601Z"
   },
   {
    "duration": 311,
    "start_time": "2024-08-29T21:57:04.473Z"
   },
   {
    "duration": 977,
    "start_time": "2024-08-29T21:57:04.786Z"
   },
   {
    "duration": 10,
    "start_time": "2024-08-29T21:57:05.765Z"
   },
   {
    "duration": 7,
    "start_time": "2024-08-29T21:57:05.777Z"
   },
   {
    "duration": 8,
    "start_time": "2024-08-29T21:57:05.786Z"
   },
   {
    "duration": 10,
    "start_time": "2024-08-29T21:57:05.796Z"
   },
   {
    "duration": 7,
    "start_time": "2024-08-29T21:57:05.807Z"
   },
   {
    "duration": 83,
    "start_time": "2024-08-29T21:57:05.816Z"
   },
   {
    "duration": 8,
    "start_time": "2024-08-29T21:57:05.902Z"
   },
   {
    "duration": 222,
    "start_time": "2024-08-29T21:57:05.913Z"
   },
   {
    "duration": 6,
    "start_time": "2024-08-29T21:57:06.146Z"
   },
   {
    "duration": 101,
    "start_time": "2024-08-29T21:57:06.154Z"
   },
   {
    "duration": 8,
    "start_time": "2024-08-29T21:57:06.257Z"
   },
   {
    "duration": 84,
    "start_time": "2024-08-29T21:57:06.269Z"
   },
   {
    "duration": 100,
    "start_time": "2024-08-29T21:57:06.354Z"
   },
   {
    "duration": 55,
    "start_time": "2024-08-29T21:57:06.456Z"
   },
   {
    "duration": 27,
    "start_time": "2024-08-29T21:57:06.513Z"
   },
   {
    "duration": 9,
    "start_time": "2024-08-29T21:57:06.551Z"
   },
   {
    "duration": 4,
    "start_time": "2024-08-29T21:57:06.562Z"
   },
   {
    "duration": 14,
    "start_time": "2024-08-29T21:57:06.568Z"
   },
   {
    "duration": 10,
    "start_time": "2024-08-29T21:57:06.584Z"
   },
   {
    "duration": 39,
    "start_time": "2024-08-29T21:57:06.596Z"
   },
   {
    "duration": 5,
    "start_time": "2024-08-29T21:57:06.648Z"
   },
   {
    "duration": 9,
    "start_time": "2024-08-29T21:57:06.656Z"
   },
   {
    "duration": 19,
    "start_time": "2024-08-29T21:57:06.667Z"
   },
   {
    "duration": 5,
    "start_time": "2024-08-29T21:57:06.687Z"
   },
   {
    "duration": 12,
    "start_time": "2024-08-29T21:57:06.694Z"
   },
   {
    "duration": 28,
    "start_time": "2024-08-29T21:57:06.707Z"
   },
   {
    "duration": 13,
    "start_time": "2024-08-29T21:57:06.744Z"
   },
   {
    "duration": 817,
    "start_time": "2024-08-29T21:57:06.758Z"
   },
   {
    "duration": 733,
    "start_time": "2024-08-29T21:57:07.577Z"
   },
   {
    "duration": 32,
    "start_time": "2024-08-29T21:57:08.311Z"
   },
   {
    "duration": 6,
    "start_time": "2024-08-29T21:57:08.348Z"
   },
   {
    "duration": 5,
    "start_time": "2024-08-29T21:57:08.356Z"
   },
   {
    "duration": 45,
    "start_time": "2024-08-29T22:12:42.101Z"
   },
   {
    "duration": 4,
    "start_time": "2024-08-29T22:12:50.549Z"
   },
   {
    "duration": 6,
    "start_time": "2024-08-29T22:29:20.963Z"
   },
   {
    "duration": 158,
    "start_time": "2024-08-30T10:13:36.934Z"
   },
   {
    "duration": 13,
    "start_time": "2024-08-30T10:14:05.961Z"
   },
   {
    "duration": 322,
    "start_time": "2024-08-30T10:14:19.328Z"
   },
   {
    "duration": 917,
    "start_time": "2024-08-30T10:14:19.653Z"
   },
   {
    "duration": 8,
    "start_time": "2024-08-30T10:14:20.572Z"
   },
   {
    "duration": 7,
    "start_time": "2024-08-30T10:14:20.582Z"
   },
   {
    "duration": 21,
    "start_time": "2024-08-30T10:14:20.590Z"
   },
   {
    "duration": 6,
    "start_time": "2024-08-30T10:14:20.612Z"
   },
   {
    "duration": 7,
    "start_time": "2024-08-30T10:14:20.620Z"
   },
   {
    "duration": 59,
    "start_time": "2024-08-30T10:14:20.629Z"
   },
   {
    "duration": 9,
    "start_time": "2024-08-30T10:14:20.690Z"
   },
   {
    "duration": 172,
    "start_time": "2024-08-30T10:14:20.702Z"
   },
   {
    "duration": 8,
    "start_time": "2024-08-30T10:14:20.876Z"
   },
   {
    "duration": 106,
    "start_time": "2024-08-30T10:14:20.885Z"
   },
   {
    "duration": 13,
    "start_time": "2024-08-30T10:14:20.993Z"
   },
   {
    "duration": 65,
    "start_time": "2024-08-30T10:14:21.007Z"
   },
   {
    "duration": 118,
    "start_time": "2024-08-30T10:14:21.073Z"
   },
   {
    "duration": 62,
    "start_time": "2024-08-30T10:14:21.193Z"
   },
   {
    "duration": 17,
    "start_time": "2024-08-30T10:14:21.258Z"
   },
   {
    "duration": 8,
    "start_time": "2024-08-30T10:14:21.277Z"
   },
   {
    "duration": 3,
    "start_time": "2024-08-30T10:14:21.306Z"
   },
   {
    "duration": 14,
    "start_time": "2024-08-30T10:14:21.311Z"
   },
   {
    "duration": 11,
    "start_time": "2024-08-30T10:14:21.327Z"
   },
   {
    "duration": 13,
    "start_time": "2024-08-30T10:14:21.340Z"
   },
   {
    "duration": 6,
    "start_time": "2024-08-30T10:14:21.354Z"
   },
   {
    "duration": 9,
    "start_time": "2024-08-30T10:14:21.361Z"
   },
   {
    "duration": 51,
    "start_time": "2024-08-30T10:14:21.371Z"
   },
   {
    "duration": 4,
    "start_time": "2024-08-30T10:14:21.424Z"
   },
   {
    "duration": 11,
    "start_time": "2024-08-30T10:14:21.430Z"
   },
   {
    "duration": 4,
    "start_time": "2024-08-30T10:14:21.444Z"
   },
   {
    "duration": 12,
    "start_time": "2024-08-30T10:14:21.449Z"
   },
   {
    "duration": 824,
    "start_time": "2024-08-30T10:14:21.463Z"
   },
   {
    "duration": 737,
    "start_time": "2024-08-30T10:14:22.289Z"
   },
   {
    "duration": 11,
    "start_time": "2024-08-30T10:14:23.028Z"
   },
   {
    "duration": 7,
    "start_time": "2024-08-30T10:14:23.040Z"
   },
   {
    "duration": 6,
    "start_time": "2024-08-30T10:14:31.974Z"
   },
   {
    "duration": 4,
    "start_time": "2024-08-30T10:16:51.504Z"
   },
   {
    "duration": 4,
    "start_time": "2024-08-30T10:17:13.773Z"
   },
   {
    "duration": 548,
    "start_time": "2024-08-30T10:24:06.475Z"
   },
   {
    "duration": 5,
    "start_time": "2024-08-30T10:24:47.815Z"
   },
   {
    "duration": 14,
    "start_time": "2024-08-30T10:25:06.413Z"
   },
   {
    "duration": 12,
    "start_time": "2024-08-30T10:25:31.508Z"
   },
   {
    "duration": 4,
    "start_time": "2024-08-30T10:26:59.934Z"
   },
   {
    "duration": 11,
    "start_time": "2024-08-30T10:27:06.641Z"
   },
   {
    "duration": 15,
    "start_time": "2024-08-30T10:39:46.878Z"
   },
   {
    "duration": 13,
    "start_time": "2024-08-30T10:41:19.469Z"
   },
   {
    "duration": 11,
    "start_time": "2024-08-30T10:41:26.642Z"
   },
   {
    "duration": 8,
    "start_time": "2024-08-30T10:41:49.671Z"
   },
   {
    "duration": 7,
    "start_time": "2024-08-30T10:42:46.410Z"
   },
   {
    "duration": 13,
    "start_time": "2024-08-30T10:44:31.238Z"
   },
   {
    "duration": 6,
    "start_time": "2024-08-30T10:44:31.742Z"
   },
   {
    "duration": 10,
    "start_time": "2024-08-30T10:46:28.410Z"
   },
   {
    "duration": 375,
    "start_time": "2024-08-30T10:50:59.582Z"
   },
   {
    "duration": 77,
    "start_time": "2024-08-30T10:51:56.871Z"
   },
   {
    "duration": 76,
    "start_time": "2024-08-30T11:02:15.212Z"
   },
   {
    "duration": 17,
    "start_time": "2024-08-30T11:07:02.172Z"
   },
   {
    "duration": 26,
    "start_time": "2024-08-30T11:07:33.792Z"
   },
   {
    "duration": 77,
    "start_time": "2024-08-30T11:08:08.870Z"
   },
   {
    "duration": 4,
    "start_time": "2024-08-30T11:23:35.291Z"
   },
   {
    "duration": 8,
    "start_time": "2024-08-30T11:23:52.579Z"
   },
   {
    "duration": 18,
    "start_time": "2024-08-30T11:24:15.891Z"
   },
   {
    "duration": 3,
    "start_time": "2024-08-30T11:24:32.813Z"
   },
   {
    "duration": 876,
    "start_time": "2024-08-30T11:24:32.819Z"
   },
   {
    "duration": 14,
    "start_time": "2024-08-30T11:24:33.697Z"
   },
   {
    "duration": 5,
    "start_time": "2024-08-30T11:24:33.714Z"
   },
   {
    "duration": 8,
    "start_time": "2024-08-30T11:24:33.723Z"
   },
   {
    "duration": 4,
    "start_time": "2024-08-30T11:24:33.733Z"
   },
   {
    "duration": 8,
    "start_time": "2024-08-30T11:24:33.739Z"
   },
   {
    "duration": 61,
    "start_time": "2024-08-30T11:24:33.748Z"
   },
   {
    "duration": 10,
    "start_time": "2024-08-30T11:24:33.811Z"
   },
   {
    "duration": 151,
    "start_time": "2024-08-30T11:24:33.824Z"
   },
   {
    "duration": 6,
    "start_time": "2024-08-30T11:24:33.977Z"
   },
   {
    "duration": 96,
    "start_time": "2024-08-30T11:24:33.985Z"
   },
   {
    "duration": 7,
    "start_time": "2024-08-30T11:24:34.085Z"
   },
   {
    "duration": 54,
    "start_time": "2024-08-30T11:24:34.105Z"
   },
   {
    "duration": 96,
    "start_time": "2024-08-30T11:24:34.161Z"
   },
   {
    "duration": 64,
    "start_time": "2024-08-30T11:24:34.258Z"
   },
   {
    "duration": 22,
    "start_time": "2024-08-30T11:24:34.324Z"
   },
   {
    "duration": 10,
    "start_time": "2024-08-30T11:24:34.348Z"
   },
   {
    "duration": 4,
    "start_time": "2024-08-30T11:24:34.360Z"
   },
   {
    "duration": 16,
    "start_time": "2024-08-30T11:24:34.365Z"
   },
   {
    "duration": 31,
    "start_time": "2024-08-30T11:24:34.382Z"
   },
   {
    "duration": 24,
    "start_time": "2024-08-30T11:24:34.414Z"
   },
   {
    "duration": 5,
    "start_time": "2024-08-30T11:24:34.441Z"
   },
   {
    "duration": 9,
    "start_time": "2024-08-30T11:24:34.448Z"
   },
   {
    "duration": 21,
    "start_time": "2024-08-30T11:24:34.459Z"
   },
   {
    "duration": 4,
    "start_time": "2024-08-30T11:24:34.505Z"
   },
   {
    "duration": 14,
    "start_time": "2024-08-30T11:24:34.512Z"
   },
   {
    "duration": 7,
    "start_time": "2024-08-30T11:24:34.527Z"
   },
   {
    "duration": 17,
    "start_time": "2024-08-30T11:24:34.536Z"
   },
   {
    "duration": 760,
    "start_time": "2024-08-30T11:24:34.555Z"
   },
   {
    "duration": 701,
    "start_time": "2024-08-30T11:24:35.317Z"
   },
   {
    "duration": 9,
    "start_time": "2024-08-30T11:24:36.020Z"
   },
   {
    "duration": 7,
    "start_time": "2024-08-30T11:24:36.031Z"
   },
   {
    "duration": 7,
    "start_time": "2024-08-30T11:24:36.040Z"
   },
   {
    "duration": 6,
    "start_time": "2024-08-30T11:24:36.049Z"
   },
   {
    "duration": 7,
    "start_time": "2024-08-30T11:24:36.057Z"
   },
   {
    "duration": 45,
    "start_time": "2024-08-30T11:24:36.067Z"
   },
   {
    "duration": 14,
    "start_time": "2024-08-30T11:24:45.022Z"
   },
   {
    "duration": 12,
    "start_time": "2024-08-30T11:26:44.814Z"
   },
   {
    "duration": 3,
    "start_time": "2024-08-30T11:26:55.230Z"
   },
   {
    "duration": 837,
    "start_time": "2024-08-30T11:26:55.235Z"
   },
   {
    "duration": 7,
    "start_time": "2024-08-30T11:26:56.074Z"
   },
   {
    "duration": 4,
    "start_time": "2024-08-30T11:26:56.084Z"
   },
   {
    "duration": 20,
    "start_time": "2024-08-30T11:26:56.090Z"
   },
   {
    "duration": 7,
    "start_time": "2024-08-30T11:26:56.111Z"
   },
   {
    "duration": 9,
    "start_time": "2024-08-30T11:26:56.120Z"
   },
   {
    "duration": 30,
    "start_time": "2024-08-30T11:26:56.130Z"
   },
   {
    "duration": 9,
    "start_time": "2024-08-30T11:26:56.164Z"
   },
   {
    "duration": 160,
    "start_time": "2024-08-30T11:26:56.175Z"
   },
   {
    "duration": 7,
    "start_time": "2024-08-30T11:26:56.337Z"
   },
   {
    "duration": 93,
    "start_time": "2024-08-30T11:26:56.345Z"
   },
   {
    "duration": 8,
    "start_time": "2024-08-30T11:26:56.440Z"
   },
   {
    "duration": 64,
    "start_time": "2024-08-30T11:26:56.451Z"
   },
   {
    "duration": 74,
    "start_time": "2024-08-30T11:26:56.518Z"
   },
   {
    "duration": 52,
    "start_time": "2024-08-30T11:26:56.594Z"
   },
   {
    "duration": 17,
    "start_time": "2024-08-30T11:26:56.648Z"
   },
   {
    "duration": 9,
    "start_time": "2024-08-30T11:26:56.667Z"
   },
   {
    "duration": 4,
    "start_time": "2024-08-30T11:26:56.677Z"
   },
   {
    "duration": 15,
    "start_time": "2024-08-30T11:26:56.705Z"
   },
   {
    "duration": 9,
    "start_time": "2024-08-30T11:26:56.721Z"
   },
   {
    "duration": 14,
    "start_time": "2024-08-30T11:26:56.731Z"
   },
   {
    "duration": 5,
    "start_time": "2024-08-30T11:26:56.746Z"
   },
   {
    "duration": 8,
    "start_time": "2024-08-30T11:26:56.756Z"
   },
   {
    "duration": 53,
    "start_time": "2024-08-30T11:26:56.765Z"
   },
   {
    "duration": 4,
    "start_time": "2024-08-30T11:26:56.820Z"
   },
   {
    "duration": 10,
    "start_time": "2024-08-30T11:26:56.826Z"
   },
   {
    "duration": 5,
    "start_time": "2024-08-30T11:26:56.838Z"
   },
   {
    "duration": 12,
    "start_time": "2024-08-30T11:26:56.846Z"
   },
   {
    "duration": 725,
    "start_time": "2024-08-30T11:26:56.860Z"
   },
   {
    "duration": 631,
    "start_time": "2024-08-30T11:26:57.587Z"
   },
   {
    "duration": 12,
    "start_time": "2024-08-30T11:26:58.220Z"
   },
   {
    "duration": 7,
    "start_time": "2024-08-30T11:26:58.234Z"
   },
   {
    "duration": 7,
    "start_time": "2024-08-30T11:26:58.242Z"
   },
   {
    "duration": 6,
    "start_time": "2024-08-30T11:26:58.250Z"
   },
   {
    "duration": 6,
    "start_time": "2024-08-30T11:26:58.259Z"
   },
   {
    "duration": 9,
    "start_time": "2024-08-30T11:27:33.288Z"
   },
   {
    "duration": 5,
    "start_time": "2024-08-30T11:27:40.062Z"
   },
   {
    "duration": 10,
    "start_time": "2024-08-30T11:27:53.656Z"
   },
   {
    "duration": 3,
    "start_time": "2024-08-30T11:30:41.375Z"
   },
   {
    "duration": 8,
    "start_time": "2024-08-30T11:33:05.425Z"
   },
   {
    "duration": 12,
    "start_time": "2024-08-30T11:33:27.811Z"
   },
   {
    "duration": 14,
    "start_time": "2024-08-30T11:33:34.219Z"
   },
   {
    "duration": 7,
    "start_time": "2024-08-30T11:34:05.640Z"
   },
   {
    "duration": 16,
    "start_time": "2024-08-30T11:34:30.146Z"
   },
   {
    "duration": 215,
    "start_time": "2024-08-30T11:35:04.494Z"
   },
   {
    "duration": 176,
    "start_time": "2024-08-30T11:35:25.553Z"
   },
   {
    "duration": 14,
    "start_time": "2024-08-30T11:57:12.800Z"
   },
   {
    "duration": 225,
    "start_time": "2024-08-30T11:59:34.003Z"
   },
   {
    "duration": 23,
    "start_time": "2024-08-30T11:59:48.445Z"
   },
   {
    "duration": 53,
    "start_time": "2024-08-30T12:00:28.650Z"
   },
   {
    "duration": 40,
    "start_time": "2024-08-30T12:01:00.350Z"
   },
   {
    "duration": 63,
    "start_time": "2024-08-30T12:01:33.291Z"
   },
   {
    "duration": 29,
    "start_time": "2024-08-30T12:01:43.612Z"
   },
   {
    "duration": 7,
    "start_time": "2024-08-30T12:01:58.294Z"
   },
   {
    "duration": 5,
    "start_time": "2024-08-30T12:04:26.885Z"
   },
   {
    "duration": 16,
    "start_time": "2024-08-30T12:07:37.136Z"
   },
   {
    "duration": 4,
    "start_time": "2024-08-30T12:10:35.606Z"
   },
   {
    "duration": 6,
    "start_time": "2024-08-30T12:10:49.114Z"
   },
   {
    "duration": 6,
    "start_time": "2024-08-30T12:12:58.461Z"
   },
   {
    "duration": 266,
    "start_time": "2024-08-30T12:13:19.684Z"
   },
   {
    "duration": 113,
    "start_time": "2024-08-30T12:14:24.247Z"
   },
   {
    "duration": 23,
    "start_time": "2024-08-30T12:16:10.536Z"
   },
   {
    "duration": 13,
    "start_time": "2024-08-30T12:17:52.292Z"
   },
   {
    "duration": 38,
    "start_time": "2024-08-30T13:15:08.438Z"
   },
   {
    "duration": 13,
    "start_time": "2024-08-30T13:15:35.204Z"
   },
   {
    "duration": 215,
    "start_time": "2024-08-30T13:16:30.874Z"
   },
   {
    "duration": 8,
    "start_time": "2024-08-30T14:27:27.551Z"
   },
   {
    "duration": 27,
    "start_time": "2024-08-30T14:28:23.738Z"
   },
   {
    "duration": 28,
    "start_time": "2024-08-30T14:28:48.995Z"
   },
   {
    "duration": 292,
    "start_time": "2024-09-06T16:47:25.686Z"
   },
   {
    "duration": 934,
    "start_time": "2024-09-06T16:47:25.980Z"
   },
   {
    "duration": 8,
    "start_time": "2024-09-06T16:47:26.916Z"
   },
   {
    "duration": 6,
    "start_time": "2024-09-06T16:47:26.927Z"
   },
   {
    "duration": 9,
    "start_time": "2024-09-06T16:47:26.934Z"
   },
   {
    "duration": 5,
    "start_time": "2024-09-06T16:47:26.944Z"
   },
   {
    "duration": 8,
    "start_time": "2024-09-06T16:47:26.951Z"
   },
   {
    "duration": 61,
    "start_time": "2024-09-06T16:47:26.960Z"
   },
   {
    "duration": 10,
    "start_time": "2024-09-06T16:47:27.022Z"
   },
   {
    "duration": 177,
    "start_time": "2024-09-06T16:47:27.036Z"
   },
   {
    "duration": 8,
    "start_time": "2024-09-06T16:47:27.215Z"
   },
   {
    "duration": 105,
    "start_time": "2024-09-06T16:47:27.225Z"
   },
   {
    "duration": 8,
    "start_time": "2024-09-06T16:47:27.332Z"
   },
   {
    "duration": 74,
    "start_time": "2024-09-06T16:47:27.342Z"
   },
   {
    "duration": 104,
    "start_time": "2024-09-06T16:47:27.419Z"
   },
   {
    "duration": 68,
    "start_time": "2024-09-06T16:47:27.525Z"
   },
   {
    "duration": 18,
    "start_time": "2024-09-06T16:47:27.605Z"
   },
   {
    "duration": 9,
    "start_time": "2024-09-06T16:47:27.624Z"
   },
   {
    "duration": 3,
    "start_time": "2024-09-06T16:47:27.635Z"
   },
   {
    "duration": 13,
    "start_time": "2024-09-06T16:47:27.640Z"
   },
   {
    "duration": 12,
    "start_time": "2024-09-06T16:47:27.655Z"
   },
   {
    "duration": 46,
    "start_time": "2024-09-06T16:47:27.668Z"
   },
   {
    "duration": 5,
    "start_time": "2024-09-06T16:47:27.717Z"
   },
   {
    "duration": 8,
    "start_time": "2024-09-06T16:47:27.725Z"
   },
   {
    "duration": 19,
    "start_time": "2024-09-06T16:47:27.735Z"
   },
   {
    "duration": 4,
    "start_time": "2024-09-06T16:47:27.756Z"
   },
   {
    "duration": 11,
    "start_time": "2024-09-06T16:47:27.762Z"
   },
   {
    "duration": 5,
    "start_time": "2024-09-06T16:47:27.804Z"
   },
   {
    "duration": 17,
    "start_time": "2024-09-06T16:47:27.811Z"
   },
   {
    "duration": 787,
    "start_time": "2024-09-06T16:47:27.830Z"
   },
   {
    "duration": 703,
    "start_time": "2024-09-06T16:47:28.620Z"
   },
   {
    "duration": 12,
    "start_time": "2024-09-06T16:47:29.325Z"
   },
   {
    "duration": 8,
    "start_time": "2024-09-06T16:47:29.338Z"
   },
   {
    "duration": 6,
    "start_time": "2024-09-06T16:47:29.347Z"
   },
   {
    "duration": 6,
    "start_time": "2024-09-06T16:47:29.355Z"
   },
   {
    "duration": 7,
    "start_time": "2024-09-06T16:47:29.362Z"
   },
   {
    "duration": 39,
    "start_time": "2024-09-06T16:47:29.370Z"
   },
   {
    "duration": 5,
    "start_time": "2024-09-06T16:47:29.410Z"
   },
   {
    "duration": 17,
    "start_time": "2024-09-06T16:47:29.416Z"
   },
   {
    "duration": 16,
    "start_time": "2024-09-06T16:47:29.435Z"
   },
   {
    "duration": 219,
    "start_time": "2024-09-06T16:47:29.453Z"
   },
   {
    "duration": 14,
    "start_time": "2024-09-06T16:47:29.674Z"
   },
   {
    "duration": 10,
    "start_time": "2024-09-06T16:47:29.706Z"
   },
   {
    "duration": 6,
    "start_time": "2024-09-06T16:47:29.717Z"
   },
   {
    "duration": 2,
    "start_time": "2024-09-06T16:47:29.725Z"
   },
   {
    "duration": 34,
    "start_time": "2024-09-06T16:47:29.728Z"
   },
   {
    "duration": 674,
    "start_time": "2024-09-06T16:54:01.050Z"
   },
   {
    "duration": 288,
    "start_time": "2024-09-06T19:10:44.074Z"
   },
   {
    "duration": 903,
    "start_time": "2024-09-06T19:10:44.364Z"
   },
   {
    "duration": 8,
    "start_time": "2024-09-06T19:10:45.269Z"
   },
   {
    "duration": 17,
    "start_time": "2024-09-06T19:10:45.279Z"
   },
   {
    "duration": 8,
    "start_time": "2024-09-06T19:10:45.298Z"
   },
   {
    "duration": 8,
    "start_time": "2024-09-06T19:10:45.308Z"
   },
   {
    "duration": 8,
    "start_time": "2024-09-06T19:10:45.318Z"
   },
   {
    "duration": 65,
    "start_time": "2024-09-06T19:10:45.328Z"
   },
   {
    "duration": 9,
    "start_time": "2024-09-06T19:10:45.395Z"
   },
   {
    "duration": 180,
    "start_time": "2024-09-06T19:10:45.407Z"
   },
   {
    "duration": 7,
    "start_time": "2024-09-06T19:10:45.589Z"
   },
   {
    "duration": 108,
    "start_time": "2024-09-06T19:10:45.597Z"
   },
   {
    "duration": 7,
    "start_time": "2024-09-06T19:10:45.707Z"
   },
   {
    "duration": 82,
    "start_time": "2024-09-06T19:10:45.716Z"
   },
   {
    "duration": 111,
    "start_time": "2024-09-06T19:10:45.800Z"
   },
   {
    "duration": 58,
    "start_time": "2024-09-06T19:10:45.912Z"
   },
   {
    "duration": 29,
    "start_time": "2024-09-06T19:10:45.971Z"
   },
   {
    "duration": 9,
    "start_time": "2024-09-06T19:10:46.001Z"
   },
   {
    "duration": 4,
    "start_time": "2024-09-06T19:10:46.012Z"
   },
   {
    "duration": 13,
    "start_time": "2024-09-06T19:10:46.017Z"
   },
   {
    "duration": 10,
    "start_time": "2024-09-06T19:10:46.032Z"
   },
   {
    "duration": 43,
    "start_time": "2024-09-06T19:10:46.044Z"
   },
   {
    "duration": 5,
    "start_time": "2024-09-06T19:10:46.089Z"
   },
   {
    "duration": 9,
    "start_time": "2024-09-06T19:10:46.095Z"
   },
   {
    "duration": 19,
    "start_time": "2024-09-06T19:10:46.105Z"
   },
   {
    "duration": 5,
    "start_time": "2024-09-06T19:10:46.126Z"
   },
   {
    "duration": 10,
    "start_time": "2024-09-06T19:10:46.133Z"
   },
   {
    "duration": 41,
    "start_time": "2024-09-06T19:10:46.147Z"
   },
   {
    "duration": 13,
    "start_time": "2024-09-06T19:10:46.190Z"
   },
   {
    "duration": 758,
    "start_time": "2024-09-06T19:10:46.204Z"
   },
   {
    "duration": 678,
    "start_time": "2024-09-06T19:10:46.965Z"
   },
   {
    "duration": 12,
    "start_time": "2024-09-06T19:10:47.645Z"
   },
   {
    "duration": 6,
    "start_time": "2024-09-06T19:10:47.659Z"
   },
   {
    "duration": 24,
    "start_time": "2024-09-06T19:10:47.667Z"
   },
   {
    "duration": 6,
    "start_time": "2024-09-06T19:10:47.692Z"
   },
   {
    "duration": 7,
    "start_time": "2024-09-06T19:10:47.700Z"
   },
   {
    "duration": 6,
    "start_time": "2024-09-06T19:10:47.708Z"
   },
   {
    "duration": 5,
    "start_time": "2024-09-06T19:10:47.715Z"
   },
   {
    "duration": 16,
    "start_time": "2024-09-06T19:10:47.722Z"
   },
   {
    "duration": 52,
    "start_time": "2024-09-06T19:10:47.740Z"
   },
   {
    "duration": 194,
    "start_time": "2024-09-06T19:10:47.794Z"
   },
   {
    "duration": 11,
    "start_time": "2024-09-06T19:10:47.990Z"
   },
   {
    "duration": 9,
    "start_time": "2024-09-06T19:10:48.003Z"
   },
   {
    "duration": 5,
    "start_time": "2024-09-06T19:10:48.014Z"
   },
   {
    "duration": 682,
    "start_time": "2024-09-06T19:10:48.021Z"
   },
   {
    "duration": 0,
    "start_time": "2024-09-06T19:10:48.706Z"
   },
   {
    "duration": 48,
    "start_time": "2024-09-06T19:13:18.739Z"
   },
   {
    "duration": 313,
    "start_time": "2024-09-06T19:22:09.616Z"
   },
   {
    "duration": 819,
    "start_time": "2024-09-06T19:22:09.931Z"
   },
   {
    "duration": 7,
    "start_time": "2024-09-06T19:22:10.752Z"
   },
   {
    "duration": 6,
    "start_time": "2024-09-06T19:22:10.761Z"
   },
   {
    "duration": 21,
    "start_time": "2024-09-06T19:22:10.769Z"
   },
   {
    "duration": 4,
    "start_time": "2024-09-06T19:22:10.793Z"
   },
   {
    "duration": 8,
    "start_time": "2024-09-06T19:22:10.799Z"
   },
   {
    "duration": 31,
    "start_time": "2024-09-06T19:22:10.809Z"
   },
   {
    "duration": 9,
    "start_time": "2024-09-06T19:22:10.842Z"
   },
   {
    "duration": 167,
    "start_time": "2024-09-06T19:22:10.853Z"
   },
   {
    "duration": 8,
    "start_time": "2024-09-06T19:22:11.022Z"
   },
   {
    "duration": 113,
    "start_time": "2024-09-06T19:22:11.032Z"
   },
   {
    "duration": 8,
    "start_time": "2024-09-06T19:22:11.147Z"
   },
   {
    "duration": 81,
    "start_time": "2024-09-06T19:22:11.159Z"
   },
   {
    "duration": 103,
    "start_time": "2024-09-06T19:22:11.242Z"
   },
   {
    "duration": 68,
    "start_time": "2024-09-06T19:22:11.346Z"
   },
   {
    "duration": 17,
    "start_time": "2024-09-06T19:22:11.416Z"
   },
   {
    "duration": 10,
    "start_time": "2024-09-06T19:22:11.434Z"
   },
   {
    "duration": 4,
    "start_time": "2024-09-06T19:22:11.446Z"
   },
   {
    "duration": 43,
    "start_time": "2024-09-06T19:22:11.451Z"
   },
   {
    "duration": 12,
    "start_time": "2024-09-06T19:22:11.495Z"
   },
   {
    "duration": 14,
    "start_time": "2024-09-06T19:22:11.508Z"
   },
   {
    "duration": 5,
    "start_time": "2024-09-06T19:22:11.523Z"
   },
   {
    "duration": 8,
    "start_time": "2024-09-06T19:22:11.530Z"
   },
   {
    "duration": 50,
    "start_time": "2024-09-06T19:22:11.540Z"
   },
   {
    "duration": 5,
    "start_time": "2024-09-06T19:22:11.593Z"
   },
   {
    "duration": 11,
    "start_time": "2024-09-06T19:22:11.600Z"
   },
   {
    "duration": 6,
    "start_time": "2024-09-06T19:22:11.613Z"
   },
   {
    "duration": 13,
    "start_time": "2024-09-06T19:22:11.621Z"
   },
   {
    "duration": 785,
    "start_time": "2024-09-06T19:22:11.636Z"
   },
   {
    "duration": 714,
    "start_time": "2024-09-06T19:22:12.423Z"
   },
   {
    "duration": 19,
    "start_time": "2024-09-06T19:22:13.141Z"
   },
   {
    "duration": 8,
    "start_time": "2024-09-06T19:22:13.162Z"
   },
   {
    "duration": 24,
    "start_time": "2024-09-06T19:22:13.172Z"
   },
   {
    "duration": 8,
    "start_time": "2024-09-06T19:22:13.200Z"
   },
   {
    "duration": 6,
    "start_time": "2024-09-06T19:22:13.210Z"
   },
   {
    "duration": 7,
    "start_time": "2024-09-06T19:22:13.218Z"
   },
   {
    "duration": 4,
    "start_time": "2024-09-06T19:22:13.227Z"
   },
   {
    "duration": 16,
    "start_time": "2024-09-06T19:22:13.233Z"
   },
   {
    "duration": 48,
    "start_time": "2024-09-06T19:22:13.251Z"
   },
   {
    "duration": 197,
    "start_time": "2024-09-06T19:22:13.303Z"
   },
   {
    "duration": 12,
    "start_time": "2024-09-06T19:22:13.502Z"
   },
   {
    "duration": 8,
    "start_time": "2024-09-06T19:22:13.516Z"
   },
   {
    "duration": 6,
    "start_time": "2024-09-06T19:22:13.526Z"
   },
   {
    "duration": 7,
    "start_time": "2024-09-06T19:22:13.534Z"
   },
   {
    "duration": 0,
    "start_time": "2024-09-06T19:22:13.542Z"
   },
   {
    "duration": 529,
    "start_time": "2024-09-06T19:22:46.367Z"
   },
   {
    "duration": 507,
    "start_time": "2024-09-06T19:23:01.538Z"
   },
   {
    "duration": 499,
    "start_time": "2024-09-06T19:23:10.911Z"
   },
   {
    "duration": 538,
    "start_time": "2024-09-06T19:23:41.092Z"
   },
   {
    "duration": 512,
    "start_time": "2024-09-06T19:23:58.671Z"
   },
   {
    "duration": 29,
    "start_time": "2024-09-06T19:24:06.426Z"
   },
   {
    "duration": 4,
    "start_time": "2024-09-06T19:35:49.631Z"
   },
   {
    "duration": 297,
    "start_time": "2024-09-10T00:32:33.000Z"
   },
   {
    "duration": 939,
    "start_time": "2024-09-10T00:32:33.300Z"
   },
   {
    "duration": 8,
    "start_time": "2024-09-10T00:32:34.242Z"
   },
   {
    "duration": 7,
    "start_time": "2024-09-10T00:32:34.252Z"
   },
   {
    "duration": 8,
    "start_time": "2024-09-10T00:32:34.262Z"
   },
   {
    "duration": 6,
    "start_time": "2024-09-10T00:32:34.272Z"
   },
   {
    "duration": 27,
    "start_time": "2024-09-10T00:32:34.281Z"
   },
   {
    "duration": 58,
    "start_time": "2024-09-10T00:32:34.310Z"
   },
   {
    "duration": 9,
    "start_time": "2024-09-10T00:32:34.370Z"
   },
   {
    "duration": 193,
    "start_time": "2024-09-10T00:32:34.380Z"
   },
   {
    "duration": 8,
    "start_time": "2024-09-10T00:32:34.575Z"
   },
   {
    "duration": 121,
    "start_time": "2024-09-10T00:32:34.584Z"
   },
   {
    "duration": 9,
    "start_time": "2024-09-10T00:32:34.707Z"
   },
   {
    "duration": 69,
    "start_time": "2024-09-10T00:32:34.720Z"
   },
   {
    "duration": 122,
    "start_time": "2024-09-10T00:32:34.791Z"
   },
   {
    "duration": 59,
    "start_time": "2024-09-10T00:32:34.914Z"
   },
   {
    "duration": 34,
    "start_time": "2024-09-10T00:32:34.975Z"
   },
   {
    "duration": 9,
    "start_time": "2024-09-10T00:32:35.011Z"
   },
   {
    "duration": 3,
    "start_time": "2024-09-10T00:32:35.021Z"
   },
   {
    "duration": 14,
    "start_time": "2024-09-10T00:32:35.026Z"
   },
   {
    "duration": 11,
    "start_time": "2024-09-10T00:32:35.041Z"
   },
   {
    "duration": 14,
    "start_time": "2024-09-10T00:32:35.054Z"
   },
   {
    "duration": 36,
    "start_time": "2024-09-10T00:32:35.069Z"
   },
   {
    "duration": 9,
    "start_time": "2024-09-10T00:32:35.107Z"
   },
   {
    "duration": 19,
    "start_time": "2024-09-10T00:32:35.118Z"
   },
   {
    "duration": 4,
    "start_time": "2024-09-10T00:32:35.139Z"
   },
   {
    "duration": 11,
    "start_time": "2024-09-10T00:32:35.144Z"
   },
   {
    "duration": 5,
    "start_time": "2024-09-10T00:32:35.156Z"
   },
   {
    "duration": 49,
    "start_time": "2024-09-10T00:32:35.162Z"
   },
   {
    "duration": 815,
    "start_time": "2024-09-10T00:32:35.213Z"
   },
   {
    "duration": 731,
    "start_time": "2024-09-10T00:32:36.029Z"
   },
   {
    "duration": 12,
    "start_time": "2024-09-10T00:32:36.762Z"
   },
   {
    "duration": 7,
    "start_time": "2024-09-10T00:32:36.775Z"
   },
   {
    "duration": 23,
    "start_time": "2024-09-10T00:32:36.783Z"
   },
   {
    "duration": 7,
    "start_time": "2024-09-10T00:32:36.808Z"
   },
   {
    "duration": 8,
    "start_time": "2024-09-10T00:32:36.816Z"
   },
   {
    "duration": 8,
    "start_time": "2024-09-10T00:32:36.825Z"
   },
   {
    "duration": 6,
    "start_time": "2024-09-10T00:32:36.834Z"
   },
   {
    "duration": 17,
    "start_time": "2024-09-10T00:32:36.842Z"
   },
   {
    "duration": 56,
    "start_time": "2024-09-10T00:32:36.861Z"
   },
   {
    "duration": 193,
    "start_time": "2024-09-10T00:32:36.922Z"
   },
   {
    "duration": 12,
    "start_time": "2024-09-10T00:32:37.117Z"
   },
   {
    "duration": 9,
    "start_time": "2024-09-10T00:32:37.131Z"
   },
   {
    "duration": 6,
    "start_time": "2024-09-10T00:32:37.142Z"
   },
   {
    "duration": 541,
    "start_time": "2024-09-10T00:32:37.150Z"
   },
   {
    "duration": 43,
    "start_time": "2024-09-10T00:32:37.694Z"
   },
   {
    "duration": 5,
    "start_time": "2024-09-10T00:32:37.739Z"
   },
   {
    "duration": 4,
    "start_time": "2024-09-10T00:32:37.745Z"
   },
   {
    "duration": 5,
    "start_time": "2024-09-10T00:32:37.751Z"
   },
   {
    "duration": 4,
    "start_time": "2024-09-10T00:32:37.758Z"
   },
   {
    "duration": 2,
    "start_time": "2024-09-10T00:39:17.518Z"
   },
   {
    "duration": 5,
    "start_time": "2024-09-10T00:41:38.412Z"
   },
   {
    "duration": 4,
    "start_time": "2024-09-10T00:41:55.780Z"
   },
   {
    "duration": 2,
    "start_time": "2024-09-10T00:42:04.484Z"
   },
   {
    "duration": 872,
    "start_time": "2024-09-10T00:42:04.489Z"
   },
   {
    "duration": 7,
    "start_time": "2024-09-10T00:42:05.363Z"
   },
   {
    "duration": 6,
    "start_time": "2024-09-10T00:42:05.372Z"
   },
   {
    "duration": 8,
    "start_time": "2024-09-10T00:42:05.380Z"
   },
   {
    "duration": 20,
    "start_time": "2024-09-10T00:42:05.390Z"
   },
   {
    "duration": 9,
    "start_time": "2024-09-10T00:42:05.411Z"
   },
   {
    "duration": 35,
    "start_time": "2024-09-10T00:42:05.422Z"
   },
   {
    "duration": 12,
    "start_time": "2024-09-10T00:42:05.458Z"
   },
   {
    "duration": 172,
    "start_time": "2024-09-10T00:42:05.472Z"
   },
   {
    "duration": 6,
    "start_time": "2024-09-10T00:42:05.646Z"
   },
   {
    "duration": 115,
    "start_time": "2024-09-10T00:42:05.654Z"
   },
   {
    "duration": 8,
    "start_time": "2024-09-10T00:42:05.771Z"
   },
   {
    "duration": 75,
    "start_time": "2024-09-10T00:42:05.783Z"
   },
   {
    "duration": 109,
    "start_time": "2024-09-10T00:42:05.860Z"
   },
   {
    "duration": 62,
    "start_time": "2024-09-10T00:42:05.970Z"
   },
   {
    "duration": 20,
    "start_time": "2024-09-10T00:42:06.034Z"
   },
   {
    "duration": 10,
    "start_time": "2024-09-10T00:42:06.056Z"
   },
   {
    "duration": 3,
    "start_time": "2024-09-10T00:42:06.068Z"
   },
   {
    "duration": 40,
    "start_time": "2024-09-10T00:42:06.074Z"
   },
   {
    "duration": 11,
    "start_time": "2024-09-10T00:42:06.116Z"
   },
   {
    "duration": 17,
    "start_time": "2024-09-10T00:42:06.128Z"
   },
   {
    "duration": 6,
    "start_time": "2024-09-10T00:42:06.147Z"
   },
   {
    "duration": 11,
    "start_time": "2024-09-10T00:42:06.155Z"
   },
   {
    "duration": 55,
    "start_time": "2024-09-10T00:42:06.168Z"
   },
   {
    "duration": 7,
    "start_time": "2024-09-10T00:42:06.225Z"
   },
   {
    "duration": 11,
    "start_time": "2024-09-10T00:42:06.234Z"
   },
   {
    "duration": 6,
    "start_time": "2024-09-10T00:42:06.246Z"
   },
   {
    "duration": 15,
    "start_time": "2024-09-10T00:42:06.253Z"
   },
   {
    "duration": 911,
    "start_time": "2024-09-10T00:42:06.269Z"
   },
   {
    "duration": 877,
    "start_time": "2024-09-10T00:42:07.182Z"
   },
   {
    "duration": 19,
    "start_time": "2024-09-10T00:42:08.061Z"
   },
   {
    "duration": 8,
    "start_time": "2024-09-10T00:42:08.082Z"
   },
   {
    "duration": 21,
    "start_time": "2024-09-10T00:42:08.092Z"
   },
   {
    "duration": 7,
    "start_time": "2024-09-10T00:42:08.114Z"
   },
   {
    "duration": 8,
    "start_time": "2024-09-10T00:42:08.123Z"
   },
   {
    "duration": 8,
    "start_time": "2024-09-10T00:42:08.134Z"
   },
   {
    "duration": 5,
    "start_time": "2024-09-10T00:42:08.144Z"
   },
   {
    "duration": 54,
    "start_time": "2024-09-10T00:42:08.151Z"
   },
   {
    "duration": 26,
    "start_time": "2024-09-10T00:42:08.208Z"
   },
   {
    "duration": 237,
    "start_time": "2024-09-10T00:42:08.241Z"
   },
   {
    "duration": 25,
    "start_time": "2024-09-10T00:42:08.480Z"
   },
   {
    "duration": 13,
    "start_time": "2024-09-10T00:42:08.507Z"
   },
   {
    "duration": 6,
    "start_time": "2024-09-10T00:42:08.522Z"
   },
   {
    "duration": 542,
    "start_time": "2024-09-10T00:42:08.530Z"
   },
   {
    "duration": 45,
    "start_time": "2024-09-10T00:42:09.074Z"
   },
   {
    "duration": 4,
    "start_time": "2024-09-10T00:42:11.771Z"
   },
   {
    "duration": 3,
    "start_time": "2024-09-10T00:42:52.721Z"
   },
   {
    "duration": 3,
    "start_time": "2024-09-10T00:44:38.794Z"
   },
   {
    "duration": 3,
    "start_time": "2024-09-10T00:45:15.284Z"
   },
   {
    "duration": 14,
    "start_time": "2024-09-10T00:51:13.323Z"
   },
   {
    "duration": 14,
    "start_time": "2024-09-10T00:57:28.229Z"
   },
   {
    "duration": 7,
    "start_time": "2024-09-10T01:04:32.203Z"
   },
   {
    "duration": 7,
    "start_time": "2024-09-10T01:04:43.632Z"
   },
   {
    "duration": 7,
    "start_time": "2024-09-10T01:06:42.325Z"
   },
   {
    "duration": 89,
    "start_time": "2024-09-10T01:10:36.950Z"
   },
   {
    "duration": 110,
    "start_time": "2024-09-10T01:11:23.487Z"
   },
   {
    "duration": 12,
    "start_time": "2024-09-10T01:11:42.630Z"
   },
   {
    "duration": 12,
    "start_time": "2024-09-10T01:13:58.875Z"
   },
   {
    "duration": 2234,
    "start_time": "2024-09-10T01:27:31.642Z"
   },
   {
    "duration": 148,
    "start_time": "2024-09-10T01:27:33.878Z"
   },
   {
    "duration": 27,
    "start_time": "2024-09-10T01:27:34.299Z"
   },
   {
    "duration": 5,
    "start_time": "2024-09-10T01:27:47.077Z"
   },
   {
    "duration": 177,
    "start_time": "2024-09-10T01:28:02.868Z"
   },
   {
    "duration": 16,
    "start_time": "2024-09-10T01:28:12.858Z"
   },
   {
    "duration": 196,
    "start_time": "2024-09-10T01:28:49.646Z"
   },
   {
    "duration": 659,
    "start_time": "2024-09-10T01:48:30.282Z"
   },
   {
    "duration": 238,
    "start_time": "2024-09-10T01:48:50.138Z"
   },
   {
    "duration": 139,
    "start_time": "2024-09-10T01:49:20.717Z"
   },
   {
    "duration": 83,
    "start_time": "2024-09-10T01:49:27.706Z"
   },
   {
    "duration": 160,
    "start_time": "2024-09-10T01:50:15.540Z"
   },
   {
    "duration": 166,
    "start_time": "2024-09-10T01:50:38.190Z"
   },
   {
    "duration": 223,
    "start_time": "2024-09-10T01:51:11.595Z"
   },
   {
    "duration": 190,
    "start_time": "2024-09-10T01:51:31.155Z"
   },
   {
    "duration": 38,
    "start_time": "2024-09-10T02:00:23.200Z"
   },
   {
    "duration": 232,
    "start_time": "2024-09-10T02:00:24.276Z"
   },
   {
    "duration": 88,
    "start_time": "2024-09-10T02:17:10.725Z"
   },
   {
    "duration": 357,
    "start_time": "2024-09-10T02:17:14.373Z"
   },
   {
    "duration": 82,
    "start_time": "2024-09-10T02:18:36.134Z"
   },
   {
    "duration": 14,
    "start_time": "2024-09-10T02:18:37.443Z"
   },
   {
    "duration": 16,
    "start_time": "2024-09-10T02:23:22.498Z"
   },
   {
    "duration": 155,
    "start_time": "2024-09-10T02:23:31.327Z"
   },
   {
    "duration": 5,
    "start_time": "2024-09-10T02:23:32.888Z"
   },
   {
    "duration": 11,
    "start_time": "2024-09-10T02:23:33.654Z"
   },
   {
    "duration": 152,
    "start_time": "2024-09-10T02:24:21.429Z"
   },
   {
    "duration": 151,
    "start_time": "2024-09-10T02:30:27.862Z"
   },
   {
    "duration": 12,
    "start_time": "2024-09-10T02:30:32.255Z"
   },
   {
    "duration": 227,
    "start_time": "2024-09-10T02:31:14.958Z"
   },
   {
    "duration": 51,
    "start_time": "2024-09-10T02:34:04.194Z"
   },
   {
    "duration": 834,
    "start_time": "2024-09-10T02:36:02.244Z"
   },
   {
    "duration": 109,
    "start_time": "2024-09-10T02:36:41.876Z"
   },
   {
    "duration": 4,
    "start_time": "2024-09-10T02:38:32.970Z"
   },
   {
    "duration": 122,
    "start_time": "2024-09-10T02:39:42.515Z"
   },
   {
    "duration": 260,
    "start_time": "2024-09-10T02:39:43.874Z"
   },
   {
    "duration": 339,
    "start_time": "2024-09-10T10:27:11.517Z"
   },
   {
    "duration": 1001,
    "start_time": "2024-09-10T10:27:11.858Z"
   },
   {
    "duration": 8,
    "start_time": "2024-09-10T10:27:12.861Z"
   },
   {
    "duration": 8,
    "start_time": "2024-09-10T10:27:12.871Z"
   },
   {
    "duration": 8,
    "start_time": "2024-09-10T10:27:12.881Z"
   },
   {
    "duration": 20,
    "start_time": "2024-09-10T10:27:12.891Z"
   },
   {
    "duration": 9,
    "start_time": "2024-09-10T10:27:12.912Z"
   },
   {
    "duration": 62,
    "start_time": "2024-09-10T10:27:12.922Z"
   },
   {
    "duration": 9,
    "start_time": "2024-09-10T10:27:12.986Z"
   },
   {
    "duration": 229,
    "start_time": "2024-09-10T10:27:12.996Z"
   },
   {
    "duration": 8,
    "start_time": "2024-09-10T10:27:13.227Z"
   },
   {
    "duration": 108,
    "start_time": "2024-09-10T10:27:13.236Z"
   },
   {
    "duration": 8,
    "start_time": "2024-09-10T10:27:13.346Z"
   },
   {
    "duration": 77,
    "start_time": "2024-09-10T10:27:13.357Z"
   },
   {
    "duration": 110,
    "start_time": "2024-09-10T10:27:13.436Z"
   },
   {
    "duration": 62,
    "start_time": "2024-09-10T10:27:13.548Z"
   },
   {
    "duration": 18,
    "start_time": "2024-09-10T10:27:13.612Z"
   },
   {
    "duration": 10,
    "start_time": "2024-09-10T10:27:13.631Z"
   },
   {
    "duration": 3,
    "start_time": "2024-09-10T10:27:13.642Z"
   },
   {
    "duration": 13,
    "start_time": "2024-09-10T10:27:13.647Z"
   },
   {
    "duration": 11,
    "start_time": "2024-09-10T10:27:13.661Z"
   },
   {
    "duration": 44,
    "start_time": "2024-09-10T10:27:13.673Z"
   },
   {
    "duration": 5,
    "start_time": "2024-09-10T10:27:13.719Z"
   },
   {
    "duration": 9,
    "start_time": "2024-09-10T10:27:13.725Z"
   },
   {
    "duration": 20,
    "start_time": "2024-09-10T10:27:13.736Z"
   },
   {
    "duration": 7,
    "start_time": "2024-09-10T10:27:13.758Z"
   },
   {
    "duration": 39,
    "start_time": "2024-09-10T10:27:13.767Z"
   },
   {
    "duration": 5,
    "start_time": "2024-09-10T10:27:13.808Z"
   },
   {
    "duration": 13,
    "start_time": "2024-09-10T10:27:13.815Z"
   },
   {
    "duration": 1310,
    "start_time": "2024-09-10T10:27:13.831Z"
   },
   {
    "duration": 1493,
    "start_time": "2024-09-10T10:27:15.143Z"
   },
   {
    "duration": 69,
    "start_time": "2024-09-10T10:27:16.640Z"
   },
   {
    "duration": 9,
    "start_time": "2024-09-10T10:27:16.710Z"
   },
   {
    "duration": 8,
    "start_time": "2024-09-10T10:27:16.721Z"
   },
   {
    "duration": 7,
    "start_time": "2024-09-10T10:27:16.730Z"
   },
   {
    "duration": 67,
    "start_time": "2024-09-10T10:27:16.739Z"
   },
   {
    "duration": 6,
    "start_time": "2024-09-10T10:27:16.808Z"
   },
   {
    "duration": 6,
    "start_time": "2024-09-10T10:27:16.816Z"
   },
   {
    "duration": 82,
    "start_time": "2024-09-10T10:27:16.824Z"
   },
   {
    "duration": 15,
    "start_time": "2024-09-10T10:27:16.909Z"
   },
   {
    "duration": 391,
    "start_time": "2024-09-10T10:27:16.930Z"
   },
   {
    "duration": 16,
    "start_time": "2024-09-10T10:27:17.323Z"
   },
   {
    "duration": 65,
    "start_time": "2024-09-10T10:27:17.341Z"
   },
   {
    "duration": 7,
    "start_time": "2024-09-10T10:27:17.408Z"
   },
   {
    "duration": 1297,
    "start_time": "2024-09-10T10:27:17.417Z"
   },
   {
    "duration": 30,
    "start_time": "2024-09-10T10:27:18.716Z"
   },
   {
    "duration": 78,
    "start_time": "2024-09-10T10:27:18.748Z"
   },
   {
    "duration": 77,
    "start_time": "2024-09-10T10:27:18.828Z"
   },
   {
    "duration": 8,
    "start_time": "2024-09-10T10:27:18.907Z"
   },
   {
    "duration": 6,
    "start_time": "2024-09-10T10:27:18.916Z"
   },
   {
    "duration": 8,
    "start_time": "2024-09-10T10:27:18.924Z"
   },
   {
    "duration": 2,
    "start_time": "2024-09-10T10:27:18.934Z"
   },
   {
    "duration": 4410,
    "start_time": "2024-09-10T10:27:18.938Z"
   },
   {
    "duration": 402,
    "start_time": "2024-09-10T10:27:23.350Z"
   },
   {
    "duration": 3,
    "start_time": "2024-09-10T10:27:23.806Z"
   },
   {
    "duration": 104,
    "start_time": "2024-09-10T10:27:23.811Z"
   },
   {
    "duration": 524,
    "start_time": "2024-09-10T10:27:23.917Z"
   },
   {
    "duration": 198,
    "start_time": "2024-09-10T10:27:24.443Z"
   },
   {
    "duration": 66,
    "start_time": "2024-09-10T10:27:24.644Z"
   },
   {
    "duration": 294,
    "start_time": "2024-09-10T10:27:24.714Z"
   },
   {
    "duration": 3,
    "start_time": "2024-09-10T10:27:25.010Z"
   },
   {
    "duration": 11,
    "start_time": "2024-09-10T10:27:25.014Z"
   },
   {
    "duration": 1889,
    "start_time": "2024-09-10T10:27:25.028Z"
   },
   {
    "duration": 227,
    "start_time": "2024-09-10T10:27:26.919Z"
   },
   {
    "duration": 60,
    "start_time": "2024-09-10T10:27:27.147Z"
   },
   {
    "duration": 302,
    "start_time": "2024-09-10T13:37:31.671Z"
   },
   {
    "duration": 857,
    "start_time": "2024-09-10T13:37:31.975Z"
   },
   {
    "duration": 7,
    "start_time": "2024-09-10T13:37:32.834Z"
   },
   {
    "duration": 5,
    "start_time": "2024-09-10T13:37:32.843Z"
   },
   {
    "duration": 7,
    "start_time": "2024-09-10T13:37:32.850Z"
   },
   {
    "duration": 5,
    "start_time": "2024-09-10T13:37:32.859Z"
   },
   {
    "duration": 42,
    "start_time": "2024-09-10T13:37:32.865Z"
   },
   {
    "duration": 36,
    "start_time": "2024-09-10T13:37:32.908Z"
   },
   {
    "duration": 10,
    "start_time": "2024-09-10T13:37:32.945Z"
   },
   {
    "duration": 161,
    "start_time": "2024-09-10T13:37:32.957Z"
   },
   {
    "duration": 6,
    "start_time": "2024-09-10T13:37:33.120Z"
   },
   {
    "duration": 116,
    "start_time": "2024-09-10T13:37:33.128Z"
   },
   {
    "duration": 9,
    "start_time": "2024-09-10T13:37:33.246Z"
   },
   {
    "duration": 87,
    "start_time": "2024-09-10T13:37:33.256Z"
   },
   {
    "duration": 111,
    "start_time": "2024-09-10T13:37:33.345Z"
   },
   {
    "duration": 68,
    "start_time": "2024-09-10T13:37:33.458Z"
   },
   {
    "duration": 17,
    "start_time": "2024-09-10T13:37:33.528Z"
   },
   {
    "duration": 9,
    "start_time": "2024-09-10T13:37:33.547Z"
   },
   {
    "duration": 4,
    "start_time": "2024-09-10T13:37:33.558Z"
   },
   {
    "duration": 44,
    "start_time": "2024-09-10T13:37:33.564Z"
   },
   {
    "duration": 11,
    "start_time": "2024-09-10T13:37:33.610Z"
   },
   {
    "duration": 16,
    "start_time": "2024-09-10T13:37:33.622Z"
   },
   {
    "duration": 6,
    "start_time": "2024-09-10T13:37:33.640Z"
   },
   {
    "duration": 10,
    "start_time": "2024-09-10T13:37:33.649Z"
   },
   {
    "duration": 60,
    "start_time": "2024-09-10T13:37:33.661Z"
   },
   {
    "duration": 4,
    "start_time": "2024-09-10T13:37:33.722Z"
   },
   {
    "duration": 11,
    "start_time": "2024-09-10T13:37:33.728Z"
   },
   {
    "duration": 4,
    "start_time": "2024-09-10T13:37:33.745Z"
   },
   {
    "duration": 13,
    "start_time": "2024-09-10T13:37:33.750Z"
   },
   {
    "duration": 795,
    "start_time": "2024-09-10T13:37:33.804Z"
   },
   {
    "duration": 733,
    "start_time": "2024-09-10T13:37:34.601Z"
   },
   {
    "duration": 12,
    "start_time": "2024-09-10T13:37:35.335Z"
   },
   {
    "duration": 7,
    "start_time": "2024-09-10T13:37:35.349Z"
   },
   {
    "duration": 6,
    "start_time": "2024-09-10T13:37:35.358Z"
   },
   {
    "duration": 40,
    "start_time": "2024-09-10T13:37:35.365Z"
   },
   {
    "duration": 6,
    "start_time": "2024-09-10T13:37:35.407Z"
   },
   {
    "duration": 7,
    "start_time": "2024-09-10T13:37:35.414Z"
   },
   {
    "duration": 4,
    "start_time": "2024-09-10T13:37:35.422Z"
   },
   {
    "duration": 18,
    "start_time": "2024-09-10T13:37:35.428Z"
   },
   {
    "duration": 15,
    "start_time": "2024-09-10T13:37:35.448Z"
   },
   {
    "duration": 189,
    "start_time": "2024-09-10T13:37:35.505Z"
   },
   {
    "duration": 22,
    "start_time": "2024-09-10T13:37:35.696Z"
   },
   {
    "duration": 10,
    "start_time": "2024-09-10T13:37:35.719Z"
   },
   {
    "duration": 8,
    "start_time": "2024-09-10T13:37:35.730Z"
   },
   {
    "duration": 553,
    "start_time": "2024-09-10T13:37:35.740Z"
   },
   {
    "duration": 38,
    "start_time": "2024-09-10T13:37:36.295Z"
   },
   {
    "duration": 19,
    "start_time": "2024-09-10T13:37:36.335Z"
   },
   {
    "duration": 16,
    "start_time": "2024-09-10T13:37:36.356Z"
   },
   {
    "duration": 32,
    "start_time": "2024-09-10T13:37:36.374Z"
   },
   {
    "duration": 6,
    "start_time": "2024-09-10T13:37:36.408Z"
   },
   {
    "duration": 8,
    "start_time": "2024-09-10T13:37:36.416Z"
   },
   {
    "duration": 2,
    "start_time": "2024-09-10T13:37:36.426Z"
   },
   {
    "duration": 163,
    "start_time": "2024-09-10T13:37:36.430Z"
   },
   {
    "duration": 229,
    "start_time": "2024-09-10T13:37:36.595Z"
   },
   {
    "duration": 2,
    "start_time": "2024-09-10T13:37:36.826Z"
   },
   {
    "duration": 36,
    "start_time": "2024-09-10T13:37:36.830Z"
   },
   {
    "duration": 222,
    "start_time": "2024-09-10T13:37:36.868Z"
   },
   {
    "duration": 96,
    "start_time": "2024-09-10T13:37:37.092Z"
   },
   {
    "duration": 21,
    "start_time": "2024-09-10T13:37:37.189Z"
   },
   {
    "duration": 148,
    "start_time": "2024-09-10T13:37:37.212Z"
   },
   {
    "duration": 3,
    "start_time": "2024-09-10T13:37:37.361Z"
   },
   {
    "duration": 10,
    "start_time": "2024-09-10T13:37:37.366Z"
   },
   {
    "duration": 823,
    "start_time": "2024-09-10T13:37:37.378Z"
   },
   {
    "duration": 125,
    "start_time": "2024-09-10T13:37:38.206Z"
   },
   {
    "duration": 4,
    "start_time": "2024-09-10T13:37:38.333Z"
   },
   {
    "duration": 9,
    "start_time": "2024-09-10T13:43:19.578Z"
   },
   {
    "duration": 10,
    "start_time": "2024-09-10T13:43:40.615Z"
   },
   {
    "duration": 8,
    "start_time": "2024-09-10T13:43:56.177Z"
   },
   {
    "duration": 278,
    "start_time": "2024-09-10T13:43:59.481Z"
   },
   {
    "duration": 821,
    "start_time": "2024-09-10T13:43:59.761Z"
   },
   {
    "duration": 8,
    "start_time": "2024-09-10T13:44:00.584Z"
   },
   {
    "duration": 11,
    "start_time": "2024-09-10T13:44:00.594Z"
   },
   {
    "duration": 8,
    "start_time": "2024-09-10T13:44:00.608Z"
   },
   {
    "duration": 6,
    "start_time": "2024-09-10T13:44:00.618Z"
   },
   {
    "duration": 8,
    "start_time": "2024-09-10T13:44:00.625Z"
   },
   {
    "duration": 33,
    "start_time": "2024-09-10T13:44:00.635Z"
   },
   {
    "duration": 42,
    "start_time": "2024-09-10T13:44:00.670Z"
   },
   {
    "duration": 151,
    "start_time": "2024-09-10T13:44:00.714Z"
   },
   {
    "duration": 8,
    "start_time": "2024-09-10T13:44:00.869Z"
   },
   {
    "duration": 116,
    "start_time": "2024-09-10T13:44:00.879Z"
   },
   {
    "duration": 8,
    "start_time": "2024-09-10T13:44:01.005Z"
   },
   {
    "duration": 67,
    "start_time": "2024-09-10T13:44:01.017Z"
   },
   {
    "duration": 106,
    "start_time": "2024-09-10T13:44:01.106Z"
   },
   {
    "duration": 64,
    "start_time": "2024-09-10T13:44:01.215Z"
   },
   {
    "duration": 39,
    "start_time": "2024-09-10T13:44:01.282Z"
   },
   {
    "duration": 9,
    "start_time": "2024-09-10T13:44:01.323Z"
   },
   {
    "duration": 3,
    "start_time": "2024-09-10T13:44:01.334Z"
   },
   {
    "duration": 13,
    "start_time": "2024-09-10T13:44:01.339Z"
   },
   {
    "duration": 11,
    "start_time": "2024-09-10T13:44:01.354Z"
   },
   {
    "duration": 45,
    "start_time": "2024-09-10T13:44:01.367Z"
   },
   {
    "duration": 6,
    "start_time": "2024-09-10T13:44:01.414Z"
   },
   {
    "duration": 11,
    "start_time": "2024-09-10T13:44:01.421Z"
   },
   {
    "duration": 19,
    "start_time": "2024-09-10T13:44:01.434Z"
   },
   {
    "duration": 5,
    "start_time": "2024-09-10T13:44:01.455Z"
   },
   {
    "duration": 47,
    "start_time": "2024-09-10T13:44:01.462Z"
   },
   {
    "duration": 4,
    "start_time": "2024-09-10T13:44:01.511Z"
   },
   {
    "duration": 13,
    "start_time": "2024-09-10T13:44:01.517Z"
   },
   {
    "duration": 817,
    "start_time": "2024-09-10T13:44:01.532Z"
   },
   {
    "duration": 767,
    "start_time": "2024-09-10T13:44:02.351Z"
   },
   {
    "duration": 12,
    "start_time": "2024-09-10T13:44:03.119Z"
   },
   {
    "duration": 9,
    "start_time": "2024-09-10T13:44:03.133Z"
   },
   {
    "duration": 7,
    "start_time": "2024-09-10T13:44:03.145Z"
   },
   {
    "duration": 7,
    "start_time": "2024-09-10T13:44:03.154Z"
   },
   {
    "duration": 43,
    "start_time": "2024-09-10T13:44:03.162Z"
   },
   {
    "duration": 7,
    "start_time": "2024-09-10T13:44:03.208Z"
   },
   {
    "duration": 8,
    "start_time": "2024-09-10T13:44:03.216Z"
   },
   {
    "duration": 5,
    "start_time": "2024-09-10T13:44:03.226Z"
   },
   {
    "duration": 19,
    "start_time": "2024-09-10T13:44:03.233Z"
   },
   {
    "duration": 56,
    "start_time": "2024-09-10T13:44:03.258Z"
   },
   {
    "duration": 197,
    "start_time": "2024-09-10T13:44:03.316Z"
   },
   {
    "duration": 13,
    "start_time": "2024-09-10T13:44:03.515Z"
   },
   {
    "duration": 11,
    "start_time": "2024-09-10T13:44:03.530Z"
   },
   {
    "duration": 7,
    "start_time": "2024-09-10T13:44:03.543Z"
   },
   {
    "duration": 554,
    "start_time": "2024-09-10T13:44:03.551Z"
   },
   {
    "duration": 31,
    "start_time": "2024-09-10T13:44:04.107Z"
   },
   {
    "duration": 24,
    "start_time": "2024-09-10T13:44:04.140Z"
   },
   {
    "duration": 42,
    "start_time": "2024-09-10T13:44:04.166Z"
   },
   {
    "duration": 7,
    "start_time": "2024-09-10T13:44:04.210Z"
   },
   {
    "duration": 9,
    "start_time": "2024-09-10T13:44:04.219Z"
   },
   {
    "duration": 10,
    "start_time": "2024-09-10T13:44:04.229Z"
   },
   {
    "duration": 2,
    "start_time": "2024-09-10T13:44:04.241Z"
   },
   {
    "duration": 160,
    "start_time": "2024-09-10T13:44:04.245Z"
   },
   {
    "duration": 217,
    "start_time": "2024-09-10T13:44:04.407Z"
   },
   {
    "duration": 2,
    "start_time": "2024-09-10T13:44:04.626Z"
   },
   {
    "duration": 35,
    "start_time": "2024-09-10T13:44:04.629Z"
   },
   {
    "duration": 216,
    "start_time": "2024-09-10T13:44:04.665Z"
   },
   {
    "duration": 91,
    "start_time": "2024-09-10T13:44:04.883Z"
   },
   {
    "duration": 14,
    "start_time": "2024-09-10T13:44:04.976Z"
   },
   {
    "duration": 146,
    "start_time": "2024-09-10T13:44:05.005Z"
   },
   {
    "duration": 3,
    "start_time": "2024-09-10T13:44:05.152Z"
   },
   {
    "duration": 10,
    "start_time": "2024-09-10T13:44:05.157Z"
   },
   {
    "duration": 823,
    "start_time": "2024-09-10T13:44:05.169Z"
   },
   {
    "duration": 133,
    "start_time": "2024-09-10T13:44:05.994Z"
   },
   {
    "duration": 3,
    "start_time": "2024-09-10T13:44:06.129Z"
   },
   {
    "duration": 279,
    "start_time": "2024-09-10T13:44:39.978Z"
   },
   {
    "duration": 825,
    "start_time": "2024-09-10T13:44:40.259Z"
   },
   {
    "duration": 8,
    "start_time": "2024-09-10T13:44:41.086Z"
   },
   {
    "duration": 6,
    "start_time": "2024-09-10T13:44:41.104Z"
   },
   {
    "duration": 7,
    "start_time": "2024-09-10T13:44:41.112Z"
   },
   {
    "duration": 5,
    "start_time": "2024-09-10T13:44:41.121Z"
   },
   {
    "duration": 8,
    "start_time": "2024-09-10T13:44:41.128Z"
   },
   {
    "duration": 67,
    "start_time": "2024-09-10T13:44:41.138Z"
   },
   {
    "duration": 12,
    "start_time": "2024-09-10T13:44:41.207Z"
   },
   {
    "duration": 157,
    "start_time": "2024-09-10T13:44:41.222Z"
   },
   {
    "duration": 8,
    "start_time": "2024-09-10T13:44:41.380Z"
   },
   {
    "duration": 116,
    "start_time": "2024-09-10T13:44:41.392Z"
   },
   {
    "duration": 10,
    "start_time": "2024-09-10T13:44:41.509Z"
   },
   {
    "duration": 65,
    "start_time": "2024-09-10T13:44:41.520Z"
   },
   {
    "duration": 134,
    "start_time": "2024-09-10T13:44:41.587Z"
   },
   {
    "duration": 60,
    "start_time": "2024-09-10T13:44:41.723Z"
   },
   {
    "duration": 35,
    "start_time": "2024-09-10T13:44:41.785Z"
   },
   {
    "duration": 9,
    "start_time": "2024-09-10T13:44:41.822Z"
   },
   {
    "duration": 4,
    "start_time": "2024-09-10T13:44:41.832Z"
   },
   {
    "duration": 14,
    "start_time": "2024-09-10T13:44:41.837Z"
   },
   {
    "duration": 11,
    "start_time": "2024-09-10T13:44:41.853Z"
   },
   {
    "duration": 47,
    "start_time": "2024-09-10T13:44:41.865Z"
   },
   {
    "duration": 9,
    "start_time": "2024-09-10T13:44:41.913Z"
   },
   {
    "duration": 6,
    "start_time": "2024-09-10T13:44:41.924Z"
   },
   {
    "duration": 9,
    "start_time": "2024-09-10T13:44:41.932Z"
   },
   {
    "duration": 20,
    "start_time": "2024-09-10T13:44:41.943Z"
   },
   {
    "duration": 4,
    "start_time": "2024-09-10T13:44:42.006Z"
   },
   {
    "duration": 11,
    "start_time": "2024-09-10T13:44:42.015Z"
   },
   {
    "duration": 5,
    "start_time": "2024-09-10T13:44:42.028Z"
   },
   {
    "duration": 14,
    "start_time": "2024-09-10T13:44:42.035Z"
   },
   {
    "duration": 858,
    "start_time": "2024-09-10T13:44:42.050Z"
   },
   {
    "duration": 739,
    "start_time": "2024-09-10T13:44:42.910Z"
   },
   {
    "duration": 12,
    "start_time": "2024-09-10T13:44:43.651Z"
   },
   {
    "duration": 7,
    "start_time": "2024-09-10T13:44:43.665Z"
   },
   {
    "duration": 32,
    "start_time": "2024-09-10T13:44:43.674Z"
   },
   {
    "duration": 7,
    "start_time": "2024-09-10T13:44:43.708Z"
   },
   {
    "duration": 6,
    "start_time": "2024-09-10T13:44:43.717Z"
   },
   {
    "duration": 8,
    "start_time": "2024-09-10T13:44:43.725Z"
   },
   {
    "duration": 5,
    "start_time": "2024-09-10T13:44:43.735Z"
   },
   {
    "duration": 16,
    "start_time": "2024-09-10T13:44:43.742Z"
   },
   {
    "duration": 57,
    "start_time": "2024-09-10T13:44:43.760Z"
   },
   {
    "duration": 201,
    "start_time": "2024-09-10T13:44:43.819Z"
   },
   {
    "duration": 14,
    "start_time": "2024-09-10T13:44:44.022Z"
   },
   {
    "duration": 11,
    "start_time": "2024-09-10T13:44:44.037Z"
   },
   {
    "duration": 6,
    "start_time": "2024-09-10T13:44:44.049Z"
   },
   {
    "duration": 564,
    "start_time": "2024-09-10T13:44:44.056Z"
   },
   {
    "duration": 29,
    "start_time": "2024-09-10T13:44:44.622Z"
   },
   {
    "duration": 21,
    "start_time": "2024-09-10T13:44:44.653Z"
   },
   {
    "duration": 17,
    "start_time": "2024-09-10T13:44:44.704Z"
   },
   {
    "duration": 7,
    "start_time": "2024-09-10T13:44:44.722Z"
   },
   {
    "duration": 5,
    "start_time": "2024-09-10T13:44:44.731Z"
   },
   {
    "duration": 10,
    "start_time": "2024-09-10T13:44:44.738Z"
   },
   {
    "duration": 3,
    "start_time": "2024-09-10T13:44:44.749Z"
   },
   {
    "duration": 164,
    "start_time": "2024-09-10T13:44:44.753Z"
   },
   {
    "duration": 222,
    "start_time": "2024-09-10T13:44:44.918Z"
   },
   {
    "duration": 3,
    "start_time": "2024-09-10T13:44:45.142Z"
   },
   {
    "duration": 34,
    "start_time": "2024-09-10T13:44:45.146Z"
   },
   {
    "duration": 214,
    "start_time": "2024-09-10T13:44:45.182Z"
   },
   {
    "duration": 96,
    "start_time": "2024-09-10T13:44:45.397Z"
   },
   {
    "duration": 22,
    "start_time": "2024-09-10T13:44:45.495Z"
   },
   {
    "duration": 150,
    "start_time": "2024-09-10T13:44:45.518Z"
   },
   {
    "duration": 2,
    "start_time": "2024-09-10T13:44:45.670Z"
   },
   {
    "duration": 9,
    "start_time": "2024-09-10T13:44:45.674Z"
   },
   {
    "duration": 826,
    "start_time": "2024-09-10T13:44:45.684Z"
   },
   {
    "duration": 118,
    "start_time": "2024-09-10T13:44:46.512Z"
   },
   {
    "duration": 3,
    "start_time": "2024-09-10T13:44:46.632Z"
   },
   {
    "duration": 7,
    "start_time": "2024-09-10T13:47:18.483Z"
   },
   {
    "duration": 3,
    "start_time": "2024-09-12T20:03:28.366Z"
   },
   {
    "duration": 3,
    "start_time": "2024-09-12T20:27:59.869Z"
   },
   {
    "duration": 368,
    "start_time": "2024-09-12T20:27:59.874Z"
   },
   {
    "duration": 1141,
    "start_time": "2024-09-12T20:28:00.244Z"
   },
   {
    "duration": 8,
    "start_time": "2024-09-12T20:28:01.386Z"
   },
   {
    "duration": 13,
    "start_time": "2024-09-12T20:28:01.397Z"
   },
   {
    "duration": 7,
    "start_time": "2024-09-12T20:28:01.411Z"
   },
   {
    "duration": 18,
    "start_time": "2024-09-12T20:28:01.420Z"
   },
   {
    "duration": 9,
    "start_time": "2024-09-12T20:28:01.440Z"
   },
   {
    "duration": 66,
    "start_time": "2024-09-12T20:28:01.451Z"
   },
   {
    "duration": 9,
    "start_time": "2024-09-12T20:28:01.519Z"
   },
   {
    "duration": 251,
    "start_time": "2024-09-12T20:28:01.529Z"
   },
   {
    "duration": 7,
    "start_time": "2024-09-12T20:28:01.782Z"
   },
   {
    "duration": 129,
    "start_time": "2024-09-12T20:28:01.792Z"
   },
   {
    "duration": 17,
    "start_time": "2024-09-12T20:28:01.923Z"
   },
   {
    "duration": 91,
    "start_time": "2024-09-12T20:28:01.942Z"
   },
   {
    "duration": 129,
    "start_time": "2024-09-12T20:28:02.036Z"
   },
   {
    "duration": 49,
    "start_time": "2024-09-12T20:28:02.167Z"
   },
   {
    "duration": 50,
    "start_time": "2024-09-12T20:28:02.218Z"
   },
   {
    "duration": 9,
    "start_time": "2024-09-12T20:28:02.271Z"
   },
   {
    "duration": 3,
    "start_time": "2024-09-12T20:28:02.282Z"
   },
   {
    "duration": 15,
    "start_time": "2024-09-12T20:28:02.287Z"
   },
   {
    "duration": 42,
    "start_time": "2024-09-12T20:28:02.303Z"
   },
   {
    "duration": 11,
    "start_time": "2024-09-12T20:28:02.347Z"
   },
   {
    "duration": 8,
    "start_time": "2024-09-12T20:28:02.362Z"
   },
   {
    "duration": 11,
    "start_time": "2024-09-12T20:28:02.372Z"
   },
   {
    "duration": 27,
    "start_time": "2024-09-12T20:28:02.384Z"
   },
   {
    "duration": 20,
    "start_time": "2024-09-12T20:28:02.412Z"
   },
   {
    "duration": 18,
    "start_time": "2024-09-12T20:28:02.434Z"
   },
   {
    "duration": 6,
    "start_time": "2024-09-12T20:28:02.454Z"
   },
   {
    "duration": 18,
    "start_time": "2024-09-12T20:28:02.462Z"
   },
   {
    "duration": 973,
    "start_time": "2024-09-12T20:28:02.482Z"
   },
   {
    "duration": 828,
    "start_time": "2024-09-12T20:28:03.459Z"
   },
   {
    "duration": 13,
    "start_time": "2024-09-12T20:28:04.288Z"
   },
   {
    "duration": 6,
    "start_time": "2024-09-12T20:28:04.304Z"
   },
   {
    "duration": 29,
    "start_time": "2024-09-12T20:28:04.312Z"
   },
   {
    "duration": 12,
    "start_time": "2024-09-12T20:28:04.342Z"
   },
   {
    "duration": 17,
    "start_time": "2024-09-12T20:28:04.358Z"
   },
   {
    "duration": 8,
    "start_time": "2024-09-12T20:28:04.377Z"
   },
   {
    "duration": 5,
    "start_time": "2024-09-12T20:28:04.386Z"
   },
   {
    "duration": 18,
    "start_time": "2024-09-12T20:28:04.395Z"
   },
   {
    "duration": 48,
    "start_time": "2024-09-12T20:28:04.414Z"
   },
   {
    "duration": 216,
    "start_time": "2024-09-12T20:28:04.464Z"
   },
   {
    "duration": 11,
    "start_time": "2024-09-12T20:28:04.682Z"
   },
   {
    "duration": 9,
    "start_time": "2024-09-12T20:28:04.695Z"
   },
   {
    "duration": 6,
    "start_time": "2024-09-12T20:28:04.706Z"
   },
   {
    "duration": 662,
    "start_time": "2024-09-12T20:28:04.713Z"
   },
   {
    "duration": 28,
    "start_time": "2024-09-12T20:28:05.377Z"
   },
   {
    "duration": 2479,
    "start_time": "2024-09-12T20:28:07.119Z"
   },
   {
    "duration": 7,
    "start_time": "2024-09-12T20:30:26.489Z"
   },
   {
    "duration": 5,
    "start_time": "2024-09-12T20:38:53.705Z"
   },
   {
    "duration": 824,
    "start_time": "2024-09-12T20:39:14.155Z"
   },
   {
    "duration": 325,
    "start_time": "2024-09-12T20:40:06.076Z"
   },
   {
    "duration": 3,
    "start_time": "2024-09-12T20:43:14.405Z"
   },
   {
    "duration": 348,
    "start_time": "2024-09-12T20:43:14.410Z"
   },
   {
    "duration": 1355,
    "start_time": "2024-09-12T20:43:14.760Z"
   },
   {
    "duration": 8,
    "start_time": "2024-09-12T20:43:16.117Z"
   },
   {
    "duration": 24,
    "start_time": "2024-09-12T20:43:16.138Z"
   },
   {
    "duration": 8,
    "start_time": "2024-09-12T20:43:16.164Z"
   },
   {
    "duration": 8,
    "start_time": "2024-09-12T20:43:16.173Z"
   },
   {
    "duration": 9,
    "start_time": "2024-09-12T20:43:16.183Z"
   },
   {
    "duration": 83,
    "start_time": "2024-09-12T20:43:16.194Z"
   },
   {
    "duration": 10,
    "start_time": "2024-09-12T20:43:16.278Z"
   },
   {
    "duration": 213,
    "start_time": "2024-09-12T20:43:16.290Z"
   },
   {
    "duration": 6,
    "start_time": "2024-09-12T20:43:16.505Z"
   },
   {
    "duration": 137,
    "start_time": "2024-09-12T20:43:16.513Z"
   },
   {
    "duration": 11,
    "start_time": "2024-09-12T20:43:16.658Z"
   },
   {
    "duration": 74,
    "start_time": "2024-09-12T20:43:16.672Z"
   },
   {
    "duration": 132,
    "start_time": "2024-09-12T20:43:16.749Z"
   },
   {
    "duration": 77,
    "start_time": "2024-09-12T20:43:16.883Z"
   },
   {
    "duration": 20,
    "start_time": "2024-09-12T20:43:16.962Z"
   },
   {
    "duration": 9,
    "start_time": "2024-09-12T20:43:16.983Z"
   },
   {
    "duration": 5,
    "start_time": "2024-09-12T20:43:16.994Z"
   },
   {
    "duration": 15,
    "start_time": "2024-09-12T20:43:17.000Z"
   },
   {
    "duration": 25,
    "start_time": "2024-09-12T20:43:17.034Z"
   },
   {
    "duration": 8,
    "start_time": "2024-09-12T20:43:17.060Z"
   },
   {
    "duration": 8,
    "start_time": "2024-09-12T20:43:17.069Z"
   },
   {
    "duration": 9,
    "start_time": "2024-09-12T20:43:17.079Z"
   },
   {
    "duration": 58,
    "start_time": "2024-09-12T20:43:17.090Z"
   },
   {
    "duration": 6,
    "start_time": "2024-09-12T20:43:17.155Z"
   },
   {
    "duration": 12,
    "start_time": "2024-09-12T20:43:17.163Z"
   },
   {
    "duration": 5,
    "start_time": "2024-09-12T20:43:17.178Z"
   },
   {
    "duration": 12,
    "start_time": "2024-09-12T20:43:17.185Z"
   },
   {
    "duration": 1000,
    "start_time": "2024-09-12T20:43:17.200Z"
   },
   {
    "duration": 911,
    "start_time": "2024-09-12T20:43:18.202Z"
   },
   {
    "duration": 23,
    "start_time": "2024-09-12T20:43:19.115Z"
   },
   {
    "duration": 15,
    "start_time": "2024-09-12T20:43:19.143Z"
   },
   {
    "duration": 9,
    "start_time": "2024-09-12T20:43:19.162Z"
   },
   {
    "duration": 9,
    "start_time": "2024-09-12T20:43:19.174Z"
   },
   {
    "duration": 10,
    "start_time": "2024-09-12T20:43:19.184Z"
   },
   {
    "duration": 8,
    "start_time": "2024-09-12T20:43:19.196Z"
   },
   {
    "duration": 41,
    "start_time": "2024-09-12T20:43:19.205Z"
   },
   {
    "duration": 23,
    "start_time": "2024-09-12T20:43:19.248Z"
   },
   {
    "duration": 16,
    "start_time": "2024-09-12T20:43:19.276Z"
   },
   {
    "duration": 222,
    "start_time": "2024-09-12T20:43:19.294Z"
   },
   {
    "duration": 27,
    "start_time": "2024-09-12T20:43:19.519Z"
   },
   {
    "duration": 11,
    "start_time": "2024-09-12T20:43:19.548Z"
   },
   {
    "duration": 8,
    "start_time": "2024-09-12T20:43:19.561Z"
   },
   {
    "duration": 659,
    "start_time": "2024-09-12T20:43:19.571Z"
   },
   {
    "duration": 37,
    "start_time": "2024-09-12T20:43:20.243Z"
   },
   {
    "duration": 153,
    "start_time": "2024-09-12T20:43:20.281Z"
   },
   {
    "duration": 903,
    "start_time": "2024-09-12T20:43:20.447Z"
   },
   {
    "duration": 9,
    "start_time": "2024-09-12T20:43:21.353Z"
   },
   {
    "duration": 0,
    "start_time": "2024-09-12T20:43:21.364Z"
   },
   {
    "duration": 0,
    "start_time": "2024-09-12T20:43:21.365Z"
   },
   {
    "duration": 0,
    "start_time": "2024-09-12T20:43:21.366Z"
   },
   {
    "duration": 0,
    "start_time": "2024-09-12T20:43:21.367Z"
   },
   {
    "duration": 0,
    "start_time": "2024-09-12T20:43:21.368Z"
   },
   {
    "duration": 0,
    "start_time": "2024-09-12T20:43:21.369Z"
   },
   {
    "duration": 0,
    "start_time": "2024-09-12T20:43:21.369Z"
   },
   {
    "duration": 0,
    "start_time": "2024-09-12T20:43:21.370Z"
   },
   {
    "duration": 0,
    "start_time": "2024-09-12T20:43:21.371Z"
   },
   {
    "duration": 0,
    "start_time": "2024-09-12T20:43:21.373Z"
   },
   {
    "duration": 0,
    "start_time": "2024-09-12T20:43:21.373Z"
   },
   {
    "duration": 0,
    "start_time": "2024-09-12T20:43:21.374Z"
   },
   {
    "duration": 0,
    "start_time": "2024-09-12T20:43:21.375Z"
   },
   {
    "duration": 0,
    "start_time": "2024-09-12T20:43:21.378Z"
   },
   {
    "duration": 0,
    "start_time": "2024-09-12T20:43:21.380Z"
   },
   {
    "duration": 0,
    "start_time": "2024-09-12T20:43:21.382Z"
   },
   {
    "duration": 0,
    "start_time": "2024-09-12T20:43:21.383Z"
   },
   {
    "duration": 0,
    "start_time": "2024-09-12T20:43:21.385Z"
   },
   {
    "duration": 5,
    "start_time": "2024-09-12T20:47:09.144Z"
   },
   {
    "duration": 4,
    "start_time": "2024-09-12T20:47:42.515Z"
   },
   {
    "duration": 8,
    "start_time": "2024-09-12T20:50:42.841Z"
   },
   {
    "duration": 4,
    "start_time": "2024-09-12T20:52:48.667Z"
   },
   {
    "duration": 340,
    "start_time": "2024-09-12T20:52:48.673Z"
   },
   {
    "duration": 1000,
    "start_time": "2024-09-12T20:52:49.016Z"
   },
   {
    "duration": 8,
    "start_time": "2024-09-12T20:52:50.018Z"
   },
   {
    "duration": 9,
    "start_time": "2024-09-12T20:52:50.031Z"
   },
   {
    "duration": 19,
    "start_time": "2024-09-12T20:52:50.046Z"
   },
   {
    "duration": 18,
    "start_time": "2024-09-12T20:52:50.072Z"
   },
   {
    "duration": 8,
    "start_time": "2024-09-12T20:52:50.091Z"
   },
   {
    "duration": 47,
    "start_time": "2024-09-12T20:52:50.101Z"
   },
   {
    "duration": 28,
    "start_time": "2024-09-12T20:52:50.150Z"
   },
   {
    "duration": 181,
    "start_time": "2024-09-12T20:52:50.182Z"
   },
   {
    "duration": 15,
    "start_time": "2024-09-12T20:52:50.365Z"
   },
   {
    "duration": 168,
    "start_time": "2024-09-12T20:52:50.382Z"
   },
   {
    "duration": 14,
    "start_time": "2024-09-12T20:52:50.552Z"
   },
   {
    "duration": 103,
    "start_time": "2024-09-12T20:52:50.568Z"
   },
   {
    "duration": 125,
    "start_time": "2024-09-12T20:52:50.673Z"
   },
   {
    "duration": 75,
    "start_time": "2024-09-12T20:52:50.800Z"
   },
   {
    "duration": 18,
    "start_time": "2024-09-12T20:52:50.877Z"
   },
   {
    "duration": 10,
    "start_time": "2024-09-12T20:52:50.896Z"
   },
   {
    "duration": 4,
    "start_time": "2024-09-12T20:52:50.907Z"
   },
   {
    "duration": 30,
    "start_time": "2024-09-12T20:52:50.912Z"
   },
   {
    "duration": 18,
    "start_time": "2024-09-12T20:52:50.944Z"
   },
   {
    "duration": 8,
    "start_time": "2024-09-12T20:52:50.964Z"
   },
   {
    "duration": 8,
    "start_time": "2024-09-12T20:52:50.974Z"
   },
   {
    "duration": 10,
    "start_time": "2024-09-12T20:52:50.983Z"
   },
   {
    "duration": 53,
    "start_time": "2024-09-12T20:52:50.994Z"
   },
   {
    "duration": 12,
    "start_time": "2024-09-12T20:52:51.052Z"
   },
   {
    "duration": 13,
    "start_time": "2024-09-12T20:52:51.065Z"
   },
   {
    "duration": 5,
    "start_time": "2024-09-12T20:52:51.082Z"
   },
   {
    "duration": 14,
    "start_time": "2024-09-12T20:52:51.088Z"
   },
   {
    "duration": 978,
    "start_time": "2024-09-12T20:52:51.103Z"
   },
   {
    "duration": 813,
    "start_time": "2024-09-12T20:52:52.082Z"
   },
   {
    "duration": 13,
    "start_time": "2024-09-12T20:52:52.897Z"
   },
   {
    "duration": 30,
    "start_time": "2024-09-12T20:52:52.912Z"
   },
   {
    "duration": 9,
    "start_time": "2024-09-12T20:52:52.956Z"
   },
   {
    "duration": 4,
    "start_time": "2024-09-12T20:52:52.967Z"
   },
   {
    "duration": 10,
    "start_time": "2024-09-12T20:52:52.972Z"
   },
   {
    "duration": 7,
    "start_time": "2024-09-12T20:52:52.984Z"
   },
   {
    "duration": 5,
    "start_time": "2024-09-12T20:52:52.993Z"
   },
   {
    "duration": 42,
    "start_time": "2024-09-12T20:52:53.000Z"
   },
   {
    "duration": 26,
    "start_time": "2024-09-12T20:52:53.044Z"
   },
   {
    "duration": 226,
    "start_time": "2024-09-12T20:52:53.071Z"
   },
   {
    "duration": 12,
    "start_time": "2024-09-12T20:52:53.299Z"
   },
   {
    "duration": 42,
    "start_time": "2024-09-12T20:52:53.313Z"
   },
   {
    "duration": 7,
    "start_time": "2024-09-12T20:52:53.356Z"
   },
   {
    "duration": 647,
    "start_time": "2024-09-12T20:52:53.364Z"
   },
   {
    "duration": 50,
    "start_time": "2024-09-12T20:52:54.013Z"
   },
   {
    "duration": 141,
    "start_time": "2024-09-12T20:52:54.065Z"
   },
   {
    "duration": 21,
    "start_time": "2024-09-12T20:52:54.208Z"
   },
   {
    "duration": 4,
    "start_time": "2024-09-12T20:55:34.165Z"
   },
   {
    "duration": 376,
    "start_time": "2024-09-12T20:55:34.171Z"
   },
   {
    "duration": 1147,
    "start_time": "2024-09-12T20:55:34.554Z"
   },
   {
    "duration": 8,
    "start_time": "2024-09-12T20:55:35.703Z"
   },
   {
    "duration": 8,
    "start_time": "2024-09-12T20:55:35.713Z"
   },
   {
    "duration": 13,
    "start_time": "2024-09-12T20:55:35.722Z"
   },
   {
    "duration": 21,
    "start_time": "2024-09-12T20:55:35.741Z"
   },
   {
    "duration": 8,
    "start_time": "2024-09-12T20:55:35.764Z"
   },
   {
    "duration": 73,
    "start_time": "2024-09-12T20:55:35.776Z"
   },
   {
    "duration": 12,
    "start_time": "2024-09-12T20:55:35.853Z"
   },
   {
    "duration": 236,
    "start_time": "2024-09-12T20:55:35.867Z"
   },
   {
    "duration": 7,
    "start_time": "2024-09-12T20:55:36.105Z"
   },
   {
    "duration": 141,
    "start_time": "2024-09-12T20:55:36.114Z"
   },
   {
    "duration": 11,
    "start_time": "2024-09-12T20:55:36.257Z"
   },
   {
    "duration": 84,
    "start_time": "2024-09-12T20:55:36.270Z"
   },
   {
    "duration": 129,
    "start_time": "2024-09-12T20:55:36.356Z"
   },
   {
    "duration": 56,
    "start_time": "2024-09-12T20:55:36.487Z"
   },
   {
    "duration": 33,
    "start_time": "2024-09-12T20:55:36.545Z"
   },
   {
    "duration": 10,
    "start_time": "2024-09-12T20:55:36.580Z"
   },
   {
    "duration": 3,
    "start_time": "2024-09-12T20:55:36.592Z"
   },
   {
    "duration": 41,
    "start_time": "2024-09-12T20:55:36.597Z"
   },
   {
    "duration": 25,
    "start_time": "2024-09-12T20:55:36.640Z"
   },
   {
    "duration": 8,
    "start_time": "2024-09-12T20:55:36.667Z"
   },
   {
    "duration": 7,
    "start_time": "2024-09-12T20:55:36.681Z"
   },
   {
    "duration": 9,
    "start_time": "2024-09-12T20:55:36.690Z"
   },
   {
    "duration": 65,
    "start_time": "2024-09-12T20:55:36.701Z"
   },
   {
    "duration": 5,
    "start_time": "2024-09-12T20:55:36.768Z"
   },
   {
    "duration": 12,
    "start_time": "2024-09-12T20:55:36.774Z"
   },
   {
    "duration": 5,
    "start_time": "2024-09-12T20:55:36.787Z"
   },
   {
    "duration": 13,
    "start_time": "2024-09-12T20:55:36.794Z"
   },
   {
    "duration": 982,
    "start_time": "2024-09-12T20:55:36.808Z"
   },
   {
    "duration": 876,
    "start_time": "2024-09-12T20:55:37.792Z"
   },
   {
    "duration": 14,
    "start_time": "2024-09-12T20:55:38.670Z"
   },
   {
    "duration": 6,
    "start_time": "2024-09-12T20:55:38.686Z"
   },
   {
    "duration": 6,
    "start_time": "2024-09-12T20:55:38.695Z"
   },
   {
    "duration": 5,
    "start_time": "2024-09-12T20:55:38.704Z"
   },
   {
    "duration": 45,
    "start_time": "2024-09-12T20:55:38.710Z"
   },
   {
    "duration": 8,
    "start_time": "2024-09-12T20:55:38.757Z"
   },
   {
    "duration": 5,
    "start_time": "2024-09-12T20:55:38.766Z"
   },
   {
    "duration": 21,
    "start_time": "2024-09-12T20:55:38.773Z"
   },
   {
    "duration": 16,
    "start_time": "2024-09-12T20:55:38.795Z"
   },
   {
    "duration": 233,
    "start_time": "2024-09-12T20:55:38.814Z"
   },
   {
    "duration": 18,
    "start_time": "2024-09-12T20:55:39.049Z"
   },
   {
    "duration": 16,
    "start_time": "2024-09-12T20:55:39.069Z"
   },
   {
    "duration": 6,
    "start_time": "2024-09-12T20:55:39.086Z"
   },
   {
    "duration": 643,
    "start_time": "2024-09-12T20:55:39.094Z"
   },
   {
    "duration": 35,
    "start_time": "2024-09-12T20:55:39.739Z"
   },
   {
    "duration": 149,
    "start_time": "2024-09-12T20:55:39.776Z"
   },
   {
    "duration": 32,
    "start_time": "2024-09-12T20:55:39.927Z"
   },
   {
    "duration": 194,
    "start_time": "2024-09-12T21:10:59.866Z"
   },
   {
    "duration": 3,
    "start_time": "2024-09-12T21:11:17.313Z"
   },
   {
    "duration": 323,
    "start_time": "2024-09-12T21:11:17.323Z"
   },
   {
    "duration": 1215,
    "start_time": "2024-09-12T21:11:17.649Z"
   },
   {
    "duration": 7,
    "start_time": "2024-09-12T21:11:18.867Z"
   },
   {
    "duration": 8,
    "start_time": "2024-09-12T21:11:18.877Z"
   },
   {
    "duration": 7,
    "start_time": "2024-09-12T21:11:18.888Z"
   },
   {
    "duration": 7,
    "start_time": "2024-09-12T21:11:18.897Z"
   },
   {
    "duration": 29,
    "start_time": "2024-09-12T21:11:18.906Z"
   },
   {
    "duration": 60,
    "start_time": "2024-09-12T21:11:18.951Z"
   },
   {
    "duration": 9,
    "start_time": "2024-09-12T21:11:19.013Z"
   },
   {
    "duration": 243,
    "start_time": "2024-09-12T21:11:19.024Z"
   },
   {
    "duration": 9,
    "start_time": "2024-09-12T21:11:19.269Z"
   },
   {
    "duration": 129,
    "start_time": "2024-09-12T21:11:19.280Z"
   },
   {
    "duration": 8,
    "start_time": "2024-09-12T21:11:19.411Z"
   },
   {
    "duration": 93,
    "start_time": "2024-09-12T21:11:19.422Z"
   },
   {
    "duration": 137,
    "start_time": "2024-09-12T21:11:19.517Z"
   },
   {
    "duration": 50,
    "start_time": "2024-09-12T21:11:19.660Z"
   },
   {
    "duration": 29,
    "start_time": "2024-09-12T21:11:19.712Z"
   },
   {
    "duration": 17,
    "start_time": "2024-09-12T21:11:19.743Z"
   },
   {
    "duration": 14,
    "start_time": "2024-09-12T21:11:19.763Z"
   },
   {
    "duration": 22,
    "start_time": "2024-09-12T21:11:19.781Z"
   },
   {
    "duration": 16,
    "start_time": "2024-09-12T21:11:19.805Z"
   },
   {
    "duration": 7,
    "start_time": "2024-09-12T21:11:19.822Z"
   },
   {
    "duration": 23,
    "start_time": "2024-09-12T21:11:19.831Z"
   },
   {
    "duration": 13,
    "start_time": "2024-09-12T21:11:19.857Z"
   },
   {
    "duration": 27,
    "start_time": "2024-09-12T21:11:19.872Z"
   },
   {
    "duration": 4,
    "start_time": "2024-09-12T21:11:19.901Z"
   },
   {
    "duration": 50,
    "start_time": "2024-09-12T21:11:19.907Z"
   },
   {
    "duration": 5,
    "start_time": "2024-09-12T21:11:19.959Z"
   },
   {
    "duration": 14,
    "start_time": "2024-09-12T21:11:19.966Z"
   },
   {
    "duration": 910,
    "start_time": "2024-09-12T21:11:19.983Z"
   },
   {
    "duration": 825,
    "start_time": "2024-09-12T21:11:20.895Z"
   },
   {
    "duration": 22,
    "start_time": "2024-09-12T21:11:21.722Z"
   },
   {
    "duration": 12,
    "start_time": "2024-09-12T21:11:21.746Z"
   },
   {
    "duration": 9,
    "start_time": "2024-09-12T21:11:21.760Z"
   },
   {
    "duration": 4,
    "start_time": "2024-09-12T21:11:21.771Z"
   },
   {
    "duration": 9,
    "start_time": "2024-09-12T21:11:21.777Z"
   },
   {
    "duration": 9,
    "start_time": "2024-09-12T21:11:21.787Z"
   },
   {
    "duration": 5,
    "start_time": "2024-09-12T21:11:21.797Z"
   },
   {
    "duration": 37,
    "start_time": "2024-09-12T21:11:21.832Z"
   },
   {
    "duration": 16,
    "start_time": "2024-09-12T21:11:21.873Z"
   },
   {
    "duration": 220,
    "start_time": "2024-09-12T21:11:21.894Z"
   },
   {
    "duration": 21,
    "start_time": "2024-09-12T21:11:22.116Z"
   },
   {
    "duration": 13,
    "start_time": "2024-09-12T21:11:22.148Z"
   },
   {
    "duration": 10,
    "start_time": "2024-09-12T21:11:22.163Z"
   },
   {
    "duration": 625,
    "start_time": "2024-09-12T21:11:22.175Z"
   },
   {
    "duration": 40,
    "start_time": "2024-09-12T21:11:22.802Z"
   },
   {
    "duration": 162,
    "start_time": "2024-09-12T21:11:22.844Z"
   },
   {
    "duration": 29,
    "start_time": "2024-09-12T21:11:23.008Z"
   },
   {
    "duration": 5,
    "start_time": "2024-09-12T21:12:46.658Z"
   },
   {
    "duration": 324,
    "start_time": "2024-09-12T21:12:46.665Z"
   },
   {
    "duration": 985,
    "start_time": "2024-09-12T21:12:46.990Z"
   },
   {
    "duration": 8,
    "start_time": "2024-09-12T21:12:47.977Z"
   },
   {
    "duration": 6,
    "start_time": "2024-09-12T21:12:47.989Z"
   },
   {
    "duration": 7,
    "start_time": "2024-09-12T21:12:47.997Z"
   },
   {
    "duration": 6,
    "start_time": "2024-09-12T21:12:48.006Z"
   },
   {
    "duration": 39,
    "start_time": "2024-09-12T21:12:48.014Z"
   },
   {
    "duration": 42,
    "start_time": "2024-09-12T21:12:48.057Z"
   },
   {
    "duration": 11,
    "start_time": "2024-09-12T21:12:48.101Z"
   },
   {
    "duration": 178,
    "start_time": "2024-09-12T21:12:48.113Z"
   },
   {
    "duration": 7,
    "start_time": "2024-09-12T21:12:48.293Z"
   },
   {
    "duration": 140,
    "start_time": "2024-09-12T21:12:48.302Z"
   },
   {
    "duration": 11,
    "start_time": "2024-09-12T21:12:48.458Z"
   },
   {
    "duration": 80,
    "start_time": "2024-09-12T21:12:48.470Z"
   },
   {
    "duration": 121,
    "start_time": "2024-09-12T21:12:48.552Z"
   },
   {
    "duration": 84,
    "start_time": "2024-09-12T21:12:48.675Z"
   },
   {
    "duration": 20,
    "start_time": "2024-09-12T21:12:48.761Z"
   },
   {
    "duration": 10,
    "start_time": "2024-09-12T21:12:48.783Z"
   },
   {
    "duration": 3,
    "start_time": "2024-09-12T21:12:48.795Z"
   },
   {
    "duration": 19,
    "start_time": "2024-09-12T21:12:48.800Z"
   },
   {
    "duration": 27,
    "start_time": "2024-09-12T21:12:48.834Z"
   },
   {
    "duration": 9,
    "start_time": "2024-09-12T21:12:48.864Z"
   },
   {
    "duration": 10,
    "start_time": "2024-09-12T21:12:48.875Z"
   },
   {
    "duration": 9,
    "start_time": "2024-09-12T21:12:48.887Z"
   },
   {
    "duration": 64,
    "start_time": "2024-09-12T21:12:48.898Z"
   },
   {
    "duration": 6,
    "start_time": "2024-09-12T21:12:48.964Z"
   },
   {
    "duration": 12,
    "start_time": "2024-09-12T21:12:48.972Z"
   },
   {
    "duration": 5,
    "start_time": "2024-09-12T21:12:48.985Z"
   },
   {
    "duration": 12,
    "start_time": "2024-09-12T21:12:48.992Z"
   },
   {
    "duration": 998,
    "start_time": "2024-09-12T21:12:49.005Z"
   },
   {
    "duration": 845,
    "start_time": "2024-09-12T21:12:50.005Z"
   },
   {
    "duration": 19,
    "start_time": "2024-09-12T21:12:50.852Z"
   },
   {
    "duration": 8,
    "start_time": "2024-09-12T21:12:50.873Z"
   },
   {
    "duration": 7,
    "start_time": "2024-09-12T21:12:50.882Z"
   },
   {
    "duration": 4,
    "start_time": "2024-09-12T21:12:50.891Z"
   },
   {
    "duration": 47,
    "start_time": "2024-09-12T21:12:50.897Z"
   },
   {
    "duration": 10,
    "start_time": "2024-09-12T21:12:50.951Z"
   },
   {
    "duration": 5,
    "start_time": "2024-09-12T21:12:50.962Z"
   },
   {
    "duration": 18,
    "start_time": "2024-09-12T21:12:50.969Z"
   },
   {
    "duration": 22,
    "start_time": "2024-09-12T21:12:50.993Z"
   },
   {
    "duration": 214,
    "start_time": "2024-09-12T21:12:51.037Z"
   },
   {
    "duration": 16,
    "start_time": "2024-09-12T21:12:51.253Z"
   },
   {
    "duration": 10,
    "start_time": "2024-09-12T21:12:51.270Z"
   },
   {
    "duration": 6,
    "start_time": "2024-09-12T21:12:51.282Z"
   },
   {
    "duration": 636,
    "start_time": "2024-09-12T21:12:51.289Z"
   },
   {
    "duration": 60,
    "start_time": "2024-09-12T21:12:51.927Z"
   },
   {
    "duration": 171,
    "start_time": "2024-09-12T21:12:51.991Z"
   },
   {
    "duration": 22,
    "start_time": "2024-09-12T21:12:52.164Z"
   },
   {
    "duration": 410,
    "start_time": "2024-09-12T21:12:52.187Z"
   },
   {
    "duration": 0,
    "start_time": "2024-09-12T21:12:52.599Z"
   },
   {
    "duration": 0,
    "start_time": "2024-09-12T21:12:52.600Z"
   },
   {
    "duration": 0,
    "start_time": "2024-09-12T21:12:52.602Z"
   },
   {
    "duration": 0,
    "start_time": "2024-09-12T21:12:52.603Z"
   },
   {
    "duration": 0,
    "start_time": "2024-09-12T21:12:52.604Z"
   },
   {
    "duration": 0,
    "start_time": "2024-09-12T21:12:52.606Z"
   },
   {
    "duration": 0,
    "start_time": "2024-09-12T21:12:52.607Z"
   },
   {
    "duration": 0,
    "start_time": "2024-09-12T21:12:52.609Z"
   },
   {
    "duration": 0,
    "start_time": "2024-09-12T21:12:52.610Z"
   },
   {
    "duration": 0,
    "start_time": "2024-09-12T21:12:52.632Z"
   },
   {
    "duration": 0,
    "start_time": "2024-09-12T21:12:52.633Z"
   },
   {
    "duration": 0,
    "start_time": "2024-09-12T21:12:52.636Z"
   },
   {
    "duration": 0,
    "start_time": "2024-09-12T21:12:52.637Z"
   },
   {
    "duration": 0,
    "start_time": "2024-09-12T21:12:52.638Z"
   },
   {
    "duration": 0,
    "start_time": "2024-09-12T21:12:52.639Z"
   },
   {
    "duration": 1,
    "start_time": "2024-09-12T21:12:52.641Z"
   },
   {
    "duration": 0,
    "start_time": "2024-09-12T21:12:52.642Z"
   },
   {
    "duration": 1,
    "start_time": "2024-09-12T21:12:52.643Z"
   },
   {
    "duration": 0,
    "start_time": "2024-09-12T21:12:52.644Z"
   },
   {
    "duration": 0,
    "start_time": "2024-09-12T21:12:52.645Z"
   },
   {
    "duration": 10,
    "start_time": "2024-09-12T21:14:58.748Z"
   },
   {
    "duration": 332,
    "start_time": "2024-09-12T21:14:58.761Z"
   },
   {
    "duration": 965,
    "start_time": "2024-09-12T21:14:59.095Z"
   },
   {
    "duration": 7,
    "start_time": "2024-09-12T21:15:00.063Z"
   },
   {
    "duration": 6,
    "start_time": "2024-09-12T21:15:00.072Z"
   },
   {
    "duration": 8,
    "start_time": "2024-09-12T21:15:00.079Z"
   },
   {
    "duration": 4,
    "start_time": "2024-09-12T21:15:00.088Z"
   },
   {
    "duration": 7,
    "start_time": "2024-09-12T21:15:00.094Z"
   },
   {
    "duration": 69,
    "start_time": "2024-09-12T21:15:00.103Z"
   },
   {
    "duration": 12,
    "start_time": "2024-09-12T21:15:00.175Z"
   },
   {
    "duration": 155,
    "start_time": "2024-09-12T21:15:00.188Z"
   },
   {
    "duration": 12,
    "start_time": "2024-09-12T21:15:00.345Z"
   },
   {
    "duration": 150,
    "start_time": "2024-09-12T21:15:00.359Z"
   },
   {
    "duration": 10,
    "start_time": "2024-09-12T21:15:00.511Z"
   },
   {
    "duration": 92,
    "start_time": "2024-09-12T21:15:00.538Z"
   },
   {
    "duration": 133,
    "start_time": "2024-09-12T21:15:00.632Z"
   },
   {
    "duration": 52,
    "start_time": "2024-09-12T21:15:00.767Z"
   },
   {
    "duration": 41,
    "start_time": "2024-09-12T21:15:00.821Z"
   },
   {
    "duration": 13,
    "start_time": "2024-09-12T21:15:00.864Z"
   },
   {
    "duration": 5,
    "start_time": "2024-09-12T21:15:00.879Z"
   },
   {
    "duration": 14,
    "start_time": "2024-09-12T21:15:00.885Z"
   },
   {
    "duration": 13,
    "start_time": "2024-09-12T21:15:00.900Z"
   },
   {
    "duration": 30,
    "start_time": "2024-09-12T21:15:00.914Z"
   },
   {
    "duration": 14,
    "start_time": "2024-09-12T21:15:00.947Z"
   },
   {
    "duration": 9,
    "start_time": "2024-09-12T21:15:00.963Z"
   },
   {
    "duration": 25,
    "start_time": "2024-09-12T21:15:00.974Z"
   },
   {
    "duration": 4,
    "start_time": "2024-09-12T21:15:01.001Z"
   },
   {
    "duration": 17,
    "start_time": "2024-09-12T21:15:01.037Z"
   },
   {
    "duration": 15,
    "start_time": "2024-09-12T21:15:01.057Z"
   },
   {
    "duration": 13,
    "start_time": "2024-09-12T21:15:01.073Z"
   },
   {
    "duration": 972,
    "start_time": "2024-09-12T21:15:01.087Z"
   },
   {
    "duration": 825,
    "start_time": "2024-09-12T21:15:02.061Z"
   },
   {
    "duration": 15,
    "start_time": "2024-09-12T21:15:02.887Z"
   },
   {
    "duration": 8,
    "start_time": "2024-09-12T21:15:02.903Z"
   },
   {
    "duration": 33,
    "start_time": "2024-09-12T21:15:02.912Z"
   },
   {
    "duration": 5,
    "start_time": "2024-09-12T21:15:02.947Z"
   },
   {
    "duration": 20,
    "start_time": "2024-09-12T21:15:02.954Z"
   },
   {
    "duration": 8,
    "start_time": "2024-09-12T21:15:02.976Z"
   },
   {
    "duration": 5,
    "start_time": "2024-09-12T21:15:02.985Z"
   },
   {
    "duration": 19,
    "start_time": "2024-09-12T21:15:02.992Z"
   },
   {
    "duration": 46,
    "start_time": "2024-09-12T21:15:03.012Z"
   },
   {
    "duration": 210,
    "start_time": "2024-09-12T21:15:03.061Z"
   },
   {
    "duration": 11,
    "start_time": "2024-09-12T21:15:03.273Z"
   },
   {
    "duration": 9,
    "start_time": "2024-09-12T21:15:03.286Z"
   },
   {
    "duration": 6,
    "start_time": "2024-09-12T21:15:03.297Z"
   },
   {
    "duration": 642,
    "start_time": "2024-09-12T21:15:03.304Z"
   },
   {
    "duration": 29,
    "start_time": "2024-09-12T21:15:03.955Z"
   },
   {
    "duration": 142,
    "start_time": "2024-09-12T21:15:03.985Z"
   },
   {
    "duration": 34,
    "start_time": "2024-09-12T21:15:04.129Z"
   },
   {
    "duration": 186,
    "start_time": "2024-09-12T21:19:42.573Z"
   },
   {
    "duration": 5,
    "start_time": "2024-09-12T21:19:53.352Z"
   },
   {
    "duration": 339,
    "start_time": "2024-09-12T21:19:53.360Z"
   },
   {
    "duration": 1091,
    "start_time": "2024-09-12T21:19:53.701Z"
   },
   {
    "duration": 8,
    "start_time": "2024-09-12T21:19:54.793Z"
   },
   {
    "duration": 6,
    "start_time": "2024-09-12T21:19:54.803Z"
   },
   {
    "duration": 7,
    "start_time": "2024-09-12T21:19:54.811Z"
   },
   {
    "duration": 16,
    "start_time": "2024-09-12T21:19:54.820Z"
   },
   {
    "duration": 19,
    "start_time": "2024-09-12T21:19:54.838Z"
   },
   {
    "duration": 61,
    "start_time": "2024-09-12T21:19:54.860Z"
   },
   {
    "duration": 15,
    "start_time": "2024-09-12T21:19:54.923Z"
   },
   {
    "duration": 208,
    "start_time": "2024-09-12T21:19:54.948Z"
   },
   {
    "duration": 21,
    "start_time": "2024-09-12T21:19:55.158Z"
   },
   {
    "duration": 126,
    "start_time": "2024-09-12T21:19:55.181Z"
   },
   {
    "duration": 8,
    "start_time": "2024-09-12T21:19:55.309Z"
   },
   {
    "duration": 85,
    "start_time": "2024-09-12T21:19:55.331Z"
   },
   {
    "duration": 132,
    "start_time": "2024-09-12T21:19:55.418Z"
   },
   {
    "duration": 53,
    "start_time": "2024-09-12T21:19:55.559Z"
   },
   {
    "duration": 25,
    "start_time": "2024-09-12T21:19:55.614Z"
   },
   {
    "duration": 19,
    "start_time": "2024-09-12T21:19:55.641Z"
   },
   {
    "duration": 3,
    "start_time": "2024-09-12T21:19:55.665Z"
   },
   {
    "duration": 14,
    "start_time": "2024-09-12T21:19:55.669Z"
   },
   {
    "duration": 11,
    "start_time": "2024-09-12T21:19:55.685Z"
   },
   {
    "duration": 7,
    "start_time": "2024-09-12T21:19:55.698Z"
   },
   {
    "duration": 32,
    "start_time": "2024-09-12T21:19:55.706Z"
   },
   {
    "duration": 17,
    "start_time": "2024-09-12T21:19:55.741Z"
   },
   {
    "duration": 27,
    "start_time": "2024-09-12T21:19:55.760Z"
   },
   {
    "duration": 5,
    "start_time": "2024-09-12T21:19:55.789Z"
   },
   {
    "duration": 11,
    "start_time": "2024-09-12T21:19:55.795Z"
   },
   {
    "duration": 10,
    "start_time": "2024-09-12T21:19:55.830Z"
   },
   {
    "duration": 25,
    "start_time": "2024-09-12T21:19:55.842Z"
   },
   {
    "duration": 911,
    "start_time": "2024-09-12T21:19:55.869Z"
   },
   {
    "duration": 894,
    "start_time": "2024-09-12T21:19:56.782Z"
   },
   {
    "duration": 17,
    "start_time": "2024-09-12T21:19:57.678Z"
   },
   {
    "duration": 7,
    "start_time": "2024-09-12T21:19:57.697Z"
   },
   {
    "duration": 6,
    "start_time": "2024-09-12T21:19:57.706Z"
   },
   {
    "duration": 9,
    "start_time": "2024-09-12T21:19:57.731Z"
   },
   {
    "duration": 13,
    "start_time": "2024-09-12T21:19:57.741Z"
   },
   {
    "duration": 23,
    "start_time": "2024-09-12T21:19:57.757Z"
   },
   {
    "duration": 5,
    "start_time": "2024-09-12T21:19:57.782Z"
   },
   {
    "duration": 18,
    "start_time": "2024-09-12T21:19:57.789Z"
   },
   {
    "duration": 46,
    "start_time": "2024-09-12T21:19:57.809Z"
   },
   {
    "duration": 219,
    "start_time": "2024-09-12T21:19:57.857Z"
   },
   {
    "duration": 12,
    "start_time": "2024-09-12T21:19:58.078Z"
   },
   {
    "duration": 9,
    "start_time": "2024-09-12T21:19:58.092Z"
   },
   {
    "duration": 6,
    "start_time": "2024-09-12T21:19:58.102Z"
   },
   {
    "duration": 639,
    "start_time": "2024-09-12T21:19:58.138Z"
   },
   {
    "duration": 26,
    "start_time": "2024-09-12T21:19:58.779Z"
   },
   {
    "duration": 167,
    "start_time": "2024-09-12T21:19:58.807Z"
   },
   {
    "duration": 21,
    "start_time": "2024-09-12T21:19:58.975Z"
   },
   {
    "duration": 9,
    "start_time": "2024-09-12T21:24:00.006Z"
   },
   {
    "duration": 204,
    "start_time": "2024-09-12T21:24:13.090Z"
   },
   {
    "duration": 3,
    "start_time": "2024-09-12T21:24:23.157Z"
   },
   {
    "duration": 348,
    "start_time": "2024-09-12T21:24:23.162Z"
   },
   {
    "duration": 1117,
    "start_time": "2024-09-12T21:24:23.512Z"
   },
   {
    "duration": 9,
    "start_time": "2024-09-12T21:24:24.630Z"
   },
   {
    "duration": 11,
    "start_time": "2024-09-12T21:24:24.642Z"
   },
   {
    "duration": 17,
    "start_time": "2024-09-12T21:24:24.655Z"
   },
   {
    "duration": 8,
    "start_time": "2024-09-12T21:24:24.674Z"
   },
   {
    "duration": 7,
    "start_time": "2024-09-12T21:24:24.684Z"
   },
   {
    "duration": 78,
    "start_time": "2024-09-12T21:24:24.693Z"
   },
   {
    "duration": 11,
    "start_time": "2024-09-12T21:24:24.772Z"
   },
   {
    "duration": 213,
    "start_time": "2024-09-12T21:24:24.786Z"
   },
   {
    "duration": 9,
    "start_time": "2024-09-12T21:24:25.001Z"
   },
   {
    "duration": 173,
    "start_time": "2024-09-12T21:24:25.012Z"
   },
   {
    "duration": 11,
    "start_time": "2024-09-12T21:24:25.187Z"
   },
   {
    "duration": 115,
    "start_time": "2024-09-12T21:24:25.200Z"
   },
   {
    "duration": 160,
    "start_time": "2024-09-12T21:24:25.317Z"
   },
   {
    "duration": 92,
    "start_time": "2024-09-12T21:24:25.479Z"
   },
   {
    "duration": 19,
    "start_time": "2024-09-12T21:24:25.573Z"
   },
   {
    "duration": 13,
    "start_time": "2024-09-12T21:24:25.594Z"
   },
   {
    "duration": 3,
    "start_time": "2024-09-12T21:24:25.608Z"
   },
   {
    "duration": 29,
    "start_time": "2024-09-12T21:24:25.613Z"
   },
   {
    "duration": 21,
    "start_time": "2024-09-12T21:24:25.645Z"
   },
   {
    "duration": 8,
    "start_time": "2024-09-12T21:24:25.668Z"
   },
   {
    "duration": 9,
    "start_time": "2024-09-12T21:24:25.678Z"
   },
   {
    "duration": 10,
    "start_time": "2024-09-12T21:24:25.689Z"
   },
   {
    "duration": 52,
    "start_time": "2024-09-12T21:24:25.701Z"
   },
   {
    "duration": 7,
    "start_time": "2024-09-12T21:24:25.755Z"
   },
   {
    "duration": 19,
    "start_time": "2024-09-12T21:24:25.764Z"
   },
   {
    "duration": 6,
    "start_time": "2024-09-12T21:24:25.788Z"
   },
   {
    "duration": 36,
    "start_time": "2024-09-12T21:24:25.796Z"
   },
   {
    "duration": 1043,
    "start_time": "2024-09-12T21:24:25.834Z"
   },
   {
    "duration": 1092,
    "start_time": "2024-09-12T21:24:26.882Z"
   },
   {
    "duration": 21,
    "start_time": "2024-09-12T21:24:27.976Z"
   },
   {
    "duration": 7,
    "start_time": "2024-09-12T21:24:27.999Z"
   },
   {
    "duration": 8,
    "start_time": "2024-09-12T21:24:28.009Z"
   },
   {
    "duration": 6,
    "start_time": "2024-09-12T21:24:28.036Z"
   },
   {
    "duration": 13,
    "start_time": "2024-09-12T21:24:28.045Z"
   },
   {
    "duration": 11,
    "start_time": "2024-09-12T21:24:28.060Z"
   },
   {
    "duration": 8,
    "start_time": "2024-09-12T21:24:28.073Z"
   },
   {
    "duration": 28,
    "start_time": "2024-09-12T21:24:28.083Z"
   },
   {
    "duration": 35,
    "start_time": "2024-09-12T21:24:28.137Z"
   },
   {
    "duration": 238,
    "start_time": "2024-09-12T21:24:28.178Z"
   },
   {
    "duration": 22,
    "start_time": "2024-09-12T21:24:28.418Z"
   },
   {
    "duration": 12,
    "start_time": "2024-09-12T21:24:28.443Z"
   },
   {
    "duration": 8,
    "start_time": "2024-09-12T21:24:28.457Z"
   },
   {
    "duration": 682,
    "start_time": "2024-09-12T21:24:28.467Z"
   },
   {
    "duration": 34,
    "start_time": "2024-09-12T21:24:29.151Z"
   },
   {
    "duration": 203,
    "start_time": "2024-09-12T21:24:29.187Z"
   },
   {
    "duration": 20,
    "start_time": "2024-09-12T21:24:29.391Z"
   },
   {
    "duration": 4,
    "start_time": "2024-09-12T21:24:41.097Z"
   },
   {
    "duration": 312,
    "start_time": "2024-09-12T21:24:41.103Z"
   },
   {
    "duration": 972,
    "start_time": "2024-09-12T21:24:41.417Z"
   },
   {
    "duration": 8,
    "start_time": "2024-09-12T21:24:42.391Z"
   },
   {
    "duration": 5,
    "start_time": "2024-09-12T21:24:42.401Z"
   },
   {
    "duration": 8,
    "start_time": "2024-09-12T21:24:42.407Z"
   },
   {
    "duration": 9,
    "start_time": "2024-09-12T21:24:42.439Z"
   },
   {
    "duration": 13,
    "start_time": "2024-09-12T21:24:42.450Z"
   },
   {
    "duration": 35,
    "start_time": "2024-09-12T21:24:42.467Z"
   },
   {
    "duration": 11,
    "start_time": "2024-09-12T21:24:42.503Z"
   },
   {
    "duration": 176,
    "start_time": "2024-09-12T21:24:42.516Z"
   },
   {
    "duration": 8,
    "start_time": "2024-09-12T21:24:42.693Z"
   },
   {
    "duration": 151,
    "start_time": "2024-09-12T21:24:42.703Z"
   },
   {
    "duration": 10,
    "start_time": "2024-09-12T21:24:42.856Z"
   },
   {
    "duration": 86,
    "start_time": "2024-09-12T21:24:42.868Z"
   },
   {
    "duration": 115,
    "start_time": "2024-09-12T21:24:42.958Z"
   },
   {
    "duration": 62,
    "start_time": "2024-09-12T21:24:43.075Z"
   },
   {
    "duration": 30,
    "start_time": "2024-09-12T21:24:43.143Z"
   },
   {
    "duration": 10,
    "start_time": "2024-09-12T21:24:43.174Z"
   },
   {
    "duration": 4,
    "start_time": "2024-09-12T21:24:43.185Z"
   },
   {
    "duration": 15,
    "start_time": "2024-09-12T21:24:43.190Z"
   },
   {
    "duration": 50,
    "start_time": "2024-09-12T21:24:43.206Z"
   },
   {
    "duration": 10,
    "start_time": "2024-09-12T21:24:43.258Z"
   },
   {
    "duration": 7,
    "start_time": "2024-09-12T21:24:43.274Z"
   },
   {
    "duration": 10,
    "start_time": "2024-09-12T21:24:43.283Z"
   },
   {
    "duration": 24,
    "start_time": "2024-09-12T21:24:43.295Z"
   },
   {
    "duration": 11,
    "start_time": "2024-09-12T21:24:43.342Z"
   },
   {
    "duration": 14,
    "start_time": "2024-09-12T21:24:43.355Z"
   },
   {
    "duration": 5,
    "start_time": "2024-09-12T21:24:43.371Z"
   },
   {
    "duration": 13,
    "start_time": "2024-09-12T21:24:43.377Z"
   },
   {
    "duration": 1167,
    "start_time": "2024-09-12T21:24:43.391Z"
   },
   {
    "duration": 977,
    "start_time": "2024-09-12T21:24:44.560Z"
   },
   {
    "duration": 21,
    "start_time": "2024-09-12T21:24:45.542Z"
   },
   {
    "duration": 8,
    "start_time": "2024-09-12T21:24:45.565Z"
   },
   {
    "duration": 7,
    "start_time": "2024-09-12T21:24:45.574Z"
   },
   {
    "duration": 5,
    "start_time": "2024-09-12T21:24:45.582Z"
   },
   {
    "duration": 7,
    "start_time": "2024-09-12T21:24:45.589Z"
   },
   {
    "duration": 39,
    "start_time": "2024-09-12T21:24:45.598Z"
   },
   {
    "duration": 9,
    "start_time": "2024-09-12T21:24:45.639Z"
   },
   {
    "duration": 25,
    "start_time": "2024-09-12T21:24:45.650Z"
   },
   {
    "duration": 16,
    "start_time": "2024-09-12T21:24:45.676Z"
   },
   {
    "duration": 285,
    "start_time": "2024-09-12T21:24:45.694Z"
   },
   {
    "duration": 17,
    "start_time": "2024-09-12T21:24:45.981Z"
   },
   {
    "duration": 10,
    "start_time": "2024-09-12T21:24:46.000Z"
   },
   {
    "duration": 7,
    "start_time": "2024-09-12T21:24:46.013Z"
   },
   {
    "duration": 724,
    "start_time": "2024-09-12T21:24:46.040Z"
   },
   {
    "duration": 36,
    "start_time": "2024-09-12T21:24:46.766Z"
   },
   {
    "duration": 192,
    "start_time": "2024-09-12T21:24:46.804Z"
   },
   {
    "duration": 21,
    "start_time": "2024-09-12T21:24:47.000Z"
   },
   {
    "duration": 3,
    "start_time": "2024-09-12T21:28:55.567Z"
   },
   {
    "duration": 381,
    "start_time": "2024-09-12T21:28:55.573Z"
   },
   {
    "duration": 1259,
    "start_time": "2024-09-12T21:28:55.956Z"
   },
   {
    "duration": 8,
    "start_time": "2024-09-12T21:28:57.218Z"
   },
   {
    "duration": 25,
    "start_time": "2024-09-12T21:28:57.233Z"
   },
   {
    "duration": 8,
    "start_time": "2024-09-12T21:28:57.260Z"
   },
   {
    "duration": 6,
    "start_time": "2024-09-12T21:28:57.270Z"
   },
   {
    "duration": 7,
    "start_time": "2024-09-12T21:28:57.278Z"
   },
   {
    "duration": 69,
    "start_time": "2024-09-12T21:28:57.288Z"
   },
   {
    "duration": 14,
    "start_time": "2024-09-12T21:28:57.360Z"
   },
   {
    "duration": 249,
    "start_time": "2024-09-12T21:28:57.376Z"
   },
   {
    "duration": 17,
    "start_time": "2024-09-12T21:28:57.627Z"
   },
   {
    "duration": 140,
    "start_time": "2024-09-12T21:28:57.652Z"
   },
   {
    "duration": 8,
    "start_time": "2024-09-12T21:28:57.794Z"
   },
   {
    "duration": 105,
    "start_time": "2024-09-12T21:28:57.804Z"
   },
   {
    "duration": 121,
    "start_time": "2024-09-12T21:28:57.911Z"
   },
   {
    "duration": 57,
    "start_time": "2024-09-12T21:28:58.048Z"
   },
   {
    "duration": 18,
    "start_time": "2024-09-12T21:28:58.107Z"
   },
   {
    "duration": 37,
    "start_time": "2024-09-12T21:28:58.126Z"
   },
   {
    "duration": 6,
    "start_time": "2024-09-12T21:28:58.164Z"
   },
   {
    "duration": 16,
    "start_time": "2024-09-12T21:28:58.172Z"
   },
   {
    "duration": 11,
    "start_time": "2024-09-12T21:28:58.189Z"
   },
   {
    "duration": 7,
    "start_time": "2024-09-12T21:28:58.202Z"
   },
   {
    "duration": 36,
    "start_time": "2024-09-12T21:28:58.214Z"
   },
   {
    "duration": 15,
    "start_time": "2024-09-12T21:28:58.252Z"
   },
   {
    "duration": 27,
    "start_time": "2024-09-12T21:28:58.270Z"
   },
   {
    "duration": 5,
    "start_time": "2024-09-12T21:28:58.298Z"
   },
   {
    "duration": 11,
    "start_time": "2024-09-12T21:28:58.305Z"
   },
   {
    "duration": 24,
    "start_time": "2024-09-12T21:28:58.317Z"
   },
   {
    "duration": 22,
    "start_time": "2024-09-12T21:28:58.343Z"
   },
   {
    "duration": 932,
    "start_time": "2024-09-12T21:28:58.367Z"
   },
   {
    "duration": 884,
    "start_time": "2024-09-12T21:28:59.301Z"
   },
   {
    "duration": 16,
    "start_time": "2024-09-12T21:29:00.189Z"
   },
   {
    "duration": 7,
    "start_time": "2024-09-12T21:29:00.206Z"
   },
   {
    "duration": 10,
    "start_time": "2024-09-12T21:29:00.248Z"
   },
   {
    "duration": 8,
    "start_time": "2024-09-12T21:29:00.260Z"
   },
   {
    "duration": 8,
    "start_time": "2024-09-12T21:29:00.270Z"
   },
   {
    "duration": 7,
    "start_time": "2024-09-12T21:29:00.281Z"
   },
   {
    "duration": 4,
    "start_time": "2024-09-12T21:29:00.290Z"
   },
   {
    "duration": 46,
    "start_time": "2024-09-12T21:29:00.296Z"
   },
   {
    "duration": 24,
    "start_time": "2024-09-12T21:29:00.344Z"
   },
   {
    "duration": 215,
    "start_time": "2024-09-12T21:29:00.370Z"
   },
   {
    "duration": 11,
    "start_time": "2024-09-12T21:29:00.587Z"
   },
   {
    "duration": 9,
    "start_time": "2024-09-12T21:29:00.600Z"
   },
   {
    "duration": 26,
    "start_time": "2024-09-12T21:29:00.611Z"
   },
   {
    "duration": 633,
    "start_time": "2024-09-12T21:29:00.640Z"
   },
   {
    "duration": 26,
    "start_time": "2024-09-12T21:29:01.275Z"
   },
   {
    "duration": 170,
    "start_time": "2024-09-12T21:29:01.303Z"
   },
   {
    "duration": 21,
    "start_time": "2024-09-12T21:29:01.474Z"
   },
   {
    "duration": 269,
    "start_time": "2024-09-12T21:29:01.497Z"
   },
   {
    "duration": 0,
    "start_time": "2024-09-12T21:29:01.768Z"
   },
   {
    "duration": 0,
    "start_time": "2024-09-12T21:29:01.769Z"
   },
   {
    "duration": 0,
    "start_time": "2024-09-12T21:29:01.770Z"
   },
   {
    "duration": 0,
    "start_time": "2024-09-12T21:29:01.771Z"
   },
   {
    "duration": 0,
    "start_time": "2024-09-12T21:29:01.772Z"
   },
   {
    "duration": 0,
    "start_time": "2024-09-12T21:29:01.773Z"
   },
   {
    "duration": 0,
    "start_time": "2024-09-12T21:29:01.774Z"
   },
   {
    "duration": 0,
    "start_time": "2024-09-12T21:29:01.775Z"
   },
   {
    "duration": 0,
    "start_time": "2024-09-12T21:29:01.777Z"
   },
   {
    "duration": 0,
    "start_time": "2024-09-12T21:29:01.778Z"
   },
   {
    "duration": 0,
    "start_time": "2024-09-12T21:29:01.779Z"
   },
   {
    "duration": 0,
    "start_time": "2024-09-12T21:29:01.779Z"
   },
   {
    "duration": 0,
    "start_time": "2024-09-12T21:29:01.780Z"
   },
   {
    "duration": 0,
    "start_time": "2024-09-12T21:29:01.781Z"
   },
   {
    "duration": 0,
    "start_time": "2024-09-12T21:29:01.782Z"
   },
   {
    "duration": 0,
    "start_time": "2024-09-12T21:29:01.783Z"
   },
   {
    "duration": 0,
    "start_time": "2024-09-12T21:29:01.784Z"
   },
   {
    "duration": 0,
    "start_time": "2024-09-12T21:29:01.785Z"
   },
   {
    "duration": 0,
    "start_time": "2024-09-12T21:29:01.786Z"
   },
   {
    "duration": 0,
    "start_time": "2024-09-12T21:29:01.787Z"
   },
   {
    "duration": 0,
    "start_time": "2024-09-12T21:29:01.788Z"
   },
   {
    "duration": 760,
    "start_time": "2024-09-12T21:32:43.082Z"
   },
   {
    "duration": 884,
    "start_time": "2024-09-12T21:34:22.907Z"
   },
   {
    "duration": 288,
    "start_time": "2024-09-12T21:35:06.176Z"
   },
   {
    "duration": 5,
    "start_time": "2024-09-12T21:39:47.764Z"
   },
   {
    "duration": 331,
    "start_time": "2024-09-12T21:39:47.771Z"
   },
   {
    "duration": 987,
    "start_time": "2024-09-12T21:39:48.104Z"
   },
   {
    "duration": 8,
    "start_time": "2024-09-12T21:39:49.093Z"
   },
   {
    "duration": 5,
    "start_time": "2024-09-12T21:39:49.103Z"
   },
   {
    "duration": 7,
    "start_time": "2024-09-12T21:39:49.110Z"
   },
   {
    "duration": 37,
    "start_time": "2024-09-12T21:39:49.119Z"
   },
   {
    "duration": 13,
    "start_time": "2024-09-12T21:39:49.158Z"
   },
   {
    "duration": 37,
    "start_time": "2024-09-12T21:39:49.172Z"
   },
   {
    "duration": 9,
    "start_time": "2024-09-12T21:39:49.213Z"
   },
   {
    "duration": 175,
    "start_time": "2024-09-12T21:39:49.224Z"
   },
   {
    "duration": 7,
    "start_time": "2024-09-12T21:39:49.401Z"
   },
   {
    "duration": 140,
    "start_time": "2024-09-12T21:39:49.410Z"
   },
   {
    "duration": 13,
    "start_time": "2024-09-12T21:39:49.552Z"
   },
   {
    "duration": 86,
    "start_time": "2024-09-12T21:39:49.568Z"
   },
   {
    "duration": 118,
    "start_time": "2024-09-12T21:39:49.660Z"
   },
   {
    "duration": 67,
    "start_time": "2024-09-12T21:39:49.782Z"
   },
   {
    "duration": 28,
    "start_time": "2024-09-12T21:39:49.851Z"
   },
   {
    "duration": 9,
    "start_time": "2024-09-12T21:39:49.881Z"
   },
   {
    "duration": 3,
    "start_time": "2024-09-12T21:39:49.892Z"
   },
   {
    "duration": 45,
    "start_time": "2024-09-12T21:39:49.897Z"
   },
   {
    "duration": 21,
    "start_time": "2024-09-12T21:39:49.944Z"
   },
   {
    "duration": 6,
    "start_time": "2024-09-12T21:39:49.967Z"
   },
   {
    "duration": 7,
    "start_time": "2024-09-12T21:39:49.975Z"
   },
   {
    "duration": 9,
    "start_time": "2024-09-12T21:39:49.984Z"
   },
   {
    "duration": 44,
    "start_time": "2024-09-12T21:39:49.994Z"
   },
   {
    "duration": 18,
    "start_time": "2024-09-12T21:39:50.040Z"
   },
   {
    "duration": 11,
    "start_time": "2024-09-12T21:39:50.065Z"
   },
   {
    "duration": 5,
    "start_time": "2024-09-12T21:39:50.077Z"
   },
   {
    "duration": 13,
    "start_time": "2024-09-12T21:39:50.084Z"
   },
   {
    "duration": 993,
    "start_time": "2024-09-12T21:39:50.098Z"
   },
   {
    "duration": 892,
    "start_time": "2024-09-12T21:39:51.094Z"
   },
   {
    "duration": 13,
    "start_time": "2024-09-12T21:39:51.988Z"
   },
   {
    "duration": 8,
    "start_time": "2024-09-12T21:39:52.002Z"
   },
   {
    "duration": 45,
    "start_time": "2024-09-12T21:39:52.012Z"
   },
   {
    "duration": 4,
    "start_time": "2024-09-12T21:39:52.061Z"
   },
   {
    "duration": 9,
    "start_time": "2024-09-12T21:39:52.066Z"
   },
   {
    "duration": 6,
    "start_time": "2024-09-12T21:39:52.077Z"
   },
   {
    "duration": 5,
    "start_time": "2024-09-12T21:39:52.086Z"
   },
   {
    "duration": 18,
    "start_time": "2024-09-12T21:39:52.092Z"
   },
   {
    "duration": 42,
    "start_time": "2024-09-12T21:39:52.111Z"
   },
   {
    "duration": 216,
    "start_time": "2024-09-12T21:39:52.156Z"
   },
   {
    "duration": 13,
    "start_time": "2024-09-12T21:39:52.374Z"
   },
   {
    "duration": 10,
    "start_time": "2024-09-12T21:39:52.389Z"
   },
   {
    "duration": 7,
    "start_time": "2024-09-12T21:39:52.401Z"
   },
   {
    "duration": 649,
    "start_time": "2024-09-12T21:39:52.437Z"
   },
   {
    "duration": 25,
    "start_time": "2024-09-12T21:39:53.088Z"
   },
   {
    "duration": 169,
    "start_time": "2024-09-12T21:39:53.115Z"
   },
   {
    "duration": 20,
    "start_time": "2024-09-12T21:39:53.286Z"
   },
   {
    "duration": 12,
    "start_time": "2024-09-12T21:59:35.822Z"
   },
   {
    "duration": 201,
    "start_time": "2024-09-12T21:59:45.026Z"
   },
   {
    "duration": 4,
    "start_time": "2024-09-12T21:59:54.352Z"
   },
   {
    "duration": 358,
    "start_time": "2024-09-12T21:59:54.359Z"
   },
   {
    "duration": 1140,
    "start_time": "2024-09-12T21:59:54.719Z"
   },
   {
    "duration": 9,
    "start_time": "2024-09-12T21:59:55.861Z"
   },
   {
    "duration": 6,
    "start_time": "2024-09-12T21:59:55.874Z"
   },
   {
    "duration": 7,
    "start_time": "2024-09-12T21:59:55.882Z"
   },
   {
    "duration": 7,
    "start_time": "2024-09-12T21:59:55.891Z"
   },
   {
    "duration": 8,
    "start_time": "2024-09-12T21:59:55.899Z"
   },
   {
    "duration": 78,
    "start_time": "2024-09-12T21:59:55.908Z"
   },
   {
    "duration": 10,
    "start_time": "2024-09-12T21:59:55.988Z"
   },
   {
    "duration": 221,
    "start_time": "2024-09-12T21:59:55.999Z"
   },
   {
    "duration": 15,
    "start_time": "2024-09-12T21:59:56.222Z"
   },
   {
    "duration": 127,
    "start_time": "2024-09-12T21:59:56.239Z"
   },
   {
    "duration": 10,
    "start_time": "2024-09-12T21:59:56.371Z"
   },
   {
    "duration": 91,
    "start_time": "2024-09-12T21:59:56.383Z"
   },
   {
    "duration": 115,
    "start_time": "2024-09-12T21:59:56.476Z"
   },
   {
    "duration": 58,
    "start_time": "2024-09-12T21:59:56.592Z"
   },
   {
    "duration": 22,
    "start_time": "2024-09-12T21:59:56.652Z"
   },
   {
    "duration": 9,
    "start_time": "2024-09-12T21:59:56.677Z"
   },
   {
    "duration": 3,
    "start_time": "2024-09-12T21:59:56.688Z"
   },
   {
    "duration": 53,
    "start_time": "2024-09-12T21:59:56.693Z"
   },
   {
    "duration": 14,
    "start_time": "2024-09-12T21:59:56.752Z"
   },
   {
    "duration": 7,
    "start_time": "2024-09-12T21:59:56.767Z"
   },
   {
    "duration": 8,
    "start_time": "2024-09-12T21:59:56.775Z"
   },
   {
    "duration": 9,
    "start_time": "2024-09-12T21:59:56.785Z"
   },
   {
    "duration": 23,
    "start_time": "2024-09-12T21:59:56.795Z"
   },
   {
    "duration": 15,
    "start_time": "2024-09-12T21:59:56.820Z"
   },
   {
    "duration": 23,
    "start_time": "2024-09-12T21:59:56.839Z"
   },
   {
    "duration": 6,
    "start_time": "2024-09-12T21:59:56.864Z"
   },
   {
    "duration": 13,
    "start_time": "2024-09-12T21:59:56.871Z"
   },
   {
    "duration": 997,
    "start_time": "2024-09-12T21:59:56.885Z"
   },
   {
    "duration": 878,
    "start_time": "2024-09-12T21:59:57.884Z"
   },
   {
    "duration": 14,
    "start_time": "2024-09-12T21:59:58.763Z"
   },
   {
    "duration": 7,
    "start_time": "2024-09-12T21:59:58.779Z"
   },
   {
    "duration": 7,
    "start_time": "2024-09-12T21:59:58.788Z"
   },
   {
    "duration": 5,
    "start_time": "2024-09-12T21:59:58.796Z"
   },
   {
    "duration": 10,
    "start_time": "2024-09-12T21:59:58.831Z"
   },
   {
    "duration": 14,
    "start_time": "2024-09-12T21:59:58.843Z"
   },
   {
    "duration": 15,
    "start_time": "2024-09-12T21:59:58.859Z"
   },
   {
    "duration": 19,
    "start_time": "2024-09-12T21:59:58.879Z"
   },
   {
    "duration": 47,
    "start_time": "2024-09-12T21:59:58.903Z"
   },
   {
    "duration": 213,
    "start_time": "2024-09-12T21:59:58.952Z"
   },
   {
    "duration": 12,
    "start_time": "2024-09-12T21:59:59.167Z"
   },
   {
    "duration": 10,
    "start_time": "2024-09-12T21:59:59.181Z"
   },
   {
    "duration": 6,
    "start_time": "2024-09-12T21:59:59.192Z"
   },
   {
    "duration": 632,
    "start_time": "2024-09-12T21:59:59.200Z"
   },
   {
    "duration": 40,
    "start_time": "2024-09-12T21:59:59.834Z"
   },
   {
    "duration": 212,
    "start_time": "2024-09-12T21:59:59.876Z"
   },
   {
    "duration": 20,
    "start_time": "2024-09-12T22:00:00.090Z"
   },
   {
    "duration": 332,
    "start_time": "2024-09-12T22:00:04.872Z"
   },
   {
    "duration": 4,
    "start_time": "2024-09-12T22:06:23.320Z"
   },
   {
    "duration": 345,
    "start_time": "2024-09-12T22:06:23.326Z"
   },
   {
    "duration": 1094,
    "start_time": "2024-09-12T22:06:23.674Z"
   },
   {
    "duration": 9,
    "start_time": "2024-09-12T22:06:24.770Z"
   },
   {
    "duration": 6,
    "start_time": "2024-09-12T22:06:24.782Z"
   },
   {
    "duration": 8,
    "start_time": "2024-09-12T22:06:24.791Z"
   },
   {
    "duration": 6,
    "start_time": "2024-09-12T22:06:24.801Z"
   },
   {
    "duration": 36,
    "start_time": "2024-09-12T22:06:24.808Z"
   },
   {
    "duration": 47,
    "start_time": "2024-09-12T22:06:24.846Z"
   },
   {
    "duration": 11,
    "start_time": "2024-09-12T22:06:24.895Z"
   },
   {
    "duration": 185,
    "start_time": "2024-09-12T22:06:24.909Z"
   },
   {
    "duration": 7,
    "start_time": "2024-09-12T22:06:25.097Z"
   },
   {
    "duration": 166,
    "start_time": "2024-09-12T22:06:25.106Z"
   },
   {
    "duration": 10,
    "start_time": "2024-09-12T22:06:25.274Z"
   },
   {
    "duration": 109,
    "start_time": "2024-09-12T22:06:25.287Z"
   },
   {
    "duration": 123,
    "start_time": "2024-09-12T22:06:25.398Z"
   },
   {
    "duration": 69,
    "start_time": "2024-09-12T22:06:25.523Z"
   },
   {
    "duration": 17,
    "start_time": "2024-09-12T22:06:25.594Z"
   },
   {
    "duration": 32,
    "start_time": "2024-09-12T22:06:25.614Z"
   },
   {
    "duration": 8,
    "start_time": "2024-09-12T22:06:25.659Z"
   },
   {
    "duration": 28,
    "start_time": "2024-09-12T22:06:25.670Z"
   },
   {
    "duration": 13,
    "start_time": "2024-09-12T22:06:25.700Z"
   },
   {
    "duration": 9,
    "start_time": "2024-09-12T22:06:25.715Z"
   },
   {
    "duration": 22,
    "start_time": "2024-09-12T22:06:25.727Z"
   },
   {
    "duration": 16,
    "start_time": "2024-09-12T22:06:25.758Z"
   },
   {
    "duration": 46,
    "start_time": "2024-09-12T22:06:25.776Z"
   },
   {
    "duration": 21,
    "start_time": "2024-09-12T22:06:25.825Z"
   },
   {
    "duration": 29,
    "start_time": "2024-09-12T22:06:25.849Z"
   },
   {
    "duration": 6,
    "start_time": "2024-09-12T22:06:25.886Z"
   },
   {
    "duration": 15,
    "start_time": "2024-09-12T22:06:25.894Z"
   },
   {
    "duration": 1167,
    "start_time": "2024-09-12T22:06:25.911Z"
   },
   {
    "duration": 1066,
    "start_time": "2024-09-12T22:06:27.080Z"
   },
   {
    "duration": 20,
    "start_time": "2024-09-12T22:06:28.148Z"
   },
   {
    "duration": 9,
    "start_time": "2024-09-12T22:06:28.170Z"
   },
   {
    "duration": 7,
    "start_time": "2024-09-12T22:06:28.181Z"
   },
   {
    "duration": 6,
    "start_time": "2024-09-12T22:06:28.189Z"
   },
   {
    "duration": 8,
    "start_time": "2024-09-12T22:06:28.197Z"
   },
   {
    "duration": 35,
    "start_time": "2024-09-12T22:06:28.207Z"
   },
   {
    "duration": 18,
    "start_time": "2024-09-12T22:06:28.244Z"
   },
   {
    "duration": 19,
    "start_time": "2024-09-12T22:06:28.266Z"
   },
   {
    "duration": 17,
    "start_time": "2024-09-12T22:06:28.287Z"
   },
   {
    "duration": 221,
    "start_time": "2024-09-12T22:06:28.306Z"
   },
   {
    "duration": 29,
    "start_time": "2024-09-12T22:06:28.529Z"
   },
   {
    "duration": 10,
    "start_time": "2024-09-12T22:06:28.566Z"
   },
   {
    "duration": 6,
    "start_time": "2024-09-12T22:06:28.578Z"
   },
   {
    "duration": 618,
    "start_time": "2024-09-12T22:06:28.586Z"
   },
   {
    "duration": 37,
    "start_time": "2024-09-12T22:06:29.205Z"
   },
   {
    "duration": 150,
    "start_time": "2024-09-12T22:06:29.245Z"
   },
   {
    "duration": 19,
    "start_time": "2024-09-12T22:06:29.397Z"
   },
   {
    "duration": 5,
    "start_time": "2024-09-12T22:08:34.163Z"
   },
   {
    "duration": 343,
    "start_time": "2024-09-12T22:08:34.170Z"
   },
   {
    "duration": 995,
    "start_time": "2024-09-12T22:08:34.514Z"
   },
   {
    "duration": 7,
    "start_time": "2024-09-12T22:08:35.511Z"
   },
   {
    "duration": 27,
    "start_time": "2024-09-12T22:08:35.532Z"
   },
   {
    "duration": 9,
    "start_time": "2024-09-12T22:08:35.561Z"
   },
   {
    "duration": 5,
    "start_time": "2024-09-12T22:08:35.572Z"
   },
   {
    "duration": 7,
    "start_time": "2024-09-12T22:08:35.579Z"
   },
   {
    "duration": 35,
    "start_time": "2024-09-12T22:08:35.587Z"
   },
   {
    "duration": 22,
    "start_time": "2024-09-12T22:08:35.624Z"
   },
   {
    "duration": 154,
    "start_time": "2024-09-12T22:08:35.659Z"
   },
   {
    "duration": 7,
    "start_time": "2024-09-12T22:08:35.815Z"
   },
   {
    "duration": 138,
    "start_time": "2024-09-12T22:08:35.824Z"
   },
   {
    "duration": 8,
    "start_time": "2024-09-12T22:08:35.967Z"
   },
   {
    "duration": 97,
    "start_time": "2024-09-12T22:08:35.977Z"
   },
   {
    "duration": 116,
    "start_time": "2024-09-12T22:08:36.076Z"
   },
   {
    "duration": 72,
    "start_time": "2024-09-12T22:08:36.195Z"
   },
   {
    "duration": 18,
    "start_time": "2024-09-12T22:08:36.268Z"
   },
   {
    "duration": 9,
    "start_time": "2024-09-12T22:08:36.288Z"
   },
   {
    "duration": 4,
    "start_time": "2024-09-12T22:08:36.299Z"
   },
   {
    "duration": 46,
    "start_time": "2024-09-12T22:08:36.304Z"
   },
   {
    "duration": 18,
    "start_time": "2024-09-12T22:08:36.352Z"
   },
   {
    "duration": 8,
    "start_time": "2024-09-12T22:08:36.372Z"
   },
   {
    "duration": 7,
    "start_time": "2024-09-12T22:08:36.383Z"
   },
   {
    "duration": 13,
    "start_time": "2024-09-12T22:08:36.392Z"
   },
   {
    "duration": 55,
    "start_time": "2024-09-12T22:08:36.407Z"
   },
   {
    "duration": 6,
    "start_time": "2024-09-12T22:08:36.464Z"
   },
   {
    "duration": 12,
    "start_time": "2024-09-12T22:08:36.472Z"
   },
   {
    "duration": 5,
    "start_time": "2024-09-12T22:08:36.485Z"
   },
   {
    "duration": 12,
    "start_time": "2024-09-12T22:08:36.492Z"
   },
   {
    "duration": 942,
    "start_time": "2024-09-12T22:08:36.506Z"
   },
   {
    "duration": 922,
    "start_time": "2024-09-12T22:08:37.450Z"
   },
   {
    "duration": 14,
    "start_time": "2024-09-12T22:08:38.374Z"
   },
   {
    "duration": 7,
    "start_time": "2024-09-12T22:08:38.389Z"
   },
   {
    "duration": 7,
    "start_time": "2024-09-12T22:08:38.398Z"
   },
   {
    "duration": 4,
    "start_time": "2024-09-12T22:08:38.407Z"
   },
   {
    "duration": 48,
    "start_time": "2024-09-12T22:08:38.412Z"
   },
   {
    "duration": 8,
    "start_time": "2024-09-12T22:08:38.462Z"
   },
   {
    "duration": 5,
    "start_time": "2024-09-12T22:08:38.472Z"
   },
   {
    "duration": 18,
    "start_time": "2024-09-12T22:08:38.478Z"
   },
   {
    "duration": 44,
    "start_time": "2024-09-12T22:08:38.502Z"
   },
   {
    "duration": 219,
    "start_time": "2024-09-12T22:08:38.548Z"
   },
   {
    "duration": 12,
    "start_time": "2024-09-12T22:08:38.770Z"
   },
   {
    "duration": 10,
    "start_time": "2024-09-12T22:08:38.784Z"
   },
   {
    "duration": 7,
    "start_time": "2024-09-12T22:08:38.796Z"
   },
   {
    "duration": 657,
    "start_time": "2024-09-12T22:08:38.804Z"
   },
   {
    "duration": 26,
    "start_time": "2024-09-12T22:08:39.464Z"
   },
   {
    "duration": 178,
    "start_time": "2024-09-12T22:08:39.492Z"
   },
   {
    "duration": 23,
    "start_time": "2024-09-12T22:08:39.672Z"
   },
   {
    "duration": 2,
    "start_time": "2024-09-12T22:08:39.697Z"
   },
   {
    "duration": 270,
    "start_time": "2024-09-12T22:08:39.701Z"
   },
   {
    "duration": 0,
    "start_time": "2024-09-12T22:08:39.973Z"
   },
   {
    "duration": 0,
    "start_time": "2024-09-12T22:08:39.974Z"
   },
   {
    "duration": 0,
    "start_time": "2024-09-12T22:08:39.977Z"
   },
   {
    "duration": 0,
    "start_time": "2024-09-12T22:08:39.978Z"
   },
   {
    "duration": 0,
    "start_time": "2024-09-12T22:08:39.980Z"
   },
   {
    "duration": 0,
    "start_time": "2024-09-12T22:08:39.982Z"
   },
   {
    "duration": 0,
    "start_time": "2024-09-12T22:08:39.983Z"
   },
   {
    "duration": 0,
    "start_time": "2024-09-12T22:08:39.984Z"
   },
   {
    "duration": 0,
    "start_time": "2024-09-12T22:08:39.985Z"
   },
   {
    "duration": 0,
    "start_time": "2024-09-12T22:08:39.986Z"
   },
   {
    "duration": 0,
    "start_time": "2024-09-12T22:08:39.987Z"
   },
   {
    "duration": 0,
    "start_time": "2024-09-12T22:08:39.988Z"
   },
   {
    "duration": 0,
    "start_time": "2024-09-12T22:08:39.988Z"
   },
   {
    "duration": 0,
    "start_time": "2024-09-12T22:08:39.990Z"
   },
   {
    "duration": 0,
    "start_time": "2024-09-12T22:08:39.991Z"
   },
   {
    "duration": 0,
    "start_time": "2024-09-12T22:08:39.992Z"
   },
   {
    "duration": 0,
    "start_time": "2024-09-12T22:08:39.993Z"
   },
   {
    "duration": 0,
    "start_time": "2024-09-12T22:08:39.994Z"
   },
   {
    "duration": 0,
    "start_time": "2024-09-12T22:08:39.996Z"
   },
   {
    "duration": 0,
    "start_time": "2024-09-12T22:08:39.996Z"
   },
   {
    "duration": 1,
    "start_time": "2024-09-12T22:08:39.997Z"
   },
   {
    "duration": 10,
    "start_time": "2024-09-12T22:10:15.312Z"
   },
   {
    "duration": 13,
    "start_time": "2024-09-12T22:10:17.082Z"
   },
   {
    "duration": 8,
    "start_time": "2024-09-12T22:10:44.599Z"
   },
   {
    "duration": 13,
    "start_time": "2024-09-12T22:10:58.178Z"
   },
   {
    "duration": 13,
    "start_time": "2024-09-12T22:11:03.192Z"
   },
   {
    "duration": 3,
    "start_time": "2024-09-12T22:11:58.121Z"
   },
   {
    "duration": 205,
    "start_time": "2024-09-12T22:14:51.978Z"
   },
   {
    "duration": 25,
    "start_time": "2024-09-12T22:15:32.645Z"
   },
   {
    "duration": 152,
    "start_time": "2024-09-12T22:15:42.815Z"
   },
   {
    "duration": 158,
    "start_time": "2024-09-13T03:27:50.457Z"
   },
   {
    "duration": 3,
    "start_time": "2024-09-13T03:28:12.745Z"
   },
   {
    "duration": 283,
    "start_time": "2024-09-13T03:28:12.750Z"
   },
   {
    "duration": 964,
    "start_time": "2024-09-13T03:28:13.035Z"
   },
   {
    "duration": 8,
    "start_time": "2024-09-13T03:28:14.000Z"
   },
   {
    "duration": 5,
    "start_time": "2024-09-13T03:28:14.011Z"
   },
   {
    "duration": 7,
    "start_time": "2024-09-13T03:28:14.018Z"
   },
   {
    "duration": 6,
    "start_time": "2024-09-13T03:28:14.027Z"
   },
   {
    "duration": 7,
    "start_time": "2024-09-13T03:28:14.034Z"
   },
   {
    "duration": 64,
    "start_time": "2024-09-13T03:28:14.070Z"
   },
   {
    "duration": 11,
    "start_time": "2024-09-13T03:28:14.135Z"
   },
   {
    "duration": 205,
    "start_time": "2024-09-13T03:28:14.150Z"
   },
   {
    "duration": 7,
    "start_time": "2024-09-13T03:28:14.357Z"
   },
   {
    "duration": 111,
    "start_time": "2024-09-13T03:28:14.365Z"
   },
   {
    "duration": 8,
    "start_time": "2024-09-13T03:28:14.478Z"
   },
   {
    "duration": 82,
    "start_time": "2024-09-13T03:28:14.488Z"
   },
   {
    "duration": 104,
    "start_time": "2024-09-13T03:28:14.572Z"
   },
   {
    "duration": 48,
    "start_time": "2024-09-13T03:28:14.678Z"
   },
   {
    "duration": 20,
    "start_time": "2024-09-13T03:28:14.728Z"
   },
   {
    "duration": 25,
    "start_time": "2024-09-13T03:28:14.749Z"
   },
   {
    "duration": 3,
    "start_time": "2024-09-13T03:28:14.776Z"
   },
   {
    "duration": 14,
    "start_time": "2024-09-13T03:28:14.781Z"
   },
   {
    "duration": 11,
    "start_time": "2024-09-13T03:28:14.797Z"
   },
   {
    "duration": 6,
    "start_time": "2024-09-13T03:28:14.811Z"
   },
   {
    "duration": 7,
    "start_time": "2024-09-13T03:28:14.819Z"
   },
   {
    "duration": 48,
    "start_time": "2024-09-13T03:28:14.828Z"
   },
   {
    "duration": 24,
    "start_time": "2024-09-13T03:28:14.878Z"
   },
   {
    "duration": 5,
    "start_time": "2024-09-13T03:28:14.904Z"
   },
   {
    "duration": 14,
    "start_time": "2024-09-13T03:28:14.911Z"
   },
   {
    "duration": 7,
    "start_time": "2024-09-13T03:28:14.930Z"
   },
   {
    "duration": 42,
    "start_time": "2024-09-13T03:28:14.940Z"
   },
   {
    "duration": 797,
    "start_time": "2024-09-13T03:28:14.985Z"
   },
   {
    "duration": 720,
    "start_time": "2024-09-13T03:28:15.784Z"
   },
   {
    "duration": 13,
    "start_time": "2024-09-13T03:28:16.506Z"
   },
   {
    "duration": 6,
    "start_time": "2024-09-13T03:28:16.521Z"
   },
   {
    "duration": 17,
    "start_time": "2024-09-13T03:28:16.529Z"
   },
   {
    "duration": 6,
    "start_time": "2024-09-13T03:28:16.548Z"
   },
   {
    "duration": 12,
    "start_time": "2024-09-13T03:28:16.570Z"
   },
   {
    "duration": 7,
    "start_time": "2024-09-13T03:28:16.583Z"
   },
   {
    "duration": 5,
    "start_time": "2024-09-13T03:28:16.592Z"
   },
   {
    "duration": 17,
    "start_time": "2024-09-13T03:28:16.598Z"
   },
   {
    "duration": 16,
    "start_time": "2024-09-13T03:28:16.616Z"
   },
   {
    "duration": 183,
    "start_time": "2024-09-13T03:28:16.670Z"
   },
   {
    "duration": 26,
    "start_time": "2024-09-13T03:28:16.855Z"
   },
   {
    "duration": 9,
    "start_time": "2024-09-13T03:28:16.883Z"
   },
   {
    "duration": 5,
    "start_time": "2024-09-13T03:28:16.894Z"
   },
   {
    "duration": 568,
    "start_time": "2024-09-13T03:28:16.902Z"
   },
   {
    "duration": 27,
    "start_time": "2024-09-13T03:28:17.473Z"
   },
   {
    "duration": 1861,
    "start_time": "2024-09-13T03:28:17.502Z"
   },
   {
    "duration": 25,
    "start_time": "2024-09-13T03:28:19.365Z"
   },
   {
    "duration": 10,
    "start_time": "2024-09-13T03:28:19.391Z"
   },
   {
    "duration": 243,
    "start_time": "2024-09-13T03:28:19.403Z"
   },
   {
    "duration": 20,
    "start_time": "2024-09-13T03:29:15.815Z"
   },
   {
    "duration": 118,
    "start_time": "2024-09-13T03:34:03.991Z"
   },
   {
    "duration": 5,
    "start_time": "2024-09-13T03:35:01.452Z"
   },
   {
    "duration": 6,
    "start_time": "2024-09-13T03:35:14.704Z"
   },
   {
    "duration": 8,
    "start_time": "2024-09-13T03:37:56.373Z"
   },
   {
    "duration": 178,
    "start_time": "2024-09-13T03:38:01.394Z"
   },
   {
    "duration": 45,
    "start_time": "2024-09-13T03:39:36.397Z"
   },
   {
    "duration": 7,
    "start_time": "2024-09-13T03:39:46.536Z"
   },
   {
    "duration": 14,
    "start_time": "2024-09-13T03:39:48.745Z"
   },
   {
    "duration": 5,
    "start_time": "2024-09-13T03:40:06.550Z"
   },
   {
    "duration": 301,
    "start_time": "2024-09-13T03:40:06.558Z"
   },
   {
    "duration": 834,
    "start_time": "2024-09-13T03:40:06.870Z"
   },
   {
    "duration": 7,
    "start_time": "2024-09-13T03:40:07.709Z"
   },
   {
    "duration": 7,
    "start_time": "2024-09-13T03:40:07.718Z"
   },
   {
    "duration": 9,
    "start_time": "2024-09-13T03:40:07.726Z"
   },
   {
    "duration": 5,
    "start_time": "2024-09-13T03:40:07.737Z"
   },
   {
    "duration": 32,
    "start_time": "2024-09-13T03:40:07.744Z"
   },
   {
    "duration": 34,
    "start_time": "2024-09-13T03:40:07.778Z"
   },
   {
    "duration": 10,
    "start_time": "2024-09-13T03:40:07.816Z"
   },
   {
    "duration": 158,
    "start_time": "2024-09-13T03:40:07.827Z"
   },
   {
    "duration": 8,
    "start_time": "2024-09-13T03:40:07.986Z"
   },
   {
    "duration": 115,
    "start_time": "2024-09-13T03:40:07.996Z"
   },
   {
    "duration": 8,
    "start_time": "2024-09-13T03:40:08.113Z"
   },
   {
    "duration": 79,
    "start_time": "2024-09-13T03:40:08.122Z"
   },
   {
    "duration": 124,
    "start_time": "2024-09-13T03:40:08.203Z"
   },
   {
    "duration": 61,
    "start_time": "2024-09-13T03:40:08.329Z"
   },
   {
    "duration": 20,
    "start_time": "2024-09-13T03:40:08.392Z"
   },
   {
    "duration": 9,
    "start_time": "2024-09-13T03:40:08.413Z"
   },
   {
    "duration": 4,
    "start_time": "2024-09-13T03:40:08.424Z"
   },
   {
    "duration": 15,
    "start_time": "2024-09-13T03:40:08.429Z"
   },
   {
    "duration": 11,
    "start_time": "2024-09-13T03:40:08.471Z"
   },
   {
    "duration": 7,
    "start_time": "2024-09-13T03:40:08.484Z"
   },
   {
    "duration": 8,
    "start_time": "2024-09-13T03:40:08.492Z"
   },
   {
    "duration": 10,
    "start_time": "2024-09-13T03:40:08.501Z"
   },
   {
    "duration": 25,
    "start_time": "2024-09-13T03:40:08.512Z"
   },
   {
    "duration": 5,
    "start_time": "2024-09-13T03:40:08.570Z"
   },
   {
    "duration": 10,
    "start_time": "2024-09-13T03:40:08.581Z"
   },
   {
    "duration": 5,
    "start_time": "2024-09-13T03:40:08.593Z"
   },
   {
    "duration": 13,
    "start_time": "2024-09-13T03:40:08.599Z"
   },
   {
    "duration": 786,
    "start_time": "2024-09-13T03:40:08.613Z"
   },
   {
    "duration": 717,
    "start_time": "2024-09-13T03:40:09.401Z"
   },
   {
    "duration": 14,
    "start_time": "2024-09-13T03:40:10.120Z"
   },
   {
    "duration": 7,
    "start_time": "2024-09-13T03:40:10.137Z"
   },
   {
    "duration": 25,
    "start_time": "2024-09-13T03:40:10.145Z"
   },
   {
    "duration": 4,
    "start_time": "2024-09-13T03:40:10.172Z"
   },
   {
    "duration": 8,
    "start_time": "2024-09-13T03:40:10.178Z"
   },
   {
    "duration": 8,
    "start_time": "2024-09-13T03:40:10.188Z"
   },
   {
    "duration": 5,
    "start_time": "2024-09-13T03:40:10.197Z"
   },
   {
    "duration": 17,
    "start_time": "2024-09-13T03:40:10.204Z"
   },
   {
    "duration": 52,
    "start_time": "2024-09-13T03:40:10.223Z"
   },
   {
    "duration": 199,
    "start_time": "2024-09-13T03:40:10.276Z"
   },
   {
    "duration": 11,
    "start_time": "2024-09-13T03:40:10.477Z"
   },
   {
    "duration": 9,
    "start_time": "2024-09-13T03:40:10.490Z"
   },
   {
    "duration": 5,
    "start_time": "2024-09-13T03:40:10.501Z"
   },
   {
    "duration": 553,
    "start_time": "2024-09-13T03:40:10.508Z"
   },
   {
    "duration": 27,
    "start_time": "2024-09-13T03:40:11.070Z"
   },
   {
    "duration": 135,
    "start_time": "2024-09-13T03:40:11.099Z"
   },
   {
    "duration": 20,
    "start_time": "2024-09-13T03:40:11.236Z"
   },
   {
    "duration": 237,
    "start_time": "2024-09-13T03:40:11.257Z"
   },
   {
    "duration": 0,
    "start_time": "2024-09-13T03:40:11.497Z"
   },
   {
    "duration": 0,
    "start_time": "2024-09-13T03:40:11.498Z"
   },
   {
    "duration": 0,
    "start_time": "2024-09-13T03:40:11.499Z"
   },
   {
    "duration": 0,
    "start_time": "2024-09-13T03:40:11.500Z"
   },
   {
    "duration": 0,
    "start_time": "2024-09-13T03:40:11.501Z"
   },
   {
    "duration": 0,
    "start_time": "2024-09-13T03:40:11.502Z"
   },
   {
    "duration": 0,
    "start_time": "2024-09-13T03:40:11.503Z"
   },
   {
    "duration": 0,
    "start_time": "2024-09-13T03:40:11.504Z"
   },
   {
    "duration": 0,
    "start_time": "2024-09-13T03:40:11.506Z"
   },
   {
    "duration": 0,
    "start_time": "2024-09-13T03:40:11.507Z"
   },
   {
    "duration": 0,
    "start_time": "2024-09-13T03:40:11.509Z"
   },
   {
    "duration": 0,
    "start_time": "2024-09-13T03:40:11.510Z"
   },
   {
    "duration": 0,
    "start_time": "2024-09-13T03:40:11.511Z"
   },
   {
    "duration": 0,
    "start_time": "2024-09-13T03:40:11.513Z"
   },
   {
    "duration": 0,
    "start_time": "2024-09-13T03:40:11.514Z"
   },
   {
    "duration": 0,
    "start_time": "2024-09-13T03:40:11.516Z"
   },
   {
    "duration": 0,
    "start_time": "2024-09-13T03:40:11.517Z"
   },
   {
    "duration": 0,
    "start_time": "2024-09-13T03:40:11.519Z"
   },
   {
    "duration": 0,
    "start_time": "2024-09-13T03:40:11.520Z"
   },
   {
    "duration": 0,
    "start_time": "2024-09-13T03:40:11.522Z"
   },
   {
    "duration": 0,
    "start_time": "2024-09-13T03:40:11.523Z"
   },
   {
    "duration": 0,
    "start_time": "2024-09-13T03:40:11.525Z"
   },
   {
    "duration": 0,
    "start_time": "2024-09-13T03:40:11.526Z"
   },
   {
    "duration": 0,
    "start_time": "2024-09-13T03:40:11.526Z"
   },
   {
    "duration": 6,
    "start_time": "2024-09-13T03:40:18.206Z"
   },
   {
    "duration": 15,
    "start_time": "2024-09-13T03:40:21.954Z"
   },
   {
    "duration": 130,
    "start_time": "2024-09-13T03:40:30.977Z"
   },
   {
    "duration": 6,
    "start_time": "2024-09-13T03:42:37.857Z"
   },
   {
    "duration": 113,
    "start_time": "2024-09-13T03:42:40.329Z"
   },
   {
    "duration": 7,
    "start_time": "2024-09-13T03:44:22.397Z"
   },
   {
    "duration": 138,
    "start_time": "2024-09-13T03:44:25.233Z"
   },
   {
    "duration": 130,
    "start_time": "2024-09-13T03:45:34.744Z"
   },
   {
    "duration": 136,
    "start_time": "2024-09-13T03:45:54.961Z"
   },
   {
    "duration": 3,
    "start_time": "2024-09-13T03:48:06.230Z"
   },
   {
    "duration": 3,
    "start_time": "2024-09-13T03:48:06.235Z"
   },
   {
    "duration": 953,
    "start_time": "2024-09-13T03:48:06.239Z"
   },
   {
    "duration": 8,
    "start_time": "2024-09-13T03:48:07.194Z"
   },
   {
    "duration": 5,
    "start_time": "2024-09-13T03:48:07.205Z"
   },
   {
    "duration": 8,
    "start_time": "2024-09-13T03:48:07.211Z"
   },
   {
    "duration": 4,
    "start_time": "2024-09-13T03:48:07.221Z"
   },
   {
    "duration": 7,
    "start_time": "2024-09-13T03:48:07.227Z"
   },
   {
    "duration": 60,
    "start_time": "2024-09-13T03:48:07.237Z"
   },
   {
    "duration": 9,
    "start_time": "2024-09-13T03:48:07.299Z"
   },
   {
    "duration": 150,
    "start_time": "2024-09-13T03:48:07.310Z"
   },
   {
    "duration": 12,
    "start_time": "2024-09-13T03:48:07.462Z"
   },
   {
    "duration": 80,
    "start_time": "2024-09-13T03:48:07.475Z"
   },
   {
    "duration": 17,
    "start_time": "2024-09-13T03:48:07.558Z"
   },
   {
    "duration": 48,
    "start_time": "2024-09-13T03:48:07.576Z"
   },
   {
    "duration": 106,
    "start_time": "2024-09-13T03:48:07.626Z"
   },
   {
    "duration": 49,
    "start_time": "2024-09-13T03:48:07.734Z"
   },
   {
    "duration": 16,
    "start_time": "2024-09-13T03:48:07.785Z"
   },
   {
    "duration": 9,
    "start_time": "2024-09-13T03:48:07.803Z"
   },
   {
    "duration": 4,
    "start_time": "2024-09-13T03:48:07.813Z"
   },
   {
    "duration": 14,
    "start_time": "2024-09-13T03:48:07.818Z"
   },
   {
    "duration": 38,
    "start_time": "2024-09-13T03:48:07.833Z"
   },
   {
    "duration": 7,
    "start_time": "2024-09-13T03:48:07.872Z"
   },
   {
    "duration": 7,
    "start_time": "2024-09-13T03:48:07.881Z"
   },
   {
    "duration": 8,
    "start_time": "2024-09-13T03:48:07.890Z"
   },
   {
    "duration": 24,
    "start_time": "2024-09-13T03:48:07.900Z"
   },
   {
    "duration": 4,
    "start_time": "2024-09-13T03:48:07.926Z"
   },
   {
    "duration": 47,
    "start_time": "2024-09-13T03:48:07.932Z"
   },
   {
    "duration": 5,
    "start_time": "2024-09-13T03:48:07.980Z"
   },
   {
    "duration": 13,
    "start_time": "2024-09-13T03:48:07.987Z"
   },
   {
    "duration": 783,
    "start_time": "2024-09-13T03:48:08.001Z"
   },
   {
    "duration": 664,
    "start_time": "2024-09-13T03:48:08.787Z"
   },
   {
    "duration": 22,
    "start_time": "2024-09-13T03:48:09.453Z"
   },
   {
    "duration": 6,
    "start_time": "2024-09-13T03:48:09.477Z"
   },
   {
    "duration": 6,
    "start_time": "2024-09-13T03:48:09.485Z"
   },
   {
    "duration": 4,
    "start_time": "2024-09-13T03:48:09.493Z"
   },
   {
    "duration": 8,
    "start_time": "2024-09-13T03:48:09.498Z"
   },
   {
    "duration": 6,
    "start_time": "2024-09-13T03:48:09.507Z"
   },
   {
    "duration": 5,
    "start_time": "2024-09-13T03:48:09.515Z"
   },
   {
    "duration": 56,
    "start_time": "2024-09-13T03:48:09.522Z"
   },
   {
    "duration": 15,
    "start_time": "2024-09-13T03:48:09.583Z"
   },
   {
    "duration": 190,
    "start_time": "2024-09-13T03:48:09.599Z"
   },
   {
    "duration": 11,
    "start_time": "2024-09-13T03:48:09.792Z"
   },
   {
    "duration": 9,
    "start_time": "2024-09-13T03:48:09.805Z"
   },
   {
    "duration": 5,
    "start_time": "2024-09-13T03:48:09.816Z"
   },
   {
    "duration": 561,
    "start_time": "2024-09-13T03:48:09.823Z"
   },
   {
    "duration": 31,
    "start_time": "2024-09-13T03:48:10.386Z"
   },
   {
    "duration": 2,
    "start_time": "2024-09-13T03:48:10.419Z"
   },
   {
    "duration": 15,
    "start_time": "2024-09-13T03:48:10.423Z"
   },
   {
    "duration": 38,
    "start_time": "2024-09-13T03:48:10.439Z"
   },
   {
    "duration": 0,
    "start_time": "2024-09-13T03:48:10.479Z"
   },
   {
    "duration": 0,
    "start_time": "2024-09-13T03:48:10.482Z"
   },
   {
    "duration": 0,
    "start_time": "2024-09-13T03:48:10.483Z"
   },
   {
    "duration": 0,
    "start_time": "2024-09-13T03:48:10.484Z"
   },
   {
    "duration": 0,
    "start_time": "2024-09-13T03:48:10.486Z"
   },
   {
    "duration": 0,
    "start_time": "2024-09-13T03:48:10.487Z"
   },
   {
    "duration": 0,
    "start_time": "2024-09-13T03:48:10.488Z"
   },
   {
    "duration": 0,
    "start_time": "2024-09-13T03:48:10.489Z"
   },
   {
    "duration": 0,
    "start_time": "2024-09-13T03:48:10.490Z"
   },
   {
    "duration": 0,
    "start_time": "2024-09-13T03:48:10.491Z"
   },
   {
    "duration": 0,
    "start_time": "2024-09-13T03:48:10.492Z"
   },
   {
    "duration": 0,
    "start_time": "2024-09-13T03:48:10.493Z"
   },
   {
    "duration": 0,
    "start_time": "2024-09-13T03:48:10.494Z"
   },
   {
    "duration": 0,
    "start_time": "2024-09-13T03:48:10.495Z"
   },
   {
    "duration": 0,
    "start_time": "2024-09-13T03:48:10.497Z"
   },
   {
    "duration": 0,
    "start_time": "2024-09-13T03:48:10.497Z"
   },
   {
    "duration": 0,
    "start_time": "2024-09-13T03:48:10.499Z"
   },
   {
    "duration": 0,
    "start_time": "2024-09-13T03:48:10.500Z"
   },
   {
    "duration": 0,
    "start_time": "2024-09-13T03:48:10.501Z"
   },
   {
    "duration": 0,
    "start_time": "2024-09-13T03:48:10.502Z"
   },
   {
    "duration": 0,
    "start_time": "2024-09-13T03:48:10.503Z"
   },
   {
    "duration": 0,
    "start_time": "2024-09-13T03:48:10.503Z"
   },
   {
    "duration": 0,
    "start_time": "2024-09-13T03:48:10.504Z"
   },
   {
    "duration": 0,
    "start_time": "2024-09-13T03:48:10.505Z"
   },
   {
    "duration": 0,
    "start_time": "2024-09-13T03:48:10.505Z"
   },
   {
    "duration": 0,
    "start_time": "2024-09-13T03:48:10.506Z"
   },
   {
    "duration": 4,
    "start_time": "2024-09-13T03:48:15.109Z"
   },
   {
    "duration": 3,
    "start_time": "2024-09-13T03:48:15.115Z"
   },
   {
    "duration": 862,
    "start_time": "2024-09-13T03:48:15.119Z"
   },
   {
    "duration": 7,
    "start_time": "2024-09-13T03:48:15.982Z"
   },
   {
    "duration": 4,
    "start_time": "2024-09-13T03:48:15.993Z"
   },
   {
    "duration": 7,
    "start_time": "2024-09-13T03:48:15.999Z"
   },
   {
    "duration": 5,
    "start_time": "2024-09-13T03:48:16.007Z"
   },
   {
    "duration": 8,
    "start_time": "2024-09-13T03:48:16.013Z"
   },
   {
    "duration": 53,
    "start_time": "2024-09-13T03:48:16.023Z"
   },
   {
    "duration": 10,
    "start_time": "2024-09-13T03:48:16.078Z"
   },
   {
    "duration": 135,
    "start_time": "2024-09-13T03:48:16.089Z"
   },
   {
    "duration": 6,
    "start_time": "2024-09-13T03:48:16.225Z"
   },
   {
    "duration": 88,
    "start_time": "2024-09-13T03:48:16.233Z"
   },
   {
    "duration": 14,
    "start_time": "2024-09-13T03:48:16.328Z"
   },
   {
    "duration": 62,
    "start_time": "2024-09-13T03:48:16.344Z"
   },
   {
    "duration": 90,
    "start_time": "2024-09-13T03:48:16.408Z"
   },
   {
    "duration": 49,
    "start_time": "2024-09-13T03:48:16.500Z"
   },
   {
    "duration": 34,
    "start_time": "2024-09-13T03:48:16.552Z"
   },
   {
    "duration": 9,
    "start_time": "2024-09-13T03:48:16.588Z"
   },
   {
    "duration": 3,
    "start_time": "2024-09-13T03:48:16.599Z"
   },
   {
    "duration": 13,
    "start_time": "2024-09-13T03:48:16.604Z"
   },
   {
    "duration": 8,
    "start_time": "2024-09-13T03:48:16.619Z"
   },
   {
    "duration": 6,
    "start_time": "2024-09-13T03:48:16.629Z"
   },
   {
    "duration": 8,
    "start_time": "2024-09-13T03:48:16.669Z"
   },
   {
    "duration": 12,
    "start_time": "2024-09-13T03:48:16.679Z"
   },
   {
    "duration": 23,
    "start_time": "2024-09-13T03:48:16.693Z"
   },
   {
    "duration": 5,
    "start_time": "2024-09-13T03:48:16.718Z"
   },
   {
    "duration": 11,
    "start_time": "2024-09-13T03:48:16.725Z"
   },
   {
    "duration": 37,
    "start_time": "2024-09-13T03:48:16.737Z"
   },
   {
    "duration": 18,
    "start_time": "2024-09-13T03:48:16.776Z"
   },
   {
    "duration": 729,
    "start_time": "2024-09-13T03:48:16.796Z"
   },
   {
    "duration": 643,
    "start_time": "2024-09-13T03:48:17.528Z"
   },
   {
    "duration": 13,
    "start_time": "2024-09-13T03:48:18.173Z"
   },
   {
    "duration": 7,
    "start_time": "2024-09-13T03:48:18.187Z"
   },
   {
    "duration": 6,
    "start_time": "2024-09-13T03:48:18.195Z"
   },
   {
    "duration": 4,
    "start_time": "2024-09-13T03:48:18.203Z"
   },
   {
    "duration": 7,
    "start_time": "2024-09-13T03:48:18.209Z"
   },
   {
    "duration": 6,
    "start_time": "2024-09-13T03:48:18.218Z"
   },
   {
    "duration": 45,
    "start_time": "2024-09-13T03:48:18.226Z"
   },
   {
    "duration": 16,
    "start_time": "2024-09-13T03:48:18.273Z"
   },
   {
    "duration": 17,
    "start_time": "2024-09-13T03:48:18.293Z"
   },
   {
    "duration": 220,
    "start_time": "2024-09-13T03:48:18.312Z"
   },
   {
    "duration": 11,
    "start_time": "2024-09-13T03:48:18.534Z"
   },
   {
    "duration": 29,
    "start_time": "2024-09-13T03:48:18.547Z"
   },
   {
    "duration": 7,
    "start_time": "2024-09-13T03:48:18.577Z"
   },
   {
    "duration": 531,
    "start_time": "2024-09-13T03:48:18.586Z"
   },
   {
    "duration": 28,
    "start_time": "2024-09-13T03:48:19.119Z"
   },
   {
    "duration": 2,
    "start_time": "2024-09-13T03:48:19.149Z"
   },
   {
    "duration": 29,
    "start_time": "2024-09-13T03:48:19.152Z"
   },
   {
    "duration": 17,
    "start_time": "2024-09-13T03:48:19.183Z"
   },
   {
    "duration": 0,
    "start_time": "2024-09-13T03:48:19.202Z"
   },
   {
    "duration": 0,
    "start_time": "2024-09-13T03:48:19.203Z"
   },
   {
    "duration": 0,
    "start_time": "2024-09-13T03:48:19.204Z"
   },
   {
    "duration": 0,
    "start_time": "2024-09-13T03:48:19.205Z"
   },
   {
    "duration": 0,
    "start_time": "2024-09-13T03:48:19.206Z"
   },
   {
    "duration": 0,
    "start_time": "2024-09-13T03:48:19.207Z"
   },
   {
    "duration": 0,
    "start_time": "2024-09-13T03:48:19.208Z"
   },
   {
    "duration": 0,
    "start_time": "2024-09-13T03:48:19.210Z"
   },
   {
    "duration": 0,
    "start_time": "2024-09-13T03:48:19.210Z"
   },
   {
    "duration": 0,
    "start_time": "2024-09-13T03:48:19.212Z"
   },
   {
    "duration": 0,
    "start_time": "2024-09-13T03:48:19.214Z"
   },
   {
    "duration": 0,
    "start_time": "2024-09-13T03:48:19.216Z"
   },
   {
    "duration": 0,
    "start_time": "2024-09-13T03:48:19.218Z"
   },
   {
    "duration": 0,
    "start_time": "2024-09-13T03:48:19.219Z"
   },
   {
    "duration": 0,
    "start_time": "2024-09-13T03:48:19.221Z"
   },
   {
    "duration": 0,
    "start_time": "2024-09-13T03:48:19.223Z"
   },
   {
    "duration": 0,
    "start_time": "2024-09-13T03:48:19.224Z"
   },
   {
    "duration": 0,
    "start_time": "2024-09-13T03:48:19.225Z"
   },
   {
    "duration": 0,
    "start_time": "2024-09-13T03:48:19.270Z"
   },
   {
    "duration": 0,
    "start_time": "2024-09-13T03:48:19.271Z"
   },
   {
    "duration": 0,
    "start_time": "2024-09-13T03:48:19.273Z"
   },
   {
    "duration": 0,
    "start_time": "2024-09-13T03:48:19.276Z"
   },
   {
    "duration": 0,
    "start_time": "2024-09-13T03:48:19.277Z"
   },
   {
    "duration": 0,
    "start_time": "2024-09-13T03:48:19.278Z"
   },
   {
    "duration": 0,
    "start_time": "2024-09-13T03:48:19.279Z"
   },
   {
    "duration": 774,
    "start_time": "2024-09-13T03:48:30.340Z"
   },
   {
    "duration": 118,
    "start_time": "2024-09-13T03:48:31.117Z"
   },
   {
    "duration": 3,
    "start_time": "2024-09-13T03:48:31.667Z"
   },
   {
    "duration": 15,
    "start_time": "2024-09-13T03:48:33.524Z"
   },
   {
    "duration": 98,
    "start_time": "2024-09-13T03:48:57.576Z"
   },
   {
    "duration": 101,
    "start_time": "2024-09-13T03:49:05.422Z"
   },
   {
    "duration": 3,
    "start_time": "2024-09-13T03:49:06.049Z"
   },
   {
    "duration": 65,
    "start_time": "2024-09-13T03:49:06.782Z"
   },
   {
    "duration": 135,
    "start_time": "2024-09-13T03:49:32.524Z"
   },
   {
    "duration": 2,
    "start_time": "2024-09-13T03:49:35.609Z"
   },
   {
    "duration": 9,
    "start_time": "2024-09-13T03:49:37.639Z"
   },
   {
    "duration": 4,
    "start_time": "2024-09-13T03:50:24.359Z"
   },
   {
    "duration": 294,
    "start_time": "2024-09-13T03:50:24.364Z"
   },
   {
    "duration": 834,
    "start_time": "2024-09-13T03:50:24.660Z"
   },
   {
    "duration": 8,
    "start_time": "2024-09-13T03:50:25.496Z"
   },
   {
    "duration": 5,
    "start_time": "2024-09-13T03:50:25.506Z"
   },
   {
    "duration": 7,
    "start_time": "2024-09-13T03:50:25.513Z"
   },
   {
    "duration": 4,
    "start_time": "2024-09-13T03:50:25.522Z"
   },
   {
    "duration": 8,
    "start_time": "2024-09-13T03:50:25.528Z"
   },
   {
    "duration": 63,
    "start_time": "2024-09-13T03:50:25.538Z"
   },
   {
    "duration": 9,
    "start_time": "2024-09-13T03:50:25.603Z"
   },
   {
    "duration": 153,
    "start_time": "2024-09-13T03:50:25.615Z"
   },
   {
    "duration": 8,
    "start_time": "2024-09-13T03:50:25.769Z"
   },
   {
    "duration": 110,
    "start_time": "2024-09-13T03:50:25.778Z"
   },
   {
    "duration": 8,
    "start_time": "2024-09-13T03:50:25.890Z"
   },
   {
    "duration": 84,
    "start_time": "2024-09-13T03:50:25.900Z"
   },
   {
    "duration": 98,
    "start_time": "2024-09-13T03:50:25.986Z"
   },
   {
    "duration": 48,
    "start_time": "2024-09-13T03:50:26.086Z"
   },
   {
    "duration": 34,
    "start_time": "2024-09-13T03:50:26.136Z"
   },
   {
    "duration": 9,
    "start_time": "2024-09-13T03:50:26.172Z"
   },
   {
    "duration": 3,
    "start_time": "2024-09-13T03:50:26.183Z"
   },
   {
    "duration": 13,
    "start_time": "2024-09-13T03:50:26.188Z"
   },
   {
    "duration": 11,
    "start_time": "2024-09-13T03:50:26.203Z"
   },
   {
    "duration": 6,
    "start_time": "2024-09-13T03:50:26.216Z"
   },
   {
    "duration": 7,
    "start_time": "2024-09-13T03:50:26.224Z"
   },
   {
    "duration": 44,
    "start_time": "2024-09-13T03:50:26.233Z"
   },
   {
    "duration": 25,
    "start_time": "2024-09-13T03:50:26.279Z"
   },
   {
    "duration": 5,
    "start_time": "2024-09-13T03:50:26.306Z"
   },
   {
    "duration": 12,
    "start_time": "2024-09-13T03:50:26.313Z"
   },
   {
    "duration": 38,
    "start_time": "2024-09-13T03:50:26.332Z"
   },
   {
    "duration": 15,
    "start_time": "2024-09-13T03:50:26.373Z"
   },
   {
    "duration": 833,
    "start_time": "2024-09-13T03:50:26.389Z"
   },
   {
    "duration": 684,
    "start_time": "2024-09-13T03:50:27.224Z"
   },
   {
    "duration": 13,
    "start_time": "2024-09-13T03:50:27.910Z"
   },
   {
    "duration": 6,
    "start_time": "2024-09-13T03:50:27.924Z"
   },
   {
    "duration": 7,
    "start_time": "2024-09-13T03:50:27.932Z"
   },
   {
    "duration": 29,
    "start_time": "2024-09-13T03:50:27.941Z"
   },
   {
    "duration": 9,
    "start_time": "2024-09-13T03:50:27.973Z"
   },
   {
    "duration": 8,
    "start_time": "2024-09-13T03:50:27.984Z"
   },
   {
    "duration": 5,
    "start_time": "2024-09-13T03:50:27.993Z"
   },
   {
    "duration": 18,
    "start_time": "2024-09-13T03:50:27.999Z"
   },
   {
    "duration": 16,
    "start_time": "2024-09-13T03:50:28.018Z"
   },
   {
    "duration": 177,
    "start_time": "2024-09-13T03:50:28.070Z"
   },
   {
    "duration": 24,
    "start_time": "2024-09-13T03:50:28.248Z"
   },
   {
    "duration": 10,
    "start_time": "2024-09-13T03:50:28.273Z"
   },
   {
    "duration": 6,
    "start_time": "2024-09-13T03:50:28.284Z"
   },
   {
    "duration": 549,
    "start_time": "2024-09-13T03:50:28.291Z"
   },
   {
    "duration": 31,
    "start_time": "2024-09-13T03:50:28.842Z"
   },
   {
    "duration": 134,
    "start_time": "2024-09-13T03:50:28.875Z"
   },
   {
    "duration": 25,
    "start_time": "2024-09-13T03:50:29.011Z"
   },
   {
    "duration": 234,
    "start_time": "2024-09-13T03:50:29.037Z"
   },
   {
    "duration": 0,
    "start_time": "2024-09-13T03:50:29.272Z"
   },
   {
    "duration": 0,
    "start_time": "2024-09-13T03:50:29.274Z"
   },
   {
    "duration": 0,
    "start_time": "2024-09-13T03:50:29.275Z"
   },
   {
    "duration": 0,
    "start_time": "2024-09-13T03:50:29.276Z"
   },
   {
    "duration": 0,
    "start_time": "2024-09-13T03:50:29.278Z"
   },
   {
    "duration": 0,
    "start_time": "2024-09-13T03:50:29.279Z"
   },
   {
    "duration": 0,
    "start_time": "2024-09-13T03:50:29.280Z"
   },
   {
    "duration": 0,
    "start_time": "2024-09-13T03:50:29.282Z"
   },
   {
    "duration": 0,
    "start_time": "2024-09-13T03:50:29.283Z"
   },
   {
    "duration": 0,
    "start_time": "2024-09-13T03:50:29.284Z"
   },
   {
    "duration": 0,
    "start_time": "2024-09-13T03:50:29.285Z"
   },
   {
    "duration": 0,
    "start_time": "2024-09-13T03:50:29.286Z"
   },
   {
    "duration": 0,
    "start_time": "2024-09-13T03:50:29.287Z"
   },
   {
    "duration": 0,
    "start_time": "2024-09-13T03:50:29.289Z"
   },
   {
    "duration": 0,
    "start_time": "2024-09-13T03:50:29.290Z"
   },
   {
    "duration": 0,
    "start_time": "2024-09-13T03:50:29.291Z"
   },
   {
    "duration": 0,
    "start_time": "2024-09-13T03:50:29.292Z"
   },
   {
    "duration": 0,
    "start_time": "2024-09-13T03:50:29.293Z"
   },
   {
    "duration": 0,
    "start_time": "2024-09-13T03:50:29.294Z"
   },
   {
    "duration": 0,
    "start_time": "2024-09-13T03:50:29.295Z"
   },
   {
    "duration": 0,
    "start_time": "2024-09-13T03:50:29.296Z"
   },
   {
    "duration": 0,
    "start_time": "2024-09-13T03:50:29.297Z"
   },
   {
    "duration": 0,
    "start_time": "2024-09-13T03:50:29.298Z"
   },
   {
    "duration": 0,
    "start_time": "2024-09-13T03:50:29.299Z"
   },
   {
    "duration": 0,
    "start_time": "2024-09-13T03:50:29.300Z"
   },
   {
    "duration": 0,
    "start_time": "2024-09-13T03:50:29.301Z"
   },
   {
    "duration": 0,
    "start_time": "2024-09-13T03:50:29.302Z"
   },
   {
    "duration": 12,
    "start_time": "2024-09-13T03:50:56.278Z"
   },
   {
    "duration": 3,
    "start_time": "2024-09-13T03:51:58.141Z"
   },
   {
    "duration": 2,
    "start_time": "2024-09-13T03:51:58.146Z"
   },
   {
    "duration": 886,
    "start_time": "2024-09-13T03:51:58.150Z"
   },
   {
    "duration": 7,
    "start_time": "2024-09-13T03:51:59.038Z"
   },
   {
    "duration": 5,
    "start_time": "2024-09-13T03:51:59.047Z"
   },
   {
    "duration": 19,
    "start_time": "2024-09-13T03:51:59.053Z"
   },
   {
    "duration": 5,
    "start_time": "2024-09-13T03:51:59.074Z"
   },
   {
    "duration": 7,
    "start_time": "2024-09-13T03:51:59.080Z"
   },
   {
    "duration": 33,
    "start_time": "2024-09-13T03:51:59.090Z"
   },
   {
    "duration": 9,
    "start_time": "2024-09-13T03:51:59.125Z"
   },
   {
    "duration": 173,
    "start_time": "2024-09-13T03:51:59.136Z"
   },
   {
    "duration": 7,
    "start_time": "2024-09-13T03:51:59.311Z"
   },
   {
    "duration": 91,
    "start_time": "2024-09-13T03:51:59.320Z"
   },
   {
    "duration": 7,
    "start_time": "2024-09-13T03:51:59.413Z"
   },
   {
    "duration": 67,
    "start_time": "2024-09-13T03:51:59.422Z"
   },
   {
    "duration": 86,
    "start_time": "2024-09-13T03:51:59.491Z"
   },
   {
    "duration": 43,
    "start_time": "2024-09-13T03:51:59.579Z"
   },
   {
    "duration": 17,
    "start_time": "2024-09-13T03:51:59.624Z"
   },
   {
    "duration": 30,
    "start_time": "2024-09-13T03:51:59.643Z"
   },
   {
    "duration": 4,
    "start_time": "2024-09-13T03:51:59.675Z"
   },
   {
    "duration": 14,
    "start_time": "2024-09-13T03:51:59.680Z"
   },
   {
    "duration": 8,
    "start_time": "2024-09-13T03:51:59.696Z"
   },
   {
    "duration": 6,
    "start_time": "2024-09-13T03:51:59.707Z"
   },
   {
    "duration": 8,
    "start_time": "2024-09-13T03:51:59.718Z"
   },
   {
    "duration": 44,
    "start_time": "2024-09-13T03:51:59.727Z"
   },
   {
    "duration": 25,
    "start_time": "2024-09-13T03:51:59.772Z"
   },
   {
    "duration": 4,
    "start_time": "2024-09-13T03:51:59.799Z"
   },
   {
    "duration": 10,
    "start_time": "2024-09-13T03:51:59.805Z"
   },
   {
    "duration": 5,
    "start_time": "2024-09-13T03:51:59.817Z"
   },
   {
    "duration": 44,
    "start_time": "2024-09-13T03:51:59.825Z"
   },
   {
    "duration": 768,
    "start_time": "2024-09-13T03:51:59.871Z"
   },
   {
    "duration": 689,
    "start_time": "2024-09-13T03:52:00.641Z"
   },
   {
    "duration": 15,
    "start_time": "2024-09-13T03:52:01.331Z"
   },
   {
    "duration": 6,
    "start_time": "2024-09-13T03:52:01.348Z"
   },
   {
    "duration": 7,
    "start_time": "2024-09-13T03:52:01.371Z"
   },
   {
    "duration": 5,
    "start_time": "2024-09-13T03:52:01.380Z"
   },
   {
    "duration": 7,
    "start_time": "2024-09-13T03:52:01.386Z"
   },
   {
    "duration": 6,
    "start_time": "2024-09-13T03:52:01.395Z"
   },
   {
    "duration": 5,
    "start_time": "2024-09-13T03:52:01.402Z"
   },
   {
    "duration": 15,
    "start_time": "2024-09-13T03:52:01.409Z"
   },
   {
    "duration": 56,
    "start_time": "2024-09-13T03:52:01.426Z"
   },
   {
    "duration": 195,
    "start_time": "2024-09-13T03:52:01.484Z"
   },
   {
    "duration": 12,
    "start_time": "2024-09-13T03:52:01.681Z"
   },
   {
    "duration": 9,
    "start_time": "2024-09-13T03:52:01.694Z"
   },
   {
    "duration": 6,
    "start_time": "2024-09-13T03:52:01.705Z"
   },
   {
    "duration": 545,
    "start_time": "2024-09-13T03:52:01.713Z"
   },
   {
    "duration": 33,
    "start_time": "2024-09-13T03:52:02.260Z"
   },
   {
    "duration": 2,
    "start_time": "2024-09-13T03:52:02.295Z"
   },
   {
    "duration": 15,
    "start_time": "2024-09-13T03:52:02.299Z"
   },
   {
    "duration": 15,
    "start_time": "2024-09-13T03:52:02.316Z"
   },
   {
    "duration": 0,
    "start_time": "2024-09-13T03:52:02.333Z"
   },
   {
    "duration": 0,
    "start_time": "2024-09-13T03:52:02.337Z"
   },
   {
    "duration": 0,
    "start_time": "2024-09-13T03:52:02.338Z"
   },
   {
    "duration": 0,
    "start_time": "2024-09-13T03:52:02.341Z"
   },
   {
    "duration": 0,
    "start_time": "2024-09-13T03:52:02.341Z"
   },
   {
    "duration": 0,
    "start_time": "2024-09-13T03:52:02.343Z"
   },
   {
    "duration": 0,
    "start_time": "2024-09-13T03:52:02.344Z"
   },
   {
    "duration": 0,
    "start_time": "2024-09-13T03:52:02.344Z"
   },
   {
    "duration": 0,
    "start_time": "2024-09-13T03:52:02.369Z"
   },
   {
    "duration": 0,
    "start_time": "2024-09-13T03:52:02.370Z"
   },
   {
    "duration": 0,
    "start_time": "2024-09-13T03:52:02.373Z"
   },
   {
    "duration": 0,
    "start_time": "2024-09-13T03:52:02.374Z"
   },
   {
    "duration": 0,
    "start_time": "2024-09-13T03:52:02.376Z"
   },
   {
    "duration": 0,
    "start_time": "2024-09-13T03:52:02.377Z"
   },
   {
    "duration": 0,
    "start_time": "2024-09-13T03:52:02.378Z"
   },
   {
    "duration": 0,
    "start_time": "2024-09-13T03:52:02.380Z"
   },
   {
    "duration": 0,
    "start_time": "2024-09-13T03:52:02.381Z"
   },
   {
    "duration": 0,
    "start_time": "2024-09-13T03:52:02.383Z"
   },
   {
    "duration": 0,
    "start_time": "2024-09-13T03:52:02.384Z"
   },
   {
    "duration": 0,
    "start_time": "2024-09-13T03:52:02.384Z"
   },
   {
    "duration": 0,
    "start_time": "2024-09-13T03:52:02.385Z"
   },
   {
    "duration": 0,
    "start_time": "2024-09-13T03:52:02.386Z"
   },
   {
    "duration": 0,
    "start_time": "2024-09-13T03:52:02.387Z"
   },
   {
    "duration": 0,
    "start_time": "2024-09-13T03:52:02.388Z"
   },
   {
    "duration": 0,
    "start_time": "2024-09-13T03:52:02.389Z"
   },
   {
    "duration": 0,
    "start_time": "2024-09-13T03:52:02.390Z"
   },
   {
    "duration": 760,
    "start_time": "2024-09-13T03:52:09.417Z"
   },
   {
    "duration": 100,
    "start_time": "2024-09-13T03:52:10.302Z"
   },
   {
    "duration": 3,
    "start_time": "2024-09-13T03:52:12.287Z"
   },
   {
    "duration": 4,
    "start_time": "2024-09-13T03:54:08.381Z"
   },
   {
    "duration": 382,
    "start_time": "2024-09-13T03:54:08.388Z"
   },
   {
    "duration": 817,
    "start_time": "2024-09-13T03:54:08.772Z"
   },
   {
    "duration": 10,
    "start_time": "2024-09-13T03:54:09.597Z"
   },
   {
    "duration": 6,
    "start_time": "2024-09-13T03:54:09.610Z"
   },
   {
    "duration": 9,
    "start_time": "2024-09-13T03:54:09.618Z"
   },
   {
    "duration": 6,
    "start_time": "2024-09-13T03:54:09.629Z"
   },
   {
    "duration": 34,
    "start_time": "2024-09-13T03:54:09.638Z"
   },
   {
    "duration": 34,
    "start_time": "2024-09-13T03:54:09.675Z"
   },
   {
    "duration": 12,
    "start_time": "2024-09-13T03:54:09.713Z"
   },
   {
    "duration": 152,
    "start_time": "2024-09-13T03:54:09.727Z"
   },
   {
    "duration": 9,
    "start_time": "2024-09-13T03:54:09.881Z"
   },
   {
    "duration": 116,
    "start_time": "2024-09-13T03:54:09.892Z"
   },
   {
    "duration": 11,
    "start_time": "2024-09-13T03:54:10.009Z"
   },
   {
    "duration": 81,
    "start_time": "2024-09-13T03:54:10.022Z"
   },
   {
    "duration": 102,
    "start_time": "2024-09-13T03:54:10.105Z"
   },
   {
    "duration": 60,
    "start_time": "2024-09-13T03:54:10.209Z"
   },
   {
    "duration": 22,
    "start_time": "2024-09-13T03:54:10.271Z"
   },
   {
    "duration": 13,
    "start_time": "2024-09-13T03:54:10.295Z"
   },
   {
    "duration": 6,
    "start_time": "2024-09-13T03:54:10.310Z"
   },
   {
    "duration": 14,
    "start_time": "2024-09-13T03:54:10.318Z"
   },
   {
    "duration": 36,
    "start_time": "2024-09-13T03:54:10.335Z"
   },
   {
    "duration": 8,
    "start_time": "2024-09-13T03:54:10.373Z"
   },
   {
    "duration": 9,
    "start_time": "2024-09-13T03:54:10.383Z"
   },
   {
    "duration": 9,
    "start_time": "2024-09-13T03:54:10.393Z"
   },
   {
    "duration": 29,
    "start_time": "2024-09-13T03:54:10.405Z"
   },
   {
    "duration": 36,
    "start_time": "2024-09-13T03:54:10.435Z"
   },
   {
    "duration": 11,
    "start_time": "2024-09-13T03:54:10.477Z"
   },
   {
    "duration": 9,
    "start_time": "2024-09-13T03:54:10.489Z"
   },
   {
    "duration": 14,
    "start_time": "2024-09-13T03:54:10.499Z"
   },
   {
    "duration": 884,
    "start_time": "2024-09-13T03:54:10.514Z"
   },
   {
    "duration": 760,
    "start_time": "2024-09-13T03:54:11.400Z"
   },
   {
    "duration": 17,
    "start_time": "2024-09-13T03:54:12.162Z"
   },
   {
    "duration": 9,
    "start_time": "2024-09-13T03:54:12.181Z"
   },
   {
    "duration": 9,
    "start_time": "2024-09-13T03:54:12.192Z"
   },
   {
    "duration": 6,
    "start_time": "2024-09-13T03:54:12.203Z"
   },
   {
    "duration": 9,
    "start_time": "2024-09-13T03:54:12.211Z"
   },
   {
    "duration": 8,
    "start_time": "2024-09-13T03:54:12.222Z"
   },
   {
    "duration": 38,
    "start_time": "2024-09-13T03:54:12.232Z"
   },
   {
    "duration": 18,
    "start_time": "2024-09-13T03:54:12.272Z"
   },
   {
    "duration": 16,
    "start_time": "2024-09-13T03:54:12.292Z"
   },
   {
    "duration": 220,
    "start_time": "2024-09-13T03:54:12.310Z"
   },
   {
    "duration": 14,
    "start_time": "2024-09-13T03:54:12.531Z"
   },
   {
    "duration": 24,
    "start_time": "2024-09-13T03:54:12.547Z"
   },
   {
    "duration": 6,
    "start_time": "2024-09-13T03:54:12.573Z"
   },
   {
    "duration": 547,
    "start_time": "2024-09-13T03:54:12.581Z"
   },
   {
    "duration": 28,
    "start_time": "2024-09-13T03:54:13.130Z"
   },
   {
    "duration": 142,
    "start_time": "2024-09-13T03:54:13.159Z"
   },
   {
    "duration": 21,
    "start_time": "2024-09-13T03:54:13.303Z"
   },
   {
    "duration": 241,
    "start_time": "2024-09-13T03:54:13.325Z"
   },
   {
    "duration": 0,
    "start_time": "2024-09-13T03:54:13.570Z"
   },
   {
    "duration": 0,
    "start_time": "2024-09-13T03:54:13.572Z"
   },
   {
    "duration": 0,
    "start_time": "2024-09-13T03:54:13.573Z"
   },
   {
    "duration": 0,
    "start_time": "2024-09-13T03:54:13.573Z"
   },
   {
    "duration": 0,
    "start_time": "2024-09-13T03:54:13.574Z"
   },
   {
    "duration": 0,
    "start_time": "2024-09-13T03:54:13.576Z"
   },
   {
    "duration": 0,
    "start_time": "2024-09-13T03:54:13.577Z"
   },
   {
    "duration": 0,
    "start_time": "2024-09-13T03:54:13.578Z"
   },
   {
    "duration": 0,
    "start_time": "2024-09-13T03:54:13.579Z"
   },
   {
    "duration": 0,
    "start_time": "2024-09-13T03:54:13.580Z"
   },
   {
    "duration": 0,
    "start_time": "2024-09-13T03:54:13.581Z"
   },
   {
    "duration": 0,
    "start_time": "2024-09-13T03:54:13.582Z"
   },
   {
    "duration": 0,
    "start_time": "2024-09-13T03:54:13.583Z"
   },
   {
    "duration": 0,
    "start_time": "2024-09-13T03:54:13.585Z"
   },
   {
    "duration": 0,
    "start_time": "2024-09-13T03:54:13.586Z"
   },
   {
    "duration": 0,
    "start_time": "2024-09-13T03:54:13.588Z"
   },
   {
    "duration": 0,
    "start_time": "2024-09-13T03:54:13.589Z"
   },
   {
    "duration": 0,
    "start_time": "2024-09-13T03:54:13.590Z"
   },
   {
    "duration": 1,
    "start_time": "2024-09-13T03:54:13.590Z"
   },
   {
    "duration": 0,
    "start_time": "2024-09-13T03:54:13.591Z"
   },
   {
    "duration": 0,
    "start_time": "2024-09-13T03:54:13.592Z"
   },
   {
    "duration": 0,
    "start_time": "2024-09-13T03:54:13.593Z"
   },
   {
    "duration": 0,
    "start_time": "2024-09-13T03:54:13.594Z"
   },
   {
    "duration": 0,
    "start_time": "2024-09-13T03:54:13.595Z"
   },
   {
    "duration": 0,
    "start_time": "2024-09-13T03:54:13.596Z"
   },
   {
    "duration": 0,
    "start_time": "2024-09-13T03:54:13.597Z"
   },
   {
    "duration": 0,
    "start_time": "2024-09-13T03:54:13.598Z"
   },
   {
    "duration": 13,
    "start_time": "2024-09-13T03:54:18.347Z"
   },
   {
    "duration": 850,
    "start_time": "2024-09-13T03:54:32.280Z"
   },
   {
    "duration": 122,
    "start_time": "2024-09-13T03:54:33.213Z"
   },
   {
    "duration": 4,
    "start_time": "2024-09-13T03:54:37.719Z"
   },
   {
    "duration": 4,
    "start_time": "2024-09-13T03:56:49.576Z"
   },
   {
    "duration": 347,
    "start_time": "2024-09-13T03:56:49.581Z"
   },
   {
    "duration": 814,
    "start_time": "2024-09-13T03:56:49.929Z"
   },
   {
    "duration": 7,
    "start_time": "2024-09-13T03:56:50.746Z"
   },
   {
    "duration": 5,
    "start_time": "2024-09-13T03:56:50.769Z"
   },
   {
    "duration": 7,
    "start_time": "2024-09-13T03:56:50.776Z"
   },
   {
    "duration": 5,
    "start_time": "2024-09-13T03:56:50.785Z"
   },
   {
    "duration": 9,
    "start_time": "2024-09-13T03:56:50.793Z"
   },
   {
    "duration": 33,
    "start_time": "2024-09-13T03:56:50.804Z"
   },
   {
    "duration": 34,
    "start_time": "2024-09-13T03:56:50.839Z"
   },
   {
    "duration": 151,
    "start_time": "2024-09-13T03:56:50.875Z"
   },
   {
    "duration": 7,
    "start_time": "2024-09-13T03:56:51.028Z"
   },
   {
    "duration": 110,
    "start_time": "2024-09-13T03:56:51.037Z"
   },
   {
    "duration": 9,
    "start_time": "2024-09-13T03:56:51.148Z"
   },
   {
    "duration": 70,
    "start_time": "2024-09-13T03:56:51.170Z"
   },
   {
    "duration": 106,
    "start_time": "2024-09-13T03:56:51.242Z"
   },
   {
    "duration": 60,
    "start_time": "2024-09-13T03:56:51.349Z"
   },
   {
    "duration": 17,
    "start_time": "2024-09-13T03:56:51.410Z"
   },
   {
    "duration": 9,
    "start_time": "2024-09-13T03:56:51.428Z"
   },
   {
    "duration": 3,
    "start_time": "2024-09-13T03:56:51.439Z"
   },
   {
    "duration": 37,
    "start_time": "2024-09-13T03:56:51.444Z"
   },
   {
    "duration": 11,
    "start_time": "2024-09-13T03:56:51.483Z"
   },
   {
    "duration": 7,
    "start_time": "2024-09-13T03:56:51.498Z"
   },
   {
    "duration": 7,
    "start_time": "2024-09-13T03:56:51.506Z"
   },
   {
    "duration": 9,
    "start_time": "2024-09-13T03:56:51.515Z"
   },
   {
    "duration": 61,
    "start_time": "2024-09-13T03:56:51.526Z"
   },
   {
    "duration": 7,
    "start_time": "2024-09-13T03:56:51.590Z"
   },
   {
    "duration": 18,
    "start_time": "2024-09-13T03:56:51.599Z"
   },
   {
    "duration": 6,
    "start_time": "2024-09-13T03:56:51.620Z"
   },
   {
    "duration": 17,
    "start_time": "2024-09-13T03:56:51.628Z"
   },
   {
    "duration": 802,
    "start_time": "2024-09-13T03:56:51.646Z"
   },
   {
    "duration": 698,
    "start_time": "2024-09-13T03:56:52.450Z"
   },
   {
    "duration": 21,
    "start_time": "2024-09-13T03:56:53.149Z"
   },
   {
    "duration": 7,
    "start_time": "2024-09-13T03:56:53.172Z"
   },
   {
    "duration": 7,
    "start_time": "2024-09-13T03:56:53.181Z"
   },
   {
    "duration": 4,
    "start_time": "2024-09-13T03:56:53.190Z"
   },
   {
    "duration": 9,
    "start_time": "2024-09-13T03:56:53.196Z"
   },
   {
    "duration": 8,
    "start_time": "2024-09-13T03:56:53.206Z"
   },
   {
    "duration": 5,
    "start_time": "2024-09-13T03:56:53.215Z"
   },
   {
    "duration": 58,
    "start_time": "2024-09-13T03:56:53.221Z"
   },
   {
    "duration": 15,
    "start_time": "2024-09-13T03:56:53.281Z"
   },
   {
    "duration": 194,
    "start_time": "2024-09-13T03:56:53.297Z"
   },
   {
    "duration": 12,
    "start_time": "2024-09-13T03:56:53.492Z"
   },
   {
    "duration": 9,
    "start_time": "2024-09-13T03:56:53.506Z"
   },
   {
    "duration": 6,
    "start_time": "2024-09-13T03:56:53.516Z"
   },
   {
    "duration": 552,
    "start_time": "2024-09-13T03:56:53.523Z"
   },
   {
    "duration": 29,
    "start_time": "2024-09-13T03:56:54.077Z"
   },
   {
    "duration": 146,
    "start_time": "2024-09-13T03:56:54.108Z"
   },
   {
    "duration": 29,
    "start_time": "2024-09-13T03:56:54.255Z"
   },
   {
    "duration": 231,
    "start_time": "2024-09-13T03:56:54.286Z"
   },
   {
    "duration": 0,
    "start_time": "2024-09-13T03:56:54.519Z"
   },
   {
    "duration": 0,
    "start_time": "2024-09-13T03:56:54.520Z"
   },
   {
    "duration": 0,
    "start_time": "2024-09-13T03:56:54.521Z"
   },
   {
    "duration": 0,
    "start_time": "2024-09-13T03:56:54.524Z"
   },
   {
    "duration": 0,
    "start_time": "2024-09-13T03:56:54.526Z"
   },
   {
    "duration": 0,
    "start_time": "2024-09-13T03:56:54.527Z"
   },
   {
    "duration": 0,
    "start_time": "2024-09-13T03:56:54.529Z"
   },
   {
    "duration": 0,
    "start_time": "2024-09-13T03:56:54.530Z"
   },
   {
    "duration": 0,
    "start_time": "2024-09-13T03:56:54.532Z"
   },
   {
    "duration": 0,
    "start_time": "2024-09-13T03:56:54.533Z"
   },
   {
    "duration": 0,
    "start_time": "2024-09-13T03:56:54.535Z"
   },
   {
    "duration": 0,
    "start_time": "2024-09-13T03:56:54.536Z"
   },
   {
    "duration": 0,
    "start_time": "2024-09-13T03:56:54.537Z"
   },
   {
    "duration": 0,
    "start_time": "2024-09-13T03:56:54.539Z"
   },
   {
    "duration": 0,
    "start_time": "2024-09-13T03:56:54.540Z"
   },
   {
    "duration": 0,
    "start_time": "2024-09-13T03:56:54.570Z"
   },
   {
    "duration": 0,
    "start_time": "2024-09-13T03:56:54.571Z"
   },
   {
    "duration": 0,
    "start_time": "2024-09-13T03:56:54.572Z"
   },
   {
    "duration": 0,
    "start_time": "2024-09-13T03:56:54.573Z"
   },
   {
    "duration": 0,
    "start_time": "2024-09-13T03:56:54.574Z"
   },
   {
    "duration": 0,
    "start_time": "2024-09-13T03:56:54.575Z"
   },
   {
    "duration": 0,
    "start_time": "2024-09-13T03:56:54.576Z"
   },
   {
    "duration": 0,
    "start_time": "2024-09-13T03:56:54.577Z"
   },
   {
    "duration": 0,
    "start_time": "2024-09-13T03:56:54.578Z"
   },
   {
    "duration": 0,
    "start_time": "2024-09-13T03:56:54.579Z"
   },
   {
    "duration": 0,
    "start_time": "2024-09-13T03:56:54.581Z"
   },
   {
    "duration": 0,
    "start_time": "2024-09-13T03:56:54.582Z"
   },
   {
    "duration": 18,
    "start_time": "2024-09-13T03:57:02.276Z"
   },
   {
    "duration": 7,
    "start_time": "2024-09-13T03:57:12.868Z"
   },
   {
    "duration": 184,
    "start_time": "2024-09-13T03:57:18.532Z"
   },
   {
    "duration": 14,
    "start_time": "2024-09-13T03:57:22.234Z"
   },
   {
    "duration": 124,
    "start_time": "2024-09-13T03:57:36.602Z"
   },
   {
    "duration": 19,
    "start_time": "2024-09-13T03:57:40.949Z"
   },
   {
    "duration": 119,
    "start_time": "2024-09-13T03:57:42.064Z"
   },
   {
    "duration": 7,
    "start_time": "2024-09-13T03:57:51.009Z"
   },
   {
    "duration": 123,
    "start_time": "2024-09-13T03:57:56.840Z"
   },
   {
    "duration": 5,
    "start_time": "2024-09-13T03:58:01.246Z"
   },
   {
    "duration": 113,
    "start_time": "2024-09-13T03:58:02.157Z"
   },
   {
    "duration": 3,
    "start_time": "2024-09-13T03:58:03.450Z"
   },
   {
    "duration": 7,
    "start_time": "2024-09-13T03:58:09.288Z"
   },
   {
    "duration": 127,
    "start_time": "2024-09-13T03:58:10.002Z"
   },
   {
    "duration": 789,
    "start_time": "2024-09-13T03:58:27.883Z"
   },
   {
    "duration": 130,
    "start_time": "2024-09-13T03:58:28.673Z"
   },
   {
    "duration": 4,
    "start_time": "2024-09-13T03:58:29.177Z"
   },
   {
    "duration": 161672,
    "start_time": "2024-09-13T03:58:30.631Z"
   },
   {
    "duration": 18320,
    "start_time": "2024-09-13T04:01:12.305Z"
   },
   {
    "duration": 3,
    "start_time": "2024-09-13T07:11:24.888Z"
   },
   {
    "duration": 320,
    "start_time": "2024-09-13T07:11:24.894Z"
   },
   {
    "duration": 1055,
    "start_time": "2024-09-13T07:11:25.216Z"
   },
   {
    "duration": 9,
    "start_time": "2024-09-13T07:11:26.273Z"
   },
   {
    "duration": 7,
    "start_time": "2024-09-13T07:11:26.283Z"
   },
   {
    "duration": 8,
    "start_time": "2024-09-13T07:11:26.291Z"
   },
   {
    "duration": 7,
    "start_time": "2024-09-13T07:11:26.300Z"
   },
   {
    "duration": 42,
    "start_time": "2024-09-13T07:11:26.309Z"
   },
   {
    "duration": 80,
    "start_time": "2024-09-13T07:11:26.359Z"
   },
   {
    "duration": 18,
    "start_time": "2024-09-13T07:11:26.445Z"
   },
   {
    "duration": 210,
    "start_time": "2024-09-13T07:11:26.464Z"
   },
   {
    "duration": 8,
    "start_time": "2024-09-13T07:11:26.675Z"
   },
   {
    "duration": 120,
    "start_time": "2024-09-13T07:11:26.685Z"
   },
   {
    "duration": 8,
    "start_time": "2024-09-13T07:11:26.807Z"
   },
   {
    "duration": 92,
    "start_time": "2024-09-13T07:11:26.816Z"
   },
   {
    "duration": 132,
    "start_time": "2024-09-13T07:11:26.910Z"
   },
   {
    "duration": 61,
    "start_time": "2024-09-13T07:11:27.044Z"
   },
   {
    "duration": 17,
    "start_time": "2024-09-13T07:11:27.107Z"
   },
   {
    "duration": 33,
    "start_time": "2024-09-13T07:11:27.126Z"
   },
   {
    "duration": 5,
    "start_time": "2024-09-13T07:11:27.161Z"
   },
   {
    "duration": 19,
    "start_time": "2024-09-13T07:11:27.170Z"
   },
   {
    "duration": 12,
    "start_time": "2024-09-13T07:11:27.191Z"
   },
   {
    "duration": 6,
    "start_time": "2024-09-13T07:11:27.205Z"
   },
   {
    "duration": 7,
    "start_time": "2024-09-13T07:11:27.216Z"
   },
   {
    "duration": 12,
    "start_time": "2024-09-13T07:11:27.239Z"
   },
   {
    "duration": 29,
    "start_time": "2024-09-13T07:11:27.253Z"
   },
   {
    "duration": 5,
    "start_time": "2024-09-13T07:11:27.284Z"
   },
   {
    "duration": 10,
    "start_time": "2024-09-13T07:11:27.291Z"
   },
   {
    "duration": 36,
    "start_time": "2024-09-13T07:11:27.302Z"
   },
   {
    "duration": 17,
    "start_time": "2024-09-13T07:11:27.341Z"
   },
   {
    "duration": 928,
    "start_time": "2024-09-13T07:11:27.359Z"
   },
   {
    "duration": 838,
    "start_time": "2024-09-13T07:11:28.288Z"
   },
   {
    "duration": 19,
    "start_time": "2024-09-13T07:11:29.128Z"
   },
   {
    "duration": 21,
    "start_time": "2024-09-13T07:11:29.149Z"
   },
   {
    "duration": 6,
    "start_time": "2024-09-13T07:11:29.172Z"
   },
   {
    "duration": 5,
    "start_time": "2024-09-13T07:11:29.180Z"
   },
   {
    "duration": 9,
    "start_time": "2024-09-13T07:11:29.187Z"
   },
   {
    "duration": 7,
    "start_time": "2024-09-13T07:11:29.197Z"
   },
   {
    "duration": 21,
    "start_time": "2024-09-13T07:11:29.238Z"
   },
   {
    "duration": 19,
    "start_time": "2024-09-13T07:11:29.261Z"
   },
   {
    "duration": 17,
    "start_time": "2024-09-13T07:11:29.281Z"
   },
   {
    "duration": 207,
    "start_time": "2024-09-13T07:11:29.303Z"
   },
   {
    "duration": 12,
    "start_time": "2024-09-13T07:11:29.511Z"
   },
   {
    "duration": 15,
    "start_time": "2024-09-13T07:11:29.541Z"
   },
   {
    "duration": 10,
    "start_time": "2024-09-13T07:11:29.558Z"
   },
   {
    "duration": 613,
    "start_time": "2024-09-13T07:11:29.569Z"
   },
   {
    "duration": 26,
    "start_time": "2024-09-13T07:11:30.184Z"
   },
   {
    "duration": 169,
    "start_time": "2024-09-13T07:11:30.213Z"
   },
   {
    "duration": 20,
    "start_time": "2024-09-13T07:11:30.383Z"
   },
   {
    "duration": 11,
    "start_time": "2024-09-13T07:11:30.405Z"
   },
   {
    "duration": 260,
    "start_time": "2024-09-13T07:11:30.435Z"
   },
   {
    "duration": 168,
    "start_time": "2024-09-13T07:11:30.696Z"
   },
   {
    "duration": 17,
    "start_time": "2024-09-13T07:11:30.866Z"
   },
   {
    "duration": 139,
    "start_time": "2024-09-13T07:11:30.884Z"
   },
   {
    "duration": 16,
    "start_time": "2024-09-13T07:11:31.025Z"
   },
   {
    "duration": 141,
    "start_time": "2024-09-13T07:11:31.049Z"
   },
   {
    "duration": 2,
    "start_time": "2024-09-13T07:11:31.192Z"
   },
   {
    "duration": 6,
    "start_time": "2024-09-13T07:11:31.196Z"
   },
   {
    "duration": 160,
    "start_time": "2024-09-13T07:11:31.203Z"
   },
   {
    "duration": 2,
    "start_time": "2024-09-13T07:11:31.365Z"
   },
   {
    "duration": 10,
    "start_time": "2024-09-13T07:11:31.369Z"
   },
   {
    "duration": 147,
    "start_time": "2024-09-13T07:11:31.380Z"
   },
   {
    "duration": 3,
    "start_time": "2024-09-13T07:11:31.529Z"
   },
   {
    "duration": 3,
    "start_time": "2024-09-13T07:11:31.534Z"
   },
   {
    "duration": 204,
    "start_time": "2024-09-13T07:11:31.554Z"
   },
   {
    "duration": 3,
    "start_time": "2024-09-13T07:11:31.760Z"
   },
   {
    "duration": 39,
    "start_time": "2024-09-13T07:11:31.766Z"
   },
   {
    "duration": 240,
    "start_time": "2024-09-13T07:11:31.806Z"
   },
   {
    "duration": 99,
    "start_time": "2024-09-13T07:11:32.055Z"
   },
   {
    "duration": 16,
    "start_time": "2024-09-13T07:11:32.156Z"
   },
   {
    "duration": 180,
    "start_time": "2024-09-13T07:11:32.174Z"
   },
   {
    "duration": 5,
    "start_time": "2024-09-13T07:11:32.356Z"
   },
   {
    "duration": 8,
    "start_time": "2024-09-13T07:11:32.364Z"
   },
   {
    "duration": 986,
    "start_time": "2024-09-13T07:11:32.374Z"
   },
   {
    "duration": 124,
    "start_time": "2024-09-13T07:11:33.362Z"
   },
   {
    "duration": 4,
    "start_time": "2024-09-13T07:11:33.488Z"
   },
   {
    "duration": 343,
    "start_time": "2025-04-18T16:13:53.672Z"
   },
   {
    "duration": 1149,
    "start_time": "2025-04-18T16:13:54.017Z"
   },
   {
    "duration": 8,
    "start_time": "2025-04-18T16:13:55.168Z"
   },
   {
    "duration": 7,
    "start_time": "2025-04-18T16:13:55.178Z"
   },
   {
    "duration": 7,
    "start_time": "2025-04-18T16:13:55.187Z"
   },
   {
    "duration": 8,
    "start_time": "2025-04-18T16:13:55.196Z"
   },
   {
    "duration": 7,
    "start_time": "2025-04-18T16:13:55.205Z"
   },
   {
    "duration": 57,
    "start_time": "2025-04-18T16:13:55.214Z"
   },
   {
    "duration": 11,
    "start_time": "2025-04-18T16:13:55.272Z"
   },
   {
    "duration": 186,
    "start_time": "2025-04-18T16:13:55.285Z"
   },
   {
    "duration": 7,
    "start_time": "2025-04-18T16:13:55.473Z"
   },
   {
    "duration": 114,
    "start_time": "2025-04-18T16:13:55.482Z"
   },
   {
    "duration": 7,
    "start_time": "2025-04-18T16:13:55.598Z"
   },
   {
    "duration": 75,
    "start_time": "2025-04-18T16:13:55.609Z"
   },
   {
    "duration": 106,
    "start_time": "2025-04-18T16:13:55.686Z"
   },
   {
    "duration": 49,
    "start_time": "2025-04-18T16:13:55.794Z"
   },
   {
    "duration": 35,
    "start_time": "2025-04-18T16:13:55.844Z"
   },
   {
    "duration": 10,
    "start_time": "2025-04-18T16:13:55.880Z"
   },
   {
    "duration": 4,
    "start_time": "2025-04-18T16:13:55.891Z"
   },
   {
    "duration": 15,
    "start_time": "2025-04-18T16:13:55.896Z"
   },
   {
    "duration": 12,
    "start_time": "2025-04-18T16:13:55.912Z"
   },
   {
    "duration": 7,
    "start_time": "2025-04-18T16:13:55.926Z"
   },
   {
    "duration": 36,
    "start_time": "2025-04-18T16:13:55.936Z"
   },
   {
    "duration": 10,
    "start_time": "2025-04-18T16:13:55.974Z"
   },
   {
    "duration": 25,
    "start_time": "2025-04-18T16:13:55.985Z"
   },
   {
    "duration": 5,
    "start_time": "2025-04-18T16:13:56.012Z"
   },
   {
    "duration": 11,
    "start_time": "2025-04-18T16:13:56.018Z"
   },
   {
    "duration": 38,
    "start_time": "2025-04-18T16:13:56.032Z"
   },
   {
    "duration": 12,
    "start_time": "2025-04-18T16:13:56.072Z"
   },
   {
    "duration": 789,
    "start_time": "2025-04-18T16:13:56.086Z"
   },
   {
    "duration": 696,
    "start_time": "2025-04-18T16:13:56.877Z"
   },
   {
    "duration": 15,
    "start_time": "2025-04-18T16:13:57.575Z"
   },
   {
    "duration": 7,
    "start_time": "2025-04-18T16:13:57.592Z"
   },
   {
    "duration": 6,
    "start_time": "2025-04-18T16:13:57.601Z"
   },
   {
    "duration": 6,
    "start_time": "2025-04-18T16:13:57.609Z"
   },
   {
    "duration": 9,
    "start_time": "2025-04-18T16:13:57.616Z"
   },
   {
    "duration": 44,
    "start_time": "2025-04-18T16:13:57.627Z"
   },
   {
    "duration": 5,
    "start_time": "2025-04-18T16:13:57.673Z"
   },
   {
    "duration": 18,
    "start_time": "2025-04-18T16:13:57.680Z"
   },
   {
    "duration": 17,
    "start_time": "2025-04-18T16:13:57.700Z"
   },
   {
    "duration": 197,
    "start_time": "2025-04-18T16:13:57.724Z"
   },
   {
    "duration": 11,
    "start_time": "2025-04-18T16:13:57.923Z"
   },
   {
    "duration": 9,
    "start_time": "2025-04-18T16:13:57.935Z"
   },
   {
    "duration": 27,
    "start_time": "2025-04-18T16:13:57.946Z"
   },
   {
    "duration": 524,
    "start_time": "2025-04-18T16:13:57.974Z"
   },
   {
    "duration": 27,
    "start_time": "2025-04-18T16:13:58.500Z"
   },
   {
    "duration": 1830,
    "start_time": "2025-04-18T16:13:58.528Z"
   },
   {
    "duration": 26,
    "start_time": "2025-04-18T16:14:00.360Z"
   },
   {
    "duration": 10,
    "start_time": "2025-04-18T16:14:00.387Z"
   },
   {
    "duration": 201,
    "start_time": "2025-04-18T16:14:00.398Z"
   },
   {
    "duration": 133,
    "start_time": "2025-04-18T16:14:00.601Z"
   },
   {
    "duration": 17,
    "start_time": "2025-04-18T16:14:00.736Z"
   },
   {
    "duration": 138,
    "start_time": "2025-04-18T16:14:00.755Z"
   },
   {
    "duration": 6,
    "start_time": "2025-04-18T16:14:00.895Z"
   },
   {
    "duration": 138,
    "start_time": "2025-04-18T16:14:00.902Z"
   },
   {
    "duration": 6,
    "start_time": "2025-04-18T16:14:01.041Z"
   },
   {
    "duration": 131,
    "start_time": "2025-04-18T16:14:01.049Z"
   },
   {
    "duration": 6,
    "start_time": "2025-04-18T16:14:01.182Z"
   },
   {
    "duration": 191,
    "start_time": "2025-04-18T16:14:01.190Z"
   },
   {
    "duration": 2,
    "start_time": "2025-04-18T16:14:01.383Z"
   },
   {
    "duration": 172,
    "start_time": "2025-04-18T16:14:01.387Z"
   },
   {
    "duration": 47,
    "start_time": "2025-04-18T16:14:01.560Z"
   },
   {
    "duration": 206,
    "start_time": "2025-04-18T16:14:01.608Z"
   },
   {
    "duration": 93,
    "start_time": "2025-04-18T16:14:01.817Z"
   },
   {
    "duration": 15,
    "start_time": "2025-04-18T16:14:01.912Z"
   },
   {
    "duration": 165,
    "start_time": "2025-04-18T16:14:01.929Z"
   },
   {
    "duration": 3,
    "start_time": "2025-04-18T16:14:02.096Z"
   },
   {
    "duration": 9,
    "start_time": "2025-04-18T16:14:02.100Z"
   },
   {
    "duration": 823,
    "start_time": "2025-04-18T16:14:02.110Z"
   },
   {
    "duration": 120,
    "start_time": "2025-04-18T16:14:02.935Z"
   },
   {
    "duration": 3,
    "start_time": "2025-04-18T16:14:03.057Z"
   },
   {
    "duration": 127101,
    "start_time": "2025-04-18T16:14:03.071Z"
   },
   {
    "duration": 3,
    "start_time": "2025-04-18T16:16:28.687Z"
   },
   {
    "duration": 869,
    "start_time": "2025-04-18T16:16:28.692Z"
   },
   {
    "duration": 8,
    "start_time": "2025-04-18T16:16:29.562Z"
   },
   {
    "duration": 6,
    "start_time": "2025-04-18T16:16:29.572Z"
   },
   {
    "duration": 9,
    "start_time": "2025-04-18T16:16:29.580Z"
   },
   {
    "duration": 82,
    "start_time": "2025-04-18T16:16:29.591Z"
   },
   {
    "duration": 8,
    "start_time": "2025-04-18T16:16:29.675Z"
   },
   {
    "duration": 36,
    "start_time": "2025-04-18T16:16:29.686Z"
   },
   {
    "duration": 10,
    "start_time": "2025-04-18T16:16:29.724Z"
   },
   {
    "duration": 162,
    "start_time": "2025-04-18T16:16:29.737Z"
   },
   {
    "duration": 6,
    "start_time": "2025-04-18T16:16:29.901Z"
   },
   {
    "duration": 93,
    "start_time": "2025-04-18T16:16:29.909Z"
   },
   {
    "duration": 8,
    "start_time": "2025-04-18T16:16:30.004Z"
   },
   {
    "duration": 63,
    "start_time": "2025-04-18T16:16:30.014Z"
   },
   {
    "duration": 80,
    "start_time": "2025-04-18T16:16:30.079Z"
   },
   {
    "duration": 45,
    "start_time": "2025-04-18T16:16:30.170Z"
   },
   {
    "duration": 18,
    "start_time": "2025-04-18T16:16:30.216Z"
   },
   {
    "duration": 9,
    "start_time": "2025-04-18T16:16:30.235Z"
   },
   {
    "duration": 26,
    "start_time": "2025-04-18T16:16:30.245Z"
   },
   {
    "duration": 14,
    "start_time": "2025-04-18T16:16:30.273Z"
   },
   {
    "duration": 9,
    "start_time": "2025-04-18T16:16:30.289Z"
   },
   {
    "duration": 7,
    "start_time": "2025-04-18T16:16:30.300Z"
   },
   {
    "duration": 7,
    "start_time": "2025-04-18T16:16:30.309Z"
   },
   {
    "duration": 9,
    "start_time": "2025-04-18T16:16:30.317Z"
   },
   {
    "duration": 60,
    "start_time": "2025-04-18T16:16:30.328Z"
   },
   {
    "duration": 6,
    "start_time": "2025-04-18T16:16:30.389Z"
   },
   {
    "duration": 11,
    "start_time": "2025-04-18T16:16:30.396Z"
   },
   {
    "duration": 4,
    "start_time": "2025-04-18T16:16:30.411Z"
   },
   {
    "duration": 13,
    "start_time": "2025-04-18T16:16:30.417Z"
   },
   {
    "duration": 774,
    "start_time": "2025-04-18T16:16:30.431Z"
   },
   {
    "duration": 690,
    "start_time": "2025-04-18T16:16:31.207Z"
   },
   {
    "duration": 13,
    "start_time": "2025-04-18T16:16:31.900Z"
   },
   {
    "duration": 7,
    "start_time": "2025-04-18T16:16:31.914Z"
   },
   {
    "duration": 7,
    "start_time": "2025-04-18T16:16:31.922Z"
   },
   {
    "duration": 4,
    "start_time": "2025-04-18T16:16:31.931Z"
   },
   {
    "duration": 35,
    "start_time": "2025-04-18T16:16:31.937Z"
   },
   {
    "duration": 6,
    "start_time": "2025-04-18T16:16:31.974Z"
   },
   {
    "duration": 4,
    "start_time": "2025-04-18T16:16:31.982Z"
   },
   {
    "duration": 16,
    "start_time": "2025-04-18T16:16:31.988Z"
   },
   {
    "duration": 16,
    "start_time": "2025-04-18T16:16:32.006Z"
   },
   {
    "duration": 213,
    "start_time": "2025-04-18T16:16:32.024Z"
   },
   {
    "duration": 11,
    "start_time": "2025-04-18T16:16:32.239Z"
   },
   {
    "duration": 24,
    "start_time": "2025-04-18T16:16:32.252Z"
   },
   {
    "duration": 5,
    "start_time": "2025-04-18T16:16:32.278Z"
   },
   {
    "duration": 599,
    "start_time": "2025-04-18T16:16:32.285Z"
   },
   {
    "duration": 34,
    "start_time": "2025-04-18T16:16:32.886Z"
   },
   {
    "duration": 2,
    "start_time": "2025-04-18T16:16:32.922Z"
   },
   {
    "duration": 14,
    "start_time": "2025-04-18T16:16:32.926Z"
   },
   {
    "duration": 32,
    "start_time": "2025-04-18T16:16:32.942Z"
   },
   {
    "duration": 198,
    "start_time": "2025-04-18T16:16:32.976Z"
   },
   {
    "duration": 129,
    "start_time": "2025-04-18T16:16:33.176Z"
   },
   {
    "duration": 14,
    "start_time": "2025-04-18T16:16:33.307Z"
   },
   {
    "duration": 132,
    "start_time": "2025-04-18T16:16:33.322Z"
   },
   {
    "duration": 14,
    "start_time": "2025-04-18T16:16:33.456Z"
   },
   {
    "duration": 129,
    "start_time": "2025-04-18T16:16:33.472Z"
   },
   {
    "duration": 5,
    "start_time": "2025-04-18T16:16:33.603Z"
   },
   {
    "duration": 126,
    "start_time": "2025-04-18T16:16:33.610Z"
   },
   {
    "duration": 7,
    "start_time": "2025-04-18T16:16:33.738Z"
   },
   {
    "duration": 145,
    "start_time": "2025-04-18T16:16:33.746Z"
   },
   {
    "duration": 4,
    "start_time": "2025-04-18T16:16:33.893Z"
   },
   {
    "duration": 193,
    "start_time": "2025-04-18T16:16:33.899Z"
   },
   {
    "duration": 35,
    "start_time": "2025-04-18T16:16:34.094Z"
   },
   {
    "duration": 212,
    "start_time": "2025-04-18T16:16:34.130Z"
   },
   {
    "duration": 89,
    "start_time": "2025-04-18T16:16:34.344Z"
   },
   {
    "duration": 13,
    "start_time": "2025-04-18T16:16:34.435Z"
   },
   {
    "duration": 162,
    "start_time": "2025-04-18T16:16:34.450Z"
   },
   {
    "duration": 3,
    "start_time": "2025-04-18T16:16:34.614Z"
   },
   {
    "duration": 8,
    "start_time": "2025-04-18T16:16:34.619Z"
   },
   {
    "duration": 814,
    "start_time": "2025-04-18T16:16:34.629Z"
   },
   {
    "duration": 112,
    "start_time": "2025-04-18T16:16:35.444Z"
   },
   {
    "duration": 12,
    "start_time": "2025-04-18T16:16:35.558Z"
   },
   {
    "duration": 293,
    "start_time": "2025-04-18T16:17:15.653Z"
   },
   {
    "duration": 1022,
    "start_time": "2025-04-18T16:17:15.948Z"
   },
   {
    "duration": 9,
    "start_time": "2025-04-18T16:17:16.972Z"
   },
   {
    "duration": 8,
    "start_time": "2025-04-18T16:17:16.982Z"
   },
   {
    "duration": 7,
    "start_time": "2025-04-18T16:17:16.992Z"
   },
   {
    "duration": 7,
    "start_time": "2025-04-18T16:17:17.001Z"
   },
   {
    "duration": 7,
    "start_time": "2025-04-18T16:17:17.010Z"
   },
   {
    "duration": 55,
    "start_time": "2025-04-18T16:17:17.019Z"
   },
   {
    "duration": 10,
    "start_time": "2025-04-18T16:17:17.075Z"
   },
   {
    "duration": 160,
    "start_time": "2025-04-18T16:17:17.086Z"
   },
   {
    "duration": 7,
    "start_time": "2025-04-18T16:17:17.248Z"
   },
   {
    "duration": 107,
    "start_time": "2025-04-18T16:17:17.257Z"
   },
   {
    "duration": 9,
    "start_time": "2025-04-18T16:17:17.369Z"
   },
   {
    "duration": 66,
    "start_time": "2025-04-18T16:17:17.382Z"
   },
   {
    "duration": 108,
    "start_time": "2025-04-18T16:17:17.450Z"
   },
   {
    "duration": 52,
    "start_time": "2025-04-18T16:17:17.560Z"
   },
   {
    "duration": 17,
    "start_time": "2025-04-18T16:17:17.614Z"
   },
   {
    "duration": 9,
    "start_time": "2025-04-18T16:17:17.633Z"
   },
   {
    "duration": 4,
    "start_time": "2025-04-18T16:17:17.643Z"
   },
   {
    "duration": 14,
    "start_time": "2025-04-18T16:17:17.671Z"
   },
   {
    "duration": 10,
    "start_time": "2025-04-18T16:17:17.687Z"
   },
   {
    "duration": 7,
    "start_time": "2025-04-18T16:17:17.699Z"
   },
   {
    "duration": 8,
    "start_time": "2025-04-18T16:17:17.707Z"
   },
   {
    "duration": 10,
    "start_time": "2025-04-18T16:17:17.716Z"
   },
   {
    "duration": 60,
    "start_time": "2025-04-18T16:17:17.727Z"
   },
   {
    "duration": 4,
    "start_time": "2025-04-18T16:17:17.789Z"
   },
   {
    "duration": 10,
    "start_time": "2025-04-18T16:17:17.795Z"
   },
   {
    "duration": 7,
    "start_time": "2025-04-18T16:17:17.808Z"
   },
   {
    "duration": 11,
    "start_time": "2025-04-18T16:17:17.818Z"
   },
   {
    "duration": 791,
    "start_time": "2025-04-18T16:17:17.831Z"
   },
   {
    "duration": 694,
    "start_time": "2025-04-18T16:17:18.624Z"
   },
   {
    "duration": 13,
    "start_time": "2025-04-18T16:17:19.319Z"
   },
   {
    "duration": 6,
    "start_time": "2025-04-18T16:17:19.334Z"
   },
   {
    "duration": 28,
    "start_time": "2025-04-18T16:17:19.342Z"
   },
   {
    "duration": 4,
    "start_time": "2025-04-18T16:17:19.372Z"
   },
   {
    "duration": 8,
    "start_time": "2025-04-18T16:17:19.377Z"
   },
   {
    "duration": 7,
    "start_time": "2025-04-18T16:17:19.387Z"
   },
   {
    "duration": 6,
    "start_time": "2025-04-18T16:17:19.395Z"
   },
   {
    "duration": 18,
    "start_time": "2025-04-18T16:17:19.402Z"
   },
   {
    "duration": 51,
    "start_time": "2025-04-18T16:17:19.422Z"
   },
   {
    "duration": 182,
    "start_time": "2025-04-18T16:17:19.478Z"
   },
   {
    "duration": 15,
    "start_time": "2025-04-18T16:17:19.662Z"
   },
   {
    "duration": 9,
    "start_time": "2025-04-18T16:17:19.679Z"
   },
   {
    "duration": 6,
    "start_time": "2025-04-18T16:17:19.690Z"
   },
   {
    "duration": 542,
    "start_time": "2025-04-18T16:17:19.697Z"
   },
   {
    "duration": 36,
    "start_time": "2025-04-18T16:17:20.241Z"
   },
   {
    "duration": 128,
    "start_time": "2025-04-18T16:17:20.279Z"
   },
   {
    "duration": 19,
    "start_time": "2025-04-18T16:17:20.409Z"
   },
   {
    "duration": 10,
    "start_time": "2025-04-18T16:17:20.429Z"
   },
   {
    "duration": 234,
    "start_time": "2025-04-18T16:17:20.441Z"
   },
   {
    "duration": 128,
    "start_time": "2025-04-18T16:17:20.677Z"
   },
   {
    "duration": 19,
    "start_time": "2025-04-18T16:17:20.807Z"
   },
   {
    "duration": 134,
    "start_time": "2025-04-18T16:17:20.828Z"
   },
   {
    "duration": 6,
    "start_time": "2025-04-18T16:17:20.970Z"
   },
   {
    "duration": 134,
    "start_time": "2025-04-18T16:17:20.979Z"
   },
   {
    "duration": 7,
    "start_time": "2025-04-18T16:17:21.115Z"
   },
   {
    "duration": 128,
    "start_time": "2025-04-18T16:17:21.123Z"
   },
   {
    "duration": 8,
    "start_time": "2025-04-18T16:17:21.252Z"
   },
   {
    "duration": 138,
    "start_time": "2025-04-18T16:17:21.269Z"
   },
   {
    "duration": 3,
    "start_time": "2025-04-18T16:17:21.408Z"
   },
   {
    "duration": 190,
    "start_time": "2025-04-18T16:17:21.412Z"
   },
   {
    "duration": 37,
    "start_time": "2025-04-18T16:17:21.604Z"
   },
   {
    "duration": 203,
    "start_time": "2025-04-18T16:17:21.643Z"
   },
   {
    "duration": 93,
    "start_time": "2025-04-18T16:17:21.848Z"
   },
   {
    "duration": 12,
    "start_time": "2025-04-18T16:17:21.943Z"
   },
   {
    "duration": 182,
    "start_time": "2025-04-18T16:17:21.957Z"
   },
   {
    "duration": 3,
    "start_time": "2025-04-18T16:17:22.141Z"
   },
   {
    "duration": 8,
    "start_time": "2025-04-18T16:17:22.146Z"
   },
   {
    "duration": 815,
    "start_time": "2025-04-18T16:17:22.156Z"
   },
   {
    "duration": 119,
    "start_time": "2025-04-18T16:17:22.973Z"
   },
   {
    "duration": 3,
    "start_time": "2025-04-18T16:17:23.094Z"
   },
   {
    "duration": 164859,
    "start_time": "2025-04-18T16:17:23.099Z"
   }
  ],
  "kernelspec": {
   "display_name": "Python 3 (ipykernel)",
   "language": "python",
   "name": "python3"
  },
  "language_info": {
   "codemirror_mode": {
    "name": "ipython",
    "version": 3
   },
   "file_extension": ".py",
   "mimetype": "text/x-python",
   "name": "python",
   "nbconvert_exporter": "python",
   "pygments_lexer": "ipython3",
   "version": "3.9.19"
  },
  "toc": {
   "base_numbering": 1,
   "nav_menu": {},
   "number_sections": true,
   "sideBar": true,
   "skip_h1_title": true,
   "title_cell": "Table of Contents",
   "title_sidebar": "Contents",
   "toc_cell": false,
   "toc_position": {},
   "toc_section_display": true,
   "toc_window_display": false
  },
  "vscode": {
   "interpreter": {
    "hash": "01a7be9ec63e704a62cefc5fe7a4756944464ee731be31632bdf42a4cb4688cf"
   }
  }
 },
 "nbformat": 4,
 "nbformat_minor": 5
}
